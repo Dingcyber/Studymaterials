{
  "nbformat": 4,
  "nbformat_minor": 0,
  "metadata": {
    "colab": {
      "provenance": [],
      "collapsed_sections": [
        "QvUGsU62dds3",
        "QeYiK1MRrDe6",
        "fHVV5bgRuTzY",
        "7IJ_In469cZZ",
        "f4uukOOdEjq1"
      ],
      "toc_visible": true,
      "authorship_tag": "ABX9TyOuRZbqJWadYHlllA+32O1/",
      "include_colab_link": true
    },
    "kernelspec": {
      "name": "python3",
      "display_name": "Python 3"
    },
    "language_info": {
      "name": "python"
    }
  },
  "cells": [
    {
      "cell_type": "markdown",
      "metadata": {
        "id": "view-in-github",
        "colab_type": "text"
      },
      "source": [
        "<a href=\"https://colab.research.google.com/github/Dingcyber/Studymaterials/blob/main/Mathematics%20for%20ML/Linear_Algebra_notes.ipynb\" target=\"_parent\"><img src=\"https://colab.research.google.com/assets/colab-badge.svg\" alt=\"Open In Colab\"/></a>"
      ]
    },
    {
      "cell_type": "markdown",
      "source": [
        "# NumPy（Numerical Python）\n",
        "\n"
      ],
      "metadata": {
        "id": "Fxij43KgZ5wR"
      }
    },
    {
      "cell_type": "markdown",
      "source": [
        "## 数组（arrays）\n",
        "\n",
        "---\n",
        "\n",
        "\n",
        "* 数组：多维数组对象｜`ndarry`（n-dimentional-array）\n",
        "  * 一个数组内的对象只能是单一类型：浮点数float｜整数int｜字符串char\n",
        "* 创建数组\n",
        "  * `np.array()`: 输入一个列表，返回一个一维数组\n",
        "  * `np.arange(start,stop,step)`: 返回给定区间内的等距均分的数组｜左闭右开｜start默认为0｜step默认为1\n",
        "  * `np.linspace(start,stop,num,dtype=)`: 返回给定区间内的等数均分的数组｜左闭右闭｜num默认是5｜默认类型是浮点数float\n",
        "  * `np.ones(num)`: 返回一个包含num个1的数组\n",
        "  * `np.zeros(num)`: 返回一个包含num个0的数组\n",
        "  * `np.empty(num)`: 返回一个包含num个未初始化元素的数组\n",
        "  * `np.random.rand(num)`: 返回一个包含num个随机数的数组\n",
        "  * `np.reshape(一维数组,（a,b）)`: 将一维数组重塑为a行b列数组\n",
        "  * `多维数组.flatten()`: 将多维数组展平为一维数组\n",
        "* 数组属性（attributes）\n",
        "  * `ndarray.ndim`: 返回数组的维度｜维数（dimension），描述数组所具有的维度的数量，也就是数组的秩（rank）\n",
        "  * `ndarray.shape`: 返回数组的形状｜维度大小（shape），描述数组每个维度上的大小，用一个元组表示，如(3,4)表示一个3行4列的数组\n",
        "  * `ndarray.size`: 返回数组的大小｜元素总数，指的是数组中所有元素的总个数\n",
        "* 数组运算\n",
        "  * `+｜-｜*｜/`: 加减乘除，对应项相加减乘除\n",
        "  * `ndarray * c`: 标乘，将标量c广播到（broadcasting）数组中的每一个元素\n",
        "* 数组操作\n",
        "  * `[]`: 索引，从数组中选择特定的元素或整个行或列或平面\n",
        "  * `_[start:end:step]`: 切片,提取多维数组中的行｜左闭右开｜start默认为0｜end默认为倒数第一个｜step默认为1\n",
        "  * `[:,列索引]`：切片，提取多维数组中的单列\n",
        "  * `[:,开始列：结束列]`：切片，提取多维数组中的连续多列\n",
        "  * `[:,[列索引1，列索引2,...]`: 切片，提取多维数组中的不连续多列\n",
        "  * `np.vstack()`: 垂直堆叠（stacking）数组，沿第一个维度，即行方向\n",
        "  * `np.hstack()`: 水平堆叠数组，沿第二个维度，即列方向\n",
        "  * `no.hsplit()`: 将数组分解为小数组\n",
        "  * `ndarray.copy()`: 复制数组"
      ],
      "metadata": {
        "id": "QvUGsU62dds3"
      }
    },
    {
      "cell_type": "code",
      "source": [
        "import numpy as np"
      ],
      "metadata": {
        "id": "Xbaf5G6LaN2b"
      },
      "execution_count": null,
      "outputs": []
    },
    {
      "cell_type": "markdown",
      "source": [
        "### 创建一维数组\n",
        "---\n",
        "\n"
      ],
      "metadata": {
        "id": "QeYiK1MRrDe6"
      }
    },
    {
      "cell_type": "code",
      "source": [
        "# 创建一个包含1，2，3的数组\n",
        "a = np.array([1, 2, 3])\n",
        "print(a)"
      ],
      "metadata": {
        "colab": {
          "base_uri": "https://localhost:8080/"
        },
        "id": "7UaYIJiIc0fi",
        "outputId": "ee25939a-045c-41c7-fc3d-1189f655d5de"
      },
      "execution_count": null,
      "outputs": [
        {
          "output_type": "stream",
          "name": "stdout",
          "text": [
            "[1 2 3]\n"
          ]
        }
      ]
    },
    {
      "cell_type": "code",
      "source": [
        "# 创建字符串数组\n",
        "char_arr = np.array([\"Welcome to Math for ML!\"])\n",
        "print(char_arr)\n",
        "print(char_arr.dtype) #<U23的意思是这个字符串是小端架构上的23个字符unicode字符串"
      ],
      "metadata": {
        "colab": {
          "base_uri": "https://localhost:8080/"
        },
        "id": "QREP-kxspySB",
        "outputId": "039c61a3-7842-4b2b-82e3-981340261699"
      },
      "execution_count": null,
      "outputs": [
        {
          "output_type": "stream",
          "name": "stdout",
          "text": [
            "['Welcome to Math for ML!']\n",
            "<U23\n"
          ]
        }
      ]
    },
    {
      "cell_type": "code",
      "source": [
        "# 创建一个从0开始包含3个整数的数组\n",
        "b = np.arange(3)\n",
        "print(b)"
      ],
      "metadata": {
        "colab": {
          "base_uri": "https://localhost:8080/"
        },
        "id": "DUEKlWv3hiLj",
        "outputId": "8fbcc420-e941-4d81-f876-daf4c3160b15"
      },
      "execution_count": null,
      "outputs": [
        {
          "output_type": "stream",
          "name": "stdout",
          "text": [
            "[0 1 2]\n"
          ]
        }
      ]
    },
    {
      "cell_type": "code",
      "source": [
        "# 创建一个从0开始包含3个整数的数组,指定类型为float\n",
        "b = np.arange(3, dtype = float)\n",
        "print(b)"
      ],
      "metadata": {
        "colab": {
          "base_uri": "https://localhost:8080/"
        },
        "outputId": "b73e5bcf-b3be-4864-a32a-861f49578a59",
        "id": "ZQS01Pz5pnCS"
      },
      "execution_count": null,
      "outputs": [
        {
          "output_type": "stream",
          "name": "stdout",
          "text": [
            "[0. 1. 2.]\n"
          ]
        }
      ]
    },
    {
      "cell_type": "code",
      "source": [
        "# 创建一个从1到20每个数相差3的数组\n",
        "c = np.arange(1, 20, 3)\n",
        "print(c)\n",
        "print(c.dtype)"
      ],
      "metadata": {
        "colab": {
          "base_uri": "https://localhost:8080/"
        },
        "id": "a6wmTFgXi8Yb",
        "outputId": "4b77d05c-4d4c-4f61-aaeb-f8c3c3b10af2"
      },
      "execution_count": null,
      "outputs": [
        {
          "output_type": "stream",
          "name": "stdout",
          "text": [
            "[ 1  4  7 10 13 16 19]\n",
            "int64\n"
          ]
        }
      ]
    },
    {
      "cell_type": "code",
      "source": [
        "# 创建一个从1到20每个数相差3的数组,指定类型为int\n",
        "c = np.arange(1, 20, 3, dtype = int)\n",
        "print(c)\n",
        "print(c.dtype)"
      ],
      "metadata": {
        "colab": {
          "base_uri": "https://localhost:8080/"
        },
        "outputId": "86b7de33-ed6c-4f3c-ca4e-daa8542390ca",
        "id": "jgug0TabpYdf"
      },
      "execution_count": null,
      "outputs": [
        {
          "output_type": "stream",
          "name": "stdout",
          "text": [
            "[ 1  4  7 10 13 16 19]\n",
            "int64\n"
          ]
        }
      ]
    },
    {
      "cell_type": "code",
      "source": [
        "# 创建一个0到100的包含五个数的均分数组\n",
        "lin_spaced_arr = np.linspace(0,100,5)\n",
        "print(lin_spaced_arr)"
      ],
      "metadata": {
        "colab": {
          "base_uri": "https://localhost:8080/"
        },
        "id": "6en5eS-IkaAR",
        "outputId": "1dae1138-157d-4c45-9d0f-8347a9159290"
      },
      "execution_count": null,
      "outputs": [
        {
          "output_type": "stream",
          "name": "stdout",
          "text": [
            "[  0.  25.  50.  75. 100.]\n"
          ]
        }
      ]
    },
    {
      "cell_type": "code",
      "source": [
        "# 创建一个0到100的包含五个数的均分数组,指定类型为整数int\n",
        "lin_spaced_arr_int = np.linspace(0,100,5,dtype=int)\n",
        "print(lin_spaced_arr_int)"
      ],
      "metadata": {
        "colab": {
          "base_uri": "https://localhost:8080/"
        },
        "outputId": "b7c1fc08-0b6f-49f1-9a79-70c15ca61a7a",
        "id": "zEUZ2jzYmMiM"
      },
      "execution_count": null,
      "outputs": [
        {
          "output_type": "stream",
          "name": "stdout",
          "text": [
            "[  0  25  50  75 100]\n"
          ]
        }
      ]
    },
    {
      "cell_type": "code",
      "source": [
        "# 创建一个包含3个1的数组\n",
        "ones_arr = np.ones(3)\n",
        "print(ones_arr)"
      ],
      "metadata": {
        "colab": {
          "base_uri": "https://localhost:8080/"
        },
        "id": "qBnnDBumsBN1",
        "outputId": "f63da3c0-8f32-4308-80d9-b89dbff8f54e"
      },
      "execution_count": null,
      "outputs": [
        {
          "output_type": "stream",
          "name": "stdout",
          "text": [
            "[1. 1. 1.]\n"
          ]
        }
      ]
    },
    {
      "cell_type": "code",
      "source": [
        "# 创建一个包含3个0的数组\n",
        "zeros_arr = np.zeros(3)\n",
        "print(zeros_arr)"
      ],
      "metadata": {
        "colab": {
          "base_uri": "https://localhost:8080/"
        },
        "id": "BsQUiS1CsJeX",
        "outputId": "549369db-c927-48d8-fd73-1fb4f7d52e01"
      },
      "execution_count": null,
      "outputs": [
        {
          "output_type": "stream",
          "name": "stdout",
          "text": [
            "[0. 0. 0.]\n"
          ]
        }
      ]
    },
    {
      "cell_type": "code",
      "source": [
        "# 创建一个包含3个未初始化元素的数组\n",
        "empt_arr = np.empty(3)\n",
        "print(empt_arr)"
      ],
      "metadata": {
        "colab": {
          "base_uri": "https://localhost:8080/"
        },
        "id": "tEoCF2rJty_R",
        "outputId": "0c121f53-4c24-4772-b968-a5a866314f1a"
      },
      "execution_count": null,
      "outputs": [
        {
          "output_type": "stream",
          "name": "stdout",
          "text": [
            "[0. 0. 0.]\n"
          ]
        }
      ]
    },
    {
      "cell_type": "code",
      "source": [
        "# 创建一个包含3个随机数的数组\n",
        "rand_arr = np.random.rand(3)\n",
        "print(rand_arr)"
      ],
      "metadata": {
        "colab": {
          "base_uri": "https://localhost:8080/"
        },
        "id": "dFaRbvI2t-v6",
        "outputId": "289f4055-14f6-4eb9-8db0-3ed4d03631c5"
      },
      "execution_count": null,
      "outputs": [
        {
          "output_type": "stream",
          "name": "stdout",
          "text": [
            "[0.42755184 0.7383775  0.24565752]\n"
          ]
        }
      ]
    },
    {
      "cell_type": "markdown",
      "source": [
        "### 创建二维数组\n",
        "---\n",
        "\n",
        "\n"
      ],
      "metadata": {
        "id": "fHVV5bgRuTzY"
      }
    },
    {
      "cell_type": "code",
      "source": [
        "# 创建一个二维数组\n",
        "two_dim_arr = np.array([[1,2,3], [4,5,6]])\n",
        "print(two_dim_arr)"
      ],
      "metadata": {
        "colab": {
          "base_uri": "https://localhost:8080/"
        },
        "id": "QLZexf0quhkX",
        "outputId": "121a1b04-508f-4d01-872a-66a1289d31fa"
      },
      "execution_count": null,
      "outputs": [
        {
          "output_type": "stream",
          "name": "stdout",
          "text": [
            "[[1 2 3]\n",
            " [4 5 6]]\n"
          ]
        }
      ]
    },
    {
      "cell_type": "code",
      "source": [
        "# 将一维数组重塑为二维数组\n",
        "one_dim_arr = np.array([1,2,3,4,5,6])\n",
        "print(one_dim_arr)\n",
        "multi_dim_arr = np.reshape(one_dim_arr,(2,3)) #将一维数组重塑为一个2x3数组\n",
        "print(multi_dim_arr)"
      ],
      "metadata": {
        "colab": {
          "base_uri": "https://localhost:8080/"
        },
        "id": "5W3sA25PvGvu",
        "outputId": "ac099094-c96d-4db8-eec3-6c91acdb8bbf"
      },
      "execution_count": null,
      "outputs": [
        {
          "output_type": "stream",
          "name": "stdout",
          "text": [
            "[1 2 3 4 5 6]\n",
            "[[1 2 3]\n",
            " [4 5 6]]\n"
          ]
        }
      ]
    },
    {
      "cell_type": "markdown",
      "source": [
        "### 查看数组属性\n",
        "---\n",
        "\n"
      ],
      "metadata": {
        "id": "nReEB31x8HFO"
      }
    },
    {
      "cell_type": "code",
      "source": [
        "multi_dim_arr.ndim"
      ],
      "metadata": {
        "colab": {
          "base_uri": "https://localhost:8080/"
        },
        "id": "myWCb_hv8PIB",
        "outputId": "c20ecf7e-531a-41a5-ba62-379061d9e577"
      },
      "execution_count": null,
      "outputs": [
        {
          "output_type": "execute_result",
          "data": {
            "text/plain": [
              "2"
            ]
          },
          "metadata": {},
          "execution_count": 56
        }
      ]
    },
    {
      "cell_type": "code",
      "source": [
        "multi_dim_arr.shape"
      ],
      "metadata": {
        "colab": {
          "base_uri": "https://localhost:8080/"
        },
        "id": "kifituvV8cXE",
        "outputId": "d27f671e-6f8b-4a8f-8907-782d57928f12"
      },
      "execution_count": null,
      "outputs": [
        {
          "output_type": "execute_result",
          "data": {
            "text/plain": [
              "(2, 3)"
            ]
          },
          "metadata": {},
          "execution_count": 57
        }
      ]
    },
    {
      "cell_type": "code",
      "source": [
        "multi_dim_arr.size"
      ],
      "metadata": {
        "colab": {
          "base_uri": "https://localhost:8080/"
        },
        "id": "tJ6WsKUh8fnJ",
        "outputId": "9f049b98-b198-4700-9005-6cf3f36a537b"
      },
      "execution_count": null,
      "outputs": [
        {
          "output_type": "execute_result",
          "data": {
            "text/plain": [
              "6"
            ]
          },
          "metadata": {},
          "execution_count": 58
        }
      ]
    },
    {
      "cell_type": "markdown",
      "source": [
        "### 数组运算\n",
        "---\n",
        "\n"
      ],
      "metadata": {
        "id": "7IJ_In469cZZ"
      }
    },
    {
      "cell_type": "code",
      "source": [
        "arr_1 = np.array([2,4,6])\n",
        "arr_2 = np.array([1,3,5])\n",
        "\n",
        "# 加法\n",
        "addition = arr_1 + arr_2\n",
        "print(addition)\n",
        "\n",
        "# 减法\n",
        "substraction = arr_1 - arr_2\n",
        "print(substraction)\n",
        "\n",
        "# 乘法\n",
        "multiplication = arr_1 * arr_2\n",
        "print(multiplication)"
      ],
      "metadata": {
        "colab": {
          "base_uri": "https://localhost:8080/"
        },
        "id": "Nc1TTN8i9jSg",
        "outputId": "45502f66-053f-4d85-8bc4-7e641c977f6f"
      },
      "execution_count": null,
      "outputs": [
        {
          "output_type": "stream",
          "name": "stdout",
          "text": [
            "[ 3  7 11]\n",
            "[1 1 1]\n",
            "[ 2 12 30]\n"
          ]
        }
      ]
    },
    {
      "cell_type": "code",
      "source": [
        "# 向量标乘\n",
        "vector = np.array([1,2])\n",
        "vector * 1.6"
      ],
      "metadata": {
        "colab": {
          "base_uri": "https://localhost:8080/"
        },
        "id": "ha1zHtiXDuDq",
        "outputId": "f2d9ea56-0354-4cbd-c7dd-a3dde079475b"
      },
      "execution_count": null,
      "outputs": [
        {
          "output_type": "execute_result",
          "data": {
            "text/plain": [
              "array([1.6, 3.2])"
            ]
          },
          "metadata": {},
          "execution_count": 60
        }
      ]
    },
    {
      "cell_type": "markdown",
      "source": [
        "### 数组操作\n",
        "---\n",
        "\n"
      ],
      "metadata": {
        "id": "f4uukOOdEjq1"
      }
    },
    {
      "cell_type": "code",
      "source": [
        "# 索引一维数组中的元素\n",
        "a_op = ([1,2,3,4,5])\n",
        "print(a_op[2])\n",
        "print(a_op[0])"
      ],
      "metadata": {
        "colab": {
          "base_uri": "https://localhost:8080/"
        },
        "id": "DS7vlhzsEogb",
        "outputId": "8428f238-2720-4bab-bac1-8da4947bec0f"
      },
      "execution_count": null,
      "outputs": [
        {
          "output_type": "stream",
          "name": "stdout",
          "text": [
            "3\n",
            "1\n"
          ]
        }
      ]
    },
    {
      "cell_type": "code",
      "source": [
        "# 索引多维数组中的元素\n",
        "two_dim_op = np.array(([1,2,3],\n",
        "                       [4,5,6],\n",
        "                       [7,8,9]))\n",
        "print(two_dim_op[1])\n",
        "print(two_dim_op[2][1])"
      ],
      "metadata": {
        "colab": {
          "base_uri": "https://localhost:8080/"
        },
        "id": "9z6MxFX9E8ep",
        "outputId": "dc61fd9f-7946-4cb7-c7bf-4b375fb0fe77"
      },
      "execution_count": null,
      "outputs": [
        {
          "output_type": "stream",
          "name": "stdout",
          "text": [
            "[4 5 6]\n",
            "8\n"
          ]
        }
      ]
    },
    {
      "cell_type": "code",
      "source": [
        "# 切片,step用默认值\n",
        "sliced_arr1 = a_op[1:4]\n",
        "print(sliced_arr1)"
      ],
      "metadata": {
        "colab": {
          "base_uri": "https://localhost:8080/"
        },
        "id": "W9gF-QI4GxMI",
        "outputId": "7655601d-9d16-45b9-fb64-7e046cddf9bf"
      },
      "execution_count": null,
      "outputs": [
        {
          "output_type": "stream",
          "name": "stdout",
          "text": [
            "[2, 3, 4]\n"
          ]
        }
      ]
    },
    {
      "cell_type": "code",
      "source": [
        "# 切片，start和step用默认值\n",
        "sliced_arr2 = a_op[:3]\n",
        "print(sliced_arr2)"
      ],
      "metadata": {
        "colab": {
          "base_uri": "https://localhost:8080/"
        },
        "id": "BHMBD1hMHJxV",
        "outputId": "507f71f2-bbce-4ff9-ad19-86b1ca19f0d0"
      },
      "execution_count": null,
      "outputs": [
        {
          "output_type": "stream",
          "name": "stdout",
          "text": [
            "[1, 2, 3]\n"
          ]
        }
      ]
    },
    {
      "cell_type": "code",
      "source": [
        "# 切片，end和step用默认值\n",
        "sliced_arr3 = a_op[2:]\n",
        "print(sliced_arr3)"
      ],
      "metadata": {
        "colab": {
          "base_uri": "https://localhost:8080/"
        },
        "id": "J3oIHvvMHTA6",
        "outputId": "e85c3f23-52f5-4033-9f8b-7b52de572202"
      },
      "execution_count": null,
      "outputs": [
        {
          "output_type": "stream",
          "name": "stdout",
          "text": [
            "[3, 4, 5]\n"
          ]
        }
      ]
    },
    {
      "cell_type": "code",
      "source": [
        "# 切片，start和end用默认值\n",
        "sliced_arr4 = a_op[::2]\n",
        "print(sliced_arr4)"
      ],
      "metadata": {
        "colab": {
          "base_uri": "https://localhost:8080/"
        },
        "id": "SJYHnRDPwo9q",
        "outputId": "e8534291-1e30-4406-8b83-dbcb1c6acec6"
      },
      "execution_count": null,
      "outputs": [
        {
          "output_type": "stream",
          "name": "stdout",
          "text": [
            "[1, 3, 5]\n"
          ]
        }
      ]
    },
    {
      "cell_type": "code",
      "source": [
        "# 切片，start|end|step均用默认值\n",
        "print(a_op == a_op[:] == a_op[::])"
      ],
      "metadata": {
        "colab": {
          "base_uri": "https://localhost:8080/"
        },
        "id": "q5UsK-Aqw8hx",
        "outputId": "fdef3384-3c45-49b8-868c-0ace6ec87d04"
      },
      "execution_count": null,
      "outputs": [
        {
          "output_type": "stream",
          "name": "stdout",
          "text": [
            "True\n"
          ]
        }
      ]
    },
    {
      "cell_type": "code",
      "source": [
        "# 切片，提取多维数组中的项,step用默认值\n",
        "sliced_arr5 = two_dim_op[0:2]\n",
        "print(sliced_arr5)"
      ],
      "metadata": {
        "colab": {
          "base_uri": "https://localhost:8080/"
        },
        "id": "kspX2GF4xTWK",
        "outputId": "d9b22109-e62a-4c44-fc67-2e3b8cd4d9d0"
      },
      "execution_count": null,
      "outputs": [
        {
          "output_type": "stream",
          "name": "stdout",
          "text": [
            "[[1 2 3]\n",
            " [4 5 6]]\n"
          ]
        }
      ]
    },
    {
      "cell_type": "code",
      "source": [
        "# 切片，提取多维数组中的行，step用默认值\n",
        "sliced_two_dim_rows = two_dim_op[1:3]\n",
        "print(sliced_two_dim_rows)"
      ],
      "metadata": {
        "colab": {
          "base_uri": "https://localhost:8080/"
        },
        "id": "6gicWHUtyIXb",
        "outputId": "25238d0d-e712-48f1-cd75-043f638b432c"
      },
      "execution_count": null,
      "outputs": [
        {
          "output_type": "stream",
          "name": "stdout",
          "text": [
            "[[4 5 6]\n",
            " [7 8 9]]\n"
          ]
        }
      ]
    },
    {
      "cell_type": "code",
      "source": [
        "# 切片，提取多维数组中的列\n",
        "sliced_two_dim_cols = two_dim_op[:,1]\n",
        "print(sliced_two_dim_cols)"
      ],
      "metadata": {
        "colab": {
          "base_uri": "https://localhost:8080/"
        },
        "id": "kz_2qvgxytGH",
        "outputId": "8ba49efd-f6ad-402c-e411-269131f53cba"
      },
      "execution_count": null,
      "outputs": [
        {
          "output_type": "stream",
          "name": "stdout",
          "text": [
            "[2 5 8]\n"
          ]
        }
      ]
    },
    {
      "cell_type": "code",
      "source": [
        "# 堆叠：创建原始数组\n",
        "a1 = np.array([[1,1],\n",
        "               [2,2]])\n",
        "a2 = np.array([[3,3],\n",
        "               [4,4]])\n",
        "print(f\"a1:\\n{a1}\")\n",
        "print(f\"a2:\\n{a2}\")"
      ],
      "metadata": {
        "colab": {
          "base_uri": "https://localhost:8080/"
        },
        "id": "FwyG6kKO17H2",
        "outputId": "670f2531-0e92-4ab3-85ed-ee0b449171bb"
      },
      "execution_count": null,
      "outputs": [
        {
          "output_type": "stream",
          "name": "stdout",
          "text": [
            "a1:\n",
            "[[1 1]\n",
            " [2 2]]\n",
            "a2:\n",
            "[[3 3]\n",
            " [4 4]]\n"
          ]
        }
      ]
    },
    {
      "cell_type": "code",
      "source": [
        "# 堆叠，垂直堆叠数组\n",
        "vert_stack = np.vstack((a1,a2))\n",
        "print(vert_stack)"
      ],
      "metadata": {
        "colab": {
          "base_uri": "https://localhost:8080/"
        },
        "id": "uBxEtFk-2Wyu",
        "outputId": "c0bbf228-dd47-40a3-a036-faa1b7134078"
      },
      "execution_count": null,
      "outputs": [
        {
          "output_type": "stream",
          "name": "stdout",
          "text": [
            "[[1 1]\n",
            " [2 2]\n",
            " [3 3]\n",
            " [4 4]]\n"
          ]
        }
      ]
    },
    {
      "cell_type": "code",
      "source": [
        "# 堆叠，水平堆叠数组\n",
        "horz_stack = np.hstack((a1,a2))\n",
        "print(horz_stack)"
      ],
      "metadata": {
        "colab": {
          "base_uri": "https://localhost:8080/"
        },
        "id": "3skVf8ni2sBW",
        "outputId": "9a34f80f-8205-431b-9807-cd4d9eecc069"
      },
      "execution_count": null,
      "outputs": [
        {
          "output_type": "stream",
          "name": "stdout",
          "text": [
            "[[1 1 3 3]\n",
            " [2 2 4 4]]\n"
          ]
        }
      ]
    },
    {
      "cell_type": "markdown",
      "source": [
        "# 线性方程组（linear systems）"
      ],
      "metadata": {
        "id": "AZ-8JHnhmcV0"
      }
    },
    {
      "cell_type": "markdown",
      "source": [
        "## 解二元线性方程组\n",
        "\n",
        "---\n",
        "* 调包法：用`Numpy`的线性代数包(linear algebra package)\n",
        "  * `np.linalg.solve(A,b)`: 用来解线性方程组 A·x = b，A是线性变换矩阵，x是线性变换前的向量，b线性是变换后的向量，将会返回一个一维数组x\n",
        "  * `np.linalg.det(A)`: 求矩阵的行列式(determinant)\n",
        "* 作图法：这里的作图法实际还是调包求解，计算机可以通过作图解方程吗？\n",
        "* 解的判定：检验方程组是否无解\n",
        "  * `try...except...`: 使用异常处理避免程序因为线性代数错误而崩溃，同时可以给出错误提示\n",
        "  * `LinAlgError`: 线性代数专用异常，当系数矩阵出现❶奇异矩阵❷不是方阵❸其他数值计算问题时会触发"
      ],
      "metadata": {
        "id": "wr5MDp3OgDhq"
      }
    },
    {
      "cell_type": "code",
      "source": [
        "import numpy as np"
      ],
      "metadata": {
        "id": "ZspAB1-0hHme"
      },
      "execution_count": null,
      "outputs": []
    },
    {
      "cell_type": "markdown",
      "source": [
        "### 解法一：调包法\n",
        "\n",
        "---\n",
        "\n"
      ],
      "metadata": {
        "id": "dgR7_PhKo4lL"
      }
    },
    {
      "cell_type": "code",
      "source": [
        "# 创建A和b\n",
        "A = np.array([[-1,3],\n",
        "              [3,2]],dtype = np.dtype(float)) # 为什么要用np.dtype()函数？\n",
        "b = np.array([7,1],dtype = np.dtype(float))\n",
        "print(\"Matrix A:\")\n",
        "print(A)\n",
        "print(\"\\nArray b:\")\n",
        "print(b)"
      ],
      "metadata": {
        "colab": {
          "base_uri": "https://localhost:8080/"
        },
        "id": "E-B2LTwJhPpC",
        "outputId": "f4109e12-5abc-47e9-a05f-faa51c8fbd0b"
      },
      "execution_count": null,
      "outputs": [
        {
          "output_type": "stream",
          "name": "stdout",
          "text": [
            "Matrix A:\n",
            "[[-1.  3.]\n",
            " [ 3.  2.]]\n",
            "\n",
            "Array b:\n",
            "[7. 1.]\n"
          ]
        }
      ]
    },
    {
      "cell_type": "code",
      "source": [
        "# 查看A和b的维度大小\n",
        "print(f\"A的维度大小是:{A.shape}\")\n",
        "print(f\"b的维度大小是:{b.shape}\")\n",
        "print(\"\\n\")\n",
        "print(f\"A的维度大小是:{np.shape(A)}\")\n",
        "print(f\"b的维度大小是:{np.shape(b)}\")"
      ],
      "metadata": {
        "colab": {
          "base_uri": "https://localhost:8080/"
        },
        "id": "IKXHcpGijBgz",
        "outputId": "a54776fb-baa6-4879-d31f-d20a50d7aef1"
      },
      "execution_count": null,
      "outputs": [
        {
          "output_type": "stream",
          "name": "stdout",
          "text": [
            "A的维度大小是:(2, 2)\n",
            "b的维度大小是:(2,)\n",
            "\n",
            "\n",
            "A的维度大小是:(2, 2)\n",
            "b的维度大小是:(2,)\n"
          ]
        }
      ]
    },
    {
      "cell_type": "code",
      "source": [
        "# 解线性方程组\n",
        "x = np.linalg.solve(A,b)\n",
        "print(f\"方程组的解是:{x}\")"
      ],
      "metadata": {
        "colab": {
          "base_uri": "https://localhost:8080/"
        },
        "id": "xaELmc5DkQ9H",
        "outputId": "90a88c07-59fc-43fb-8bee-c7c2247dbae0"
      },
      "execution_count": null,
      "outputs": [
        {
          "output_type": "stream",
          "name": "stdout",
          "text": [
            "方程组的解是:[-1.  2.]\n"
          ]
        }
      ]
    },
    {
      "cell_type": "code",
      "source": [
        "# 求矩阵A的行列式\n",
        "d = np.linalg.det(A)\n",
        "print(f\"矩阵A的行列式是:{d:.2f}\")"
      ],
      "metadata": {
        "colab": {
          "base_uri": "https://localhost:8080/"
        },
        "id": "9cFBBDJeliLq",
        "outputId": "0631abd9-1f63-42cd-879c-144527be98d6"
      },
      "execution_count": null,
      "outputs": [
        {
          "output_type": "stream",
          "name": "stdout",
          "text": [
            "矩阵A的行列式是:-11.00\n"
          ]
        }
      ]
    },
    {
      "cell_type": "markdown",
      "source": [
        "### 解法二：消元法"
      ],
      "metadata": {
        "id": "PSGH0LcFpE0P"
      }
    },
    {
      "cell_type": "code",
      "source": [
        "# 把矩阵A和变换后的向量x合成一个系统矩阵\n",
        "A_system = np.hstack((A,b.reshape((2,1))))\n",
        "print(A_system)"
      ],
      "metadata": {
        "colab": {
          "base_uri": "https://localhost:8080/"
        },
        "id": "x2w7iDvRnOKD",
        "outputId": "01761878-1156-4d56-dbc0-a2585944f701"
      },
      "execution_count": null,
      "outputs": [
        {
          "output_type": "stream",
          "name": "stdout",
          "text": [
            "[[-1.  3.  7.]\n",
            " [ 3.  2.  1.]]\n"
          ]
        }
      ]
    },
    {
      "cell_type": "code",
      "source": [
        "# 提取矩阵中的行\n",
        "print(A_system[1])"
      ],
      "metadata": {
        "colab": {
          "base_uri": "https://localhost:8080/"
        },
        "id": "mPqQ4Hyzpao_",
        "outputId": "2dd1670c-ac3f-4fb0-9abf-c910526fdb73"
      },
      "execution_count": null,
      "outputs": [
        {
          "output_type": "stream",
          "name": "stdout",
          "text": [
            "[3. 2. 1.]\n"
          ]
        }
      ]
    },
    {
      "cell_type": "code",
      "source": [
        "# 复制一个系统矩阵用作backup\n",
        "A_system_res = A_system.copy()"
      ],
      "metadata": {
        "id": "gdE716hkqIDR"
      },
      "execution_count": null,
      "outputs": []
    },
    {
      "cell_type": "code",
      "source": [
        "# 将第二行的第一个系数变为0，消掉第一个未知量\n",
        "A_system_res[1] = 3 * A_system_res[0] + A_system_res[1]\n",
        "print(A_system_res)"
      ],
      "metadata": {
        "colab": {
          "base_uri": "https://localhost:8080/"
        },
        "id": "SNaFyDqGq012",
        "outputId": "7e1e719b-2a15-4665-c8c1-2677167049dd"
      },
      "execution_count": null,
      "outputs": [
        {
          "output_type": "stream",
          "name": "stdout",
          "text": [
            "[[-1.  3.  7.]\n",
            " [ 0. 11. 22.]]\n"
          ]
        }
      ]
    },
    {
      "cell_type": "code",
      "source": [
        "# 将第二行的第二个系数变为1，解出第二个未知量\n",
        "A_system_res[1] = 1/11 * A_system_res[1]\n",
        "print(A_system_res)"
      ],
      "metadata": {
        "colab": {
          "base_uri": "https://localhost:8080/"
        },
        "id": "ILFylweqrR4B",
        "outputId": "d64075fc-f225-4d76-f88a-283feab55051"
      },
      "execution_count": null,
      "outputs": [
        {
          "output_type": "stream",
          "name": "stdout",
          "text": [
            "[[-1.  3.  7.]\n",
            " [ 0.  1.  2.]]\n"
          ]
        }
      ]
    },
    {
      "cell_type": "markdown",
      "source": [
        "### 解法三：作图法\n",
        "\n",
        "---\n",
        "\n"
      ],
      "metadata": {
        "id": "4NILMxEQsJl2"
      }
    },
    {
      "cell_type": "code",
      "source": [
        "import matplotlib.pyplot as plt"
      ],
      "metadata": {
        "id": "o3uPXw3WsM0U"
      },
      "execution_count": null,
      "outputs": []
    },
    {
      "cell_type": "code",
      "source": [
        "# 定义作图函数\n",
        "def plot_lines(M):\n",
        "  \"\"\"\n",
        "  Input: M是一个矩阵，表示线性方程组的系数和常数项\n",
        "  \"\"\"\n",
        "  x_1 = np.linspace(-10,10,100) # x1取(-10,10)区间上的等间距的100个点\n",
        "  x_2_line_1 = (M[0,2]- M[0,0] * x_1) / M[0,1] # 根据第一个方程用x1表示x2\n",
        "  x_2_line_2 = (M[1,2]-M[1,0] * x_1) / M[1,1] # 根据第二个方程用x1表示x2\n",
        "\n",
        "  _, ax = plt.subplots(figsize = (10,10)) # 创建10x10英寸的子视图\n",
        "  ax.plot(x_1, x_2_line_1, \"-\", linewidth = 2, color = \"#0075ff\",\n",
        "          label = f\"$x_2 = {-M[0,0] / M[0,1]:.2f}x_1 + {M[0,2] / M[0,1]:.2f}$\") # 连点成线，第一条线：蓝色｜线宽为2｜标签显示方程x2=斜率*x1+截距\n",
        "  ax.plot(x_1, x_2_line_2, \"-\", linewidth = 2, color = \"#ff7300\",\n",
        "          label = f\"$x_2 = {-M[1,0] / M[1,1]:.2f}x_1 + {M[1,2] / M[1,1]:.2f}$\") # 第二条线橙色\n",
        "\n",
        "  A = M[:,0:-1] # 提取前两列作为系数矩阵\n",
        "  b = M[:,-1::].flatten() # 提取最后一列作为常数项，并展平为一维数组\n",
        "  d = np.linalg.det(A)\n",
        "\n",
        "  if d != 0:\n",
        "    solution = np.linalg.solve(A,b)\n",
        "    ax.plot(solution[0], solution[1], \"-o\", mfc = \"none\",\n",
        "            markersize = 10, markeredgecolor = \"#ff0000\", markeredgewidth = 2) # 用红色圆圈标记交点\n",
        "    ax.text(solution[0] - 0.25, solution[1] + 0.75, f\"$(${solution[0]:.0f}$,{solution[1]:.0f})$\", fontsize = 14) # 显示坐标文本\n",
        "\n",
        "  ax.tick_params(axis = \"x\", labelsize =14) # 设置坐标轴标签大小\n",
        "  ax.tick_params(axis = \"y\", labelsize =14)\n",
        "  ax.set_xticks(np.arange(-10,10)) # 设置坐标轴刻度\n",
        "  ax.set_yticks(np.arange(-10,10))\n",
        "\n",
        "  plt.xlabel(\"$x_1$\", size = 14) # 设置x轴标签名，使用LaTeX格式\n",
        "  plt.ylabel(\"$x_2$\", size = 14)\n",
        "  plt.legend(loc = \"upper right\", fontsize = 14) # 添加图例在右上角\n",
        "  plt.axis([-10, 10, -10, 10]) # 设置坐标轴范围为-10到10\n",
        "\n",
        "  plt.grid() # 打开网格线\n",
        "  plt.gca().set_aspect(\"equal\") # 设置等比例坐标轴\n",
        "\n",
        "  plt.show() # 显示图形"
      ],
      "metadata": {
        "id": "Fb4lX-QVsTy5"
      },
      "execution_count": null,
      "outputs": []
    },
    {
      "cell_type": "code",
      "source": [
        "plot_lines(A_system)"
      ],
      "metadata": {
        "colab": {
          "base_uri": "https://localhost:8080/",
          "height": 612
        },
        "id": "21pH-cqb9V3c",
        "outputId": "b1717d0b-05ae-4f93-b41c-cfbdf6aff428"
      },
      "execution_count": null,
      "outputs": [
        {
          "output_type": "display_data",
          "data": {
            "text/plain": [
              "<Figure size 1000x1000 with 1 Axes>"
            ],
            "image/png": "[encoded data removed]"
          },
          "metadata": {}
        }
      ]
    },
    {
      "cell_type": "markdown",
      "source": [
        "### 无解\n",
        "\n",
        "---\n",
        "\n"
      ],
      "metadata": {
        "id": "XeykWBcLJbSS"
      }
    },
    {
      "cell_type": "code",
      "source": [
        "# 构造另一个方程组并求系数矩阵的行列式\n",
        "A_2 = np.array([\n",
        "    [-1,3],\n",
        "    [3,-9]\n",
        "], dtype = np.dtype(float))\n",
        "b_2 = np.array([7,1],dtype = np.dtype(float))\n",
        "d_2 = np.linalg.det(A_2)\n",
        "print(f\"A_2的行列式: {d_2:.2f}\")"
      ],
      "metadata": {
        "colab": {
          "base_uri": "https://localhost:8080/"
        },
        "id": "WmrXgLQsJd1w",
        "outputId": "f4c6ae81-a786-49ae-c835-a9cf5b269bbd"
      },
      "execution_count": null,
      "outputs": [
        {
          "output_type": "stream",
          "name": "stdout",
          "text": [
            "A_2的行列式: 0.00\n"
          ]
        }
      ]
    },
    {
      "cell_type": "code",
      "source": [
        "# 调包法：在调包解方程时用异常处理判断解的情况\n",
        "try:\n",
        "  x_2 = np.linalg.solve(A_2, b_2)\n",
        "except np.linalg.LinAlgError as err:\n",
        "  print(err)"
      ],
      "metadata": {
        "colab": {
          "base_uri": "https://localhost:8080/"
        },
        "id": "EasvqfelMIH-",
        "outputId": "71887e16-cdd1-40ff-df28-daa2cf58e05e"
      },
      "execution_count": null,
      "outputs": [
        {
          "output_type": "stream",
          "name": "stdout",
          "text": [
            "Singular matrix\n"
          ]
        }
      ]
    },
    {
      "cell_type": "code",
      "source": [
        "# 消元法：构造系统矩阵并复制一个系统矩阵作为backup\n",
        "A_2_system = np.hstack((A_2, b_2.reshape((2,1))))\n",
        "print(A_2_system)"
      ],
      "metadata": {
        "colab": {
          "base_uri": "https://localhost:8080/"
        },
        "id": "OBSbUM2rMixU",
        "outputId": "1e849f93-5288-489e-a429-942b64040c03"
      },
      "execution_count": null,
      "outputs": [
        {
          "output_type": "stream",
          "name": "stdout",
          "text": [
            "[[-1.  3.  7.]\n",
            " [ 3. -9.  1.]]\n"
          ]
        }
      ]
    },
    {
      "cell_type": "code",
      "source": [
        "# 消元法：将第二行第一个系数变为0\n",
        "A_2_system_res = A_2_system.copy()\n",
        "A_2_system_res[1] = 3 * A_2_system_res[0] + A_2_system_res[1]\n",
        "print(A_2_system_res)"
      ],
      "metadata": {
        "colab": {
          "base_uri": "https://localhost:8080/"
        },
        "id": "EP0u_VCCNC1O",
        "outputId": "0b5ff5fd-5d27-448e-ee58-ea7fdab5a9e7"
      },
      "execution_count": null,
      "outputs": [
        {
          "output_type": "stream",
          "name": "stdout",
          "text": [
            "[[-1.  3.  7.]\n",
            " [ 0.  0. 22.]]\n"
          ]
        }
      ]
    },
    {
      "cell_type": "code",
      "source": [
        "# 作图法\n",
        "plot_lines(A_2_system)"
      ],
      "metadata": {
        "colab": {
          "base_uri": "https://localhost:8080/",
          "height": 880
        },
        "id": "vky0s00bNpDW",
        "outputId": "9079f2c9-55ff-472a-bc33-3180171fa1d5"
      },
      "execution_count": null,
      "outputs": [
        {
          "output_type": "display_data",
          "data": {
            "text/plain": [
              "<Figure size 1000x1000 with 1 Axes>"
            ],
            "image/png": "[encoded data removed]"
          },
          "metadata": {}
        }
      ]
    },
    {
      "cell_type": "markdown",
      "source": [
        "### 有无数解\n",
        "\n",
        "---\n",
        "\n"
      ],
      "metadata": {
        "id": "aR4Hjs7gNwFP"
      }
    },
    {
      "cell_type": "code",
      "source": [
        "# 通过改变常数项来构造另一个矩阵\n",
        "b_3 = np.array([7,-21], dtype = np.dtype(float))"
      ],
      "metadata": {
        "id": "OyDQHBXPOAth"
      },
      "execution_count": null,
      "outputs": []
    },
    {
      "cell_type": "code",
      "source": [
        "# 消元法：构造系统矩阵\n",
        "A_3_system = np.hstack((A_2, b_3.reshape((2,1))))\n",
        "print(A_3_system)"
      ],
      "metadata": {
        "colab": {
          "base_uri": "https://localhost:8080/"
        },
        "id": "V10wORgiOPuG",
        "outputId": "e64ea28f-dec5-4514-9db2-c978b1d9d957"
      },
      "execution_count": null,
      "outputs": [
        {
          "output_type": "stream",
          "name": "stdout",
          "text": [
            "[[ -1.   3.   7.]\n",
            " [  3.  -9. -21.]]\n"
          ]
        }
      ]
    },
    {
      "cell_type": "code",
      "source": [
        "# 消元法：将第二行第一个系数变为0\n",
        "A_3_system_res = A_3_system.copy()\n",
        "\n",
        "A_3_system_res[1] = 3 * A_3_system_res[0] + A_3_system_res[1]\n",
        "print(A_3_system_res)"
      ],
      "metadata": {
        "colab": {
          "base_uri": "https://localhost:8080/"
        },
        "id": "lHEz8GMCOf0P",
        "outputId": "b0438303-e42d-4af7-d6e9-fb38c4b2b09d"
      },
      "execution_count": null,
      "outputs": [
        {
          "output_type": "stream",
          "name": "stdout",
          "text": [
            "[[-1.  3.  7.]\n",
            " [ 0.  0.  0.]]\n"
          ]
        }
      ]
    },
    {
      "cell_type": "code",
      "source": [
        "# 作图法\n",
        "plot_lines(A_3_system)"
      ],
      "metadata": {
        "colab": {
          "base_uri": "https://localhost:8080/",
          "height": 612
        },
        "id": "oPOH8gE1O6F5",
        "outputId": "a20ec6b5-6ff2-4282-a43d-a2115f98e87f"
      },
      "execution_count": null,
      "outputs": [
        {
          "output_type": "display_data",
          "data": {
            "text/plain": [
              "<Figure size 1000x1000 with 1 Axes>"
            ],
            "image/png": "[encoded data removed]"
          },
          "metadata": {}
        }
      ]
    },
    {
      "cell_type": "markdown",
      "source": [
        "## 解三元线性方程组\n",
        "\n",
        "---\n",
        "\n"
      ],
      "metadata": {
        "id": "QFnB4jIhgPKb"
      }
    },
    {
      "cell_type": "code",
      "source": [
        "import numpy as np"
      ],
      "metadata": {
        "id": "ad7gRyOYgdwD"
      },
      "execution_count": null,
      "outputs": []
    },
    {
      "cell_type": "markdown",
      "source": [
        "### 解法一：调包法\n",
        "\n",
        "---\n",
        "\n"
      ],
      "metadata": {
        "id": "ciQH0JgUi0fw"
      }
    },
    {
      "cell_type": "code",
      "source": [
        "# 构造系数矩阵和常数向量\n",
        "A = np.array([\n",
        "    [4,-3,1],\n",
        "    [2,1,3],\n",
        "    [-1,2,-5]\n",
        "],dtype = np.dtype(float))\n",
        "\n",
        "b = np.array([-10,0,17],dtype = np.dtype(float))\n",
        "\n",
        "print(\"Matrix A:\")\n",
        "print(A)\n",
        "print(\"\\nArray b:\")\n",
        "print(b)"
      ],
      "metadata": {
        "colab": {
          "base_uri": "https://localhost:8080/"
        },
        "id": "KURARC4Tgowp",
        "outputId": "0ae4ff0d-ffef-4d08-b77a-0a8e108c44f5"
      },
      "execution_count": null,
      "outputs": [
        {
          "output_type": "stream",
          "name": "stdout",
          "text": [
            "Matrix A:\n",
            "[[ 4. -3.  1.]\n",
            " [ 2.  1.  3.]\n",
            " [-1.  2. -5.]]\n",
            "\n",
            "Array b:\n",
            "[-10.   0.  17.]\n"
          ]
        }
      ]
    },
    {
      "cell_type": "code",
      "source": [
        "# 查看A和b的维度大小\n",
        "print(f\"A的维度大小：{np.shape(A)}\")\n",
        "print(f\"b的维度大小:{np.shape(b)}\")"
      ],
      "metadata": {
        "colab": {
          "base_uri": "https://localhost:8080/"
        },
        "id": "mQb63DHGhU-S",
        "outputId": "d358bbc3-db6e-4294-af45-fa2b0d966cc1"
      },
      "execution_count": null,
      "outputs": [
        {
          "output_type": "stream",
          "name": "stdout",
          "text": [
            "A的维度大小：(3, 3)\n",
            "b的维度大小:(3,)\n"
          ]
        }
      ]
    },
    {
      "cell_type": "code",
      "source": [
        "# 调包法解线性方程组\n",
        "x = np.linalg.solve(A,b)\n",
        "print(f\"方程组的解是：{x}\")"
      ],
      "metadata": {
        "colab": {
          "base_uri": "https://localhost:8080/"
        },
        "id": "s2zaQdwth9uC",
        "outputId": "93d8870e-98a7-40ba-c65b-0019895b9146"
      },
      "execution_count": null,
      "outputs": [
        {
          "output_type": "stream",
          "name": "stdout",
          "text": [
            "方程组的解是：[ 1.  4. -2.]\n"
          ]
        }
      ]
    },
    {
      "cell_type": "code",
      "source": [
        "# 计算矩阵A的行列式\n",
        "d = np.linalg.det(A)\n",
        "print(f\"矩阵A的行列式：{d:.2f}\")"
      ],
      "metadata": {
        "colab": {
          "base_uri": "https://localhost:8080/"
        },
        "id": "sChDm3cXiWMD",
        "outputId": "1886007e-92f0-4c66-bcea-5a7716d2afb2"
      },
      "execution_count": null,
      "outputs": [
        {
          "output_type": "stream",
          "name": "stdout",
          "text": [
            "矩阵A的行列式：-60.00\n"
          ]
        }
      ]
    },
    {
      "cell_type": "markdown",
      "source": [
        "### 解法二：消元法\n",
        "\n",
        "---\n",
        "\n"
      ],
      "metadata": {
        "id": "mNG0bNzCi7eY"
      }
    },
    {
      "cell_type": "code",
      "source": [
        "# 构造系统矩阵\n",
        "A_system = np.hstack((A, b.reshape((3,1))))\n",
        "print(A_system)"
      ],
      "metadata": {
        "colab": {
          "base_uri": "https://localhost:8080/"
        },
        "id": "n4-O2e-zjCzj",
        "outputId": "7e749ab4-4eef-416a-c017-736be68b94b3"
      },
      "execution_count": null,
      "outputs": [
        {
          "output_type": "stream",
          "name": "stdout",
          "text": [
            "[[  4.  -3.   1. -10.]\n",
            " [  2.   1.   3.   0.]\n",
            " [ -1.   2.  -5.  17.]]\n"
          ]
        }
      ]
    },
    {
      "cell_type": "code",
      "source": [
        "# 构造行缩放函数\n",
        "def MultiplyRow(M,row_num,row_num_multiple):\n",
        "  \"\"\"\n",
        "  Input: M是矩阵，row_num是行的索引，row_num_multiple是缩放标量\n",
        "  Return: 返回新的矩阵M_new\n",
        "  \"\"\"\n",
        "  M_new = M.copy()\n",
        "  M_new[row_num] = M_new[row_num] * row_num_multiple\n",
        "  return M_new"
      ],
      "metadata": {
        "id": "1fury4ltlr1Q"
      },
      "execution_count": null,
      "outputs": []
    },
    {
      "cell_type": "code",
      "source": [
        "# 对系统矩阵运用行缩放函数\n",
        "print(\"原始矩阵：\")\n",
        "print(A_system)\n",
        "print(\"第三行缩放2倍后的新矩阵：\")\n",
        "print(MultiplyRow(A_system,2,2))"
      ],
      "metadata": {
        "colab": {
          "base_uri": "https://localhost:8080/"
        },
        "id": "DD3s39SKnKLv",
        "outputId": "8f69d15c-0aac-46c4-afd9-ca3d1415c54f"
      },
      "execution_count": null,
      "outputs": [
        {
          "output_type": "stream",
          "name": "stdout",
          "text": [
            "原始矩阵：\n",
            "[[  4.  -3.   1. -10.]\n",
            " [  2.   1.   3.   0.]\n",
            " [ -1.   2.  -5.  17.]]\n",
            "第三行缩放2倍后的新矩阵：\n",
            "[[  4.  -3.   1. -10.]\n",
            " [  2.   1.   3.   0.]\n",
            " [ -2.   4. -10.  34.]]\n"
          ]
        }
      ]
    },
    {
      "cell_type": "code",
      "source": [
        "# 构造行相加函数\n",
        "def AddRows(M,row_num_1,row_num_2,row_num_1_multiple):\n",
        "  \"\"\"\n",
        "  Input: M是矩阵，row_num是行的索引，row_num_multiple是缩放标量\n",
        "  Return: 返回新的矩阵M_new\n",
        "  \"\"\"\n",
        "  M_new = M.copy()\n",
        "  M_new[row_num_2] = row_num_1_multiple * M_new[row_num_1] + M_new[row_num_2]\n",
        "  return M_new"
      ],
      "metadata": {
        "id": "ZdM-oY0uonWP"
      },
      "execution_count": null,
      "outputs": []
    },
    {
      "cell_type": "code",
      "source": [
        "# 对系统矩阵运用行相加函数\n",
        "print(\"原始矩阵：\")\n",
        "print(A_system)\n",
        "print(\"第三行加上缩放1/2倍后的第二行后的新矩阵：\")\n",
        "print(AddRows(A_system,1,2,1/2))"
      ],
      "metadata": {
        "colab": {
          "base_uri": "https://localhost:8080/"
        },
        "id": "mpWIuBgYpeFW",
        "outputId": "3843be42-f862-4103-9bf3-1a2cefc70593"
      },
      "execution_count": null,
      "outputs": [
        {
          "output_type": "stream",
          "name": "stdout",
          "text": [
            "原始矩阵：\n",
            "[[  4.  -3.   1. -10.]\n",
            " [  2.   1.   3.   0.]\n",
            " [ -1.   2.  -5.  17.]]\n",
            "第三行加上缩放1/2倍后的第二行后的新矩阵：\n",
            "[[  4.   -3.    1.  -10. ]\n",
            " [  2.    1.    3.    0. ]\n",
            " [  0.    2.5  -3.5  17. ]]\n"
          ]
        }
      ]
    },
    {
      "cell_type": "code",
      "source": [
        "# 构造行交换函数\n",
        "def SwapRows(M,row_num_1,row_num_2):\n",
        "  \"\"\"\n",
        "  Input: M是矩阵，row_num是行的索引\n",
        "  Return: 返回新的矩阵M_new\n",
        "  \"\"\"\n",
        "  M_new = M.copy()\n",
        "  M_new[[row_num_1,row_num_2]] = M_new[[row_num_2,row_num_1]]\n",
        "  return M_new"
      ],
      "metadata": {
        "id": "T0GPbWmAqF5O"
      },
      "execution_count": null,
      "outputs": []
    },
    {
      "cell_type": "code",
      "source": [
        "# 对系统矩阵运用行交换函数\n",
        "print(\"原始矩阵：\")\n",
        "print(A_system)\n",
        "print(\"第一行和第三行交换后的新矩阵：\")\n",
        "print(SwapRows(A_system,0,2))"
      ],
      "metadata": {
        "colab": {
          "base_uri": "https://localhost:8080/"
        },
        "id": "hsROfr5OrrHV",
        "outputId": "a6f50e3a-0c15-4883-f99c-ef1ed654a324"
      },
      "execution_count": null,
      "outputs": [
        {
          "output_type": "stream",
          "name": "stdout",
          "text": [
            "原始矩阵：\n",
            "[[  4.  -3.   1. -10.]\n",
            " [  2.   1.   3.   0.]\n",
            " [ -1.   2.  -5.  17.]]\n",
            "第一行和第三行交换后的新矩阵：\n",
            "[[ -1.   2.  -5.  17.]\n",
            " [  2.   1.   3.   0.]\n",
            " [  4.  -3.   1. -10.]]\n"
          ]
        }
      ]
    },
    {
      "cell_type": "code",
      "source": [
        "# 矩阵行化简：交换第一行和第三行\n",
        "A_ref = SwapRows(A_system,0,2)\n",
        "print(A_ref)"
      ],
      "metadata": {
        "colab": {
          "base_uri": "https://localhost:8080/"
        },
        "id": "7PLew_QMs7m0",
        "outputId": "7b77384f-0c45-4963-9eaa-7db11342038d"
      },
      "execution_count": null,
      "outputs": [
        {
          "output_type": "stream",
          "name": "stdout",
          "text": [
            "[[ -1.   2.  -5.  17.]\n",
            " [  2.   1.   3.   0.]\n",
            " [  4.  -3.   1. -10.]]\n"
          ]
        }
      ]
    },
    {
      "cell_type": "code",
      "source": [
        "# 矩阵行化简：将第一列第二行化为0\n",
        "A_ref = AddRows(A_ref,0,1,2)\n",
        "print(A_ref)"
      ],
      "metadata": {
        "colab": {
          "base_uri": "https://localhost:8080/"
        },
        "id": "bX1B94T2tPGL",
        "outputId": "e54d09ba-d32a-4a14-ee54-2624ce4bb613"
      },
      "execution_count": null,
      "outputs": [
        {
          "output_type": "stream",
          "name": "stdout",
          "text": [
            "[[ -1.   2.  -5.  17.]\n",
            " [  0.   5.  -7.  34.]\n",
            " [  4.  -3.   1. -10.]]\n"
          ]
        }
      ]
    },
    {
      "cell_type": "code",
      "source": [
        "# 矩阵行化简：将第一列第三行化为0\n",
        "A_ref = AddRows(A_ref,0,2,4)\n",
        "print(A_ref)"
      ],
      "metadata": {
        "colab": {
          "base_uri": "https://localhost:8080/"
        },
        "id": "npxQo7_vtpCs",
        "outputId": "08497072-1653-4a6e-aacb-0593fe49add9"
      },
      "execution_count": null,
      "outputs": [
        {
          "output_type": "stream",
          "name": "stdout",
          "text": [
            "[[ -1.   2.  -5.  17.]\n",
            " [  0.   5.  -7.  34.]\n",
            " [  0.   5. -19.  58.]]\n"
          ]
        }
      ]
    },
    {
      "cell_type": "code",
      "source": [
        "# 矩阵行化简：将第二列第三行化为0\n",
        "A_ref = AddRows(A_ref,1,2,-1)\n",
        "print(A_ref)"
      ],
      "metadata": {
        "colab": {
          "base_uri": "https://localhost:8080/"
        },
        "id": "rLsRcgI4t617",
        "outputId": "7f901f81-19f1-486b-c94a-bb1158f0a430"
      },
      "execution_count": null,
      "outputs": [
        {
          "output_type": "stream",
          "name": "stdout",
          "text": [
            "[[ -1.   2.  -5.  17.]\n",
            " [  0.   5.  -7.  34.]\n",
            " [  0.   0. -12.  24.]]\n"
          ]
        }
      ]
    },
    {
      "cell_type": "code",
      "source": [
        "# 矩阵行化简：将第三列第三行化为1，求出x3\n",
        "A_ref = MultiplyRow(A_ref,2,-1/12)\n",
        "print(A_ref)"
      ],
      "metadata": {
        "colab": {
          "base_uri": "https://localhost:8080/"
        },
        "id": "SMf9ajxSuVpz",
        "outputId": "6a7aa4dd-b9d4-44e0-e4fc-2b4991489e82"
      },
      "execution_count": null,
      "outputs": [
        {
          "output_type": "stream",
          "name": "stdout",
          "text": [
            "[[-1.  2. -5. 17.]\n",
            " [ 0.  5. -7. 34.]\n",
            " [-0. -0.  1. -2.]]\n"
          ]
        }
      ]
    },
    {
      "cell_type": "code",
      "source": [
        "# 回代解方程\n",
        "x_3 = A_ref[2,3]\n",
        "x_2 = (A_ref[1,3] - A_ref[1,2] * x_3) / A_ref[1,1]\n",
        "x_1 = (A_ref[0,3] - A_ref[0,2] * x_3 - A_ref[0,1] * x_2 ) / A_ref[0,0]\n",
        "print(x_1,x_2,x_3)"
      ],
      "metadata": {
        "colab": {
          "base_uri": "https://localhost:8080/"
        },
        "id": "Y1LRfX-Kuq6z",
        "outputId": "7e6cda34-e37d-40f8-a686-fba0cb38b6e9"
      },
      "execution_count": null,
      "outputs": [
        {
          "output_type": "stream",
          "name": "stdout",
          "text": [
            "1.0 4.0 -2.0\n"
          ]
        }
      ]
    },
    {
      "cell_type": "markdown",
      "source": [
        "### 无解\n",
        "\n",
        "---\n",
        "\n"
      ],
      "metadata": {
        "id": "0OXwSICzv0HM"
      }
    },
    {
      "cell_type": "code",
      "source": [
        "# 构造第二个方程组\n",
        "A_2 = np.array([\n",
        "    [1,1,1,],\n",
        "    [0,1,-3],\n",
        "    [2,1,5]\n",
        "],dtype = np.dtype(float))\n",
        "\n",
        "b_2 = np.array([2,1,0],dtype = np.dtype(float))"
      ],
      "metadata": {
        "id": "jtYM9XO43lEW"
      },
      "execution_count": null,
      "outputs": []
    },
    {
      "cell_type": "code",
      "source": [
        "# 计算第二个方程组的行列式\n",
        "d_2 = np.linalg.det(A_2)\n",
        "print(f\"矩阵A_2的行列式：{d_2:.2f}\")"
      ],
      "metadata": {
        "colab": {
          "base_uri": "https://localhost:8080/"
        },
        "id": "rxzo4pF14Tl4",
        "outputId": "76c95b95-a83d-4f44-f796-9ad7fa75f8c0"
      },
      "execution_count": null,
      "outputs": [
        {
          "output_type": "stream",
          "name": "stdout",
          "text": [
            "矩阵A_2的行列式：0.00\n"
          ]
        }
      ]
    },
    {
      "cell_type": "code",
      "source": [
        "# 调包法：在调包解方程时用异常处理判断解的情况\n",
        "try:\n",
        "  x_2 = np.linalg.solve(A_2, b_2)\n",
        "except np.linalg.LinAlgError as err:\n",
        "  print(err)"
      ],
      "metadata": {
        "colab": {
          "base_uri": "https://localhost:8080/"
        },
        "id": "2oPlfB7x5UK9",
        "outputId": "09ac4dff-37df-4a25-ffa0-8e09ef5b8eb1"
      },
      "execution_count": null,
      "outputs": [
        {
          "output_type": "stream",
          "name": "stdout",
          "text": [
            "Singular matrix\n"
          ]
        }
      ]
    },
    {
      "cell_type": "code",
      "source": [
        "# 构造系统矩阵\n",
        "A_2_system = np.hstack((A_2,b_2.reshape((3,1))))\n",
        "print(A_2_system)"
      ],
      "metadata": {
        "colab": {
          "base_uri": "https://localhost:8080/"
        },
        "id": "CLnlBir65abN",
        "outputId": "63fe19b5-391d-46ee-e81c-8b1daed92cc1"
      },
      "execution_count": null,
      "outputs": [
        {
          "output_type": "stream",
          "name": "stdout",
          "text": [
            "[[ 1.  1.  1.  2.]\n",
            " [ 0.  1. -3.  1.]\n",
            " [ 2.  1.  5.  0.]]\n"
          ]
        }
      ]
    },
    {
      "cell_type": "code",
      "source": [
        "# 矩阵行简化：把第一列第三行化为0\n",
        "A_2_ref = AddRows(A_2_system,0,2,-2)\n",
        "print(A_2_ref)"
      ],
      "metadata": {
        "colab": {
          "base_uri": "https://localhost:8080/"
        },
        "id": "dIPQoHvE5vFm",
        "outputId": "13e3d3cf-43c4-44c1-9c5f-9cb859240a91"
      },
      "execution_count": null,
      "outputs": [
        {
          "output_type": "stream",
          "name": "stdout",
          "text": [
            "[[ 1.  1.  1.  2.]\n",
            " [ 0.  1. -3.  1.]\n",
            " [ 0. -1.  3. -4.]]\n"
          ]
        }
      ]
    },
    {
      "cell_type": "code",
      "source": [
        "# 矩阵行简化：把第二列第三行化为0\n",
        "A_2_ref = AddRows(A_2_ref,1,2,1)\n",
        "print(A_2_ref)"
      ],
      "metadata": {
        "colab": {
          "base_uri": "https://localhost:8080/"
        },
        "id": "gIPgAe-a5_Rk",
        "outputId": "c089fbf1-12d6-40e0-a181-0c011af2c6d9"
      },
      "execution_count": null,
      "outputs": [
        {
          "output_type": "stream",
          "name": "stdout",
          "text": [
            "[[ 1.  1.  1.  2.]\n",
            " [ 0.  1. -3.  1.]\n",
            " [ 0.  0.  0. -3.]]\n"
          ]
        }
      ]
    },
    {
      "cell_type": "markdown",
      "source": [
        "### 有无数解\n",
        "\n",
        "---\n",
        "\n"
      ],
      "metadata": {
        "id": "2NaEJyK36OWm"
      }
    },
    {
      "cell_type": "code",
      "source": [
        "# 构造第三个方程组\n",
        "b_3 = np.array([2,1,3])\n",
        "\n",
        "A_3_system = np.hstack((A_2,b_3.reshape((3,1))))\n",
        "print(A_3_system)"
      ],
      "metadata": {
        "colab": {
          "base_uri": "https://localhost:8080/"
        },
        "id": "RpQlIeqN6Sfk",
        "outputId": "d655ced1-911b-4ecd-93be-a625fdc10967"
      },
      "execution_count": null,
      "outputs": [
        {
          "output_type": "stream",
          "name": "stdout",
          "text": [
            "[[ 1.  1.  1.  2.]\n",
            " [ 0.  1. -3.  1.]\n",
            " [ 2.  1.  5.  3.]]\n"
          ]
        }
      ]
    },
    {
      "cell_type": "code",
      "source": [
        "# 矩阵行化简：将第一列第三行化为0\n",
        "A_3_ref = AddRows(A_3_system,0,2,-2)\n",
        "print(A_3_ref)"
      ],
      "metadata": {
        "colab": {
          "base_uri": "https://localhost:8080/"
        },
        "id": "WnGHuG687NAf",
        "outputId": "73b8275e-c188-4501-8170-ab37a93dbf8b"
      },
      "execution_count": null,
      "outputs": [
        {
          "output_type": "stream",
          "name": "stdout",
          "text": [
            "[[ 1.  1.  1.  2.]\n",
            " [ 0.  1. -3.  1.]\n",
            " [ 0. -1.  3. -1.]]\n"
          ]
        }
      ]
    },
    {
      "cell_type": "code",
      "source": [
        "# 矩阵行化简：将第二列第三行化为0\n",
        "A_3_ref = AddRows(A_3_ref,1,2,1)\n",
        "print(A_3_ref)"
      ],
      "metadata": {
        "colab": {
          "base_uri": "https://localhost:8080/"
        },
        "id": "809P81ps7Zjc",
        "outputId": "caf0ffc4-eb1f-4979-9d67-2f3b32988783"
      },
      "execution_count": null,
      "outputs": [
        {
          "output_type": "stream",
          "name": "stdout",
          "text": [
            "[[ 1.  1.  1.  2.]\n",
            " [ 0.  1. -3.  1.]\n",
            " [ 0.  0.  0.  0.]]\n"
          ]
        }
      ]
    },
    {
      "cell_type": "markdown",
      "source": [
        "# 线性变换（linear transformation）"
      ],
      "metadata": {
        "id": "z-NsnlRvxSY0"
      }
    },
    {
      "cell_type": "markdown",
      "source": [
        "## 向量（vector）\n",
        "\n",
        "---\n",
        "* 向量可视化\n",
        "  * `np.sign()`: 返回数组中每个元素的符号，对于正数，返回`1`；对于负数，返回`-1`；对于零，返回`0`\n",
        "  * `enumerate()`: Python的内置函数，用于在遍历可迭代对象（如列表、元组、字符串等）时同时获取索引和值\n",
        "  * `_`: 占位符变量，可以将对象赋值给`_`，用来忽略返回的对象\n",
        "  * `$`: 在`Matplotlib`中，当字符串被包含在$符号之间时，`Matplotlib`会使用LaTeX引擎来把字符串渲染为数学符号和公式\n",
        "  * `plt.subplots(nrows = 1, ncols = 1, sharex = False, sharey = False, squeeze = True, subplot_kw = None, gridspec_kw = None, **fig_kw)`: 返回一个元组`（fig.ax）`或`(fig,ax_array)`，第一个是`Figure图形对象`，第二个是`Axes子图|坐标轴对象`（当创建多个子图时，`Axes`是一个数组，可以通过索引访问每个子图）\n",
        "    * `nrows|ncols`: 指定子图网格的行数与列数，整数，默认为1\n",
        "    * `sharex|sharey`: 控制同一列或者同一行的子图是否共享x轴和y轴\n",
        "    * `squeeze`: 当只有一行或一列时，是否从返回的数组中挤压掉该维度。布尔值，默认为True\n",
        "    * `subplot_kw`: 传递给`add_subplot`的关键字参数，用于创建每个子图。字典，默认为None\n",
        "    * `gridspec_kw`: 传递给`GridSpec`构造函数的关键字参数，用于创建子图网络。字典，默认为None\n",
        "    * `fig_kw`: 传递给`plt.figure()`的关键字参数，如`figsize`，`dpi`等, `figsize=(10,10)`即为创建一个10*10英寸的图形\n",
        "    * `.tick_params(axis=\"both\",**kwargs)`: 设设置刻度参数，如标签大小`labelsize`、颜色`color`等\n",
        "    * `.set_xticks(ticks, minor=False)`: 设置x轴刻度位置和标签，`ticks`一个数组或列表，包含x轴上刻度出现的位置；`minor`布尔值，默认为False，如果是True，则设置的是次要刻度\n",
        "    * `.set_yticks(ticks, minor=False)`: 设置y轴刻度位置和标签\n",
        "  * `plt.axis(*args,**kwargs)`: 控制坐标轴显示范围和行为\n",
        "    * `plt.axis([xmin,xmax,ymin,ymax])`: 设置x轴和y轴的范围\n",
        "    * `plt.axis(\"auto\")`: 让`Matplotlib`自动根据数据范围调整坐标轴\n",
        "    * `plt.axis(\"on\")`: 显示坐标轴\n",
        "    * `plt.axis(\"off\")`: 不显示坐标轴\n",
        "  * `plt.grid(b=None,which=\"major\",axis=\"both\",**kwargs)`: 在图表中添加网格线，当括号里什么都不写的时候使用默认设置\n",
        "    * `b`: 控制是否显示网格线。`True`显示网格， `False`隐藏网格，`None`切换当前状态（如果当前显示则隐藏，反之亦然）\n",
        "    * `which`: 指定在哪些刻度上显示网格线。`major`只在主刻度显示（默认值），`minor`只在次刻度显示，`both`在主刻度和次刻度都显示\n",
        "    * `axis`: 指定显示哪个方向的网格线。`both`显示x轴和y轴方向的网格（默认值），`x`只显示x轴方向的垂直线，`y`只显示y轴方向的水平线\n",
        "    * `color`: 颜色\n",
        "    * `linestyle`: 线型，如`-`|`--`|`:`|`-.`\n",
        "    * `linewidth`: 线宽\n",
        "    * `alpha`：透明度，0-1之间的值\n",
        "  * `plt.gca()`: 获取当前的坐标轴对象，返回一个`Axes`对象，可以在该对象上调用各种方法来设置坐标轴的属性\n",
        "    * `.set_aspect()`: `Axes`对象的一个方法，用于设置坐标轴的纵横比，即y轴单位长度与x轴单位长度的比例。`equal`使x轴和y轴的单位长度相等，即1个单位在x轴和y轴上的物理长度相等\n",
        "  * `plt.show()`: 打开一个窗口显示当前图形，在非交互式环境中（如脚本中），必须调用此函数才能看到图形\n",
        "  * `plt.quiver(X,Y,U,V,**kwargs)`: `Matplotlib`中用于绘制二维箭头的函数，通常用于表示向量场、方向场或单个向量\n",
        "    * `X,Y`: 列表、数组或可迭代对象，箭头的起点坐标，默认为(0,0)\n",
        "    * `U,V`: 列表、数组或可迭代对象，箭头的方向分量（Δx,Δy）\n",
        "    * `**kwargs`: 表示其他可选参数\n",
        "    * `color`：箭头颜色，可以是单个颜色或颜色数组\n",
        "    * `angles = \"uv\"`: 指定角度坐标系，默认模式，箭头的方向只由(U,V)分量决定，不考虑坐标轴的缩放比例，当坐标轴比例不相等时，向量方向会失真\n",
        "    * `angles = \"xy\"`: 指定角度坐标系，角度基于数据坐标系，箭头的方向会考虑数据坐标系的缩放比例，确保箭头在数据空间中的角度是准确的，适合科学计算和向量可视化\n",
        "    * `scale_units`: 缩放单位，决定箭头长度的缩放基准。可以是`inches`（英寸）`dots`（像素）`width`|`height`（分别以图形的宽度或高度为基准）`x`|`y`（以数据坐标的x轴或y轴方向的长度为基准）`xy`（以数据坐标的x和y方向的平均长度为基准）\n",
        "    * `scale`: 缩放因子，和缩放单位一起是控制箭头大小（`箭头长度 = 向量模长/（sacle*基准长度`）的两个参数。`scale = 1`，不进行额外缩放；密集向量场增大scale值（缩放效果）避免重叠；稀疏向量减小scale值（放大效果）使箭头更明显；使用`scale = None`让`Matplotlib`自动优化\n",
        "    * `width`: 箭杆宽度，单位由`scale_units`决定\n",
        "    * `headwidth`: 箭头头部宽度与箭杆宽度的比例\n",
        "    * `headlength`: 箭头头部长度与箭杆宽度的比例\n",
        "    * `headaxislength`: 箭头头部轴长，即从头部尖端到箭杆连接处的长度\n",
        "  * `plt.plot()`: 用于绘制二维线图和点图\n",
        "  * `Axes.text(x,y,s,fontdict = None,**kwargs)`: 用于在`Axes`上的指定位置添加文本\n",
        "    * `x|y`: 浮点数，文本放置位置的坐标（基于数据坐标）\n",
        "    * `s`: 字符串，文本内容\n",
        "    * `fontdict`: 字典，用于覆盖默认的文本属性，若提供，则字典中的键值对将作为文本属性的默认值。文本属性指的是绘图时文本所具有的可视化特征，包括字体、颜色、大小、对齐方式等\n",
        "    * `fontsize|size`: 字体大小，可以是数字（单位磅）或字符串（如`small`,`large`）\n",
        "    * `color|c`: 文本颜色\n",
        "    * `fontfamily`: 字体家族，如`serif`,`sans-serif`,`monospace`\n",
        "    * `fontweight`: 字体粗细，如`normal`,`bold`,`heavy`\n",
        "    * `fontstyle`: 字体样式，如`normal`,`italic`,`oblique`\n",
        "    * `ha|horizontalalignment`: 水平对齐方式，如`center`,`left`,`right`\n",
        "    * `va|verticalalignment`: 垂直对齐方式，如`center`,`top`,`bottom`,`baseline`\n",
        "    * `rotation`: 旋转角度，度数\n",
        "    * `bbox`: 在文本周围添加一个框，参数是一个字典，用于设置框的属性，如背景颜色、边框等\n",
        "    * `alpha`: 透明度，0（完全透明）到1（不透明）\n",
        "* 向量性质\n",
        "  * `np.linalg.norm()`: 查看向量的范数\n",
        "* 向量基础运算\n",
        "  * `*`: 向量标乘｜缩放\n",
        "  * `+`: 向量加法\n",
        "* 向量点积\n",
        "  * `zip()`: 接受多个可迭代对象作为参数，返回一个迭代器，其中每个元素是输入可迭代对象对应位置元素组成的元组，当最短的输入可迭代对象耗尽时停止，可以转换为列表或数组\n",
        "  * `np.dot()`: 计算向量点积\n",
        "  * `@`: 计算向量点积，但只能应用于Numpy数组对象\n",
        "  * `time.time()`: `time`模块的一个函数，用于返回当前时间的时间戳（以秒为单位）。时间戳通常是指自纪元（1970年1月1日00:00:00 UTC）以来的秒数，是一个浮点数"
      ],
      "metadata": {
        "id": "ukl_lv0uxYJR"
      }
    },
    {
      "cell_type": "code",
      "source": [
        "import numpy as np"
      ],
      "metadata": {
        "id": "Vh-daQITQhF2"
      },
      "execution_count": null,
      "outputs": []
    },
    {
      "cell_type": "markdown",
      "source": [
        "### 向量可视化\n",
        "\n",
        "---\n",
        "\n"
      ],
      "metadata": {
        "id": "SfJfzE2aA03s"
      }
    },
    {
      "cell_type": "code",
      "source": [
        "import matplotlib.pyplot as plt"
      ],
      "metadata": {
        "id": "Tqi5tyeoQlCl"
      },
      "execution_count": null,
      "outputs": []
    },
    {
      "cell_type": "code",
      "source": [
        "# 构造向量可视化函数\n",
        "def plot_vectors(list_v,list_label,list_color):\n",
        "  \"\"\"\n",
        "  Input:\n",
        "  *list_v: 向量列表（Numpy数组）\n",
        "  *list_label：对应的标签列表\n",
        "  *list_color：对应的颜色列表\n",
        "  Return：返回二维坐标系中的向量图形\n",
        "  \"\"\"\n",
        "  _, ax = plt.subplots(figsize=(10,10)) # 创建10x10英寸的图形，返回坐标轴对象\n",
        "  ax.tick_params(axis = \"x\", labelsize = 14) # 设置x轴刻度标签大小为14\n",
        "  ax.tick_params(axis = \"y\", labelsize = 14) # 设置y轴刻度标签大小为14\n",
        "  ax.set_xticks(np.arange(-10,10)) # 设置刻度位置为（-10，10）范围内的等距（间距为1）数组\n",
        "  ax.set_yticks(np.arange(-10,10))\n",
        "  plt.axis([-10,10,-10,10]) # 设置坐标轴显示范围为（-10，10）\n",
        "  plt.grid(zorder = 1) # 添加网格线\n",
        "  plt.gca().set_aspect(\"equal\") # 设置坐标纵横比相等\n",
        "\n",
        "  for i,v in enumerate(list_v):\n",
        "    sgn = 0.4 * np.array([[1] if i == 0 else [i] for i in np.sign(v)]) # 定义一个文本偏移量，用于调整文本标签的位置，避免文本与向量的箭头重叠\n",
        "    plt.quiver(v[0],v[1],color = list_color[i], angles = \"xy\", scale_units = \"xy\", scale = 1, zorder=2) # 绘制二维箭头，省略了起点坐标\n",
        "    ax.text(v[0]- 0.2 + sgn[0], v[1] - 0.2 +sgn[1], list_label[i], fontsize = 14, color = list_color[i]) # 在向量终点附近添加标签\n",
        "\n",
        "  plt.show() # 显示图形"
      ],
      "metadata": {
        "id": "kDyXKuXcQxQQ"
      },
      "execution_count": null,
      "outputs": []
    },
    {
      "cell_type": "code",
      "source": [
        "# 向量可视化\n",
        "v = np.array([[1],[3]])\n",
        "plot_vectors([v],[f\"$v$\"],[\"black\"])"
      ],
      "metadata": {
        "colab": {
          "base_uri": "https://localhost:8080/",
          "height": 835
        },
        "id": "BdgenSAIHcfe",
        "outputId": "4403f4b5-94af-4737-f3a1-721472624faa"
      },
      "execution_count": null,
      "outputs": [
        {
          "output_type": "display_data",
          "data": {
            "text/plain": [
              "<Figure size 1000x1000 with 1 Axes>"
            ],
            "image/png": "[encoded data removed]"
          },
          "metadata": {}
        }
      ]
    },
    {
      "cell_type": "markdown",
      "source": [
        "### 向量基础运算\n",
        "\n",
        "---\n",
        "\n"
      ],
      "metadata": {
        "id": "UazzYnbcA4Tr"
      }
    },
    {
      "cell_type": "code",
      "source": [
        "# 向量标乘｜缩放\n",
        "plot_vectors([v,2*v,-2*v],[f\"$v$\",f\"$2v$\",f\"$-2v$\"],[\"black\",\"green\",\"blue\"])"
      ],
      "metadata": {
        "colab": {
          "base_uri": "https://localhost:8080/",
          "height": 835
        },
        "id": "W2eG1E-eiSaJ",
        "outputId": "79326f50-95b3-45aa-8a13-7905df8f8411"
      },
      "execution_count": null,
      "outputs": [
        {
          "output_type": "display_data",
          "data": {
            "text/plain": [
              "<Figure size 1000x1000 with 1 Axes>"
            ],
            "image/png": "[encoded data removed]"
          },
          "metadata": {}
        }
      ]
    },
    {
      "cell_type": "code",
      "source": [
        "# 向量加法\n",
        "v = np.array([[1],[3]])\n",
        "w = np.array([[4],[-1]])\n",
        "plot_vectors([v, w, v + w],[f\"$v$\",f\"$w$\",f\"v+w\"],[\"black\",\"black\",\"red\"])"
      ],
      "metadata": {
        "colab": {
          "base_uri": "https://localhost:8080/",
          "height": 835
        },
        "id": "MWl00C1dA6kd",
        "outputId": "534ebcf8-1b5a-437a-f25d-3ff9507dc743"
      },
      "execution_count": null,
      "outputs": [
        {
          "output_type": "display_data",
          "data": {
            "text/plain": [
              "<Figure size 1000x1000 with 1 Axes>"
            ],
            "image/png": "[encoded data removed]"
          },
          "metadata": {}
        }
      ]
    },
    {
      "cell_type": "markdown",
      "source": [
        "### 向量性质\n",
        "\n",
        "---\n",
        "\n"
      ],
      "metadata": {
        "id": "84l2ldyZB_iY"
      }
    },
    {
      "cell_type": "code",
      "source": [
        "# 查看向量的范数\n",
        "print(\"v的范数是：\",np.linalg.norm(v))"
      ],
      "metadata": {
        "colab": {
          "base_uri": "https://localhost:8080/"
        },
        "id": "4dOdY1UTBzya",
        "outputId": "3b43b357-f3d2-4f93-8f0a-b63c81879a3a"
      },
      "execution_count": null,
      "outputs": [
        {
          "output_type": "stream",
          "name": "stdout",
          "text": [
            "v的范数是： 3.1622776601683795\n"
          ]
        }
      ]
    },
    {
      "cell_type": "markdown",
      "source": [
        "### 向量点积\n",
        "\n",
        "---\n",
        "\n"
      ],
      "metadata": {
        "id": "jRf7auiJCY7x"
      }
    },
    {
      "cell_type": "code",
      "source": [
        "# 定义两个向量\n",
        "x = [1,-2,-5]\n",
        "y = [4,3,-1]"
      ],
      "metadata": {
        "id": "xwanJoOdCFqj"
      },
      "execution_count": null,
      "outputs": []
    },
    {
      "cell_type": "code",
      "source": [
        "# 构造计算点积的函数\n",
        "def dot(x,y):\n",
        "  s = 0\n",
        "  for xi, yi in zip(x, y): # 同时遍历x和y的对应元素\n",
        "    s += xi * yi\n",
        "  return s"
      ],
      "metadata": {
        "id": "RUXwLfkGCbe1"
      },
      "execution_count": null,
      "outputs": []
    },
    {
      "cell_type": "code",
      "source": [
        "# 用点积计算函数计算x和y的点积\n",
        "print(\"x和y的点积是：\", dot(x,y))"
      ],
      "metadata": {
        "colab": {
          "base_uri": "https://localhost:8080/"
        },
        "id": "ZPRBEKDpD8in",
        "outputId": "4c0feed2-2080-480e-8919-31397f80cfd0"
      },
      "execution_count": null,
      "outputs": [
        {
          "output_type": "stream",
          "name": "stdout",
          "text": [
            "x和y的点积是： 3\n"
          ]
        }
      ]
    },
    {
      "cell_type": "code",
      "source": [
        "# 调包法计算x和y的点积\n",
        "print(\"x和y的点积是：\", np.dot(x,y))"
      ],
      "metadata": {
        "colab": {
          "base_uri": "https://localhost:8080/"
        },
        "id": "9cd9n_G7EOMP",
        "outputId": "576884ee-7ce6-4cba-a942-7eef0c337315"
      },
      "execution_count": null,
      "outputs": [
        {
          "output_type": "stream",
          "name": "stdout",
          "text": [
            "x和y的点积是： 3\n"
          ]
        }
      ]
    },
    {
      "cell_type": "code",
      "source": [
        "# @运算器计算点积\n",
        "print(\"x和y的点积是：\", np.array(x) @ np.array(y))\n",
        "print(\"\\n这是一个错误:\")\n",
        "try:\n",
        "  print(x@y)\n",
        "except TypeError as err:\n",
        "  print(err)"
      ],
      "metadata": {
        "colab": {
          "base_uri": "https://localhost:8080/"
        },
        "id": "bIFocNR6FYKW",
        "outputId": "a356c90b-c8cb-4e47-d791-848926530a37"
      },
      "execution_count": null,
      "outputs": [
        {
          "output_type": "stream",
          "name": "stdout",
          "text": [
            "x和y的点积是： 3\n",
            "\n",
            "这是一个错误:\n",
            "unsupported operand type(s) for @: 'list' and 'list'\n"
          ]
        }
      ]
    },
    {
      "cell_type": "code",
      "source": [
        "# 通常用数组来定义向量\n",
        "x = np.array(x)\n",
        "y = np.array(y)\n",
        "print(x)\n",
        "print(y)"
      ],
      "metadata": {
        "colab": {
          "base_uri": "https://localhost:8080/"
        },
        "id": "8M1NAdaeF5pX",
        "outputId": "6c370910-5833-43ee-fcbc-b2d1e367d0d8"
      },
      "execution_count": null,
      "outputs": [
        {
          "output_type": "stream",
          "name": "stdout",
          "text": [
            "[ 1 -2 -5]\n",
            "[ 4  3 -1]\n"
          ]
        }
      ]
    },
    {
      "cell_type": "code",
      "source": [
        "# 测试运行速度：定义测试向量\n",
        "a = np.random.rand(1000000) # 生成包含1000000个数的数组\n",
        "b = np.random.rand(1000000)"
      ],
      "metadata": {
        "id": "4gpIiYmwHKIv"
      },
      "execution_count": null,
      "outputs": []
    },
    {
      "cell_type": "code",
      "source": [
        "# 测试运行速度：加载time模块\n",
        "import time"
      ],
      "metadata": {
        "id": "aq5mTf4LHal7"
      },
      "execution_count": null,
      "outputs": []
    },
    {
      "cell_type": "code",
      "source": [
        "# 测试运行速度：点积计算函数\n",
        "tic = time.time()\n",
        "c = dot(a,b)\n",
        "toc = time.time()\n",
        "print(\"a和b的点积：\", c)\n",
        "print(\"点积计算函数用时:\", str(1000 * (toc - tic)) + \"ms\")"
      ],
      "metadata": {
        "colab": {
          "base_uri": "https://localhost:8080/"
        },
        "id": "ionj-LvWHkLb",
        "outputId": "3e67ec8b-5641-4849-9d85-235cbb043ed6"
      },
      "execution_count": null,
      "outputs": [
        {
          "output_type": "stream",
          "name": "stdout",
          "text": [
            "a和b的点积： 250278.93050590754\n",
            "点积计算函数用时: 197.2677707672119ms\n"
          ]
        }
      ]
    },
    {
      "cell_type": "code",
      "source": [
        "# 测试运行速度：numpy计算点积包\n",
        "tic = time.time()\n",
        "c = np.dot(a,b)\n",
        "toc = time.time()\n",
        "print(\"a和b的点积：\",c)\n",
        "print(\"Numpy包用时：\", str(1000 * (toc - tic)) + \"ms\")"
      ],
      "metadata": {
        "colab": {
          "base_uri": "https://localhost:8080/"
        },
        "id": "8MJv7yC8IU3L",
        "outputId": "65b81666-f3b3-4b47-8096-c599d8013abd"
      },
      "execution_count": null,
      "outputs": [
        {
          "output_type": "stream",
          "name": "stdout",
          "text": [
            "a和b的点积： 250278.93050589977\n",
            "Numpy包用时： 2.2687911987304688ms\n"
          ]
        }
      ]
    },
    {
      "cell_type": "code",
      "source": [
        "# 测试运行速度：Python内置运算器@\n",
        "tic = time.time()\n",
        "c = a @ b\n",
        "toc = time.time()\n",
        "print(\"a和b的点积：\",c)\n",
        "print(\"Python内置运算器@用时：\", str(1000 * (toc - tic)) + \"ms\")"
      ],
      "metadata": {
        "colab": {
          "base_uri": "https://localhost:8080/"
        },
        "id": "Cbl0REBmIwT1",
        "outputId": "08b6d884-d8c4-4e18-a543-4d18adbe95c7"
      },
      "execution_count": null,
      "outputs": [
        {
          "output_type": "stream",
          "name": "stdout",
          "text": [
            "a和b的点积： 250278.93050589977\n",
            "Python内置运算器@用时： 1.8107891082763672ms\n"
          ]
        }
      ]
    },
    {
      "cell_type": "markdown",
      "source": [
        "## 矩阵和变换\n",
        "\n",
        "---\n",
        "\n",
        "* 矩阵乘积\n",
        "  * `np.matmul()`: 计算矩阵乘积，也可以用来计算向量点积\n",
        "  * `@`: 计算矩阵乘积\n",
        "  * `np.dot()`: 向量点积也可以用来计算矩阵乘法。原理是Numpy将点积运算广播（broadcasting）到了所有行和列\n",
        "* 计算机视觉\n",
        "  * `OpenCV`: 开源的计算机视觉和机器学习软件库\n",
        "  * `import cv2`: `cv2`是`OpenCV`的Python接口，提供了丰富的图像和视频处理功能\n",
        "  * `cv2.imread(filename,**flags)`: 用于从指定文件路径读取图像，将图像文件解码成一个多维`NumPy`数组（代表像素矩阵），并返回这个数组，以便后续进行各种图像处理操作\n",
        "    * `filename`: 字符串，要加载的图像文件的路径\n",
        "    * `flags`: 整数，指定读取图像的颜色模式，决定了图像被加载后的通道数。默认值`1`将图像转换为3通道的BGR彩色图像，`0`将图像转换为单通道的灰度图像，`-1`将原样加载图像\n",
        "  * `plt.imshow()`: `Matplotlib`库中用于显示图像和数据的主要函数，可以将二维数组（如图像、矩阵）可视化为图像\n",
        "  * `cv2.rotate()`: 将图像进行90度倍数旋转的简单函数\n",
        "  * `cv2.warpPerspective(src,M,dsize,**kwargs)`: 将图像进行透视变换，透视变换通过一个3x3的变换矩阵M将输入图像中的每个像素坐标(x,y)映射到输出图像的新坐标\n",
        "    * `src`:输入图像\n",
        "    * `M`:3x3的变换矩阵\n",
        "    * `dsize`: 输出图像的大小，格式为`(width,height)`"
      ],
      "metadata": {
        "id": "n_xkSqBSLV5T"
      }
    },
    {
      "cell_type": "code",
      "source": [
        "import numpy as np"
      ],
      "metadata": {
        "id": "W_Nez023NWB0"
      },
      "execution_count": 1,
      "outputs": []
    },
    {
      "cell_type": "markdown",
      "source": [
        "### 矩阵乘积\n",
        "\n",
        "---\n",
        "\n"
      ],
      "metadata": {
        "id": "UQvwYyuUENjG"
      }
    },
    {
      "cell_type": "code",
      "source": [
        "# 构造矩阵\n",
        "A = np.array([[4,9,9],\n",
        "              [9,1,6],\n",
        "              [9,2,3]])\n",
        "print(\"3x3矩阵A:\\n\", A)\n",
        "B = np.array([[2,2],\n",
        "              [5,7],\n",
        "              [4,4]])\n",
        "print(\"3x2矩阵B:\\n\", B)"
      ],
      "metadata": {
        "colab": {
          "base_uri": "https://localhost:8080/"
        },
        "id": "c2v4ydHOM6fc",
        "outputId": "cb558ef5-0c74-45a0-83d8-8e6c82e2e403"
      },
      "execution_count": 16,
      "outputs": [
        {
          "output_type": "stream",
          "name": "stdout",
          "text": [
            "3x3矩阵A:\n",
            " [[4 9 9]\n",
            " [9 1 6]\n",
            " [9 2 3]]\n",
            "3x2矩阵B:\n",
            " [[2 2]\n",
            " [5 7]\n",
            " [4 4]]\n"
          ]
        }
      ]
    },
    {
      "cell_type": "code",
      "source": [
        "# 调包法计算矩阵乘积\n",
        "np.matmul(A,B)"
      ],
      "metadata": {
        "colab": {
          "base_uri": "https://localhost:8080/"
        },
        "id": "ZI7d0G89NjmP",
        "outputId": "fbab4262-7981-41e8-94e9-bb1abd5fb1fa"
      },
      "execution_count": null,
      "outputs": [
        {
          "output_type": "execute_result",
          "data": {
            "text/plain": [
              "array([[ 89, 107],\n",
              "       [ 47,  49],\n",
              "       [ 40,  44]])"
            ]
          },
          "metadata": {},
          "execution_count": 22
        }
      ]
    },
    {
      "cell_type": "code",
      "source": [
        "# 内置运算器@计算矩阵乘积\n",
        "A @ B"
      ],
      "metadata": {
        "colab": {
          "base_uri": "https://localhost:8080/"
        },
        "id": "0gFKn1PQNp4P",
        "outputId": "ba28b4f9-f323-4dc7-ac5d-feee9be47142"
      },
      "execution_count": null,
      "outputs": [
        {
          "output_type": "execute_result",
          "data": {
            "text/plain": [
              "array([[ 89, 107],\n",
              "       [ 47,  49],\n",
              "       [ 40,  44]])"
            ]
          },
          "metadata": {},
          "execution_count": 23
        }
      ]
    },
    {
      "cell_type": "code",
      "source": [
        "# 交换律不成立\n",
        "try:\n",
        "  np.matmul(B,A)\n",
        "except ValueError as err:\n",
        "  print(err)"
      ],
      "metadata": {
        "colab": {
          "base_uri": "https://localhost:8080/"
        },
        "id": "SU7yeKjZOFpe",
        "outputId": "71e2e98e-be5f-4b38-e7d0-a9bb5ea0e7ce"
      },
      "execution_count": null,
      "outputs": [
        {
          "output_type": "stream",
          "name": "stdout",
          "text": [
            "matmul: Input operand 1 has a mismatch in its core dimension 0, with gufunc signature (n?,k),(k,m?)->(n?,m?) (size 3 is different from 2)\n"
          ]
        }
      ]
    },
    {
      "cell_type": "code",
      "source": [
        "# 交换律不成立\n",
        "try:\n",
        "  B @ A\n",
        "except ValueError as err:\n",
        "  print(err)"
      ],
      "metadata": {
        "colab": {
          "base_uri": "https://localhost:8080/"
        },
        "id": "EACkX323ORtN",
        "outputId": "8a801fdb-b796-4661-810c-615ab70f8a41"
      },
      "execution_count": null,
      "outputs": [
        {
          "output_type": "stream",
          "name": "stdout",
          "text": [
            "matmul: Input operand 1 has a mismatch in its core dimension 0, with gufunc signature (n?,k),(k,m?)->(n?,m?) (size 3 is different from 2)\n"
          ]
        }
      ]
    },
    {
      "cell_type": "code",
      "source": [
        "# 用矩阵乘法包计算向量点积\n",
        "x = np.array([1,-2,-5])\n",
        "y = np.array([4,3,-1])\n",
        "\n",
        "#print(\"向量x的维度大小：\", x.shape)\n",
        "#print(\"向量x的维数：\", x.ndim)\n",
        "#print(\"向量x重塑成矩阵后的维度大小：\", x.reshape((3,1)).shape)\n",
        "#print(\"向量x重塑成矩阵后的维数：\", x.reshape((3,1)).ndim)\n",
        "\n",
        "np.matmul(x,y)"
      ],
      "metadata": {
        "colab": {
          "base_uri": "https://localhost:8080/"
        },
        "id": "xA9tFYMg7jJd",
        "outputId": "0642b259-9b5e-4f6f-9860-31c294a8042f"
      },
      "execution_count": 11,
      "outputs": [
        {
          "output_type": "execute_result",
          "data": {
            "text/plain": [
              "np.int64(3)"
            ]
          },
          "metadata": {},
          "execution_count": 11
        }
      ]
    },
    {
      "cell_type": "code",
      "source": [
        "# 不能把向量x和y转换成矩阵再相乘:矩阵相乘需要遵循第一个矩阵的行数等于第二个矩阵的列数\n",
        "try:\n",
        "  np.matmul(x.reshape((3,1)),y.reshape((3,1)))\n",
        "except ValueError as err:\n",
        "  print(err)"
      ],
      "metadata": {
        "colab": {
          "base_uri": "https://localhost:8080/"
        },
        "id": "Rf8-cJ-O-E-K",
        "outputId": "c17bc320-c314-4a0d-e7d1-499d4c6ae0bc"
      },
      "execution_count": 14,
      "outputs": [
        {
          "output_type": "stream",
          "name": "stdout",
          "text": [
            "matmul: Input operand 1 has a mismatch in its core dimension 0, with gufunc signature (n?,k),(k,m?)->(n?,m?) (size 3 is different from 1)\n"
          ]
        }
      ]
    },
    {
      "cell_type": "code",
      "source": [
        "# 用向量点积包计算矩阵乘法：广播\n",
        "np.dot(A,B)"
      ],
      "metadata": {
        "colab": {
          "base_uri": "https://localhost:8080/"
        },
        "id": "q0uzbFHZ-y5M",
        "outputId": "6ef5b03c-d133-4a62-db0b-c4576b792e75"
      },
      "execution_count": 17,
      "outputs": [
        {
          "output_type": "execute_result",
          "data": {
            "text/plain": [
              "array([[ 89, 107],\n",
              "       [ 47,  49],\n",
              "       [ 40,  44]])"
            ]
          },
          "metadata": {},
          "execution_count": 17
        }
      ]
    },
    {
      "cell_type": "code",
      "source": [
        "# 矩阵减标量: 减法运算被广播到矩阵的每个元素\n",
        "A-2"
      ],
      "metadata": {
        "colab": {
          "base_uri": "https://localhost:8080/"
        },
        "id": "q1nvJVCL_c22",
        "outputId": "4ae0e04b-35fb-40f7-ce4c-680ff8575f53"
      },
      "execution_count": 18,
      "outputs": [
        {
          "output_type": "execute_result",
          "data": {
            "text/plain": [
              "array([[ 2,  7,  7],\n",
              "       [ 7, -1,  4],\n",
              "       [ 7,  0,  1]])"
            ]
          },
          "metadata": {},
          "execution_count": 18
        }
      ]
    },
    {
      "cell_type": "markdown",
      "source": [
        "### 线性变换\n",
        "\n",
        "---\n",
        "\n"
      ],
      "metadata": {
        "id": "FEYTivdb_9dR"
      }
    },
    {
      "cell_type": "code",
      "source": [
        "# 构造变换函数\n",
        "def T(v):\n",
        "  w = np.zeros((3,1)) # 构造一个3行1列的全0数组w\n",
        "  w[0,0] = 3 * v[0,0]\n",
        "  w[2,0] = -2 * v[1,0]\n",
        "  return w"
      ],
      "metadata": {
        "id": "sfChhKm_AGOS"
      },
      "execution_count": 21,
      "outputs": []
    },
    {
      "cell_type": "code",
      "source": [
        "# 对向量运用T变换\n",
        "v = np.array([[3],[5]])\n",
        "w = T(v)\n",
        "print(\"原始向量：\\n\",v,\"\\n\\n 变换后的向量:\\n\",w)"
      ],
      "metadata": {
        "colab": {
          "base_uri": "https://localhost:8080/"
        },
        "id": "wsvrLMbjAp6y",
        "outputId": "5174e12d-622a-4069-bc3b-c3480429c8b9"
      },
      "execution_count": 22,
      "outputs": [
        {
          "output_type": "stream",
          "name": "stdout",
          "text": [
            "原始向量：\n",
            " [[3]\n",
            " [5]] \n",
            "\n",
            " 变换后的向量:\n",
            " [[  9.]\n",
            " [  0.]\n",
            " [-10.]]\n"
          ]
        }
      ]
    },
    {
      "cell_type": "code",
      "source": [
        "# 验证T是否是线性变换\n",
        "u = np.array([[1],[-2]])\n",
        "v = np.array([[2],[4]])\n",
        "k = 7\n",
        "\n",
        "print(\"T(k*v):\\n\",T(k*v),\"\\n k*T(v):\\n\",k*T(v),\"\\n\\n\")\n",
        "print(\"T(u+v):\\n\",T(u+v),\"\\n T(u)+T(v):\\n\",T(u)+T(v))"
      ],
      "metadata": {
        "colab": {
          "base_uri": "https://localhost:8080/"
        },
        "id": "bqpStIwlBX5J",
        "outputId": "3bd65f6d-6a07-42b9-d2f0-20282287b923"
      },
      "execution_count": 25,
      "outputs": [
        {
          "output_type": "stream",
          "name": "stdout",
          "text": [
            "T(k*v):\n",
            " [[ 42.]\n",
            " [  0.]\n",
            " [-56.]] \n",
            " k*T(v):\n",
            " [[ 42.]\n",
            " [  0.]\n",
            " [-56.]] \n",
            "\n",
            "\n",
            "T(u+v):\n",
            " [[ 9.]\n",
            " [ 0.]\n",
            " [-4.]] \n",
            " T(u)+T(v):\n",
            " [[ 9.]\n",
            " [ 0.]\n",
            " [-4.]]\n"
          ]
        }
      ]
    },
    {
      "cell_type": "markdown",
      "source": [
        "### 用矩阵表示线性变换\n",
        "\n",
        "---\n",
        "\n"
      ],
      "metadata": {
        "id": "RMhkcd75E9ok"
      }
    },
    {
      "cell_type": "code",
      "source": [
        "# 构造变换函数\n",
        "def L(v):\n",
        "  A = np.array([[3,0],\n",
        "                [0,0],\n",
        "                [0,-2]])\n",
        "  print(\"变换矩阵：\\n\",A,\"\\n\")\n",
        "  w = A @ v\n",
        "  return w"
      ],
      "metadata": {
        "id": "Ubx9710aFDgs"
      },
      "execution_count": 27,
      "outputs": []
    },
    {
      "cell_type": "code",
      "source": [
        "# 应用变换\n",
        "v = np.array([[3],\n",
        "              [5]])\n",
        "w = L(v)\n",
        "print(\"原始向量：\\n\",v,\"\\n\\n变换后的向量：\\n\",w)"
      ],
      "metadata": {
        "colab": {
          "base_uri": "https://localhost:8080/"
        },
        "id": "ClnYsfP2FcVz",
        "outputId": "e32426b8-75b8-49e3-a91f-2c15a2180bc8"
      },
      "execution_count": 30,
      "outputs": [
        {
          "output_type": "stream",
          "name": "stdout",
          "text": [
            "变换矩阵：\n",
            " [[ 3  0]\n",
            " [ 0  0]\n",
            " [ 0 -2]] \n",
            "\n",
            "原始向量：\n",
            " [[3]\n",
            " [5]] \n",
            "\n",
            "变换后的向量：\n",
            " [[  9]\n",
            " [  0]\n",
            " [-10]]\n"
          ]
        }
      ]
    },
    {
      "cell_type": "markdown",
      "source": [
        "### 典型线性变换示例\n",
        "\n",
        "---\n",
        "\n"
      ],
      "metadata": {
        "id": "0kuQXpCxGF7N"
      }
    },
    {
      "cell_type": "code",
      "source": [
        "# 构造可视化函数\n",
        "import matplotlib.pyplot as plt\n",
        "def plot_transformation(T,e1,e2):\n",
        "  \"\"\"\n",
        "  Input:\n",
        "  * T:线性变换函数\n",
        "  * e1,e2:二维基向量\n",
        "  Return：绘制\n",
        "  * 原始基向量和它们张成的平行四边形\n",
        "  * 变换后的基向量和变换后的平行四边形\n",
        "  \"\"\"\n",
        "  color_original = \"#129cab\"\n",
        "  color_transformed = \"#cc8933\"\n",
        "  o = np.array([[0],[0]])\n",
        "\n",
        "  # 设置坐标轴\n",
        "  _,ax = plt.subplots(figsize=(7,7))\n",
        "  ax.tick_params(axis = \"x\", labelsize = 14)\n",
        "  ax.tick_params(axis = \"y\", labelsize = 14)\n",
        "  ax.set_xticks(np.arange(-5,5))\n",
        "  ax.set_yticks(np.arange(-5,5))\n",
        "  plt.axis([-5,5,-5,5])\n",
        "\n",
        "  # 绘制原始向量\n",
        "  plt.quiver([0,0],[0,0],[e1[0],e2[0]],[e1[1],e2[1]],color = color_original, angles = \"xy\",scale_units = \"xy\",scale =1) # 绘制向量e1和e2\n",
        "  plt.plot([o[0],e2[0],e1[0],e1[0]],\n",
        "          [o[1],e2[1],e2[1],e1[1]],\n",
        "          color = color_original) # 绘制原始基向量张成的平行四边形\n",
        "  e1_sgn = 0.4 * np.sign(e1)\n",
        "  ax.text(e1[0]-0.2+e1_sgn[0],e1[1]-0.2+e1_sgn[1],f\"$e_1$\",fontsize=14,color=color_original)\n",
        "  e2_sgn = 0.4 * np.sign(e2)\n",
        "  ax.text(e2[0]-0.2+e2_sgn[0],e2[1]-0.2+e2_sgn[1],f\"$e_2$\",fontsize=14,color=color_original)\n",
        "\n",
        "  e1_transformed = T(e1)\n",
        "  e2_transformed = T(e2)\n",
        "\n",
        "  # 绘制变换后的向量\n",
        "  plt.quiver([0,0],[0,0],[e1_transformed[0],e2_transformed[0]],[e1_transformed[1],e2_transformed[1]],\n",
        "             color=color_transformed,angles=\"xy\",scale_units=\"xy\",scale=1)\n",
        "  plt.plot([o[0],e2_transformed[0],e1_transformed[0]+e2_transformed[0],e1_transformed[0]],\n",
        "           [o[1],e2_transformed[1],e1_transformed[1]+e2_transformed[1],e1_transformed[1]],\n",
        "           color = color_transformed)\n",
        "  e1_transformed_sgn = 0.4 * np.sign(e1_transformed)\n",
        "  ax.text(e1_transformed[0]-0.2+e1_transformed_sgn[0],e1_transformed[1]-0.2+e1_transformed_sgn[1],\n",
        "          f\"$T(e_1)$\",fontsize = 14,color=color_transformed)\n",
        "  e2_transformed_sgn = 0.4 * np.sign(e2_transformed)\n",
        "  ax.text(e2_transformed[0]-0.2+e2_transformed_sgn[0],e2_transformed[1]-0.2+e2_transformed_sgn[1],\n",
        "          f\"$T(e_2)$\",fontsize = 14,color=color_transformed)\n",
        "\n",
        "  plt.gca().set_aspect(\"equal\")\n",
        "  plt.show()"
      ],
      "metadata": {
        "id": "4-yMDBeLGaKX"
      },
      "execution_count": 13,
      "outputs": []
    },
    {
      "cell_type": "code",
      "source": [
        "# 构造原始基向量\n",
        "e1 = np.array([[1],[0]])\n",
        "e2 = np.array([[0],[1]])"
      ],
      "metadata": {
        "id": "n6odKp8DXEXO"
      },
      "execution_count": 3,
      "outputs": []
    },
    {
      "cell_type": "code",
      "source": [
        "# 定义水平缩放变换\n",
        "def T_hscaling(v):\n",
        "  A = np.array([[2,0],\n",
        "                [0,1]])\n",
        "  w = A @ v\n",
        "  return w"
      ],
      "metadata": {
        "id": "Gjj8OWWSWkot"
      },
      "execution_count": 2,
      "outputs": []
    },
    {
      "cell_type": "code",
      "source": [
        "# 定义变换后的基向量的矩阵形式\n",
        "def transform_vectors(T,v1,v2):\n",
        "  V = np.hstack((v1.reshape(2,1),v2.reshape(2,1)))\n",
        "  W = T(V)\n",
        "  return W"
      ],
      "metadata": {
        "id": "alNIjP_0XiW9"
      },
      "execution_count": null,
      "outputs": []
    },
    {
      "cell_type": "code",
      "source": [
        "# 应用水平缩放变换并可视化\n",
        "plot_transformation(T_hscaling,e1,e2)"
      ],
      "metadata": {
        "colab": {
          "base_uri": "https://localhost:8080/",
          "height": 604
        },
        "id": "KfJOHbY8XPFV",
        "outputId": "9ad790d5-2be4-4d6d-b431-f7348ac4f6c9"
      },
      "execution_count": 14,
      "outputs": [
        {
          "output_type": "display_data",
          "data": {
            "text/plain": [
              "<Figure size 700x700 with 1 Axes>"
            ],
            "image/png": "[encoded data removed]"
          },
          "metadata": {}
        }
      ]
    },
    {
      "cell_type": "code",
      "source": [
        "# 定义镜像变换\n",
        "def T_reflection_yaxis(v):\n",
        "  A = np.array([[-1,0],\n",
        "                [0,1]])\n",
        "  w = A @ v\n",
        "  return w"
      ],
      "metadata": {
        "id": "Q9uHDbbJE5N1"
      },
      "execution_count": 17,
      "outputs": []
    },
    {
      "cell_type": "code",
      "source": [
        "# 应用镜像变换并可视化\n",
        "plot_transformation(T_reflection_yaxis,e1,e2)"
      ],
      "metadata": {
        "colab": {
          "base_uri": "https://localhost:8080/",
          "height": 604
        },
        "id": "YjsRdFlNFMeG",
        "outputId": "e0d044fb-49f9-4b90-b5c9-f191b8107357"
      },
      "execution_count": 18,
      "outputs": [
        {
          "output_type": "display_data",
          "data": {
            "text/plain": [
              "<Figure size 700x700 with 1 Axes>"
            ],
            "image/png": "[encoded data removed]"
          },
          "metadata": {}
        }
      ]
    },
    {
      "cell_type": "markdown",
      "source": [
        "### 线性变换在计算机视觉的应用\n",
        "\n",
        "---\n",
        "\n"
      ],
      "metadata": {
        "id": "p76jAN0bGhzR"
      }
    },
    {
      "cell_type": "code",
      "source": [
        "import cv2\n",
        "import matplotlib.pyplot as plt"
      ],
      "metadata": {
        "id": "oRgH6J8rGmxv"
      },
      "execution_count": 20,
      "outputs": []
    },
    {
      "cell_type": "code",
      "source": [
        "# 读取图片\n",
        "img = cv2.imread(\"/content/leaf_original.png\",0)\n",
        "plt.imshow(img)"
      ],
      "metadata": {
        "colab": {
          "base_uri": "https://localhost:8080/",
          "height": 453
        },
        "id": "I_6S2VguGqLr",
        "outputId": "f16c90f3-005e-44b5-9e4e-8398294154d3"
      },
      "execution_count": 29,
      "outputs": [
        {
          "output_type": "execute_result",
          "data": {
            "text/plain": [
              "<matplotlib.image.AxesImage at 0x7f52bb3e8ad0>"
            ]
          },
          "metadata": {},
          "execution_count": 29
        },
        {
          "output_type": "display_data",
          "data": {
            "text/plain": [
              "<Figure size 640x480 with 1 Axes>"
            ],
            "image/png": "[encoded data removed]"
          },
          "metadata": {}
        }
      ]
    },
    {
      "cell_type": "code",
      "source": [
        "# 旋转图片\n",
        "image_rotated = cv2.rotate(img, cv2.ROTATE_90_CLOCKWISE)\n",
        "plt.imshow(image_rotated)"
      ],
      "metadata": {
        "colab": {
          "base_uri": "https://localhost:8080/",
          "height": 453
        },
        "id": "Y6jL27rIH8GF",
        "outputId": "0356897c-2571-4809-f352-92cb672afb0b"
      },
      "execution_count": 24,
      "outputs": [
        {
          "output_type": "execute_result",
          "data": {
            "text/plain": [
              "<matplotlib.image.AxesImage at 0x7f52ba9d1df0>"
            ]
          },
          "metadata": {},
          "execution_count": 24
        },
        {
          "output_type": "display_data",
          "data": {
            "text/plain": [
              "<Figure size 640x480 with 1 Axes>"
            ],
            "image/png": "[encoded data removed]"
          },
          "metadata": {}
        }
      ]
    },
    {
      "cell_type": "code",
      "source": [
        "# 剪切图像\n",
        "rows,cols = image_rotated.shape\n",
        "M = np.float32([[1,0.5,0],\n",
        "                [0,1,0],\n",
        "                [0,0,1]])\n",
        "image_rotated_sheared = cv2.warpPerspective(image_rotated,M,(int(cols),int(rows)))\n",
        "plt.imshow(image_rotated_sheared)"
      ],
      "metadata": {
        "colab": {
          "base_uri": "https://localhost:8080/",
          "height": 453
        },
        "id": "FM-2Jv-jIUG0",
        "outputId": "41e0d0df-8817-4a0c-903d-6c29011099a2"
      },
      "execution_count": 25,
      "outputs": [
        {
          "output_type": "execute_result",
          "data": {
            "text/plain": [
              "<matplotlib.image.AxesImage at 0x7f52b87e5490>"
            ]
          },
          "metadata": {},
          "execution_count": 25
        },
        {
          "output_type": "display_data",
          "data": {
            "text/plain": [
              "<Figure size 640x480 with 1 Axes>"
            ],
            "image/png": "[encoded data removed]"
          },
          "metadata": {}
        }
      ]
    },
    {
      "cell_type": "code",
      "source": [
        "# 调换剪切和旋转的顺序：交换律不适用\n",
        "image_sheared = cv2.warpPerspective(img,M,(int(cols),int(rows)))\n",
        "image_sheared_rotated = cv2.rotate(image_sheared,cv2.ROTATE_90_CLOCKWISE)\n",
        "plt.imshow(image_sheared_rotated)"
      ],
      "metadata": {
        "colab": {
          "base_uri": "https://localhost:8080/",
          "height": 453
        },
        "id": "nz3vODD9I8uC",
        "outputId": "46d6efef-5aec-4949-dec5-f049f7a77805"
      },
      "execution_count": 26,
      "outputs": [
        {
          "output_type": "execute_result",
          "data": {
            "text/plain": [
              "<matplotlib.image.AxesImage at 0x7f52a1e9b320>"
            ]
          },
          "metadata": {},
          "execution_count": 26
        },
        {
          "output_type": "display_data",
          "data": {
            "text/plain": [
              "<Figure size 640x480 with 1 Axes>"
            ],
            "image/png": "[encoded data removed]"
          },
          "metadata": {}
        }
      ]
    }
  ]
}