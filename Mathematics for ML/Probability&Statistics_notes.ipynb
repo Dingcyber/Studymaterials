{
  "nbformat": 4,
  "nbformat_minor": 0,
  "metadata": {
    "colab": {
      "provenance": [],
      "toc_visible": true,
      "authorship_tag": "ABX9TyNk3e2FOhFwOcoCwb6usYMG",
      "include_colab_link": true
    },
    "kernelspec": {
      "name": "python3",
      "display_name": "Python 3"
    },
    "language_info": {
      "name": "python"
    }
  },
  "cells": [
    {
      "cell_type": "markdown",
      "metadata": {
        "id": "view-in-github",
        "colab_type": "text"
      },
      "source": [
        "<a href=\"https://colab.research.google.com/github/Dingcyber/Studymaterials/blob/main/Mathematics%20for%20ML/Probability%26Statistics_notes.ipynb\" target=\"_parent\"><img src=\"https://colab.research.google.com/assets/colab-badge.svg\" alt=\"Open In Colab\"/></a>"
      ]
    },
    {
      "cell_type": "markdown",
      "source": [
        "# 工具集（toolkit）"
      ],
      "metadata": {
        "id": "VSassw9uWPuP"
      }
    },
    {
      "cell_type": "markdown",
      "source": [
        "## Matplotlib\n",
        "\n",
        "---\n",
        "\n",
        "* `%matplotlib widget`: 魔法命令，用于在Jupyter Notebook|Lab中启用交互式matplotlib绘图\n",
        "* `.set_title()`: 坐标轴对象`Axes`的方法，用于设置图表的标题"
      ],
      "metadata": {
        "id": "7rj0GfJyWu0_"
      }
    },
    {
      "cell_type": "markdown",
      "source": [
        "## Seaborn\n",
        "\n",
        "---\n",
        "* `import seaborn as sns`: 基于Matplotlib的Python的数据可视化库，专门用于创建统计图形\n"
      ],
      "metadata": {
        "id": "_rtK0EqwZzVf"
      }
    },
    {
      "cell_type": "markdown",
      "source": [
        "## IPyWidgets\n",
        "\n",
        "---\n",
        "\n",
        "* `import ipywidgets as widgets`：用于Jupyter Notebook的交互式HTML组件库，允许创建交互式用户界面，使数据分析和可视化更加动态和直观\n",
        "* `interact_manual`: 函数，创建手动触发的交互界面\n",
        "* `widgets.DatePicker()`: 交互式控件，提供了一个日历界面，用户可以通过它方便地选择年、月、日\n",
        "  * `description(str)`: 显示在控件旁边的描述文本\n",
        "  * `value(date)`: 控件的初始值，必须是`datetime.date`对象，默认是当前日期\n",
        "  * `disabled(bool)`: 如果为True，则控件不可用，默认为False\n",
        "  * `style(dict)`: 用于控制控件样式的字典，可以设置描述文字的宽度等。`{\"description width\":\"initial\"}`表示设置文本的宽度为初始值，避免被截断\n",
        "  * `layout(dict)`: 用于设置控件布局的字典，可以控制宽度、高度等\n",
        "* `widget.button()`: 创建一个按钮控件，用户可以点击它来触发绑定的事件处理函数\n",
        "  * `description(str)`: 显示在按钮上的文本\n",
        "  * `disabled(bool)`: 如果为True，则按钮不可用，默认为False\n",
        "  * `tooltip(str)`: 当鼠标悬停在按钮上时显示的提示文本\n",
        "  * `icon(str)`: 可选的图标名称，用于在按钮文本前显示图标\n",
        "  * `layout`|`style`: 用于控制按钮的布局和样式\n",
        "  * `.on_click(回调函数)`: `Button`控件的一个方法，用于注册一个回调函数（事件处理函数），当按钮被点击时，这个回调函数会被调用。回调函数定义时，必须接受一个参数b，参数`b`是触发事件的按钮实例本身(由系统自动传递)，通过`b`可以访问按钮的属性和方法\n",
        "* `display()`: IPython显示系统的一部分，用于在Jupyter Notebook中显示各种媒体类型（如文本、图像、HTML、小部件等）的对象\n",
        "* `.value`: `IPyWidgets`中各种控件的一个属性，用于获取或设置控件的当前值，在使用的时候直接访问它"
      ],
      "metadata": {
        "id": "JCWQgaRoaIUY"
      }
    },
    {
      "cell_type": "markdown",
      "source": [
        "## NumPy\n",
        "\n",
        "---\n",
        "* `np.random.randiant(low,high=None,size=None,dtype=int)`: 生成在指定范围内的随机整数\n",
        "  * `low`: 生成随机整数的最小值（包含）\n",
        "  * `high`: 生成随机整数的最大值（不包含）\n",
        "  * `size`: 输出数组的形状,`size=None`时，表示不指定特定的形状，此时函数返回一个标量（单个随机整数）\n",
        "  * `dtype`: 输出数组的数据类型"
      ],
      "metadata": {
        "id": "X2fRluLFXIdj"
      }
    },
    {
      "cell_type": "markdown",
      "source": [
        "## Python\n",
        "\n",
        "---\n",
        "* `utils`: 自定义工具模块，通常包含项目中重复使用的实用函数和类\n",
        "* `datetime`: Python中处理日期和时间的核心模块\n",
        "  * `date(year,month,day)`: 处理日期（年|月|日）\n",
        "  * `timedelta(days=0, seconds=0, microseconds=0, milliseconds=0, minutes=0, hours=0, weeks=0)`: 处理时间间隔。所有参数都是可选的，默认值为0\n",
        "  * `.strftime(\"%m-%d\")`: 用于将日期/时间对象（`datetime.date`）格式化为`月-日`字符串，如`01-15`(1月15日）。`%m`表示月份，`%d`表示日期，`%Y`表示四位月份，`%y`表示两位月份\n",
        "* `->`: 用于函数/方法的类型注解，表示该函数返回值的类型\n",
        "* `AttributeError`: 通常发生在对象没有某个属性或方法时\n",
        "* `list.index(element,start,end)`: 列表的方法，用于在列表中查找某个元素第一次出现的索引位置\n",
        "  * `element`: 要查找的元素\n",
        "  * `start`: 开始查找的起始位置\n",
        "  * `end`: 结束查找的结束位置\n"
      ],
      "metadata": {
        "id": "UD_K2VomYxsP"
      }
    },
    {
      "cell_type": "markdown",
      "source": [
        "### 创建自定义工具模块utils1\n",
        "\n",
        "---\n",
        "\n"
      ],
      "metadata": {
        "id": "Nod3f3MXbAC-"
      }
    },
    {
      "cell_type": "code",
      "source": [
        "import numpy as np\n",
        "from datetime import timedelta,date\n",
        "import matplotlib.pyplot as plt\n",
        "import seaborn as sns\n",
        "import ipywidgets as widgets\n",
        "from ipywidgets import interact_manual"
      ],
      "metadata": {
        "id": "CjZOI8yfYGaw"
      },
      "execution_count": null,
      "outputs": []
    },
    {
      "cell_type": "code",
      "source": [
        "class your_bday:\n",
        "  # 初始化方法\n",
        "  def __init__(self) -> None: # `-> None`表示初始化方法不返回任何值\n",
        "    # 创建包含左右两个子图的图形对象\n",
        "    fig,(ax1,ax2) = plt.subplots(1, 2, figsize = (10,4)) # fig是整个图形对象，ax1和ax2分别是左右两个子图的坐标轴对象\n",
        "\n",
        "    # 将图形和坐标轴对象保存为实例变量，供其他方法使用\n",
        "    self.fig = fig\n",
        "    self.ax = ax1\n",
        "    self.ax_hist = ax2\n",
        "\n",
        "    self.dates = [\n",
        "        (date(2015,1,1)+ timedelta(days = n)).strftime(\"%m-%d\") for n in range(365)\n",
        "        ] # 从2015年1月1日开始，每天递增，生成365个连续的日期，将每个日期格式化为`月-日`字符串\n",
        "    self.match = False # 标志变量，表示是否找到生日匹配\n",
        "    self.bday_str = None # 存储用户选择的生日字符串，并初始化为None，表示bday对象的初始化bday_str属性为None\n",
        "    self.bday_index = None # 存储用户生日在self.date列表中的索引位置\n",
        "    self.n_students = 0 # 计数器，记录当前模拟中已添加的学生数量\n",
        "    self.history = [] # 列表，记录每次模拟成功时所需的学生数量\n",
        "    self.bday_picker = widgets.DatePicker(description = \"Pick your bday\", disabled = False, style = {\"description_width\":\"initial\"})\n",
        "    self.start_button = widgets.Button(description = \"Simulate!\")\n",
        "\n",
        "    display(self.bday_picker)\n",
        "    display(self.start_button)\n",
        "\n",
        "    self.start_button.on_click(self.on_button_clicked)\n",
        "\n",
        "  # 按钮点击事件处理\n",
        "  def on_button_clicked(self, b):\n",
        "    # 重置状态\n",
        "    self.match = False\n",
        "    self.n_students = 0\n",
        "\n",
        "    self.get_bday() # 获取用户输入的生日\n",
        "    self.add_students() # 开始模拟过程，不断添加学生直到找到匹配\n",
        "\n",
        "  # 获取生日\n",
        "  def get_bday(self):\n",
        "    try:\n",
        "      self.bday_str = self.bday_picker.value.strftime(\"%m-%d\")\n",
        "    except AttributeError:\n",
        "      self.ax.set_title(f\"Input a valid date and try again!\") # 更新图表标题，向用户显示错误信息\n",
        "      return\n",
        "    self.bday_index = self.dates.index(self.bday_str) # 在日期列表中查找生日字符串的索引位置\n",
        "\n",
        "  # 生成随机生日\n",
        "  def generate_bday(self):\n",
        "    gen_bday = np.random.randint(0,365)\n",
        "    if gen_bday == self.bday_index:\n",
        "      self.match = True\n",
        "\n",
        "  # 模拟添加学生\n",
        "  def add_students(self):\n",
        "    # 如果没有有效的生日选择，直接返回\n",
        "    if not self.bday_str:\n",
        "      return\n",
        "    # 如果由有效的生日选择\n",
        "    while True:\n",
        "      if self.match:\n",
        "        self.history.append(self.n_students)\n",
        "        # print(f\"Match found.It took {self.n_students} students to get a match\")\n",
        "        n_runs = [i for i in range(len(self.history))]\n",
        "        self.ax.scatter(n_runs, self.history)\n",
        "        # counts, bins = np.histogram(self.history)\n",
        "        # plt.stairs(counts, bins)\n",
        "        # self.ax_hist.hist(bins[:-1],bins,weights=counts)\n",
        "        self.ax_hist.clear()\n",
        "        sns.histplot(data=self.history,ax=self.ax_hist,bins=16)\n",
        "        # plt.show()\n",
        "        break\n",
        "\n",
        "      self.generate_bday()\n",
        "      self.n_students += 1\n",
        "      self.ax.set_title(f\"Match found.It took {self.n_students} students.\\nNumber of runs: {len(self.history)+1}\")\n",
        "      # self.fig.canvas.draw()\n",
        "      # self.fig.canvas.flush_events()"
      ],
      "metadata": {
        "id": "qQUl8H1Ha-7G"
      },
      "execution_count": null,
      "outputs": []
    },
    {
      "cell_type": "code",
      "source": [
        "big_classroom_sizes = [*range(1,1000),5]\n",
        "small_classroom_sizes = [*range(1,80)]"
      ],
      "metadata": {
        "id": "x0A0TMupkeL4"
      },
      "execution_count": null,
      "outputs": []
    },
    {
      "cell_type": "code",
      "source": [
        "def plot_simulated_probs(sim_probs,class_size):\n",
        "  fig,ax = plt.subplots(1,1,figsize = (10,4))\n",
        "  # ax.scatter(class_size,sim_probs)\n",
        "  sns.scatterplot(x=class_size,y=sim_probs,ax=ax,label=\"simulated probabilities\")\n",
        "  ax.set_ylabel(\"Simulated Probability\")\n",
        "  ax.set_xlabel(\"Classroom Size\")\n",
        "  ax.set_title(\"Probability vs Number of Students\")\n",
        "  ax.plot([0,max(class_size)],[0.5,0.5],color=\"red\",label=\"p=0.5\")\n",
        "  ax.legend()\n",
        "  plt.show"
      ],
      "metadata": {
        "id": "NMrdtervkqXf"
      },
      "execution_count": null,
      "outputs": []
    },
    {
      "cell_type": "code",
      "source": [
        "class third_bday_problem:\n",
        "  def __init__(self) -> None:\n",
        "    fig,axes = plt.subplot_mosaic(\n",
        "        [[\"top row\",\"top row\"],[\"bottom left\",\"bottom right\"]],figsize=(10,8)\n",
        "    )\n",
        "    self.fig = fig\n",
        "    self.ax = axes[\"top row\"]\n",
        "    self.count_ax = axes[\"bottom left\"]\n",
        "    self.ax_hist = axes[\"bottem right\"]\n",
        "    self.ax.spines[\"top\"].set_color(\"none\")\n",
        "    self.ax.spines[\"right\"].set_color(\"none\")\n",
        "    self.ax.spines[\"left\"].set_color(\"none\")\n",
        "    self.ax.get_yaxis().set_visible(False)\n",
        "    x = np.arrange(365)\n",
        "    y = np.zeros((365,))\n",
        "    y[y == 0] = np.nan\n",
        "\n",
        "    self.x = x\n",
        "    self.y = y\n",
        "    self.y_match = y_match\n",
        "    self.match = False\n",
        "    self.n_students = 0\n",
        "\n",
        "    self.dates = [\n",
        "        (date(2015, 1, 1) + timedelta(days=n)).strftime(\"%m-%d\") for n in range(365)\n",
        "        ]\n",
        "    self.month_names = [\n",
        "        \"January\",\n",
        "        \"February\",\n",
        "        \"March\",\n",
        "        \"April\",\n",
        "        \"May\",\n",
        "        \"June\",\n",
        "        \"July\",\n",
        "        \"August\",\n",
        "        \"September\",\n",
        "        \"October\",\n",
        "        \"November\",\n",
        "        \"December\",\n",
        "        ]\n",
        "\n",
        "    self.history = []\n",
        "    self.match_index = None\n",
        "    self.match_str = None\n",
        "\n",
        "    self.cpoint = self.fig.canvas.mpl_connect(\"button_press_event\", self.on_button_clicked)\n",
        "\n",
        "    # self.start_button = widgets.Button(description=\"Simulate!\")\n",
        "\n",
        "    # display(self.start_button)\n",
        "\n",
        "    # self.start_button.on_click(self.on_button_clicked)\n",
        "\n",
        "  def generate_bday(self):\n",
        "    gen_bday = np.random.randint(0, 365)\n",
        "\n",
        "    if not np.isnan(self.y[gen_bday]):\n",
        "      self.match_index = gen_bday\n",
        "      self.match_str = self.dates[gen_bday]\n",
        "      self.y_match[gen_bday] = 1\n",
        "      self.match = True\n",
        "      self.y[gen_bday] = 0.5\n",
        "\n",
        "  def on_button_clicked(self, event):\n",
        "    if event.inaxes in [self.ax]:\n",
        "      self.new_run()\n",
        "      self.add_students()\n",
        "\n",
        "  def add_students(self):\n",
        "\n",
        "    while True:\n",
        "      if self.match:\n",
        "        self.history.append(self.n_students)\n",
        "        n_runs = [i for i in range(len(self.history))]\n",
        "        self.count_ax.scatter(n_runs, self.history)\n",
        "        self.count_ax.set_ylabel(\"# of students\")\n",
        "        self.count_ax.set_xlabel(\"# of simulations\")\n",
        "\n",
        "        month_str = self.month_names[int(self.match_str.split(\"-\")[0]) - 1]\n",
        "        day_value = self.match_str.split(\"-\")[1]\n",
        "        self.ax.set_title(\n",
        "            f\"Match found for {month_str} {day_value}\\nIt took {self.n_students} students to get a match\"\n",
        "            )\n",
        "        self.ax_hist.clear()\n",
        "        sns.histplot(data=self.history, ax=self.ax_hist, bins=\"auto\")\n",
        "        break\n",
        "\n",
        "        self.generate_bday()\n",
        "        self.n_students += 1\n",
        "        self.ax.set_title(f\"Number of students: {self.n_students}\")\n",
        "\n",
        "        self.fig.canvas.draw()\n",
        "        self.fig.canvas.flush_events()\n",
        "\n",
        "        if not np.isnan(self.y_match).all():\n",
        "          markerline, stemlines, baseline = self.ax.stem(\n",
        "              self.x, self.y_match, markerfmt=\"*\"\n",
        "              )\n",
        "          plt.setp(markerline, color=\"green\")\n",
        "          plt.setp(stemlines, \"color\", plt.getp(markerline, \"color\"))\n",
        "          plt.setp(stemlines, \"linestyle\", \"dotted\")\n",
        "        self.ax.stem(self.x, self.y, markerfmt=\"o\")\n",
        "\n",
        "  def new_run(self):\n",
        "    y = np.zeros((365,))\n",
        "    y[y == 0] = np.nan\n",
        "    y_match = np.zeros((365,))\n",
        "    y_match[y_match == 0] = np.nan\n",
        "    self.y_match = y_match\n",
        "    self.y = y\n",
        "    self.n_students = 0\n",
        "    self.match = False\n",
        "    self.ax.clear()"
      ],
      "metadata": {
        "id": "QOVeHmGolwRa"
      },
      "execution_count": null,
      "outputs": []
    },
    {
      "cell_type": "markdown",
      "source": [
        "# 经典概率问题"
      ],
      "metadata": {
        "id": "1Be4DNUJOQda"
      }
    },
    {
      "cell_type": "markdown",
      "source": [
        "## 生日问题（Birthday problems）\n",
        "\n",
        "---\n",
        "* 生日问题：在一个群体中，找到与指定生日相同的人所需的期望人数\n"
      ],
      "metadata": {
        "id": "l11yJWO3OUQh"
      }
    },
    {
      "cell_type": "code",
      "source": [
        "import numpy as np\n",
        "import matplotlib.pyplot as plt\n",
        "#import utils1\n",
        "%matplotlib widget"
      ],
      "metadata": {
        "id": "_9_F6v5iPZYG"
      },
      "execution_count": null,
      "outputs": []
    },
    {
      "cell_type": "code",
      "source": [
        "#game = utils1.your_bday()"
      ],
      "metadata": {
        "id": "pRb3Bym9XWf_"
      },
      "execution_count": null,
      "outputs": []
    }
  ]
}