{
  "nbformat": 4,
  "nbformat_minor": 0,
  "metadata": {
    "colab": {
      "provenance": [],
      "authorship_tag": "ABX9TyOWNeXWnDZGiIQO8A36iJvU",
      "include_colab_link": true
    },
    "kernelspec": {
      "name": "python3",
      "display_name": "Python 3"
    },
    "language_info": {
      "name": "python"
    },
    "widgets": {
      "application/vnd.jupyter.widget-state+json": {
        "7487d25a16f549799fa96797cf91b1de": {
          "model_module": "@jupyter-widgets/controls",
          "model_name": "VBoxModel",
          "model_module_version": "1.5.0",
          "state": {
            "_dom_classes": [
              "widget-interact"
            ],
            "_model_module": "@jupyter-widgets/controls",
            "_model_module_version": "1.5.0",
            "_model_name": "VBoxModel",
            "_view_count": null,
            "_view_module": "@jupyter-widgets/controls",
            "_view_module_version": "1.5.0",
            "_view_name": "VBoxView",
            "box_style": "",
            "children": [
              "IPY_MODEL_ec52c91001e54b48a24f6ed1cff55c5b",
              "IPY_MODEL_b4eb2f4b462444feb1ccfc9f11796429",
              "IPY_MODEL_b84da8ff66e24ad8944b3db8282fc298",
              "IPY_MODEL_a2718096eb824849a60780d5bed6b656"
            ],
            "layout": "IPY_MODEL_5f87addeae1940038678a8a0302e88b2"
          }
        },
        "ec52c91001e54b48a24f6ed1cff55c5b": {
          "model_module": "@jupyter-widgets/controls",
          "model_name": "RadioButtonsModel",
          "model_module_version": "1.5.0",
          "state": {
            "_dom_classes": [],
            "_model_module": "@jupyter-widgets/controls",
            "_model_module_version": "1.5.0",
            "_model_name": "RadioButtonsModel",
            "_options_labels": [
              "True",
              "False"
            ],
            "_view_count": null,
            "_view_module": "@jupyter-widgets/controls",
            "_view_module_version": "1.5.0",
            "_view_name": "RadioButtonsView",
            "description": "Switch Doors?",
            "description_tooltip": null,
            "disabled": false,
            "index": 0,
            "layout": "IPY_MODEL_407311de53604d22bb8b96b2d89ddc81",
            "style": "IPY_MODEL_d0c37f70d7d241e5aa014eae83d31483"
          }
        },
        "b4eb2f4b462444feb1ccfc9f11796429": {
          "model_module": "@jupyter-widgets/controls",
          "model_name": "SelectionSliderModel",
          "model_module_version": "1.5.0",
          "state": {
            "_dom_classes": [],
            "_model_module": "@jupyter-widgets/controls",
            "_model_module_version": "1.5.0",
            "_model_name": "SelectionSliderModel",
            "_options_labels": [
              "1",
              "10",
              "100",
              "1000"
            ],
            "_view_count": null,
            "_view_module": "@jupyter-widgets/controls",
            "_view_module_version": "1.5.0",
            "_view_name": "SelectionSliderView",
            "continuous_update": false,
            "description": "# iterations",
            "description_tooltip": null,
            "disabled": false,
            "index": 1,
            "layout": "IPY_MODEL_6c18a98fbdfd494a9ecaddbf505e2723",
            "orientation": "horizontal",
            "readout": true,
            "style": "IPY_MODEL_d92015b9122548618c7a6bc8a54bb8a4"
          }
        },
        "b84da8ff66e24ad8944b3db8282fc298": {
          "model_module": "@jupyter-widgets/controls",
          "model_name": "ButtonModel",
          "model_module_version": "1.5.0",
          "state": {
            "_dom_classes": [],
            "_model_module": "@jupyter-widgets/controls",
            "_model_module_version": "1.5.0",
            "_model_name": "ButtonModel",
            "_view_count": null,
            "_view_module": "@jupyter-widgets/controls",
            "_view_module_version": "1.5.0",
            "_view_name": "ButtonView",
            "button_style": "",
            "description": "Run Interact",
            "disabled": false,
            "icon": "",
            "layout": "IPY_MODEL_4f641a85d0294484ab0c0cd85b74eadc",
            "style": "IPY_MODEL_ba02cfdf2f9e455b9e421723f831c127",
            "tooltip": ""
          }
        },
        "a2718096eb824849a60780d5bed6b656": {
          "model_module": "@jupyter-widgets/output",
          "model_name": "OutputModel",
          "model_module_version": "1.0.0",
          "state": {
            "_dom_classes": [],
            "_model_module": "@jupyter-widgets/output",
            "_model_module_version": "1.0.0",
            "_model_name": "OutputModel",
            "_view_count": null,
            "_view_module": "@jupyter-widgets/output",
            "_view_module_version": "1.0.0",
            "_view_name": "OutputView",
            "layout": "IPY_MODEL_6026d884dbd148198336a458da46cbe2",
            "msg_id": "",
            "outputs": [
              {
                "output_type": "display_data",
                "data": {
                  "text/plain": "<Figure size 1000x400 with 1 Axes>",
                  "image/png": "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\n"
                },
                "metadata": {}
              }
            ]
          }
        },
        "5f87addeae1940038678a8a0302e88b2": {
          "model_module": "@jupyter-widgets/base",
          "model_name": "LayoutModel",
          "model_module_version": "1.2.0",
          "state": {
            "_model_module": "@jupyter-widgets/base",
            "_model_module_version": "1.2.0",
            "_model_name": "LayoutModel",
            "_view_count": null,
            "_view_module": "@jupyter-widgets/base",
            "_view_module_version": "1.2.0",
            "_view_name": "LayoutView",
            "align_content": null,
            "align_items": null,
            "align_self": null,
            "border": null,
            "bottom": null,
            "display": null,
            "flex": null,
            "flex_flow": null,
            "grid_area": null,
            "grid_auto_columns": null,
            "grid_auto_flow": null,
            "grid_auto_rows": null,
            "grid_column": null,
            "grid_gap": null,
            "grid_row": null,
            "grid_template_areas": null,
            "grid_template_columns": null,
            "grid_template_rows": null,
            "height": null,
            "justify_content": null,
            "justify_items": null,
            "left": null,
            "margin": null,
            "max_height": null,
            "max_width": null,
            "min_height": null,
            "min_width": null,
            "object_fit": null,
            "object_position": null,
            "order": null,
            "overflow": null,
            "overflow_x": null,
            "overflow_y": null,
            "padding": null,
            "right": null,
            "top": null,
            "visibility": null,
            "width": null
          }
        },
        "407311de53604d22bb8b96b2d89ddc81": {
          "model_module": "@jupyter-widgets/base",
          "model_name": "LayoutModel",
          "model_module_version": "1.2.0",
          "state": {
            "_model_module": "@jupyter-widgets/base",
            "_model_module_version": "1.2.0",
            "_model_name": "LayoutModel",
            "_view_count": null,
            "_view_module": "@jupyter-widgets/base",
            "_view_module_version": "1.2.0",
            "_view_name": "LayoutView",
            "align_content": null,
            "align_items": null,
            "align_self": null,
            "border": null,
            "bottom": null,
            "display": null,
            "flex": null,
            "flex_flow": null,
            "grid_area": null,
            "grid_auto_columns": null,
            "grid_auto_flow": null,
            "grid_auto_rows": null,
            "grid_column": null,
            "grid_gap": null,
            "grid_row": null,
            "grid_template_areas": null,
            "grid_template_columns": null,
            "grid_template_rows": null,
            "height": null,
            "justify_content": null,
            "justify_items": null,
            "left": null,
            "margin": null,
            "max_height": null,
            "max_width": null,
            "min_height": null,
            "min_width": null,
            "object_fit": null,
            "object_position": null,
            "order": null,
            "overflow": null,
            "overflow_x": null,
            "overflow_y": null,
            "padding": null,
            "right": null,
            "top": null,
            "visibility": null,
            "width": null
          }
        },
        "d0c37f70d7d241e5aa014eae83d31483": {
          "model_module": "@jupyter-widgets/controls",
          "model_name": "DescriptionStyleModel",
          "model_module_version": "1.5.0",
          "state": {
            "_model_module": "@jupyter-widgets/controls",
            "_model_module_version": "1.5.0",
            "_model_name": "DescriptionStyleModel",
            "_view_count": null,
            "_view_module": "@jupyter-widgets/base",
            "_view_module_version": "1.2.0",
            "_view_name": "StyleView",
            "description_width": "initial"
          }
        },
        "6c18a98fbdfd494a9ecaddbf505e2723": {
          "model_module": "@jupyter-widgets/base",
          "model_name": "LayoutModel",
          "model_module_version": "1.2.0",
          "state": {
            "_model_module": "@jupyter-widgets/base",
            "_model_module_version": "1.2.0",
            "_model_name": "LayoutModel",
            "_view_count": null,
            "_view_module": "@jupyter-widgets/base",
            "_view_module_version": "1.2.0",
            "_view_name": "LayoutView",
            "align_content": null,
            "align_items": null,
            "align_self": null,
            "border": null,
            "bottom": null,
            "display": null,
            "flex": null,
            "flex_flow": null,
            "grid_area": null,
            "grid_auto_columns": null,
            "grid_auto_flow": null,
            "grid_auto_rows": null,
            "grid_column": null,
            "grid_gap": null,
            "grid_row": null,
            "grid_template_areas": null,
            "grid_template_columns": null,
            "grid_template_rows": null,
            "height": null,
            "justify_content": null,
            "justify_items": null,
            "left": null,
            "margin": null,
            "max_height": null,
            "max_width": null,
            "min_height": null,
            "min_width": null,
            "object_fit": null,
            "object_position": null,
            "order": null,
            "overflow": null,
            "overflow_x": null,
            "overflow_y": null,
            "padding": null,
            "right": null,
            "top": null,
            "visibility": null,
            "width": null
          }
        },
        "d92015b9122548618c7a6bc8a54bb8a4": {
          "model_module": "@jupyter-widgets/controls",
          "model_name": "DescriptionStyleModel",
          "model_module_version": "1.5.0",
          "state": {
            "_model_module": "@jupyter-widgets/controls",
            "_model_module_version": "1.5.0",
            "_model_name": "DescriptionStyleModel",
            "_view_count": null,
            "_view_module": "@jupyter-widgets/base",
            "_view_module_version": "1.2.0",
            "_view_name": "StyleView",
            "description_width": ""
          }
        },
        "4f641a85d0294484ab0c0cd85b74eadc": {
          "model_module": "@jupyter-widgets/base",
          "model_name": "LayoutModel",
          "model_module_version": "1.2.0",
          "state": {
            "_model_module": "@jupyter-widgets/base",
            "_model_module_version": "1.2.0",
            "_model_name": "LayoutModel",
            "_view_count": null,
            "_view_module": "@jupyter-widgets/base",
            "_view_module_version": "1.2.0",
            "_view_name": "LayoutView",
            "align_content": null,
            "align_items": null,
            "align_self": null,
            "border": null,
            "bottom": null,
            "display": null,
            "flex": null,
            "flex_flow": null,
            "grid_area": null,
            "grid_auto_columns": null,
            "grid_auto_flow": null,
            "grid_auto_rows": null,
            "grid_column": null,
            "grid_gap": null,
            "grid_row": null,
            "grid_template_areas": null,
            "grid_template_columns": null,
            "grid_template_rows": null,
            "height": null,
            "justify_content": null,
            "justify_items": null,
            "left": null,
            "margin": null,
            "max_height": null,
            "max_width": null,
            "min_height": null,
            "min_width": null,
            "object_fit": null,
            "object_position": null,
            "order": null,
            "overflow": null,
            "overflow_x": null,
            "overflow_y": null,
            "padding": null,
            "right": null,
            "top": null,
            "visibility": null,
            "width": null
          }
        },
        "ba02cfdf2f9e455b9e421723f831c127": {
          "model_module": "@jupyter-widgets/controls",
          "model_name": "ButtonStyleModel",
          "model_module_version": "1.5.0",
          "state": {
            "_model_module": "@jupyter-widgets/controls",
            "_model_module_version": "1.5.0",
            "_model_name": "ButtonStyleModel",
            "_view_count": null,
            "_view_module": "@jupyter-widgets/base",
            "_view_module_version": "1.2.0",
            "_view_name": "StyleView",
            "button_color": null,
            "font_weight": ""
          }
        },
        "6026d884dbd148198336a458da46cbe2": {
          "model_module": "@jupyter-widgets/base",
          "model_name": "LayoutModel",
          "model_module_version": "1.2.0",
          "state": {
            "_model_module": "@jupyter-widgets/base",
            "_model_module_version": "1.2.0",
            "_model_name": "LayoutModel",
            "_view_count": null,
            "_view_module": "@jupyter-widgets/base",
            "_view_module_version": "1.2.0",
            "_view_name": "LayoutView",
            "align_content": null,
            "align_items": null,
            "align_self": null,
            "border": null,
            "bottom": null,
            "display": null,
            "flex": null,
            "flex_flow": null,
            "grid_area": null,
            "grid_auto_columns": null,
            "grid_auto_flow": null,
            "grid_auto_rows": null,
            "grid_column": null,
            "grid_gap": null,
            "grid_row": null,
            "grid_template_areas": null,
            "grid_template_columns": null,
            "grid_template_rows": null,
            "height": null,
            "justify_content": null,
            "justify_items": null,
            "left": null,
            "margin": null,
            "max_height": null,
            "max_width": null,
            "min_height": null,
            "min_width": null,
            "object_fit": null,
            "object_position": null,
            "order": null,
            "overflow": null,
            "overflow_x": null,
            "overflow_y": null,
            "padding": null,
            "right": null,
            "top": null,
            "visibility": null,
            "width": null
          }
        },
        "e30bae53c24142559b682e793533034f": {
          "model_module": "@jupyter-widgets/controls",
          "model_name": "VBoxModel",
          "model_module_version": "1.5.0",
          "state": {
            "_dom_classes": [
              "widget-interact"
            ],
            "_model_module": "@jupyter-widgets/controls",
            "_model_module_version": "1.5.0",
            "_model_name": "VBoxModel",
            "_view_count": null,
            "_view_module": "@jupyter-widgets/controls",
            "_view_module_version": "1.5.0",
            "_view_name": "VBoxView",
            "box_style": "",
            "children": [
              "IPY_MODEL_5c3179f9d18441dcbc6125240e1aa035",
              "IPY_MODEL_d58026db49ec448898da7c57d3ae95a8",
              "IPY_MODEL_fc6623c1e3794f02b4f5898912efbbe9",
              "IPY_MODEL_7719ec795f014021b2c0522329b2e5be"
            ],
            "layout": "IPY_MODEL_e55a739a5c314868ba861e4499df2a48"
          }
        },
        "5c3179f9d18441dcbc6125240e1aa035": {
          "model_module": "@jupyter-widgets/controls",
          "model_name": "RadioButtonsModel",
          "model_module_version": "1.5.0",
          "state": {
            "_dom_classes": [],
            "_model_module": "@jupyter-widgets/controls",
            "_model_module_version": "1.5.0",
            "_model_name": "RadioButtonsModel",
            "_options_labels": [
              "True",
              "False"
            ],
            "_view_count": null,
            "_view_module": "@jupyter-widgets/controls",
            "_view_module_version": "1.5.0",
            "_view_name": "RadioButtonsView",
            "description": "Switch Doors?",
            "description_tooltip": null,
            "disabled": false,
            "index": 0,
            "layout": "IPY_MODEL_0f95a9938a454e8f8260eef7cbb657bf",
            "style": "IPY_MODEL_932069c274a94688b06ce835cfa709f6"
          }
        },
        "d58026db49ec448898da7c57d3ae95a8": {
          "model_module": "@jupyter-widgets/controls",
          "model_name": "SelectionSliderModel",
          "model_module_version": "1.5.0",
          "state": {
            "_dom_classes": [],
            "_model_module": "@jupyter-widgets/controls",
            "_model_module_version": "1.5.0",
            "_model_name": "SelectionSliderModel",
            "_options_labels": [
              "1",
              "10",
              "100",
              "1000"
            ],
            "_view_count": null,
            "_view_module": "@jupyter-widgets/controls",
            "_view_module_version": "1.5.0",
            "_view_name": "SelectionSliderView",
            "continuous_update": false,
            "description": "# iterations",
            "description_tooltip": null,
            "disabled": false,
            "index": 2,
            "layout": "IPY_MODEL_df06058b4b5a46d7aab9861fdd9b729a",
            "orientation": "horizontal",
            "readout": true,
            "style": "IPY_MODEL_52be70a9ecc94819a806f730634907c8"
          }
        },
        "fc6623c1e3794f02b4f5898912efbbe9": {
          "model_module": "@jupyter-widgets/controls",
          "model_name": "ButtonModel",
          "model_module_version": "1.5.0",
          "state": {
            "_dom_classes": [],
            "_model_module": "@jupyter-widgets/controls",
            "_model_module_version": "1.5.0",
            "_model_name": "ButtonModel",
            "_view_count": null,
            "_view_module": "@jupyter-widgets/controls",
            "_view_module_version": "1.5.0",
            "_view_name": "ButtonView",
            "button_style": "",
            "description": "Run Interact",
            "disabled": false,
            "icon": "",
            "layout": "IPY_MODEL_9b700aa8e65647c2b7d0967715bb860b",
            "style": "IPY_MODEL_9efb9066a1da4516a8307a5806614548",
            "tooltip": ""
          }
        },
        "7719ec795f014021b2c0522329b2e5be": {
          "model_module": "@jupyter-widgets/output",
          "model_name": "OutputModel",
          "model_module_version": "1.0.0",
          "state": {
            "_dom_classes": [],
            "_model_module": "@jupyter-widgets/output",
            "_model_module_version": "1.0.0",
            "_model_name": "OutputModel",
            "_view_count": null,
            "_view_module": "@jupyter-widgets/output",
            "_view_module_version": "1.0.0",
            "_view_name": "OutputView",
            "layout": "IPY_MODEL_b2654421ded942a7aee49b267501e011",
            "msg_id": "",
            "outputs": [
              {
                "output_type": "display_data",
                "data": {
                  "text/plain": "<Figure size 1000x400 with 1 Axes>",
                  "image/png": "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\n"
                },
                "metadata": {}
              }
            ]
          }
        },
        "e55a739a5c314868ba861e4499df2a48": {
          "model_module": "@jupyter-widgets/base",
          "model_name": "LayoutModel",
          "model_module_version": "1.2.0",
          "state": {
            "_model_module": "@jupyter-widgets/base",
            "_model_module_version": "1.2.0",
            "_model_name": "LayoutModel",
            "_view_count": null,
            "_view_module": "@jupyter-widgets/base",
            "_view_module_version": "1.2.0",
            "_view_name": "LayoutView",
            "align_content": null,
            "align_items": null,
            "align_self": null,
            "border": null,
            "bottom": null,
            "display": null,
            "flex": null,
            "flex_flow": null,
            "grid_area": null,
            "grid_auto_columns": null,
            "grid_auto_flow": null,
            "grid_auto_rows": null,
            "grid_column": null,
            "grid_gap": null,
            "grid_row": null,
            "grid_template_areas": null,
            "grid_template_columns": null,
            "grid_template_rows": null,
            "height": null,
            "justify_content": null,
            "justify_items": null,
            "left": null,
            "margin": null,
            "max_height": null,
            "max_width": null,
            "min_height": null,
            "min_width": null,
            "object_fit": null,
            "object_position": null,
            "order": null,
            "overflow": null,
            "overflow_x": null,
            "overflow_y": null,
            "padding": null,
            "right": null,
            "top": null,
            "visibility": null,
            "width": null
          }
        },
        "0f95a9938a454e8f8260eef7cbb657bf": {
          "model_module": "@jupyter-widgets/base",
          "model_name": "LayoutModel",
          "model_module_version": "1.2.0",
          "state": {
            "_model_module": "@jupyter-widgets/base",
            "_model_module_version": "1.2.0",
            "_model_name": "LayoutModel",
            "_view_count": null,
            "_view_module": "@jupyter-widgets/base",
            "_view_module_version": "1.2.0",
            "_view_name": "LayoutView",
            "align_content": null,
            "align_items": null,
            "align_self": null,
            "border": null,
            "bottom": null,
            "display": null,
            "flex": null,
            "flex_flow": null,
            "grid_area": null,
            "grid_auto_columns": null,
            "grid_auto_flow": null,
            "grid_auto_rows": null,
            "grid_column": null,
            "grid_gap": null,
            "grid_row": null,
            "grid_template_areas": null,
            "grid_template_columns": null,
            "grid_template_rows": null,
            "height": null,
            "justify_content": null,
            "justify_items": null,
            "left": null,
            "margin": null,
            "max_height": null,
            "max_width": null,
            "min_height": null,
            "min_width": null,
            "object_fit": null,
            "object_position": null,
            "order": null,
            "overflow": null,
            "overflow_x": null,
            "overflow_y": null,
            "padding": null,
            "right": null,
            "top": null,
            "visibility": null,
            "width": null
          }
        },
        "932069c274a94688b06ce835cfa709f6": {
          "model_module": "@jupyter-widgets/controls",
          "model_name": "DescriptionStyleModel",
          "model_module_version": "1.5.0",
          "state": {
            "_model_module": "@jupyter-widgets/controls",
            "_model_module_version": "1.5.0",
            "_model_name": "DescriptionStyleModel",
            "_view_count": null,
            "_view_module": "@jupyter-widgets/base",
            "_view_module_version": "1.2.0",
            "_view_name": "StyleView",
            "description_width": "initial"
          }
        },
        "df06058b4b5a46d7aab9861fdd9b729a": {
          "model_module": "@jupyter-widgets/base",
          "model_name": "LayoutModel",
          "model_module_version": "1.2.0",
          "state": {
            "_model_module": "@jupyter-widgets/base",
            "_model_module_version": "1.2.0",
            "_model_name": "LayoutModel",
            "_view_count": null,
            "_view_module": "@jupyter-widgets/base",
            "_view_module_version": "1.2.0",
            "_view_name": "LayoutView",
            "align_content": null,
            "align_items": null,
            "align_self": null,
            "border": null,
            "bottom": null,
            "display": null,
            "flex": null,
            "flex_flow": null,
            "grid_area": null,
            "grid_auto_columns": null,
            "grid_auto_flow": null,
            "grid_auto_rows": null,
            "grid_column": null,
            "grid_gap": null,
            "grid_row": null,
            "grid_template_areas": null,
            "grid_template_columns": null,
            "grid_template_rows": null,
            "height": null,
            "justify_content": null,
            "justify_items": null,
            "left": null,
            "margin": null,
            "max_height": null,
            "max_width": null,
            "min_height": null,
            "min_width": null,
            "object_fit": null,
            "object_position": null,
            "order": null,
            "overflow": null,
            "overflow_x": null,
            "overflow_y": null,
            "padding": null,
            "right": null,
            "top": null,
            "visibility": null,
            "width": null
          }
        },
        "52be70a9ecc94819a806f730634907c8": {
          "model_module": "@jupyter-widgets/controls",
          "model_name": "DescriptionStyleModel",
          "model_module_version": "1.5.0",
          "state": {
            "_model_module": "@jupyter-widgets/controls",
            "_model_module_version": "1.5.0",
            "_model_name": "DescriptionStyleModel",
            "_view_count": null,
            "_view_module": "@jupyter-widgets/base",
            "_view_module_version": "1.2.0",
            "_view_name": "StyleView",
            "description_width": ""
          }
        },
        "9b700aa8e65647c2b7d0967715bb860b": {
          "model_module": "@jupyter-widgets/base",
          "model_name": "LayoutModel",
          "model_module_version": "1.2.0",
          "state": {
            "_model_module": "@jupyter-widgets/base",
            "_model_module_version": "1.2.0",
            "_model_name": "LayoutModel",
            "_view_count": null,
            "_view_module": "@jupyter-widgets/base",
            "_view_module_version": "1.2.0",
            "_view_name": "LayoutView",
            "align_content": null,
            "align_items": null,
            "align_self": null,
            "border": null,
            "bottom": null,
            "display": null,
            "flex": null,
            "flex_flow": null,
            "grid_area": null,
            "grid_auto_columns": null,
            "grid_auto_flow": null,
            "grid_auto_rows": null,
            "grid_column": null,
            "grid_gap": null,
            "grid_row": null,
            "grid_template_areas": null,
            "grid_template_columns": null,
            "grid_template_rows": null,
            "height": null,
            "justify_content": null,
            "justify_items": null,
            "left": null,
            "margin": null,
            "max_height": null,
            "max_width": null,
            "min_height": null,
            "min_width": null,
            "object_fit": null,
            "object_position": null,
            "order": null,
            "overflow": null,
            "overflow_x": null,
            "overflow_y": null,
            "padding": null,
            "right": null,
            "top": null,
            "visibility": null,
            "width": null
          }
        },
        "9efb9066a1da4516a8307a5806614548": {
          "model_module": "@jupyter-widgets/controls",
          "model_name": "ButtonStyleModel",
          "model_module_version": "1.5.0",
          "state": {
            "_model_module": "@jupyter-widgets/controls",
            "_model_module_version": "1.5.0",
            "_model_name": "ButtonStyleModel",
            "_view_count": null,
            "_view_module": "@jupyter-widgets/base",
            "_view_module_version": "1.2.0",
            "_view_name": "StyleView",
            "button_color": null,
            "font_weight": ""
          }
        },
        "b2654421ded942a7aee49b267501e011": {
          "model_module": "@jupyter-widgets/base",
          "model_name": "LayoutModel",
          "model_module_version": "1.2.0",
          "state": {
            "_model_module": "@jupyter-widgets/base",
            "_model_module_version": "1.2.0",
            "_model_name": "LayoutModel",
            "_view_count": null,
            "_view_module": "@jupyter-widgets/base",
            "_view_module_version": "1.2.0",
            "_view_name": "LayoutView",
            "align_content": null,
            "align_items": null,
            "align_self": null,
            "border": null,
            "bottom": null,
            "display": null,
            "flex": null,
            "flex_flow": null,
            "grid_area": null,
            "grid_auto_columns": null,
            "grid_auto_flow": null,
            "grid_auto_rows": null,
            "grid_column": null,
            "grid_gap": null,
            "grid_row": null,
            "grid_template_areas": null,
            "grid_template_columns": null,
            "grid_template_rows": null,
            "height": null,
            "justify_content": null,
            "justify_items": null,
            "left": null,
            "margin": null,
            "max_height": null,
            "max_width": null,
            "min_height": null,
            "min_width": null,
            "object_fit": null,
            "object_position": null,
            "order": null,
            "overflow": null,
            "overflow_x": null,
            "overflow_y": null,
            "padding": null,
            "right": null,
            "top": null,
            "visibility": null,
            "width": null
          }
        },
        "6517bbad7f0a4881b16cf01dc2c2b8a6": {
          "model_module": "@jupyter-widgets/controls",
          "model_name": "VBoxModel",
          "model_module_version": "1.5.0",
          "state": {
            "_dom_classes": [
              "widget-interact"
            ],
            "_model_module": "@jupyter-widgets/controls",
            "_model_module_version": "1.5.0",
            "_model_name": "VBoxModel",
            "_view_count": null,
            "_view_module": "@jupyter-widgets/controls",
            "_view_module_version": "1.5.0",
            "_view_name": "VBoxView",
            "box_style": "",
            "children": [
              "IPY_MODEL_2b65be1964be44d19fe217ef6c49fe76",
              "IPY_MODEL_fc6bc426a6344110893dc2257796f539",
              "IPY_MODEL_2a5497f0130749f29f4acf75f542c007",
              "IPY_MODEL_39aa3f4d461649078b75d399e03eaec0"
            ],
            "layout": "IPY_MODEL_7e24347f93e94cc2a36148fbb2bb72f4"
          }
        },
        "2b65be1964be44d19fe217ef6c49fe76": {
          "model_module": "@jupyter-widgets/controls",
          "model_name": "RadioButtonsModel",
          "model_module_version": "1.5.0",
          "state": {
            "_dom_classes": [],
            "_model_module": "@jupyter-widgets/controls",
            "_model_module_version": "1.5.0",
            "_model_name": "RadioButtonsModel",
            "_options_labels": [
              "True",
              "False"
            ],
            "_view_count": null,
            "_view_module": "@jupyter-widgets/controls",
            "_view_module_version": "1.5.0",
            "_view_name": "RadioButtonsView",
            "description": "Switch Doors?",
            "description_tooltip": null,
            "disabled": false,
            "index": 0,
            "layout": "IPY_MODEL_6ab01f87781d4e509e0403129ad77def",
            "style": "IPY_MODEL_7805bf6230214cafaa9a9567571d6bc4"
          }
        },
        "fc6bc426a6344110893dc2257796f539": {
          "model_module": "@jupyter-widgets/controls",
          "model_name": "SelectionSliderModel",
          "model_module_version": "1.5.0",
          "state": {
            "_dom_classes": [],
            "_model_module": "@jupyter-widgets/controls",
            "_model_module_version": "1.5.0",
            "_model_name": "SelectionSliderModel",
            "_options_labels": [
              "1",
              "10",
              "100",
              "1000"
            ],
            "_view_count": null,
            "_view_module": "@jupyter-widgets/controls",
            "_view_module_version": "1.5.0",
            "_view_name": "SelectionSliderView",
            "continuous_update": false,
            "description": "# iterations",
            "description_tooltip": null,
            "disabled": false,
            "index": 3,
            "layout": "IPY_MODEL_47609357c3bc4730848ca0cc91f692c1",
            "orientation": "horizontal",
            "readout": true,
            "style": "IPY_MODEL_69d965e77c8942009f7768024e945567"
          }
        },
        "2a5497f0130749f29f4acf75f542c007": {
          "model_module": "@jupyter-widgets/controls",
          "model_name": "ButtonModel",
          "model_module_version": "1.5.0",
          "state": {
            "_dom_classes": [],
            "_model_module": "@jupyter-widgets/controls",
            "_model_module_version": "1.5.0",
            "_model_name": "ButtonModel",
            "_view_count": null,
            "_view_module": "@jupyter-widgets/controls",
            "_view_module_version": "1.5.0",
            "_view_name": "ButtonView",
            "button_style": "",
            "description": "Run Interact",
            "disabled": false,
            "icon": "",
            "layout": "IPY_MODEL_5f8126d42f364b969ff730460c6a303a",
            "style": "IPY_MODEL_3b5797bed4974aad8bce3d29a8574b0f",
            "tooltip": ""
          }
        },
        "39aa3f4d461649078b75d399e03eaec0": {
          "model_module": "@jupyter-widgets/output",
          "model_name": "OutputModel",
          "model_module_version": "1.0.0",
          "state": {
            "_dom_classes": [],
            "_model_module": "@jupyter-widgets/output",
            "_model_module_version": "1.0.0",
            "_model_name": "OutputModel",
            "_view_count": null,
            "_view_module": "@jupyter-widgets/output",
            "_view_module_version": "1.0.0",
            "_view_name": "OutputView",
            "layout": "IPY_MODEL_201c3ce623204d12aabeb4a5ad3b5b5f",
            "msg_id": "",
            "outputs": [
              {
                "output_type": "display_data",
                "data": {
                  "text/plain": "<Figure size 1000x400 with 1 Axes>",
                  "image/png": "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\n"
                },
                "metadata": {}
              }
            ]
          }
        },
        "7e24347f93e94cc2a36148fbb2bb72f4": {
          "model_module": "@jupyter-widgets/base",
          "model_name": "LayoutModel",
          "model_module_version": "1.2.0",
          "state": {
            "_model_module": "@jupyter-widgets/base",
            "_model_module_version": "1.2.0",
            "_model_name": "LayoutModel",
            "_view_count": null,
            "_view_module": "@jupyter-widgets/base",
            "_view_module_version": "1.2.0",
            "_view_name": "LayoutView",
            "align_content": null,
            "align_items": null,
            "align_self": null,
            "border": null,
            "bottom": null,
            "display": null,
            "flex": null,
            "flex_flow": null,
            "grid_area": null,
            "grid_auto_columns": null,
            "grid_auto_flow": null,
            "grid_auto_rows": null,
            "grid_column": null,
            "grid_gap": null,
            "grid_row": null,
            "grid_template_areas": null,
            "grid_template_columns": null,
            "grid_template_rows": null,
            "height": null,
            "justify_content": null,
            "justify_items": null,
            "left": null,
            "margin": null,
            "max_height": null,
            "max_width": null,
            "min_height": null,
            "min_width": null,
            "object_fit": null,
            "object_position": null,
            "order": null,
            "overflow": null,
            "overflow_x": null,
            "overflow_y": null,
            "padding": null,
            "right": null,
            "top": null,
            "visibility": null,
            "width": null
          }
        },
        "6ab01f87781d4e509e0403129ad77def": {
          "model_module": "@jupyter-widgets/base",
          "model_name": "LayoutModel",
          "model_module_version": "1.2.0",
          "state": {
            "_model_module": "@jupyter-widgets/base",
            "_model_module_version": "1.2.0",
            "_model_name": "LayoutModel",
            "_view_count": null,
            "_view_module": "@jupyter-widgets/base",
            "_view_module_version": "1.2.0",
            "_view_name": "LayoutView",
            "align_content": null,
            "align_items": null,
            "align_self": null,
            "border": null,
            "bottom": null,
            "display": null,
            "flex": null,
            "flex_flow": null,
            "grid_area": null,
            "grid_auto_columns": null,
            "grid_auto_flow": null,
            "grid_auto_rows": null,
            "grid_column": null,
            "grid_gap": null,
            "grid_row": null,
            "grid_template_areas": null,
            "grid_template_columns": null,
            "grid_template_rows": null,
            "height": null,
            "justify_content": null,
            "justify_items": null,
            "left": null,
            "margin": null,
            "max_height": null,
            "max_width": null,
            "min_height": null,
            "min_width": null,
            "object_fit": null,
            "object_position": null,
            "order": null,
            "overflow": null,
            "overflow_x": null,
            "overflow_y": null,
            "padding": null,
            "right": null,
            "top": null,
            "visibility": null,
            "width": null
          }
        },
        "7805bf6230214cafaa9a9567571d6bc4": {
          "model_module": "@jupyter-widgets/controls",
          "model_name": "DescriptionStyleModel",
          "model_module_version": "1.5.0",
          "state": {
            "_model_module": "@jupyter-widgets/controls",
            "_model_module_version": "1.5.0",
            "_model_name": "DescriptionStyleModel",
            "_view_count": null,
            "_view_module": "@jupyter-widgets/base",
            "_view_module_version": "1.2.0",
            "_view_name": "StyleView",
            "description_width": "initial"
          }
        },
        "47609357c3bc4730848ca0cc91f692c1": {
          "model_module": "@jupyter-widgets/base",
          "model_name": "LayoutModel",
          "model_module_version": "1.2.0",
          "state": {
            "_model_module": "@jupyter-widgets/base",
            "_model_module_version": "1.2.0",
            "_model_name": "LayoutModel",
            "_view_count": null,
            "_view_module": "@jupyter-widgets/base",
            "_view_module_version": "1.2.0",
            "_view_name": "LayoutView",
            "align_content": null,
            "align_items": null,
            "align_self": null,
            "border": null,
            "bottom": null,
            "display": null,
            "flex": null,
            "flex_flow": null,
            "grid_area": null,
            "grid_auto_columns": null,
            "grid_auto_flow": null,
            "grid_auto_rows": null,
            "grid_column": null,
            "grid_gap": null,
            "grid_row": null,
            "grid_template_areas": null,
            "grid_template_columns": null,
            "grid_template_rows": null,
            "height": null,
            "justify_content": null,
            "justify_items": null,
            "left": null,
            "margin": null,
            "max_height": null,
            "max_width": null,
            "min_height": null,
            "min_width": null,
            "object_fit": null,
            "object_position": null,
            "order": null,
            "overflow": null,
            "overflow_x": null,
            "overflow_y": null,
            "padding": null,
            "right": null,
            "top": null,
            "visibility": null,
            "width": null
          }
        },
        "69d965e77c8942009f7768024e945567": {
          "model_module": "@jupyter-widgets/controls",
          "model_name": "DescriptionStyleModel",
          "model_module_version": "1.5.0",
          "state": {
            "_model_module": "@jupyter-widgets/controls",
            "_model_module_version": "1.5.0",
            "_model_name": "DescriptionStyleModel",
            "_view_count": null,
            "_view_module": "@jupyter-widgets/base",
            "_view_module_version": "1.2.0",
            "_view_name": "StyleView",
            "description_width": ""
          }
        },
        "5f8126d42f364b969ff730460c6a303a": {
          "model_module": "@jupyter-widgets/base",
          "model_name": "LayoutModel",
          "model_module_version": "1.2.0",
          "state": {
            "_model_module": "@jupyter-widgets/base",
            "_model_module_version": "1.2.0",
            "_model_name": "LayoutModel",
            "_view_count": null,
            "_view_module": "@jupyter-widgets/base",
            "_view_module_version": "1.2.0",
            "_view_name": "LayoutView",
            "align_content": null,
            "align_items": null,
            "align_self": null,
            "border": null,
            "bottom": null,
            "display": null,
            "flex": null,
            "flex_flow": null,
            "grid_area": null,
            "grid_auto_columns": null,
            "grid_auto_flow": null,
            "grid_auto_rows": null,
            "grid_column": null,
            "grid_gap": null,
            "grid_row": null,
            "grid_template_areas": null,
            "grid_template_columns": null,
            "grid_template_rows": null,
            "height": null,
            "justify_content": null,
            "justify_items": null,
            "left": null,
            "margin": null,
            "max_height": null,
            "max_width": null,
            "min_height": null,
            "min_width": null,
            "object_fit": null,
            "object_position": null,
            "order": null,
            "overflow": null,
            "overflow_x": null,
            "overflow_y": null,
            "padding": null,
            "right": null,
            "top": null,
            "visibility": null,
            "width": null
          }
        },
        "3b5797bed4974aad8bce3d29a8574b0f": {
          "model_module": "@jupyter-widgets/controls",
          "model_name": "ButtonStyleModel",
          "model_module_version": "1.5.0",
          "state": {
            "_model_module": "@jupyter-widgets/controls",
            "_model_module_version": "1.5.0",
            "_model_name": "ButtonStyleModel",
            "_view_count": null,
            "_view_module": "@jupyter-widgets/base",
            "_view_module_version": "1.2.0",
            "_view_name": "StyleView",
            "button_color": null,
            "font_weight": ""
          }
        },
        "201c3ce623204d12aabeb4a5ad3b5b5f": {
          "model_module": "@jupyter-widgets/base",
          "model_name": "LayoutModel",
          "model_module_version": "1.2.0",
          "state": {
            "_model_module": "@jupyter-widgets/base",
            "_model_module_version": "1.2.0",
            "_model_name": "LayoutModel",
            "_view_count": null,
            "_view_module": "@jupyter-widgets/base",
            "_view_module_version": "1.2.0",
            "_view_name": "LayoutView",
            "align_content": null,
            "align_items": null,
            "align_self": null,
            "border": null,
            "bottom": null,
            "display": null,
            "flex": null,
            "flex_flow": null,
            "grid_area": null,
            "grid_auto_columns": null,
            "grid_auto_flow": null,
            "grid_auto_rows": null,
            "grid_column": null,
            "grid_gap": null,
            "grid_row": null,
            "grid_template_areas": null,
            "grid_template_columns": null,
            "grid_template_rows": null,
            "height": null,
            "justify_content": null,
            "justify_items": null,
            "left": null,
            "margin": null,
            "max_height": null,
            "max_width": null,
            "min_height": null,
            "min_width": null,
            "object_fit": null,
            "object_position": null,
            "order": null,
            "overflow": null,
            "overflow_x": null,
            "overflow_y": null,
            "padding": null,
            "right": null,
            "top": null,
            "visibility": null,
            "width": null
          }
        },
        "53654549c8ba4f7489254ddf4344c49f": {
          "model_module": "@jupyter-widgets/controls",
          "model_name": "VBoxModel",
          "model_module_version": "1.5.0",
          "state": {
            "_dom_classes": [
              "widget-interact"
            ],
            "_model_module": "@jupyter-widgets/controls",
            "_model_module_version": "1.5.0",
            "_model_name": "VBoxModel",
            "_view_count": null,
            "_view_module": "@jupyter-widgets/controls",
            "_view_module_version": "1.5.0",
            "_view_name": "VBoxView",
            "box_style": "",
            "children": [
              "IPY_MODEL_8365c8d107ca49e89e08d2868711feec",
              "IPY_MODEL_318c7f27772a4b8fb1a94a66e303c677",
              "IPY_MODEL_09186a9ced5047bda2f1af7f525865f7",
              "IPY_MODEL_b5488e16abb14741b52cb603616d13fb"
            ],
            "layout": "IPY_MODEL_8551848fe7c246e09909c791bd929c43"
          }
        },
        "8365c8d107ca49e89e08d2868711feec": {
          "model_module": "@jupyter-widgets/controls",
          "model_name": "RadioButtonsModel",
          "model_module_version": "1.5.0",
          "state": {
            "_dom_classes": [],
            "_model_module": "@jupyter-widgets/controls",
            "_model_module_version": "1.5.0",
            "_model_name": "RadioButtonsModel",
            "_options_labels": [
              "True",
              "False"
            ],
            "_view_count": null,
            "_view_module": "@jupyter-widgets/controls",
            "_view_module_version": "1.5.0",
            "_view_name": "RadioButtonsView",
            "description": "Switch Doors?",
            "description_tooltip": null,
            "disabled": false,
            "index": 1,
            "layout": "IPY_MODEL_7a9be0385eb74dcdac4fc4c3eb50df62",
            "style": "IPY_MODEL_b1349777060b47a99febe4a6ea0957d8"
          }
        },
        "318c7f27772a4b8fb1a94a66e303c677": {
          "model_module": "@jupyter-widgets/controls",
          "model_name": "SelectionSliderModel",
          "model_module_version": "1.5.0",
          "state": {
            "_dom_classes": [],
            "_model_module": "@jupyter-widgets/controls",
            "_model_module_version": "1.5.0",
            "_model_name": "SelectionSliderModel",
            "_options_labels": [
              "1",
              "10",
              "100",
              "1000"
            ],
            "_view_count": null,
            "_view_module": "@jupyter-widgets/controls",
            "_view_module_version": "1.5.0",
            "_view_name": "SelectionSliderView",
            "continuous_update": false,
            "description": "# iterations",
            "description_tooltip": null,
            "disabled": false,
            "index": 1,
            "layout": "IPY_MODEL_5f15aa7b6daf44e583fc7593837f105a",
            "orientation": "horizontal",
            "readout": true,
            "style": "IPY_MODEL_6377eac216b440f9b4132fcbf3558af4"
          }
        },
        "09186a9ced5047bda2f1af7f525865f7": {
          "model_module": "@jupyter-widgets/controls",
          "model_name": "ButtonModel",
          "model_module_version": "1.5.0",
          "state": {
            "_dom_classes": [],
            "_model_module": "@jupyter-widgets/controls",
            "_model_module_version": "1.5.0",
            "_model_name": "ButtonModel",
            "_view_count": null,
            "_view_module": "@jupyter-widgets/controls",
            "_view_module_version": "1.5.0",
            "_view_name": "ButtonView",
            "button_style": "",
            "description": "Run Interact",
            "disabled": false,
            "icon": "",
            "layout": "IPY_MODEL_7abf347eda74416a9f9aef5040fe54c3",
            "style": "IPY_MODEL_61b3bb8a127a4b44a44dcacb35965afe",
            "tooltip": ""
          }
        },
        "b5488e16abb14741b52cb603616d13fb": {
          "model_module": "@jupyter-widgets/output",
          "model_name": "OutputModel",
          "model_module_version": "1.0.0",
          "state": {
            "_dom_classes": [],
            "_model_module": "@jupyter-widgets/output",
            "_model_module_version": "1.0.0",
            "_model_name": "OutputModel",
            "_view_count": null,
            "_view_module": "@jupyter-widgets/output",
            "_view_module_version": "1.0.0",
            "_view_name": "OutputView",
            "layout": "IPY_MODEL_1ffd05d71c9e44c5b56f3df161cec6e4",
            "msg_id": "",
            "outputs": [
              {
                "output_type": "display_data",
                "data": {
                  "text/plain": "<Figure size 1000x400 with 1 Axes>",
                  "image/png": "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\n"
                },
                "metadata": {}
              }
            ]
          }
        },
        "8551848fe7c246e09909c791bd929c43": {
          "model_module": "@jupyter-widgets/base",
          "model_name": "LayoutModel",
          "model_module_version": "1.2.0",
          "state": {
            "_model_module": "@jupyter-widgets/base",
            "_model_module_version": "1.2.0",
            "_model_name": "LayoutModel",
            "_view_count": null,
            "_view_module": "@jupyter-widgets/base",
            "_view_module_version": "1.2.0",
            "_view_name": "LayoutView",
            "align_content": null,
            "align_items": null,
            "align_self": null,
            "border": null,
            "bottom": null,
            "display": null,
            "flex": null,
            "flex_flow": null,
            "grid_area": null,
            "grid_auto_columns": null,
            "grid_auto_flow": null,
            "grid_auto_rows": null,
            "grid_column": null,
            "grid_gap": null,
            "grid_row": null,
            "grid_template_areas": null,
            "grid_template_columns": null,
            "grid_template_rows": null,
            "height": null,
            "justify_content": null,
            "justify_items": null,
            "left": null,
            "margin": null,
            "max_height": null,
            "max_width": null,
            "min_height": null,
            "min_width": null,
            "object_fit": null,
            "object_position": null,
            "order": null,
            "overflow": null,
            "overflow_x": null,
            "overflow_y": null,
            "padding": null,
            "right": null,
            "top": null,
            "visibility": null,
            "width": null
          }
        },
        "7a9be0385eb74dcdac4fc4c3eb50df62": {
          "model_module": "@jupyter-widgets/base",
          "model_name": "LayoutModel",
          "model_module_version": "1.2.0",
          "state": {
            "_model_module": "@jupyter-widgets/base",
            "_model_module_version": "1.2.0",
            "_model_name": "LayoutModel",
            "_view_count": null,
            "_view_module": "@jupyter-widgets/base",
            "_view_module_version": "1.2.0",
            "_view_name": "LayoutView",
            "align_content": null,
            "align_items": null,
            "align_self": null,
            "border": null,
            "bottom": null,
            "display": null,
            "flex": null,
            "flex_flow": null,
            "grid_area": null,
            "grid_auto_columns": null,
            "grid_auto_flow": null,
            "grid_auto_rows": null,
            "grid_column": null,
            "grid_gap": null,
            "grid_row": null,
            "grid_template_areas": null,
            "grid_template_columns": null,
            "grid_template_rows": null,
            "height": null,
            "justify_content": null,
            "justify_items": null,
            "left": null,
            "margin": null,
            "max_height": null,
            "max_width": null,
            "min_height": null,
            "min_width": null,
            "object_fit": null,
            "object_position": null,
            "order": null,
            "overflow": null,
            "overflow_x": null,
            "overflow_y": null,
            "padding": null,
            "right": null,
            "top": null,
            "visibility": null,
            "width": null
          }
        },
        "b1349777060b47a99febe4a6ea0957d8": {
          "model_module": "@jupyter-widgets/controls",
          "model_name": "DescriptionStyleModel",
          "model_module_version": "1.5.0",
          "state": {
            "_model_module": "@jupyter-widgets/controls",
            "_model_module_version": "1.5.0",
            "_model_name": "DescriptionStyleModel",
            "_view_count": null,
            "_view_module": "@jupyter-widgets/base",
            "_view_module_version": "1.2.0",
            "_view_name": "StyleView",
            "description_width": "initial"
          }
        },
        "5f15aa7b6daf44e583fc7593837f105a": {
          "model_module": "@jupyter-widgets/base",
          "model_name": "LayoutModel",
          "model_module_version": "1.2.0",
          "state": {
            "_model_module": "@jupyter-widgets/base",
            "_model_module_version": "1.2.0",
            "_model_name": "LayoutModel",
            "_view_count": null,
            "_view_module": "@jupyter-widgets/base",
            "_view_module_version": "1.2.0",
            "_view_name": "LayoutView",
            "align_content": null,
            "align_items": null,
            "align_self": null,
            "border": null,
            "bottom": null,
            "display": null,
            "flex": null,
            "flex_flow": null,
            "grid_area": null,
            "grid_auto_columns": null,
            "grid_auto_flow": null,
            "grid_auto_rows": null,
            "grid_column": null,
            "grid_gap": null,
            "grid_row": null,
            "grid_template_areas": null,
            "grid_template_columns": null,
            "grid_template_rows": null,
            "height": null,
            "justify_content": null,
            "justify_items": null,
            "left": null,
            "margin": null,
            "max_height": null,
            "max_width": null,
            "min_height": null,
            "min_width": null,
            "object_fit": null,
            "object_position": null,
            "order": null,
            "overflow": null,
            "overflow_x": null,
            "overflow_y": null,
            "padding": null,
            "right": null,
            "top": null,
            "visibility": null,
            "width": null
          }
        },
        "6377eac216b440f9b4132fcbf3558af4": {
          "model_module": "@jupyter-widgets/controls",
          "model_name": "DescriptionStyleModel",
          "model_module_version": "1.5.0",
          "state": {
            "_model_module": "@jupyter-widgets/controls",
            "_model_module_version": "1.5.0",
            "_model_name": "DescriptionStyleModel",
            "_view_count": null,
            "_view_module": "@jupyter-widgets/base",
            "_view_module_version": "1.2.0",
            "_view_name": "StyleView",
            "description_width": ""
          }
        },
        "7abf347eda74416a9f9aef5040fe54c3": {
          "model_module": "@jupyter-widgets/base",
          "model_name": "LayoutModel",
          "model_module_version": "1.2.0",
          "state": {
            "_model_module": "@jupyter-widgets/base",
            "_model_module_version": "1.2.0",
            "_model_name": "LayoutModel",
            "_view_count": null,
            "_view_module": "@jupyter-widgets/base",
            "_view_module_version": "1.2.0",
            "_view_name": "LayoutView",
            "align_content": null,
            "align_items": null,
            "align_self": null,
            "border": null,
            "bottom": null,
            "display": null,
            "flex": null,
            "flex_flow": null,
            "grid_area": null,
            "grid_auto_columns": null,
            "grid_auto_flow": null,
            "grid_auto_rows": null,
            "grid_column": null,
            "grid_gap": null,
            "grid_row": null,
            "grid_template_areas": null,
            "grid_template_columns": null,
            "grid_template_rows": null,
            "height": null,
            "justify_content": null,
            "justify_items": null,
            "left": null,
            "margin": null,
            "max_height": null,
            "max_width": null,
            "min_height": null,
            "min_width": null,
            "object_fit": null,
            "object_position": null,
            "order": null,
            "overflow": null,
            "overflow_x": null,
            "overflow_y": null,
            "padding": null,
            "right": null,
            "top": null,
            "visibility": null,
            "width": null
          }
        },
        "61b3bb8a127a4b44a44dcacb35965afe": {
          "model_module": "@jupyter-widgets/controls",
          "model_name": "ButtonStyleModel",
          "model_module_version": "1.5.0",
          "state": {
            "_model_module": "@jupyter-widgets/controls",
            "_model_module_version": "1.5.0",
            "_model_name": "ButtonStyleModel",
            "_view_count": null,
            "_view_module": "@jupyter-widgets/base",
            "_view_module_version": "1.2.0",
            "_view_name": "StyleView",
            "button_color": null,
            "font_weight": ""
          }
        },
        "1ffd05d71c9e44c5b56f3df161cec6e4": {
          "model_module": "@jupyter-widgets/base",
          "model_name": "LayoutModel",
          "model_module_version": "1.2.0",
          "state": {
            "_model_module": "@jupyter-widgets/base",
            "_model_module_version": "1.2.0",
            "_model_name": "LayoutModel",
            "_view_count": null,
            "_view_module": "@jupyter-widgets/base",
            "_view_module_version": "1.2.0",
            "_view_name": "LayoutView",
            "align_content": null,
            "align_items": null,
            "align_self": null,
            "border": null,
            "bottom": null,
            "display": null,
            "flex": null,
            "flex_flow": null,
            "grid_area": null,
            "grid_auto_columns": null,
            "grid_auto_flow": null,
            "grid_auto_rows": null,
            "grid_column": null,
            "grid_gap": null,
            "grid_row": null,
            "grid_template_areas": null,
            "grid_template_columns": null,
            "grid_template_rows": null,
            "height": null,
            "justify_content": null,
            "justify_items": null,
            "left": null,
            "margin": null,
            "max_height": null,
            "max_width": null,
            "min_height": null,
            "min_width": null,
            "object_fit": null,
            "object_position": null,
            "order": null,
            "overflow": null,
            "overflow_x": null,
            "overflow_y": null,
            "padding": null,
            "right": null,
            "top": null,
            "visibility": null,
            "width": null
          }
        },
        "ead7f25560d84e11b23f8cdec39c614e": {
          "model_module": "@jupyter-widgets/controls",
          "model_name": "VBoxModel",
          "model_module_version": "1.5.0",
          "state": {
            "_dom_classes": [
              "widget-interact"
            ],
            "_model_module": "@jupyter-widgets/controls",
            "_model_module_version": "1.5.0",
            "_model_name": "VBoxModel",
            "_view_count": null,
            "_view_module": "@jupyter-widgets/controls",
            "_view_module_version": "1.5.0",
            "_view_name": "VBoxView",
            "box_style": "",
            "children": [
              "IPY_MODEL_3d50f2a60acb4ede98cbce3d6335169f",
              "IPY_MODEL_aff30dda03d1400e9c7e37f043522443",
              "IPY_MODEL_126a09f694a9401b8def6359b8151c6e",
              "IPY_MODEL_47b6a0a04d2340aca5ef26389253ff05"
            ],
            "layout": "IPY_MODEL_5d5e7a8171964c9c86537de835b39b21"
          }
        },
        "3d50f2a60acb4ede98cbce3d6335169f": {
          "model_module": "@jupyter-widgets/controls",
          "model_name": "RadioButtonsModel",
          "model_module_version": "1.5.0",
          "state": {
            "_dom_classes": [],
            "_model_module": "@jupyter-widgets/controls",
            "_model_module_version": "1.5.0",
            "_model_name": "RadioButtonsModel",
            "_options_labels": [
              "True",
              "False"
            ],
            "_view_count": null,
            "_view_module": "@jupyter-widgets/controls",
            "_view_module_version": "1.5.0",
            "_view_name": "RadioButtonsView",
            "description": "Switch Doors?",
            "description_tooltip": null,
            "disabled": false,
            "index": 1,
            "layout": "IPY_MODEL_f98f835abbba4fb2924a668136a685c3",
            "style": "IPY_MODEL_5f88fcdc49ac4444b2e479e27a932de2"
          }
        },
        "aff30dda03d1400e9c7e37f043522443": {
          "model_module": "@jupyter-widgets/controls",
          "model_name": "SelectionSliderModel",
          "model_module_version": "1.5.0",
          "state": {
            "_dom_classes": [],
            "_model_module": "@jupyter-widgets/controls",
            "_model_module_version": "1.5.0",
            "_model_name": "SelectionSliderModel",
            "_options_labels": [
              "1",
              "10",
              "100",
              "1000"
            ],
            "_view_count": null,
            "_view_module": "@jupyter-widgets/controls",
            "_view_module_version": "1.5.0",
            "_view_name": "SelectionSliderView",
            "continuous_update": false,
            "description": "# iterations",
            "description_tooltip": null,
            "disabled": false,
            "index": 2,
            "layout": "IPY_MODEL_700ed57c51c84760891164663447781d",
            "orientation": "horizontal",
            "readout": true,
            "style": "IPY_MODEL_29569bdfae494234a6fa74f41dfaf1f4"
          }
        },
        "126a09f694a9401b8def6359b8151c6e": {
          "model_module": "@jupyter-widgets/controls",
          "model_name": "ButtonModel",
          "model_module_version": "1.5.0",
          "state": {
            "_dom_classes": [],
            "_model_module": "@jupyter-widgets/controls",
            "_model_module_version": "1.5.0",
            "_model_name": "ButtonModel",
            "_view_count": null,
            "_view_module": "@jupyter-widgets/controls",
            "_view_module_version": "1.5.0",
            "_view_name": "ButtonView",
            "button_style": "",
            "description": "Run Interact",
            "disabled": false,
            "icon": "",
            "layout": "IPY_MODEL_763422ed91d742b584bc97dc98e60371",
            "style": "IPY_MODEL_e5aa1d81b8804f808083f22cfc6e22db",
            "tooltip": ""
          }
        },
        "47b6a0a04d2340aca5ef26389253ff05": {
          "model_module": "@jupyter-widgets/output",
          "model_name": "OutputModel",
          "model_module_version": "1.0.0",
          "state": {
            "_dom_classes": [],
            "_model_module": "@jupyter-widgets/output",
            "_model_module_version": "1.0.0",
            "_model_name": "OutputModel",
            "_view_count": null,
            "_view_module": "@jupyter-widgets/output",
            "_view_module_version": "1.0.0",
            "_view_name": "OutputView",
            "layout": "IPY_MODEL_0fda86666d8945db905fac7e3303c307",
            "msg_id": "",
            "outputs": [
              {
                "output_type": "display_data",
                "data": {
                  "text/plain": "<Figure size 1000x400 with 1 Axes>",
                  "image/png": "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\n"
                },
                "metadata": {}
              }
            ]
          }
        },
        "5d5e7a8171964c9c86537de835b39b21": {
          "model_module": "@jupyter-widgets/base",
          "model_name": "LayoutModel",
          "model_module_version": "1.2.0",
          "state": {
            "_model_module": "@jupyter-widgets/base",
            "_model_module_version": "1.2.0",
            "_model_name": "LayoutModel",
            "_view_count": null,
            "_view_module": "@jupyter-widgets/base",
            "_view_module_version": "1.2.0",
            "_view_name": "LayoutView",
            "align_content": null,
            "align_items": null,
            "align_self": null,
            "border": null,
            "bottom": null,
            "display": null,
            "flex": null,
            "flex_flow": null,
            "grid_area": null,
            "grid_auto_columns": null,
            "grid_auto_flow": null,
            "grid_auto_rows": null,
            "grid_column": null,
            "grid_gap": null,
            "grid_row": null,
            "grid_template_areas": null,
            "grid_template_columns": null,
            "grid_template_rows": null,
            "height": null,
            "justify_content": null,
            "justify_items": null,
            "left": null,
            "margin": null,
            "max_height": null,
            "max_width": null,
            "min_height": null,
            "min_width": null,
            "object_fit": null,
            "object_position": null,
            "order": null,
            "overflow": null,
            "overflow_x": null,
            "overflow_y": null,
            "padding": null,
            "right": null,
            "top": null,
            "visibility": null,
            "width": null
          }
        },
        "f98f835abbba4fb2924a668136a685c3": {
          "model_module": "@jupyter-widgets/base",
          "model_name": "LayoutModel",
          "model_module_version": "1.2.0",
          "state": {
            "_model_module": "@jupyter-widgets/base",
            "_model_module_version": "1.2.0",
            "_model_name": "LayoutModel",
            "_view_count": null,
            "_view_module": "@jupyter-widgets/base",
            "_view_module_version": "1.2.0",
            "_view_name": "LayoutView",
            "align_content": null,
            "align_items": null,
            "align_self": null,
            "border": null,
            "bottom": null,
            "display": null,
            "flex": null,
            "flex_flow": null,
            "grid_area": null,
            "grid_auto_columns": null,
            "grid_auto_flow": null,
            "grid_auto_rows": null,
            "grid_column": null,
            "grid_gap": null,
            "grid_row": null,
            "grid_template_areas": null,
            "grid_template_columns": null,
            "grid_template_rows": null,
            "height": null,
            "justify_content": null,
            "justify_items": null,
            "left": null,
            "margin": null,
            "max_height": null,
            "max_width": null,
            "min_height": null,
            "min_width": null,
            "object_fit": null,
            "object_position": null,
            "order": null,
            "overflow": null,
            "overflow_x": null,
            "overflow_y": null,
            "padding": null,
            "right": null,
            "top": null,
            "visibility": null,
            "width": null
          }
        },
        "5f88fcdc49ac4444b2e479e27a932de2": {
          "model_module": "@jupyter-widgets/controls",
          "model_name": "DescriptionStyleModel",
          "model_module_version": "1.5.0",
          "state": {
            "_model_module": "@jupyter-widgets/controls",
            "_model_module_version": "1.5.0",
            "_model_name": "DescriptionStyleModel",
            "_view_count": null,
            "_view_module": "@jupyter-widgets/base",
            "_view_module_version": "1.2.0",
            "_view_name": "StyleView",
            "description_width": "initial"
          }
        },
        "700ed57c51c84760891164663447781d": {
          "model_module": "@jupyter-widgets/base",
          "model_name": "LayoutModel",
          "model_module_version": "1.2.0",
          "state": {
            "_model_module": "@jupyter-widgets/base",
            "_model_module_version": "1.2.0",
            "_model_name": "LayoutModel",
            "_view_count": null,
            "_view_module": "@jupyter-widgets/base",
            "_view_module_version": "1.2.0",
            "_view_name": "LayoutView",
            "align_content": null,
            "align_items": null,
            "align_self": null,
            "border": null,
            "bottom": null,
            "display": null,
            "flex": null,
            "flex_flow": null,
            "grid_area": null,
            "grid_auto_columns": null,
            "grid_auto_flow": null,
            "grid_auto_rows": null,
            "grid_column": null,
            "grid_gap": null,
            "grid_row": null,
            "grid_template_areas": null,
            "grid_template_columns": null,
            "grid_template_rows": null,
            "height": null,
            "justify_content": null,
            "justify_items": null,
            "left": null,
            "margin": null,
            "max_height": null,
            "max_width": null,
            "min_height": null,
            "min_width": null,
            "object_fit": null,
            "object_position": null,
            "order": null,
            "overflow": null,
            "overflow_x": null,
            "overflow_y": null,
            "padding": null,
            "right": null,
            "top": null,
            "visibility": null,
            "width": null
          }
        },
        "29569bdfae494234a6fa74f41dfaf1f4": {
          "model_module": "@jupyter-widgets/controls",
          "model_name": "DescriptionStyleModel",
          "model_module_version": "1.5.0",
          "state": {
            "_model_module": "@jupyter-widgets/controls",
            "_model_module_version": "1.5.0",
            "_model_name": "DescriptionStyleModel",
            "_view_count": null,
            "_view_module": "@jupyter-widgets/base",
            "_view_module_version": "1.2.0",
            "_view_name": "StyleView",
            "description_width": ""
          }
        },
        "763422ed91d742b584bc97dc98e60371": {
          "model_module": "@jupyter-widgets/base",
          "model_name": "LayoutModel",
          "model_module_version": "1.2.0",
          "state": {
            "_model_module": "@jupyter-widgets/base",
            "_model_module_version": "1.2.0",
            "_model_name": "LayoutModel",
            "_view_count": null,
            "_view_module": "@jupyter-widgets/base",
            "_view_module_version": "1.2.0",
            "_view_name": "LayoutView",
            "align_content": null,
            "align_items": null,
            "align_self": null,
            "border": null,
            "bottom": null,
            "display": null,
            "flex": null,
            "flex_flow": null,
            "grid_area": null,
            "grid_auto_columns": null,
            "grid_auto_flow": null,
            "grid_auto_rows": null,
            "grid_column": null,
            "grid_gap": null,
            "grid_row": null,
            "grid_template_areas": null,
            "grid_template_columns": null,
            "grid_template_rows": null,
            "height": null,
            "justify_content": null,
            "justify_items": null,
            "left": null,
            "margin": null,
            "max_height": null,
            "max_width": null,
            "min_height": null,
            "min_width": null,
            "object_fit": null,
            "object_position": null,
            "order": null,
            "overflow": null,
            "overflow_x": null,
            "overflow_y": null,
            "padding": null,
            "right": null,
            "top": null,
            "visibility": null,
            "width": null
          }
        },
        "e5aa1d81b8804f808083f22cfc6e22db": {
          "model_module": "@jupyter-widgets/controls",
          "model_name": "ButtonStyleModel",
          "model_module_version": "1.5.0",
          "state": {
            "_model_module": "@jupyter-widgets/controls",
            "_model_module_version": "1.5.0",
            "_model_name": "ButtonStyleModel",
            "_view_count": null,
            "_view_module": "@jupyter-widgets/base",
            "_view_module_version": "1.2.0",
            "_view_name": "StyleView",
            "button_color": null,
            "font_weight": ""
          }
        },
        "0fda86666d8945db905fac7e3303c307": {
          "model_module": "@jupyter-widgets/base",
          "model_name": "LayoutModel",
          "model_module_version": "1.2.0",
          "state": {
            "_model_module": "@jupyter-widgets/base",
            "_model_module_version": "1.2.0",
            "_model_name": "LayoutModel",
            "_view_count": null,
            "_view_module": "@jupyter-widgets/base",
            "_view_module_version": "1.2.0",
            "_view_name": "LayoutView",
            "align_content": null,
            "align_items": null,
            "align_self": null,
            "border": null,
            "bottom": null,
            "display": null,
            "flex": null,
            "flex_flow": null,
            "grid_area": null,
            "grid_auto_columns": null,
            "grid_auto_flow": null,
            "grid_auto_rows": null,
            "grid_column": null,
            "grid_gap": null,
            "grid_row": null,
            "grid_template_areas": null,
            "grid_template_columns": null,
            "grid_template_rows": null,
            "height": null,
            "justify_content": null,
            "justify_items": null,
            "left": null,
            "margin": null,
            "max_height": null,
            "max_width": null,
            "min_height": null,
            "min_width": null,
            "object_fit": null,
            "object_position": null,
            "order": null,
            "overflow": null,
            "overflow_x": null,
            "overflow_y": null,
            "padding": null,
            "right": null,
            "top": null,
            "visibility": null,
            "width": null
          }
        },
        "b19889125aca4d1793ee874dc5431f5d": {
          "model_module": "@jupyter-widgets/controls",
          "model_name": "VBoxModel",
          "model_module_version": "1.5.0",
          "state": {
            "_dom_classes": [
              "widget-interact"
            ],
            "_model_module": "@jupyter-widgets/controls",
            "_model_module_version": "1.5.0",
            "_model_name": "VBoxModel",
            "_view_count": null,
            "_view_module": "@jupyter-widgets/controls",
            "_view_module_version": "1.5.0",
            "_view_name": "VBoxView",
            "box_style": "",
            "children": [
              "IPY_MODEL_bc73785a74474bf18c13e5612bf8428e",
              "IPY_MODEL_5570ce0bae4f403bb19206051d6da498",
              "IPY_MODEL_e66e537e1f38474f8713e6259ca67934",
              "IPY_MODEL_bb40631d23584fd1949372ee813d6ed5"
            ],
            "layout": "IPY_MODEL_e38e9239b7594f2297a1b19c341dc3a2"
          }
        },
        "bc73785a74474bf18c13e5612bf8428e": {
          "model_module": "@jupyter-widgets/controls",
          "model_name": "RadioButtonsModel",
          "model_module_version": "1.5.0",
          "state": {
            "_dom_classes": [],
            "_model_module": "@jupyter-widgets/controls",
            "_model_module_version": "1.5.0",
            "_model_name": "RadioButtonsModel",
            "_options_labels": [
              "True",
              "False"
            ],
            "_view_count": null,
            "_view_module": "@jupyter-widgets/controls",
            "_view_module_version": "1.5.0",
            "_view_name": "RadioButtonsView",
            "description": "Switch Doors?",
            "description_tooltip": null,
            "disabled": false,
            "index": 1,
            "layout": "IPY_MODEL_ded7eb2020134e15b885fa984898af98",
            "style": "IPY_MODEL_5a979fbce3904497b6dee5741a058571"
          }
        },
        "5570ce0bae4f403bb19206051d6da498": {
          "model_module": "@jupyter-widgets/controls",
          "model_name": "SelectionSliderModel",
          "model_module_version": "1.5.0",
          "state": {
            "_dom_classes": [],
            "_model_module": "@jupyter-widgets/controls",
            "_model_module_version": "1.5.0",
            "_model_name": "SelectionSliderModel",
            "_options_labels": [
              "1",
              "10",
              "100",
              "1000"
            ],
            "_view_count": null,
            "_view_module": "@jupyter-widgets/controls",
            "_view_module_version": "1.5.0",
            "_view_name": "SelectionSliderView",
            "continuous_update": false,
            "description": "# iterations",
            "description_tooltip": null,
            "disabled": false,
            "index": 3,
            "layout": "IPY_MODEL_6bea4439834c4c868766c570423bda2a",
            "orientation": "horizontal",
            "readout": true,
            "style": "IPY_MODEL_2bc7abfa1b3441f8b9e449241ac8ae8c"
          }
        },
        "e66e537e1f38474f8713e6259ca67934": {
          "model_module": "@jupyter-widgets/controls",
          "model_name": "ButtonModel",
          "model_module_version": "1.5.0",
          "state": {
            "_dom_classes": [],
            "_model_module": "@jupyter-widgets/controls",
            "_model_module_version": "1.5.0",
            "_model_name": "ButtonModel",
            "_view_count": null,
            "_view_module": "@jupyter-widgets/controls",
            "_view_module_version": "1.5.0",
            "_view_name": "ButtonView",
            "button_style": "",
            "description": "Run Interact",
            "disabled": false,
            "icon": "",
            "layout": "IPY_MODEL_4e8f91fec7ca4d6581fd9998d1764762",
            "style": "IPY_MODEL_8163743a93134899a28fb7a645cebbe2",
            "tooltip": ""
          }
        },
        "bb40631d23584fd1949372ee813d6ed5": {
          "model_module": "@jupyter-widgets/output",
          "model_name": "OutputModel",
          "model_module_version": "1.0.0",
          "state": {
            "_dom_classes": [],
            "_model_module": "@jupyter-widgets/output",
            "_model_module_version": "1.0.0",
            "_model_name": "OutputModel",
            "_view_count": null,
            "_view_module": "@jupyter-widgets/output",
            "_view_module_version": "1.0.0",
            "_view_name": "OutputView",
            "layout": "IPY_MODEL_6ad1b5febad045e687670bc5cfd96937",
            "msg_id": "",
            "outputs": [
              {
                "output_type": "display_data",
                "data": {
                  "text/plain": "<Figure size 1000x400 with 1 Axes>",
                  "image/png": "iVBORw0KGgoAAAANSUhEUgAAAdEAAAFeCAYAAADaJSWWAAAAOnRFWHRTb2Z0d2FyZQBNYXRwbG90bGliIHZlcnNpb24zLjEwLjAsIGh0dHBzOi8vbWF0cGxvdGxpYi5vcmcvlHJYcgAAAAlwSFlzAAAPYQAAD2EBqD+naQAASf9JREFUeJzt3Xd8U+X+B/BP0rRN9y5taWkLZVf2LC2lCBRBUFGGA0FQuYJ61QsqcvEyxIWgXH8McQC3ThBFlD1aKXvvXVrKbEtJdzqSPL8/YiOhgza0PRmf9+vVF+Tk5OSb5OR88pzznOfIhBACREREVGtyqQsgIiKyVAxRIiIiEzFEiYiITMQQJSIiMhFDlIiIyEQMUSIiIhMxRImIiEzEECUiIjIRQ5SIiMhEDRqiSUlJkMlkSEpKasinlUxYWBjGjh1rNO3ChQsYMGAAPDw8IJPJsGbNGklqo/olk8kwY8aMOlteWFgYHn744TpbHgCkpaVBJpNh+fLldbrchvLxxx+jVatW0Ol0UpfSYCrbpjSUGTNmQCaT1ekyzSUTNm7cCFdXV2RlZdX6sTUO0ZUrV0Imk+HXX3+tcF/79u0hk8mQmJhY4b4mTZogKiqq1oU1pPfff7/BwmzMmDE4ceIE5syZg4SEBHTp0qVBnpektXv3bsyYMQM5OTlSl2IV8vLy8NFHH+Gtt96CXP73Zuynn37CM888g+bNm0Mmk6FPnz5VLqOkpARvvfUWgoKC4OTkhO7du2PLli2Vzrt7925ER0fD2dkZAQEBePXVV1FQUHBfy7QlixYtMusfawMHDkRERAQ++OCD2j9Y1NC1a9cEAPHGG28YTc/NzRVyuVwoFAoxe/Zso/vS09MFADFlyhQhhBBarVao1Wqh1Wpr+rQNwsXFRYwZM6bOl1tcXCxKS0sNt4uKigQAMW3atDp/LjIvarValJWVGW7PnTtXABCpqakmLS80NFQMHjy4jqrTS01NFQDEsmXL6nS5DeHTTz8V7u7uQq1WG02PjY0Vrq6uIi4uTnh5eYnY2NgqlzFq1CihUCjE5MmTxRdffCF69uwpFAqFSE5ONprvyJEjQqlUio4dO4rFixeLadOmCUdHRzFw4ECTl2mqu7cpDek///mPqEVkGGnbtm2ln4U5ZcKiRYuEs7OzyMvLq9XjFDUN26CgIISHh2Pnzp1G0/fs2QMhBIYPH17hvvLb0dHRAAC5XA6lUln7pK8FnU6H0tLSen+emnB0dDS6Xb6rwNPTU4JqbFNhYSFcXFwa/HnNYf0zV3XxmSxbtgxDhw6t8D4nJCSgcePGkMvliIyMrPLx+/fvx48//oi5c+di8uTJAIBnn30WkZGRePPNN7F7927DvO+88w68vLyQlJQEd3d3APrdqi+88AI2b96MAQMG1HqZprp7m2LpGiITaurxxx/HK6+8glWrVmHcuHE1f2BtEnf06NHC3t5eFBUVGaZNnz5dREZGiv/973/Cw8PD6BfFpEmThEwmE7du3RJCCJGYmCgAiMTERMM8sbGxom3btuLUqVOiT58+wsnJSQQFBYmPPvqoRjUBEJMmTRLffvutaNOmjVAoFOLXX38VQuh//ffs2VN4e3sLpVIpOnXqJFatWlXh8Xf/3dkqvXr1qnjuueeEv7+/cHBwEG3atBFff/11jWoLDQ01LKv8V9ydf6GhoZU+Lj8/Xzg7O4tXX321wn1XrlwRcrlcvP/++4ZpKSkp4oknnhBeXl7CyclJdO/eXfzxxx9Gj1u2bFmlLaHKPpPKlNd/4cIFMWbMGOHh4SHc3d3F2LFjRWFhYYX5ExISRKdOnYRSqRReXl5i5MiRIj093XD/pEmThIuLS6WPHTVqlGjUqJHQaDSGaevXrxfR0dHC2dlZuLq6ikGDBomTJ08aPW7MmDHCxcVFXLx4UTz00EPC1dVVPPLII1W+pry8PPHPf/5ThIaGCgcHB+Hn5yf69esnDh06JIQQYsGCBUIulwuVSmV4zCeffCIAiNdff90wTaPRCFdXV/Hmm28apgEQ//nPf4zeu7v/7vwsEhISRNeuXYWTk5Pw9PQUMTExYtOmTYb7y1uiycnJomvXrsLR0VGEh4eLFStWVPn67qRSqcSYMWOEu7u78PDwEM8++6w4cuRIpS3Rbdu2Gd5rDw8PMXToUHH69OkKyzx8+LAYOHCgcHNzEy4uLqJv375iz549RvOUr3dJSUnipZdeEn5+fsLT07NG739VLl26JACI5cuXVztfVa0fIYSYMmWKsLOzE7m5uUbT33//fQHAsK7m5uYKhUJh2JtWrqSkRLi6uorx48fXeplVOX/+vBg2bJho1KiRcHR0FI0bNxYjR44UOTk5hnnu3KYI8ff7m5ycLF555RXh6+srPDw8xIsvvihKSkqESqUSo0ePFp6ensLT01NMmTJF6HQ6w+Or+v5XtpeispboN998I+Li4oSfn59wcHAQrVu3FosWLTKaJzQ0tMK6X/65VPX8K1euNGw/fHx8xNNPPy2uXr1qNE/59/3q1avikUceES4uLsLX11f861//Mtp2CCHEDz/8IDp16iRcXV2Fm5ubiIyMFJ999lmFz6Bjx45i6NChFaZXp1Ydi6Kjo1FWVoZ9+/YZpu3atQtRUVGIiopCbm4uTp48aXRfq1at4OPjU+1yVSoVBg4ciPbt22PevHlo1aoV3nrrLWzYsKFGdW3fvh2vv/46Ro4ciQULFiAsLAwAsGDBAnTs2BGzZs3C+++/D4VCgeHDh2PdunWGxyYkJMDR0RExMTFISEhAQkICJkyYAADIyMhAjx49sHXrVrz88stYsGABIiIiMH78eHz22Wc1fNf0hg0bhk8//RQA8OSTTyIhIaHKZbi6uuKxxx7DTz/9BK1Wa3TfDz/8ACEEnn76aUONUVFR2LRpEyZOnIg5c+aguLgYQ4cOrfT49f0aMWIE8vPz8cEHH2DEiBFYvnw5Zs6caTTPnDlz8Oyzz6J58+aYP38+XnvtNWzbtg29e/c2HBMcOXIkCgsLjT4LACgqKsLvv/+OJ554AnZ2dgD0n9HgwYPh6uqKjz76CNOnT8fp06cRHR2NtLQ0o8drNBrEx8fD398fn3zyCR5//PEqX8s//vEPLF68GI8//jgWLVqEyZMnw8nJCWfOnAEAxMTEQKfTGe1hSU5OhlwuR3JysmHakSNHUFBQgN69e1f6PMOGDcOTTz4JAPj0008N65mfnx8AYObMmRg9ejTs7e0xa9YszJw5EyEhIdi+fbvRci5evIgnnngC/fv3x7x58+Dl5YWxY8fi1KlTVb5GABBC4JFHHkFCQgKeeeYZvPfee7h69SrGjBlTYd6tW7ciPj4emZmZmDFjBt544w3s3r0bvXr1MnqvT506hZiYGBw7dgxvvvkmpk+fjtTUVPTp08do+1Bu4sSJOH36NN599128/fbbNXr/q1LeouvUqVO181XnyJEjaNGihaFlWa5bt24AgKNHjwIATpw4AY1GU6HvgoODAzp06IAjR47UepmVKS0tRXx8PPbu3YtXXnkFCxcuxIsvvohLly7V6Dj6K6+8ggsXLmDmzJkYOnQoli5diunTp2PIkCHQarV4//33ER0djblz5yIhIeGey6upxYsXIzQ0FO+88w7mzZuHkJAQTJw4EQsXLjTM89lnnyE4OBitWrUyrPvTpk2rcpnLly/HiBEjYGdnhw8++AAvvPACfvnlF0RHR1d4L7RaLeLj4+Hj44NPPvkEsbGxmDdvHpYuXWqYZ8uWLXjyySfh5eWFjz76CB9++CH69OmDXbt2VXjuzp07136PQW0S99SpUwKA4dhnWVmZcHFxMfwabtSokVi4cKEQQv8r087OTrzwwguGx1fVEgUg/ve//xmmlZSUiICAAPH444/fsyYAQi6Xi1OnTlW4784WsxBClJaWisjISNG3b1+j6VUdEx0/frwIDAw0tKTLjRo1Snh4eFRY/t3u/tVY/utu7ty593hVQmzatEkAEBs2bDCa3q5dO6Nf16+99prhl2i5/Px8ER4eLsLCwgx7BuqqJTpu3Dij6Y899pjw8fEx3E5LSxN2dnZizpw5RvOdOHFCKBQKw3SdTicaN25c4TNeuXKlACB27NhheC2enp5G65EQQty8eVN4eHgYTR8zZowAIN5+++1qX0s5Dw8PMWnSpCrv12q1wt3d3dDC1Ol0wsfHRwwfPlzY2dmJ/Px8IYQQ8+fPr9BixR0tUSGqPiZ64cIFIZfLxWOPPVbhuNCdLYbyX/Pl74sQQmRmZgpHR0fxr3/9q9rXuWbNGgFAfPzxx4ZpGo1GxMTEVGhtdOjQQfj7+4vs7GzDtGPHjgm5XC6effZZw7RHH31UODg4iJSUFMO069evCzc3N9G7d2/DtPL1Ljo6ukLr4F7vf1X+/e9/CwCG978q1bVE27ZtW2E7IMTf27glS5YIIYRYtWpVhfe93PDhw0VAQECtl1mZ8r0Cd+8pu1tVLdH4+Hij9aVnz55CJpOJf/zjH4ZpGo1GBAcHG70n99sSrWwbGB8fL5o2bWo0rarP4u7nLy0tFf7+/iIyMtLoePcff/whAIh3333XMK38+z5r1iyjZXbs2FF07tzZcPuf//yncHd3r7D+VaZ8r0FGRsY95y1Xq5Zo69at4ePjY/hlfuzYMRQWFhp630ZFRRnSfc+ePdBqtYbjodVxdXXFM888Y7jt4OCAbt264dKlSzWqKzY2Fm3atKkw3cnJyfB/lUqF3NxcxMTE4PDhw/dcphACq1evxpAhQyCEwK1btwx/8fHxyM3NrdFyTNWvXz8EBQXhu+++M0w7efIkjh8/bvRerV+/Ht26dTN6n11dXfHiiy8iLS0Np0+frtO6/vGPfxjdjomJQXZ2NvLy8gAAv/zyC3Q6HUaMGGH0ngUEBKB58+aGHtwymQzDhw/H+vXrjXo5/vTTT2jcuLHh9WzZsgU5OTl48sknjZZnZ2eH7t27V9oj/KWXXqrRa/H09MS+fftw/fr1Su+Xy+WIiorCjh07AABnzpxBdnY23n77bQghsGfPHgD61mlkZKRJx7rXrFkDnU6Hd99916iXKYAKpxO0adMGMTExhtt+fn5o2bLlPb8n69evh0KhMHpf7Ozs8MorrxjNd+PGDRw9ehRjx46Ft7e3YXq7du3Qv39/rF+/HoD+1//mzZvx6KOPomnTpob5AgMD8dRTT2Hnzp2G9aHcCy+8YNizUO5e739VsrOzoVAo4OrqWqvH3UmtVld6fLH8+JxarTb6t6p5y++vzTIr4+HhAQDYtGkTioqKavoyDMaPH2+0vnTv3h1CCIwfP94wzc7ODl26dKnxdrUm7tzG5ubm4tatW4iNjcWlS5eQm5tb6+UdPHgQmZmZmDhxotGx0sGDB6NVq1YV9lwBlW+T7nyNnp6eKCwsrFEvaS8vLwDArVu3alxzrUJUJpMhKioKe/fuhU6nw65du+Dv74+IiAgAxiFa/m9NQjQ4OLjCBsPLywsqlapGdYWHh1c6/Y8//kCPHj2gVCrh7e0NPz8/LF68uEYfblZWFnJycrB06VL4+fkZ/T333HMAgMzMzBrVZwq5XI6nn34aa9asMXypvvvuOyiVSgwfPtww3+XLl9GyZcsKj2/durXh/rrUpEkTo9vlK135Z3XhwgUIIdC8efMK79uZM2eM3rORI0dCrVZj7dq1AICCggKsX78ew4cPN6wPFy5cAAD07du3wvI2b95c4TNQKBQIDg6u0Wv5+OOPcfLkSYSEhKBbt26YMWNGhQ1MTEwMDh06BLVajeTkZAQGBqJTp05o3769YZfuzp07jcKtNlJSUiCXyyv9EXi3u997oGbfk8uXLyMwMLBC6Ny93pSvK1WtT7du3UJhYSGysrJQVFRU5Xw6nQ5Xrlwxml7Zd7Qm7399cXJyQklJSYXpxcXFhvvv/Leqee8MkZouszLh4eF444038NVXX8HX1xfx8fFYuHBhjYPo7nWjPJRDQkIqTK/pdrUmdu3ahX79+sHFxQWenp7w8/PDO++8AwAmhWh162CrVq0qbM+USqXhsEi5u78TEydORIsWLfDQQw8hODgY48aNw8aNGyt9fiEEgIo/YKtT68EWoqOjkZubixMnThiOh5aLiorC5cuXce3aNezcuRNBQUFGv1Srcvcv1HLlL+heKls5k5OTDb33Fi1ahPXr12PLli146qmnarTc8hO4n3nmGWzZsqXSv169etWoPlM9++yzKCgowJo1ayCEwPfff4+HH37Y8AWpjapWiruPud7LvT4rnU4HmUyGjRs3VvqeffHFF4bH9OjRA2FhYVi5ciUA4Pfff4darcbIkSMN85R/DgkJCZUu77fffjOqw9HRsUKLriojRozApUuX8PnnnyMoKAhz585F27ZtjY7Fl/cD2LNnD5KTkw1hGRMTg+TkZJw9exZZWVkmh2ht3O/3REqVfUdr8v5XxsfHBxqNBvn5+SbXExgYiBs3blSYXj4tKCjIMN+d0++et3y+2iyzKvPmzcPx48fxzjvvQK1W49VXX0Xbtm1x9erVe76eqtaNyqbfub7cz3YhJSUFDz74IG7duoX58+dj3bp12LJlC15//XUAaJBBMKp63Xfy9/fH0aNHsXbtWgwdOhSJiYl46KGHKu0TUB6+vr6+Na6hxqe4lCtvWe7cuRO7du3Ca6+9Zrivc+fOcHR0RFJSEvbt24dBgwbVdvF1ZvXq1VAqldi0aZPRLpZly5ZVmLeyFcnPzw9ubm7QarXo169fvdZalcjISHTs2BHfffcdgoODkZ6ejs8//9xontDQUJw7d67CY8+ePWu4H/i7xXj3gfm6bqk2a9YMQgiEh4ejRYsW95x/xIgRWLBgAfLy8vDTTz8hLCwMPXr0MFoeoP8i1MfnEBgYiIkTJ2LixInIzMxEp06dMGfOHDz00EMA9J1CHBwckJycjOTkZEyZMgUA0Lt3b3z55ZfYtm2b4XZ1qtpYNWvWDDqdDqdPn0aHDh3q7oXdITQ0FNu2bUNBQYFRa/Tu9aZ8XalqffL19YWLiwuUSiWcnZ2rnE8ul1doAVXlXu9/ZVq1agUASE1NRbt27Wr0PHfr0KEDEhMTkZeXZ9QRqLxTVPlnERkZCYVCgYMHD2LEiBGG+UpLS3H06FGjaTVdZnUeeOABPPDAA/j3v/9t6NC1ZMkSvPfeeya9znu5n+3C77//jpKSEqxdu9aoJVzZIZaatuzuXAf79u1rdN+5c+cM99eWg4MDhgwZgiFDhkCn02HixIn44osvMH36dMOeVEC/Tvn6+lZo3Van1i3RLl26QKlU4rvvvsO1a9eMWqKOjo7o1KkTFi5ciMLCwhrtyq0vdnZ2kMlkRr+o0tLSKh2ZyMXFpcJKZGdnh8cffxyrV6826nFczpThoUwxevRobN68GZ999hl8fHwqbFwGDRqE/fv3G47PAfrz8JYuXYqwsDDDbsLyMCo/vgfof23e2YutLgwbNgx2dnaYOXNmhRaSEALZ2dlG00aOHImSkhKsWLECGzduNNooAUB8fDzc3d3x/vvvo6ysrMLzmfo5aLXaCrub/P39ERQUZLRLTqlUomvXrvjhhx+Qnp5u1BJVq9X473//i2bNmhlaLFUpPy/y7vXs0UcfhVwux6xZsyr8cq+rFuagQYOg0WiwePFiwzStVlvhB1lgYCA6dOiAFStWGNV58uRJbN682fCj2M7ODgMGDMBvv/1m1GM3IyMD33//PaKjoyv0UL1bTd//yvTs2ROA/viZqZ544okK639JSQmWLVuG7t27G34EeHh4oF+/fvj222+NWr4JCQkoKCgwOrRS02VWJi8vDxqNxmjaAw88ALlcfs/3436EhobCzs7OaLsA6EcYupfyVuCd62lubm6lDZXKtrGV6dKlC/z9/bFkyRKj171hwwacOXMGgwcPvucy7nb3Nkculxt+fN393h46dMiwftVUrVuiDg4O6Nq1K5KTk+Ho6IjOnTsb3R8VFYV58+YBqNnx0PoyePBgzJ8/HwMHDsRTTz2FzMxMLFy4EBERETh+/LjRvJ07d8bWrVsxf/58w6AS3bt3x4cffojExER0794dL7zwAtq0aYPbt2/j8OHD2Lp1K27fvl3vr+Opp57Cm2++iV9//RUvvfQS7O3tje5/++238cMPP+Chhx7Cq6++Cm9vb6xYsQKpqalYvXq1Yddm27Zt0aNHD0ydOhW3b9+Gt7c3fvzxxwpf3PvVrFkzvPfee5g6dSrS0tLw6KOPws3NDampqfj111/x4osvGk5EB/SnKURERGDatGkoKSkx2pULAO7u7li8eDFGjx6NTp06YdSoUfDz80N6ejrWrVuHXr164f/+7/9qXWd+fj6Cg4PxxBNPoH379nB1dcXWrVtx4MABw/pbLiYmBh9++CE8PDzwwAMPANBv8Fu2bIlz587VaCzT8u/JtGnTMGrUKNjb22PIkCGG1z579mzExMRg2LBhcHR0xIEDBxAUFGTaMGR3GTJkCHr16oW3334baWlpaNOmDX755ZdKj1nNnTsXDz30EHr27Inx48dDrVbj888/h4eHh9FYwO+99x62bNmC6OhoTJw4EQqFAl988QVKSkrw8ccf37Om2rz/d2vatCkiIyOxdevWCifF79ixwxAIWVlZKCwsNLTievfubdhj0L17dwwfPhxTp05FZmYmIiIisGLFCqSlpeHrr782WuacOXMQFRWF2NhYvPjii7h69SrmzZuHAQMGYODAgYb5arPMu23fvh0vv/wyhg8fjhYtWkCj0SAhIcHwY76+eHh4YPjw4fj8888hk8nQrFkz/PHHHzXq7zFgwABDC2/ChAkoKCjAl19+CX9//wq7tTt37ozFixfjvffeQ0REBPz9/Su0NAHA3t4eH330EZ577jnExsbiySefREZGhuHUxfJdxbXx/PPP4/bt2+jbty+Cg4Nx+fJlfP755+jQoYOh7wig7+Ny/PhxTJo0qXZPUON+vHeYOnWqACCioqIq3PfLL78IAMLNza1Cl+LqBlu425gxY6ocjOBO+Guwhcp8/fXXonnz5sLR0VG0atVKLFu2rNJu2mfPnhW9e/cWTk5OFQZbyMjIEJMmTRIhISHC3t5eBAQEiAcffFAsXbr0nrXdzykudxo0aJAAIHbv3l3p/eWDLXh6egqlUim6detWYbCF8vn69esnHB0dRaNGjcQ777wjtmzZUqtTXLKysoymV3XqzOrVq0V0dLRwcXERLi4uolWrVmLSpEni3LlzFZY9bdo0AUBERERU+fyJiYkiPj5eeHh4CKVSKZo1aybGjh0rDh48aJin/OTrmigpKRFTpkwR7du3NwwW0L59+wonigshxLp16wQA8dBDDxlNf/755wWASgffwF2nuAghxOzZs0Xjxo2FXC6v8J598803omPHjsLR0dEwXN2WLVsM91c17F9sbGy1Q9uVy87OFqNHjzYMtjB69OgqB1vYunWr6NWrl3BychLu7u5iyJAhVQ62EB8fL1xdXYWzs7OIi4ursI6Wrx8HDhwwml6b978y8+fPF66urhVOsahqYIvKPg+1Wi0mT54sAgIChKOjo+jatavYuHFjpc+XnJwsoqKihFKpFH5+fmLSpEmVDg9Xm2Xe6dKlS2LcuHGiWbNmQqlUCm9vbxEXFye2bt1qNF9Vp7jc/f5W9X2t7DuSlZUlHn/8ceHs7Cy8vLzEhAkTxMmTJ2t0isvatWtFu3bthFKpFGFhYeKjjz4S33zzTYX1++bNm2Lw4MHCzc2tRoMt/PTTT4bvg7e3d7WDLdzt7jp//vlnMWDAAMOAOU2aNBETJkwQN27cMHrc4sWLTRr2TyaEBfRKsHGPPfYYTpw4gYsXL0pdCpFZyM3NRdOmTfHxxx8bncZBZKqOHTuiT58+hkFxaorXEzVzN27cwLp16zB69GipSyEyGx4eHnjzzTcxd+5cm7oUGtWPjRs34sKFC5g6dWqtH8uWqJlKTU3Frl278NVXX+HAgQNISUlBQECA1GUREdEd2BI1U3/++SdGjx6N1NRUrFixggFKRGSG2BIlIiIyEVuiREREJmKIEhERmYghSkREZCKGKBERkYkYokRERCZiiBIREZmIIUpERGQihigREZGJGKJEREQmYogSERGZiCFKRERkIoYoERGRiRiiREREJmKIEhERmYghSkREZCKGKBERkYkYokRERCZiiBIREZmIIUpERGQihigREZGJGKJEREQmYogSERGZiCFKRERkIoYoERGRiRiiREREJmKIEhERmYghSkREZCKGKBERkYkYokRERCZiiBIREZmIIUpERGQihigREZGJGKJEREQmUkhdABEBZboylAoNdNBBJwR00EFAQCcExF/T5DI5FDI7KGQK2Mvs4CCzh1zG38FEUmKIEtWjIm0xcrT5yNHkIVdbALWuGGpdCdTaEsP/i0UJNEJr0vLtZQo4yOyhlDvARe4ENzsXuNq5wM3OGW53/Osod6jjV0ZEACATQgipiyCyZEIIqDR5yCjLxm1N7l+hqQ/OElEmdXkAAEeZPXwUnvC194KvvSf8FF7wtfey2XBNSkpCXFwcVCoVPD09pS6HLBhDlKiW8rWFuFl6CzfLbuFmaTYyy7LNJixry83OBb4KTzSy90GwYyME2vvBXm45O6iWLFmCKVOmQKVSQaHQ111QUAAvLy/06tULSUlJhnnLg/PixYsICQnB7du30ahRI8hkMomqJ2tgOd8WIonkaQqQVnId6SU3cK00E4U6tdQl1Zl8bSHytYVILbkGFAByyA2BGuzQCI0d/OEgt5e6zCrFxcWhoKAABw8eRI8ePQAAycnJCAgIwL59+1BcXAylUgkASExMRJMmTdCsWTMAQEBAgGR116WysjLY25vvZ2Tt2CuB6C5lujJcKr6K7bn7sSxzDb7K/AVbc/fifPFlqwrQyuigw42yLBwoOIlfb2/Dwps/4rusddiddxSZZdlSl1dBy5YtERgYWKHF+cgjjyA8PBx79+41mh4XF2f4v0wmQ05ODgBg+fLl8PT0xKZNm9C6dWu4urpi4MCBuHHjRpXPrdVqMX78eISHh8PJyQktW7bEggUL7lnzqVOn8PDDD8Pd3R1ubm6IiYlBSkoKAODAgQPo378/fH194eHhgdjYWBw+fNjo8TKZDIsXL8bQoUPh4uKCOXPm1PTtonrAECUCoNYW41jhOay6tRmLbv6ENbe342jhWag0eVKXJikBgYyybOwtOI5vs9bhq4zVSMzdj/SSm9AJndTlAdC3RhMTEw23ExMT0adPH8TGxhqmq9Vq7Nu3zxCilSkqKsInn3yChIQE7NixA+np6Zg8eXKV8+t0OgQHB2PVqlU4ffo03n33XbzzzjtYuXJllY+5du0aevfuDUdHR2zfvh2HDh3CuHHjoNFoAAD5+fkYM2YMdu7cib1796J58+YYNGgQ8vPzjZYzY8YMPPbYYzhx4gTGjRtXo/eJ6gd355LNKtGV4mJxOs6qU3Gl5CZ0YPeAe8nTFuJI4VkcKTwLpcwB4cpgtHQKQ5hjkGSn28TFxeG1116DRqOBWq3GkSNHEBsbi7KyMixZsgQAsGfPHpSUlFQbouXzl+/uffnllzFr1qwq57e3t8fMmTMNt8PDw7Fnzx6sXLkSI0aMqPQxCxcuhIeHB3788UfDLtgWLVoY7u/bt6/R/EuXLoWnpyf+/PNPPPzww4bpTz31FJ577rkqa6OGwxAlm6IRWqQUp+OsOg1pxdeghXm0pixRsSjFGfUlnFFfgovcCa2dmyLSOQLeCo8GraNPnz4oLCzEgQMHoFKp0KJFC/j5+SE2NhbPPfcciouLkZSUhKZNm6JJkyZVLsfZ2dkQoAAQGBiIzMzMap974cKF+Oabb5Ceng61Wo3S0lJ06NChyvmPHj2KmJiYKo9hZmRk4N///jeSkpKQmZkJrVaLoqIipKenG83XpUuXauuihsMQJZuQo8nHscJzOFV0EcWiVOpyrE6hTo2DBadwsOAUguz90NY5Ai2dwhqkU1JERASCg4ORmJgIlUqF2NhYAEBQUBBCQkKwe/duJCYmVmjl3e3uYJPJZKju5IUff/wRkydPxrx589CzZ0+4ublh7ty52LdvX5WPcXJyqraGMWPGIDs7GwsWLEBoaCgcHR3Rs2dPlJYar7MuLi7VLocaDkOUrJYQAqkl13C08BzSSq5JXY7NuF6Wheu5WUjKO4CWTmHo7NIGPvae9fqccXFxSEpKgkqlwpQpUwzTe/fujQ0bNmD//v146aWX6vQ5d+3ahaioKEycONEwrbyDUFXatWuHFStWVNmjdteuXVi0aBEGDRoEALhy5Qpu3bpVp3VT3WLHIrI6al0JDuSfxDeZv2LN7e0MUImUCQ1OFl3Eiqy1+DV7G66U3Ky354qLi8POnTtx9OhRQ0sUAGJjY/HFF1+gtLS02uOhpmjevDkOHjyITZs24fz585g+fToOHDhQ7WNefvll5OXlYdSoUTh48CAuXLiAhIQEnDt3zrDMhIQEnDlzBvv27cPTTz99z9YrSYshSlajUKvGn7kH8VXGaiTnH0autkDqkugvqSXXsCp7M77LWofz6rQ679kbFxcHtVqNiIgINGrUyDA9NjYW+fn5hlNh6tKECRMwbNgwjBw5Et27d0d2drZRq7QyPj4+2L59OwoKChAbG4vOnTvjyy+/NLRKv/76a6hUKnTq1AmjR4/Gq6++Cn9//zqtm+oWRywiy1dYiDN557BZnIEWpo1BSw3Lw84VXVzbItK5Oew4iD5ZMIYoWa6iIuDEUeDcORT7eWJR+/x7PoTMi4edK6LcOqCVUziH3yOLxBAly1NaChw/Apw5DWj/bnlui/LDMddcCQsjU/nbeyParSPClI2lLoWoVhiiZDmEAC6cAw4fBIqLK9ytbuSLxe1te4QhSxfiEIAY904IcPCVuhSiGmGIkmXIuAns3wNkVz9+6+YoX5x0ZZBauhbKUMR6dIGbHc+HJPPGECXzVlgIHNwHpF6q0exFgb5Y8gBD1BrYyxTo4dYOnV3aSDakING9METJPOl0wMnjwPGjwF+Dc9fUhl4+OOPCTkbWwkfhif6ePRDkwFM9yPwwRMn8qG4DO/+8567bqhQG+eGLSHYwsjbtnVsg2r0THOUOUpdCZMAQJfNR3vo8elj///uwIdoXZ5y5W9fauMqd0d+zJ8LZi5fMBEOUzEOOCti5A7iVVSeLKwjyw1K2Rq1WB5dW6O3eGQqZndSlkI1jiJK0hABOnQCOHDI657Mu/BHtjfPOHPrPWvkoPDHYKwa+9l5Sl0I2jCFK0lEXAX8mAjdv1MviC4L9sbRNTr0sm8yDHewQ494JnVxbS10K2SiGKEkj4yaQtF0fpPVEAPg92hsX2Rq1emGOjRHvGQUXO17xhBoWQ5Qa3qkTwMH9+l259Sw/xB9fts6p9+ch6bnInTDEuw+CHPykLoVsCEOUGk5ZKbAzGbic2mBPKQCsjfFGihNbo7bADnL08+yBts4RUpdCNoLDgFDDUKmA339r0AAFABmAuDT7Bn1Oko4WOmzK2Y3E3AN1fs1SosowRKn+Xb0CrFsL5Elzyonb1UyEF3MMVltypPAMfsneCrWuROpSyMoxRKl+XTgHbNsMaMokK0EmBOLSOMqNrUkvvYnvs9bjVlmO1KWQFWOIUv05cgjYldwgHYjuxeNKJpoUO0tdBjWwXG0+frq1AVdLMqQuhawUQ5Tqnk4H7NoBHDsidSUGMiHQ77JS6jJIAiWiDL/c3opLxVelLoWsEEOU6lZZmX737YXzUldSgUd6BoLZGrVJGqHF2tuJOF1Us0vqEdUUQ5TqTkkxsHEdcM08f/HLhED/K2yN2iodBDbm7MThgjNSl0JWhCFKdaOkBNi0Aci+JXUl1fJMy0BQCUe1sWVJeQewK++o1GWQlWCI0v0rKQE2rwdum3b9z4YkEwL90xmitm5fwXH8mXtQ6jLICjBE6f6UlgKbN5h8AW0peF/OREApg9TWHSo8jd1skdJ9YoiS6QwBat67cO8m0+kwgK1RArC34DgOFJyUugyyYAxRMk1ZKbBlY51dRLuh+aRlolEpOxkRkJx3GMcKz0ldBlkohijVnlYLbN0MZGVKXYnJZDodBlzhUICkty13H04XpUhdBlkghijVjhDAzj/11wO1cL6pmfArdZS6DDITm3J247z6stRlkIVhiFLtHD4IpFrHCesynRbxV12lLoPMhIDABlUyrpda5iEKkgZDlGru/FngxDGpq6hTfqmZ8C1ja5T0tNBh7e1E5Gl4/VmqGYYo1cy1q8CeXVJXUedkWrZGyViRrhhrbm9HqU66Kw+R5WCI0r2pbgNJ28ziaiz1wT81C95lvFQa/e2WJgfrVckQVrrOU91hiFL11Gpg6yb9wPJWSqbRIP6am9RlkJm5VHIVO/IOSV0GmTmGKFVNCGBHIlBYKHUl9S7gUha8NPZSl0Fm5lDhaZwovCB1GWTGGKJUtWNHgBvXpa6iQehbo+5Sl0FmaHvuPmSWWc6wltSwGKJUuevXzOqi2g0hMCULHhoeGyVjWujwx+0d7GhElWKIUkVFRfrduDbWqUKm0SD+OlujVFGONh/bcvdJXQaZIYYoGdPpgD+3A8XFUlciicYpWXDnsVGqxBn1JZzi0IB0F4YoGTtyyCqG9DOVrKwM8Tc8pC6DzNT23H24rcmVugwyIwxR+tvNG1Y3IpEpglNuwU2jkLoMMkNlQoN1t3dAI7RSl0JmgiFKemVlwK4dUldhFmSlpYi/4Sl1GWSmsjQq7MqzrU53VDWGKOkd2g/k50tdhdkISbkFFy1bo1S5w4VncLPUsi5GT/VDJjiuFd24DmxaL3UVZietTRB+CbaNDeXuFduwO2E7bl/Rv96AFo3R//VH0LpvexSpCrBx3q84/+dJqK5nw9XbDZEDO2PglGFwcncGABSpCvDDa1/i4u4z8A1vhJHzn0dwZKhh+avf+R98mvihzz8ekuT11Qc/hRee9hsMuYxtEVvGT9/WaTTA7p1SV2GWQlOy4ay1k7qMBuER6I3BU0fg9Q0z8fr6mYjo1QbLxi3AzXNXkZuRg7yMHAyZPgpTts3BqE9fwNnE41j5r68Nj9/6399RUliMNzbOQkTPVlg15RvDfZcPXUT6kRT0fiFeipdWb7I0KhwsOCV1GSQxhqitO3oYyM+TugqzJCspQfxNL6nLaBBtB3RE6wfbw69pAPyaBWDQ20/AwUWJy4dTENgqGGO/fAVtB3SEb1gjNI9ug0FvPYFTW49Cq9F3sMm4eB0dhnaHX7MA9HgmDpkX9CNdacs0+PntFXjiw7GQ21nf5mZP/nGoNPz+2DLrW6up5rKzgVMnpK7CrIVdzIaTjbRGy+m0Ohz5bS9Ki0oQ2jmi0nnU+UVQujrBTqF/b4LahODirtPQarQ4l3QCga1DAACJi9ajWc9WCGkf3mD1NyQttNics4dXe7Fh7Dlhy/bttrlRiWpLVlKCARlB+C3I+o+N3jhzBf8dOhuakjI4uCjx3FevIqBF4wrzFdzOx9bP1qLH030M0/pOehirp67AB1FT4BXiixHzxiPr0k0cWLUTr659Fz+/tRzndpxESLswDJ87znAs1RpcK83AiaILaOfSQupSSALsWGSr0lL11wilexJKJRZFAyVyndSl1CtNqQY517Khzi/C8XUHsO/7HZi4eqpRkBbnq/HFkx/D2dMF45a9Bjv7qn+HLx7+IWKeHwDV1Vs4vfUonv/fG1g5ZRlcvFwx9D9PNsRLajBKuSPG+T8GpZxjL9sa7s61RVqt/pQWqhFZcTHiM7ylLqPeKRwU8A1vhJB24Rg8dQSC2oQg+avNhvuLC9RY+vQncHRRYuxXr1YboPt/2gEnD2dExndCyp6ziIzvDDt7Bdo/3BUpe840xMtpUMW6EuzN50AltoghaovOnOI5obXU9KIKDlrb+roInYCmVANA3wJd+uRcKBwUGLf8Ndgrq25xFWTnYcunv+Gx2c8A0B9jLe+ApNVoodNa586vo4Xn2MnIBtnWVoGAYjVw7KjUVVgcuVqNAVnW2xpd98FKpOw9i9tXsnDjzBX97T1n0WlYz7924c5FqboEIz4Zh+J8NfIyc5CXmQOdtuIu7jX/+R6xEwbCI1D/foV1bY5Dq3ch48J17P0uCWFdmzf0y2sQOuiwI++Q1GVQA2PHIltz5DBQVip1FRYp4qIKDv4ylMqtryVVcCsfP/zzS+Rl5sDJzQmBrUPwwveT0bJ3JC7uPoP0I/qrl3zQ602jx03b+wm8Q/wMt88mnUB2Wgae+u+LhmnRz/XD1WOpWPDwTDTp0BQD3ni0QV6TFFKKr+BaSSYaO/pLXQo1EHYssiU5KuC3X9gj9z6caxeEdQHW31OXTBdk74dRftYzMhNVj7tzbcmRQwzQ+9T8Yg7sdTKpyyAzdr0sCynFV6QugxoIQ9RW5KiAy2lSV2Hx5EVF6JflI3UZZOb25h+XugRqIAxRW8HrhNaZlhdzoGBrlKqRUZaNy8XXpS6DGgBD1Bbk5wOXUqSuwmrIC4vw4C3r7alLdWN/wUmpS6AGwBC1BSeO8VhoHWt9MQ921j2AEd2nK6U3cb00S+oyqJ4xRK1dUSFw8YLUVVgdeUEh+t7isVGq3v58XuDB2jFErd3JE4BOK3UVVqnNxXxY4SmjVIculVzFrTKV1GVQPWKIWrOSEuD8WamrsFp2BQWIY2uU7oHHRq0bQ9SapVwANBqpq7BqkRcL2Bqlal1QX0aRtljqMqieMESt2flzUldg9ezy89Enm61RqpoWOpxSX5S6DKonDFFrlXFTP8AC1bsHLhZAxtYoVeNEITv3WSuGqLViK7TB2OXlI/Y2zxulquVo85FeclPqMqgeMEStUUkJkHZJ6ipsSruLRTwXl6p1ovC81CVQPWCIWqOUC4CWp7U0JEVuHnqreGyUqnaxOB1qdjCyOgxRa8RduZLocFHN1ihVSd/BiMNvWhuGqLXJvsUORRJR5OQiOoetUaramSIeZrE2DFFrczlV6gpsWseLaqlLIDOWpVFBpcmTugyqQwxRa5OWJnUFNs1elYsolZfUZZAZu6C+LHUJVIcYotZEpQLycqWuwuZ1TimRugQyYxeK06UugeoQQ9SacFeuWbC/nYMeOWyNUuUyyrKRqymQugyqIwxRa8IQNRtdUkqlLoHM2IVi7tK1FgxRa5GXq9+dS2bBIVuFbrmeUpdBZuo8j4taDYaotWCHIrPTLaVM6hLITN0su4UCbZHUZVAdYIhai+tXpa6A7uJwS4UubI1SFa5wLF2rwBC1BhoNkJkpdRVUie6XeD1Xqlx6KUPUGjBErUFWJqDjWLnmyDHrNjrleUpdBpkhtkStA0PUGty8IXUFVI0ebI1SJfK0BcjR5EtdBt0nhqg1YIiaNWXmbXTI95C6DDJDbI1aPoaopdNo9LtzyaxFXdJJXQKZofRS/gC2dAxRS5eZAei4gTZ3yoxstCtwl7oMMjNsiVo+hqil465ci9GLV8GiuxTpipHL46IWjSFq6W7dkroCqiGnm7cQydYo3SWz7LbUJdB9YIhaOlW21BVQLUSnyqQugcwMQ9SyMUQtmVqt/yOL4XwjC60L3aQug8wIQ9SyMUQtGVuhFql3Kr929DeGqGXjt9mS3eaXzxK5XM9CqyK2RkmvUKdGoZZ7lCwVQ9SSMUQtFlujdCe2Ri0Xv8mWjLtzLZbLtSy0KHKVugwyE1kMUYvFELVUWi2Qmyt1FWQiGYDYNIXUZZCZyNHyXFFLxRC1VIUFHKnIwrlezUQEW6MEIE9TIHUJZCKGqKUqLJS6ArpPMgB9LrM1SkCuliFqqRiilqqQXzpr4HY1C03VLlKXQRLL1xZBCCF1GWQChqilYkvUKsiEQNxlB6nLIInpoEO+lt9pS8QQtVQFbIlaC/crmQgtdpa6DJIYd+laJoaopWJL1GrIhMCDlx2lLoMklseWqEViiFoqHhO1Kh7pmWjC1qhN4+5cy8QQtVRsiVoVmRB4MJ2tUVtWoiuVugQyAUPUEmk0gKZM6iqojnlezkRwiZPUZZBEigVD1BIxRC1RKb9s1kgmBPpdZojaKrZELRND1BKV8ctmrbzSMxHE1qhNYohaJoaoJWJL1GrJdDr0T2eI2qIS7s61SAxRS6TRSF0B1SPvy5kIKGWQ2ppitkQtEkPUEjFErZpMp8OAKzzdxdZwd65lYohaIoao1fNJzUCjUqXUZVAD0gh+ry0RQ9QSaflls3YynQ4DrnJgeluiAwegt0QMUUuk45fNFvheyoRfKQdgsBWCIWqRGKKWSC6TugJqADKdFvFXedFuW8LLoVkeXhHYEsn528dW+F+8gTcuSl0FNZgxUhdAtcWtsSWS8WMjskoy7mWyNNwaWyK2RImsDwPUInFrbIkYokTWh3uYLBI/NUvEX6xE1kdhJ3UFZAKGqCViS5TI+jjwdCZLxK2xJVKwUzWR1XF0kLoCMgFD1BI5cjg4IqvDlqhFYohaIiVDlMjqMEQtEkPUEjk68rgokbXh7lyLxC2xpWJrlMi6sCVqkRiilkrJizYTWRWGqEViiFoqtkSJrAu/0xaJIWqp+IUjsi5ublJXQCZgiFoqJ2epKyCiusQQtUgMUUvl7i51BURUV+RywIXXjrVEDFFL5e4hdQVEVFdcXTkmtoViiFoqD0+pKyCiuuLKPUuWiiFqqZydAXt7qasgorrA46EWiyFqybhLl8g6MEQtFkPUknkwRImsAn8QWyyGqCXjcVEi6+DjK3UFZCKGqCVjiBJZPqUT4OIidRVkIoaoJfP1k7oCIrpfvmyFWjKGqCVzddX30iUiy8VduRaNIWrp2BolsmxsiVo0hqil828kdQVEdD/YErVoDFFL5+cvdQVEZConZ8CZnYosGUPU0vn46gevJiLL48fDMZaOW19Lp1AAXt5SV0FEpghsLHUFdJ8YotaAx0WJLFNjhqilY4hag8bBUldARLXl6sbh/qwAQ9QaBAQCdnZSV0FEtRHEVqg1YIhaA4UCCAySugoiqg2GqFVgiFqL4BCpKyCimpLJ+MPXSjBErQVDlMhy+PgCjo5SV0F1gCFqLVzdAE8vqasgopoIaSJ1BVRHGKLWJJi9dIksQlhTqSugOsIQtSYhoVJXQET34u0DePDUFmvBELUm/o30u3WJyHw1bSZ1BVSHGKLWRCYDmkVIXQURVYe7cq0KQ9TaMESJzJe/P+DqKnUVVIcYotbG3YOXRyMyV+HclWttGKLWiK1RIvMjkwFh4VJXQXWMIWqNwpvyGqNE5qZxsP4i3GRVuKW1Ro5KjmBEZG5at5W6AqoHDFFr1aKV1BUQUTl3Dw44b6UYotaqcTDg4Sl1FUQEAK1a64+JktVhiFormQxoEyl1FUSkUAARLaSuguoJQ9SaNYvglSKIpNY0AnBwkLoKqicMUWumUAAtW0tdBZFta91G6gqoHjFErV2rNjzdhUgqAYGAl7fUVVA94tbV2jk7c5QUIqm07yh1BVTPGKK2oC07GBE1uEYBQGCQ1FVQPWOI2gJvH6AJrzVK1KA6dJK6AmoADFFb0bGz1BUQ2Q62Qm0GQ9RWeHlz8GuihsJWqM1QSF0ANaAOnYHLaYAQUldSb66pVHhr5WpsOHESRaWliPD3x7LxY9ElPAwAUFBcjLdX/YI1R44gu6AQ4X6+eLVfX/wjro9hGW/88BOW79oNFwdHfDh8GJ7u2cNw36oDB/G/XXvw+2uvNOwLI8sREMhWqA1hiNoST0/9yCkXzkldSb1QFRai15yPENe6JTa88U/4ubniQkYmvFz+vnLGGz+uxPYzZ/Hti88jzNcHm0+exsSE7xDk6YmhHTvg96PH8P3e/dj8r9dxISMD475ZgfjItvB1c0NuURGmrf4VW6e8IeGrJLPHVqhN4e5cW9OxE2BnJ3UV9eKj9RsR4u2FZeOfQ7em4Qj388OAyLZo5v/3Rcp3X0zBmF5R6NOqJcJ8ffFin95oHxKM/ZdSAQBnrt9An1Yt0SU8DE/26A53JyVSs24BAN5cuRovxfVBEx8fKV4eWYLgEH1LlGwGQ9TWOLtY7Zi6a48eQ5fwMAxfuAT+r76Bjv+ZhS//3GE0T1REM6w9chTXVCoIIZB45izOZ2RgQKT+MlXtQ4JxMC0NqsJCHEq7DHVpGSIa+WPn+Qs4fPkyXu3/oBQvjSyBXA507XHv+ciqyISw4gNkVLmyMuDXn4GiQqkrqVPKF14CALwR3x/Du3bBgdQ0/PP7H7Hk2WcwJjoKAFBSVoYXlyfgf7v3QGFnB7lMhi/HjsazvaIMy5mxZi2+3bMXTvYOmPXYUAxu3w6dZ7yH5c8/hz0XU/D5tu3wdXXF0rGj0bYxL29Ff2kTCXRjiNoaHhO1Rfb2+i970japK6lTOiHQJSwM7z8xDADQMbQJTl67hiVJfxpC9POt27H30iWs/efLCPXxwY5z5zHp2+8R5OmJfm31Y5zOeHQoZjw61LDcmWvWol/b1rC3s8N7v6/Didkz8Mex43j2y29waMb0hn+hZH6USo5OZKO4O9dWhYXrrzlqRQI9PdAmyPh4VOvAQKRn3wYAqEtL8c7qXzF/1AgM6dAe7UKC8XK/vhjZtSs+2bi50mWevXED3+7Zh9mPPYKks+fQu2Vz+Lm7YUS3Ljh8OR356uJ6f11kATp34xWTbBRD1JZ1j7KqTka9IiJw7uZNo2nnMzIQ+ldHoDKtFmVaLeR3XRzZTi6HrpKjGkIITFjxLeY/OQKuSiW0Oh3KtFrDsgBAK3T18VLIkvg3AiKaS10FSYQhasvc3YF2HaSuos68PqAf9l5Kxft/rMPFjEx8v2cflibtwKQH+wAA3J2cENuyBaas/BlJZ88hNSsLy3fuwv9278FjnSruivtqRzL83FwxpEN7AECv5hHYfuYc9qak4NNNW9AmKBCezs4VHkc2RCYDekTp/yWbxI5Ftk6rBX77BcjLlbqSOvHH0WOY+vOvuJCRgXA/X7wR3x8vxPY23H8zNxdTf/4Fm0+exu3CQoT6+ODFPjF4fUB/yO7YEGbk5qH77Pexe9rbCPLyNEyf9dvvWLBlG/zd3bDi+XHo1pSjQNm0B9oDnbtKXQVJiCFKwPVrwOYNUldBZFm8vIGHH7GqQyJUe9ydS0BQY6Bla6mrILIccjkQE8sAJYYo/aVrd8DDQ+oqiCxD+476SwySzWOIkp5CAfSO0//CJqKq+frpj4USgSFKd/Lx5XVHiapjZ6ffjcsfm/QXrglkLLIdB9AmqkrnroCHp9RVkBlhiJIxmQyI6QM4cPQVIiOhYVZ78QYyHUOUKnJxAaKipa6CyHx4eADRve89H9kchihVLiycnSeIAP0FG+L6A/YOUldCZoghSlXr1EV/kWEiW9arN+DpKXUVZKYYolQ1mUx/2gvPHyVb1fYB/V4ZoiowRKl6Dg5A3wHclUW2JyCQ4+LSPTFE6d48PIDYOF6pgmyHmzvQpy/PB6V74hpCNRMcwl/lZBuUTsCAgfp/ie6BIUo1F9kOaN1G6iqI6o+9PdA/Xt8SJaoBhijVTreeQNMIqasgqntyORD3oH74S6IaYohS7chk+pPOQ5pIXQlR3erVGwgKlroKsjAMUao9uRyI7Qs0CpC6EqK60aUb0Ix7WKj2GKJkGoUCeHAAd32R5Xugvf54P5EJGKJkOgcHoP9ADsZAlqt9R/Y6p/siE0IIqYsgC6cuAjZvBFS3pa6EqOY6dQHadZC6CrJwDFGqGyUlwNZNQFam1JUQ3VuXbtyFS3WCIUp1p6wM2L4FuHFd6kqIqtatB68LSnWGIUp1S6sFkrYBV9KlroSooh5RQCsOGEJ1hyFKdU+nA3b+CVxKkboSIj07OyA6FghvKnUlZGUYolQ/hAD27wXOnJK6ErJ1SqX+SkT+/lJXQlaIIUr169xZYN9ufeuUqKF5egIPxgNublJXQlaKIUr17+YNIHEbUFIsdSVkSwKDgLh++vOZieoJQ5QaRn4+sH0zoFJJXQnZghYtgR69eD1QqncMUWo4ZWXAjiTgymWpKyFrJZfrzwHlKSzUQBii1LCEAI4eBo4f1f+fqK64uekvjODrJ3UlZEMYoiSNG9eB5CSgqEjqSsgahIYDvWJ4/JMaHEOUpFNcDOxOBtK5e5dMJLcDunYHWnMABZIGQ5Skd/YMcGCvfrQjoppycwf69OXl+EhSDFEyDzkq4M9EXgmGaqZlK30HInvuviVpMUTJfGi1wJGDwKmT7HRElXN3B6JigIBAqSshAsAQJXOUfQvYlQzczpa6EjIXMhnQ9gGgQydAoZC6GiIDhiiZJ50OOH1SfzqMRiN1NSQlbx99z1se+yQzxBAl81ZQAOzfwx68tkihANp1BCIf4MhDZLYYomQZrl4B9u0B8vOkroQaQrMIoFNXwMVF6kqIqsUQJcuh0wHnzwLHjgBqtdTVUH3wb6Q/79OPly0jy8AQNTNJSUmIi4uDSqWCp6en1OWYJ41Gf7z0xHGgrFTqaqgueHgAnbsBTUKlroSoVnigoZ4sWbIEbm5u0NzRKaagoAD29vbo06eP0bxJSUmQyWRISUlBVFQUbty4AQ8PjwauuGGUv9acnBzTF6JQAO06AE+M0B8vs7Orq/Koobm4AlHRwCOPM0DJIrGveD2Ji4tDQUEBDh48iB49egAAkpOTERAQgH379qG4uBhKpRIAkJiYiCZNmqBZs2YAgICAAMnqtiiOSqBLd6B1pH4X78ULgI6jHlkED0/ggfZA02bsNEQWjWtvPWnZsiUCAwORlJRkmJaUlIRHHnkE4eHh2Lt3r9H0uLg4w//vbKktX74cnp6e2LRpE1q3bg1XV1cMHDgQN27cqPK5tVotxo8fj/DwcDg5OaFly5ZYsGDBPWteu3YtmjdvDqVSibi4OKxYsaJCq3H16tVo27YtHB0dERYWhnnz5hktIyEhAV26dIGbmxsCAgLw1FNPITMzEwCQlpZmeJ1eXl6QyWQYO3bsPeu6JxcXfWtm+CigfUd9uJJ58vXTXyj70ceBiOYMULJ4XIPrUVxcHBITEw23ExMT0adPH8TGxhqmq9Vq7Nu3zxAulSkqKsInn3yChIQE7NixA+np6Zg8eXKV8+t0OgQHB2PVqlU4ffo03n33XbzzzjtYuXJllY9JTU3FE088gUcffRTHjh3DhAkTMG3aNKN5Dh06hBEjRmDUqFE4ceIEZsyYgenTp2P58uWGecrKyjB79mwcO3YMa9asQVpamiEoQ0JCsHr1agDAuXPncOPGjRqFe405OQEdO+vDtEcvwN06d4lbpKDGQPwg4OFHgNAw/eAJRFaAu3PrUVxcHF577TVoNBqo1WocOXIEsbGxKCsrw5IlSwAAe/bsQUlJSbUhWj5/+e7el19+GbNmzapyfnt7e8ycOdNwOzw8HHv27MHKlSsxYsSISh/zxRdfoGXLlpg7dy4AfUv65MmTmDNnjmGe+fPn48EHH8T06dMBAC1atMDp06cxd+5cQ1COGzfOMH/Tpk3x3//+F127dkVBQQFcXV3h7e0NAPD396+/jlMKBdCqtX581SvpwKkTQMbN+nkuqpq9A9CsGdC8FeDjI3U1RPWCIVqP+vTpg8LCQhw4cAAqlQotWrSAn58fYmNj8dxzz6G4uBhJSUlo2rQpmjRpUuVynJ2dDQEKAIGBgYZdpFVZuHAhvvnmG6Snp0OtVqO0tBQdOnSocv5z586ha9euRtO6detmdPvMmTN45JFHjKb16tULn332GbRaLezs7HDo0CHMmDEDx44dg0qlgk6nAwCkp6ejTZsGvlyVTKbvrNIkFFCpgJTzQEoKoOY1TOtVowCgeUsgLJxD9JHV4xpejyIiIhAcHIzExESoVCrExsYCAIKCghASEoLdu3cjMTERffv2rXY59vb2RrdlMhmqOzPpxx9/xOTJkzFv3jz07NkTbm5umDt3Lvbt23f/L6oahYWFiI+PR3x8PL777jv4+fkhPT0d8fHxKC2V+FQULy99J6ROXYHr1/SdkK5c5uXX6opSCTRrDrRoqe80RGQjGKL1LC4uDklJSVCpVJgyZYpheu/evbFhwwbs378fL730Up0+565duxAVFYWJEycapqWkpFT7mJYtW2L9+vVG0w4cOGB0u3Xr1ti1a1eF52rRogXs7Oxw9uxZZGdn48MPP0RISAgA4ODBg0bzOzjoL12llSq85HIgOET/V1ICpF0CUi4A92jZUyWUSiAkVH+MM6gxOwmRTeJaX8/i4uKwc+dOHD161NASBYDY2Fh88cUXKC0trfZ4qCmaN2+OgwcPYtOmTTh//jymT59eIRDvNmHCBJw9exZvvfUWzp8/j5UrVxo6DMn+6gTyr3/9C9u2bcPs2bNx/vx5rFixAv/3f/9n6OTUpEkTODg44PPPP8elS5ewdu1azJ492+h5QkNDIZPJ8McffyArKwsFBQV1+tprxdERaNkaGDQUGPmUfpDzJqGAwv7ej7VVLq5A67bAwMHAiL/es+AQBijZLK759SwuLg5qtRoRERFo1KiRYXpsbCzy8/MNp8LUpQkTJmDYsGEYOXIkunfvjuzsbKNWaWXCw8Px888/45dffkG7du2wePFiQ+9cR0dHAECnTp2wcuVK/Pjjj4iMjMS7776LWbNmGToV+fn5Yfny5Vi1ahXatGmDDz/8EJ988onR8zRu3BgzZ87E22+/jUaNGuHll1+u09duMidn/XG8vv2BJ58B+g8EWrXRh4Ytk8n0p6W06wA8/Ki+53P3nvrreTI4iTjsH1Vtzpw5WLJkCa5cuSJ1KdLKUel792ZmApkZ1j0IvlyuD82AAKBRoH4sW3u2zImqwmOiZLBo0SJ07doVPj4+2LVrF+bOnWs+LUUpeXrp/1q21t9Wq/VhmpkBZGUAt7Itd6QkF1fA21t/zc5GAfrQZI9aohpjS5QMXn/9dfz000+4ffs2mjRpgtGjR2Pq1KlQcKNaPZ1O3zrNyQFyc4HcnL//ysqkra2cgwPg5a3vpezlrf/z9NJPJyKTMUSJ6lNRoT5Yi4qAYrX+HFV1sb41q/5rWnExYMrXUCbTd4KyVwAOjoCzC+Di/Ne/Lsb//nVcm4jqFkOUSGpC6C/vptUCWg2g0ep3Dwuh/9Pp9McqFfb6Xa0Khf44JTv2EEmOIUpERGQi/pQlIiIyEUOUiIjIRAxRIiIiEzFEiYiITMQQJSIiMhFDlIiIyEQMUSIiIhMxRImIiEzEECUiIjIRQ5SIiMhEDFEiIiITMUSJiIhMxBAlIiIyEUOUiIjIRAxRIiIiEzFEiYiITMQQJSIiMhFDlIiIyEQMUSIiIhMxRImIiEzEECUiIjIRQ5SIiMhEDFEiIiITMUSJiIhMxBAlIiIyEUOUiIjIRAxRIiIiEzFEiYiITMQQJSIiMhFDlIiIyEQMUSIiIhMxRImIiEzEECUiIjIRQ5SIiMhEDFEiIiITMUSJiIhMxBAlIiIyEUOUiIjIRAxRIiIiE/0/H16371ODi0YAAAAASUVORK5CYII=\n"
                },
                "metadata": {}
              }
            ]
          }
        },
        "e38e9239b7594f2297a1b19c341dc3a2": {
          "model_module": "@jupyter-widgets/base",
          "model_name": "LayoutModel",
          "model_module_version": "1.2.0",
          "state": {
            "_model_module": "@jupyter-widgets/base",
            "_model_module_version": "1.2.0",
            "_model_name": "LayoutModel",
            "_view_count": null,
            "_view_module": "@jupyter-widgets/base",
            "_view_module_version": "1.2.0",
            "_view_name": "LayoutView",
            "align_content": null,
            "align_items": null,
            "align_self": null,
            "border": null,
            "bottom": null,
            "display": null,
            "flex": null,
            "flex_flow": null,
            "grid_area": null,
            "grid_auto_columns": null,
            "grid_auto_flow": null,
            "grid_auto_rows": null,
            "grid_column": null,
            "grid_gap": null,
            "grid_row": null,
            "grid_template_areas": null,
            "grid_template_columns": null,
            "grid_template_rows": null,
            "height": null,
            "justify_content": null,
            "justify_items": null,
            "left": null,
            "margin": null,
            "max_height": null,
            "max_width": null,
            "min_height": null,
            "min_width": null,
            "object_fit": null,
            "object_position": null,
            "order": null,
            "overflow": null,
            "overflow_x": null,
            "overflow_y": null,
            "padding": null,
            "right": null,
            "top": null,
            "visibility": null,
            "width": null
          }
        },
        "ded7eb2020134e15b885fa984898af98": {
          "model_module": "@jupyter-widgets/base",
          "model_name": "LayoutModel",
          "model_module_version": "1.2.0",
          "state": {
            "_model_module": "@jupyter-widgets/base",
            "_model_module_version": "1.2.0",
            "_model_name": "LayoutModel",
            "_view_count": null,
            "_view_module": "@jupyter-widgets/base",
            "_view_module_version": "1.2.0",
            "_view_name": "LayoutView",
            "align_content": null,
            "align_items": null,
            "align_self": null,
            "border": null,
            "bottom": null,
            "display": null,
            "flex": null,
            "flex_flow": null,
            "grid_area": null,
            "grid_auto_columns": null,
            "grid_auto_flow": null,
            "grid_auto_rows": null,
            "grid_column": null,
            "grid_gap": null,
            "grid_row": null,
            "grid_template_areas": null,
            "grid_template_columns": null,
            "grid_template_rows": null,
            "height": null,
            "justify_content": null,
            "justify_items": null,
            "left": null,
            "margin": null,
            "max_height": null,
            "max_width": null,
            "min_height": null,
            "min_width": null,
            "object_fit": null,
            "object_position": null,
            "order": null,
            "overflow": null,
            "overflow_x": null,
            "overflow_y": null,
            "padding": null,
            "right": null,
            "top": null,
            "visibility": null,
            "width": null
          }
        },
        "5a979fbce3904497b6dee5741a058571": {
          "model_module": "@jupyter-widgets/controls",
          "model_name": "DescriptionStyleModel",
          "model_module_version": "1.5.0",
          "state": {
            "_model_module": "@jupyter-widgets/controls",
            "_model_module_version": "1.5.0",
            "_model_name": "DescriptionStyleModel",
            "_view_count": null,
            "_view_module": "@jupyter-widgets/base",
            "_view_module_version": "1.2.0",
            "_view_name": "StyleView",
            "description_width": "initial"
          }
        },
        "6bea4439834c4c868766c570423bda2a": {
          "model_module": "@jupyter-widgets/base",
          "model_name": "LayoutModel",
          "model_module_version": "1.2.0",
          "state": {
            "_model_module": "@jupyter-widgets/base",
            "_model_module_version": "1.2.0",
            "_model_name": "LayoutModel",
            "_view_count": null,
            "_view_module": "@jupyter-widgets/base",
            "_view_module_version": "1.2.0",
            "_view_name": "LayoutView",
            "align_content": null,
            "align_items": null,
            "align_self": null,
            "border": null,
            "bottom": null,
            "display": null,
            "flex": null,
            "flex_flow": null,
            "grid_area": null,
            "grid_auto_columns": null,
            "grid_auto_flow": null,
            "grid_auto_rows": null,
            "grid_column": null,
            "grid_gap": null,
            "grid_row": null,
            "grid_template_areas": null,
            "grid_template_columns": null,
            "grid_template_rows": null,
            "height": null,
            "justify_content": null,
            "justify_items": null,
            "left": null,
            "margin": null,
            "max_height": null,
            "max_width": null,
            "min_height": null,
            "min_width": null,
            "object_fit": null,
            "object_position": null,
            "order": null,
            "overflow": null,
            "overflow_x": null,
            "overflow_y": null,
            "padding": null,
            "right": null,
            "top": null,
            "visibility": null,
            "width": null
          }
        },
        "2bc7abfa1b3441f8b9e449241ac8ae8c": {
          "model_module": "@jupyter-widgets/controls",
          "model_name": "DescriptionStyleModel",
          "model_module_version": "1.5.0",
          "state": {
            "_model_module": "@jupyter-widgets/controls",
            "_model_module_version": "1.5.0",
            "_model_name": "DescriptionStyleModel",
            "_view_count": null,
            "_view_module": "@jupyter-widgets/base",
            "_view_module_version": "1.2.0",
            "_view_name": "StyleView",
            "description_width": ""
          }
        },
        "4e8f91fec7ca4d6581fd9998d1764762": {
          "model_module": "@jupyter-widgets/base",
          "model_name": "LayoutModel",
          "model_module_version": "1.2.0",
          "state": {
            "_model_module": "@jupyter-widgets/base",
            "_model_module_version": "1.2.0",
            "_model_name": "LayoutModel",
            "_view_count": null,
            "_view_module": "@jupyter-widgets/base",
            "_view_module_version": "1.2.0",
            "_view_name": "LayoutView",
            "align_content": null,
            "align_items": null,
            "align_self": null,
            "border": null,
            "bottom": null,
            "display": null,
            "flex": null,
            "flex_flow": null,
            "grid_area": null,
            "grid_auto_columns": null,
            "grid_auto_flow": null,
            "grid_auto_rows": null,
            "grid_column": null,
            "grid_gap": null,
            "grid_row": null,
            "grid_template_areas": null,
            "grid_template_columns": null,
            "grid_template_rows": null,
            "height": null,
            "justify_content": null,
            "justify_items": null,
            "left": null,
            "margin": null,
            "max_height": null,
            "max_width": null,
            "min_height": null,
            "min_width": null,
            "object_fit": null,
            "object_position": null,
            "order": null,
            "overflow": null,
            "overflow_x": null,
            "overflow_y": null,
            "padding": null,
            "right": null,
            "top": null,
            "visibility": null,
            "width": null
          }
        },
        "8163743a93134899a28fb7a645cebbe2": {
          "model_module": "@jupyter-widgets/controls",
          "model_name": "ButtonStyleModel",
          "model_module_version": "1.5.0",
          "state": {
            "_model_module": "@jupyter-widgets/controls",
            "_model_module_version": "1.5.0",
            "_model_name": "ButtonStyleModel",
            "_view_count": null,
            "_view_module": "@jupyter-widgets/base",
            "_view_module_version": "1.2.0",
            "_view_name": "StyleView",
            "button_color": null,
            "font_weight": ""
          }
        },
        "6ad1b5febad045e687670bc5cfd96937": {
          "model_module": "@jupyter-widgets/base",
          "model_name": "LayoutModel",
          "model_module_version": "1.2.0",
          "state": {
            "_model_module": "@jupyter-widgets/base",
            "_model_module_version": "1.2.0",
            "_model_name": "LayoutModel",
            "_view_count": null,
            "_view_module": "@jupyter-widgets/base",
            "_view_module_version": "1.2.0",
            "_view_name": "LayoutView",
            "align_content": null,
            "align_items": null,
            "align_self": null,
            "border": null,
            "bottom": null,
            "display": null,
            "flex": null,
            "flex_flow": null,
            "grid_area": null,
            "grid_auto_columns": null,
            "grid_auto_flow": null,
            "grid_auto_rows": null,
            "grid_column": null,
            "grid_gap": null,
            "grid_row": null,
            "grid_template_areas": null,
            "grid_template_columns": null,
            "grid_template_rows": null,
            "height": null,
            "justify_content": null,
            "justify_items": null,
            "left": null,
            "margin": null,
            "max_height": null,
            "max_width": null,
            "min_height": null,
            "min_width": null,
            "object_fit": null,
            "object_position": null,
            "order": null,
            "overflow": null,
            "overflow_x": null,
            "overflow_y": null,
            "padding": null,
            "right": null,
            "top": null,
            "visibility": null,
            "width": null
          }
        }
      }
    }
  },
  "cells": [
    {
      "cell_type": "markdown",
      "metadata": {
        "id": "view-in-github",
        "colab_type": "text"
      },
      "source": [
        "<a href=\"https://colab.research.google.com/github/Dingcyber/Studymaterials/blob/main/Mathematics%20for%20ML/Probability%26Statistics_notes.ipynb\" target=\"_parent\"><img src=\"https://colab.research.google.com/assets/colab-badge.svg\" alt=\"Open In Colab\"/></a>"
      ]
    },
    {
      "cell_type": "markdown",
      "source": [
        "# 工具集（toolkit）"
      ],
      "metadata": {
        "id": "VSassw9uWPuP"
      }
    },
    {
      "cell_type": "markdown",
      "source": [
        "## Matplotlib\n",
        "\n",
        "---\n",
        "\n",
        "* `%matplotlib widget`: 魔法命令，用于在Jupyter Notebook|Lab中启用交互式matplotlib绘图\n",
        "* `.set_title()`: 坐标轴对象`Axes`的方法，用于设置图表的标题\n",
        "* `.scatter(x,y,s=None,c=None,marker=None,alpha=None,**kwargs)`: 绘制散点图的方法，用于在二维平面上显示数据点的分布。当参数设置为`None`时，`Matplotlib`会使用内部的默认值\n",
        "  * `x,y`: 数组，数据点的x，y坐标，必需\n",
        "  * `s`: 标量或数组，点的大小，默认值为20\n",
        "  * `c`: 字符串，点的颜色，默认值为`\"b\"`蓝色\n",
        "  * `marker`: 字符串，点的形状，默认值为`\"o\"`圆形\n",
        "  * `alpha`: 透明度（0-1），默认值为1（不透明）\n",
        "  * `label`: 图例标签，默认值为None\n",
        "* `.clear()`: 坐标轴对象`Axes`的方法，用于清除坐标轴上的所有内容，直接调用，不需要任何参数，返回值None\n",
        "* `.plot(x,y,fmt,**kwargs)`: 通过连接给定的数据点来创建线条\n",
        "  * `x,y`: 列表，数据点的x，y坐标，示例：`[1,2,3],[4,5,6]`\n",
        "  * `fmt`: 格式字符串，颜色+标记+线型，如`ro-`\n",
        "  * `color`: 字符串，线条颜色\n",
        "  * `linestyle`: 字符串，线条样式\n",
        "  * `linewidth`: 浮点数，线条宽度\n",
        "  * `marker`: 字符串，数据点标记\n",
        "  * `markersize`: 标量，标记大小\n",
        "  * `label`: 字符串，图例标签\n",
        "  * `alpha`: 浮点数0-1，透明度\n",
        "* `.legend()`: 显式调用以显示图例\n",
        "* `ax.pie(x,labels=None,autopct=None,colors=None,**kwargs)`: 坐标轴对象`Axes`的方法，用于创建饼图，显示各部分占整体的比例\n",
        "  * `x`: 数组，表示每个扇形的面积（一般用比例表示，如果不是比例，会自动计算比例）\n",
        "  * `labels`: 每个扇形对应的标签列表\n",
        "  * `colors`: 每个扇形的颜色列表\n",
        "  * `autopct`: 用于在扇形内部显示百分比字符串，可以用格式字符串或函数指定\n",
        "* `ax.set_title(label,fontdict=None,loc=\"center\",pad=None,**kwargs)`: 坐标轴对象`Axes`的方法，用于设置当前坐标轴系统的标题\n",
        "  * `label`: 必须，标题文本\n",
        "  * `loc`: 标题位置\n",
        "  * `pad`: 标题与图标之间的间距，默认约12点间距\n",
        "  * `fontdict`: 字体属性字典"
      ],
      "metadata": {
        "id": "7rj0GfJyWu0_"
      }
    },
    {
      "cell_type": "markdown",
      "source": [
        "## Seaborn\n",
        "\n",
        "---\n",
        "* `import seaborn as sns`: 基于Matplotlib的Python的数据可视化库，专门用于创建统计图形\n",
        "* 数据可视化中指定数据源的两种主要方式\n",
        "  * `列名（Column Names）`: 当数据是DataFrames时，使用列名来指定要可视化的数据\n",
        "  * `数组`: 直接使用NumPy数组、Python列表等作为数据源\n",
        "* `sns.histplot(data=None, x=None, y=None, bins=\"auto\", **kwargs)`: 高级直方图函数，用于可视化数值数据的分布\n",
        "  * `data`: 输入数据集（DataFrame、数组、列表等）\n",
        "  * `x,y`: 指定数据的列名或数组\n",
        "  * `bins`: 分箱数量或分箱边界。分箱也成为分桶或离散化，是将连续数值数据划分为若干个离散区间的过程\n",
        "  * `ax`: 绘图的坐标轴对象\n",
        "  * `kde`: 是否显示核密度估计，默认为False\n",
        "  * `color`: 直方图颜色，默认调色板\n",
        "  * `alpha`: 透明度，默认0.75\n",
        "  * `stat`: 统计类型（`count`,`frequency`,`density`等），默认`count`\n",
        "* `sns.scatterplot(data=None, x=None, y=None, hue=None,style=None, size=None, **kwargs)`: 高级散点图函数，用于可视化两个数值变量之间的关系\n",
        "  * `data`: 输入数据集（DataFrame）\n",
        "  * `x,y`: 指定x轴和y轴的数据，必需\n",
        "  * `hue`: 分组变量，用颜色区分\n",
        "  * `style`: 点的形状\n",
        "  * `size`: 点的大小\n",
        "  * `ax`: 绘图的坐标轴对象\n",
        "  * `s`: 标量，点的大小\n",
        "  * `alpha`: 透明度\n",
        "  * `legend`: 是否显示图例\n",
        "* `sns.color_palettee(palette=None,n_colors=None,desat=None,as_cmap=False)`: 用于创建、管理和使用颜色调色板的函数\n",
        "  * `palette`: 字符串，调色板名称或类型\n",
        "  * `n_color`: 颜色数量\n",
        "  * `as_cmap`: 是否返回颜色映射\n",
        "  * `sns.color_palette(\"pastel\")[2:]`: 对颜色有位置要求时，可以使用切片\n",
        "* `sns内置调色板`\n",
        "    * `定性调色板`：适用于分类数据。包括`\"deep\"`（默认，高饱和度）,`\"pastel\"`（柔和色调）,`\"bright\"`（明亮鲜艳）,`\"dark\"`（深色调）,`\"colorblind\"`（色盲友好）,`\"Set1\"`（离散颜色）\n",
        "    * `顺序调色板`：适用于数值大小排序。包括`\"Blues\"`(单色系渐变),`\"viridis\"`（感知均匀）,`\"plasma\"`（高对比度）,`\"rocket\"`（深色背景友好）\n",
        "    * `发散调色板`：适用于有中间值的数据。包括`\"RdBu_r\"`（红蓝发散）,`\"coolwarm\"`（冷暖和）,`\"vlag\"`（紫绿发散）\n"
      ],
      "metadata": {
        "id": "_rtK0EqwZzVf"
      }
    },
    {
      "cell_type": "markdown",
      "source": [
        "## IPyWidgets\n",
        "\n",
        "---\n",
        "\n",
        "* `import ipywidgets as widgets`：用于Jupyter Notebook的交互式HTML组件库，允许创建交互式用户界面，使数据分析和可视化更加动态和直观\n",
        "* `interact_manual(func,**widgets)`: 函数，创建手动触发的交互界面\n",
        "* `widgets.DatePicker()`: 交互式控件，提供了一个日历界面，用户可以通过它方便地选择年、月、日\n",
        "  * `description(str)`: 显示在控件旁边的描述文本\n",
        "  * `value(date)`: 控件的初始值，必须是`datetime.date`对象，默认是当前日期\n",
        "  * `disabled(bool)`: 如果为True，则控件不可用，默认为False\n",
        "  * `style(dict)`: 用于控制控件样式的字典，可以设置描述文字的宽度等。`{\"description width\":\"initial\"}`表示设置文本的宽度为初始值，避免被截断\n",
        "  * `layout(dict)`: 用于设置控件布局的字典，可以控制宽度、高度等\n",
        "* `widget.button()`: 创建一个按钮控件，用户可以点击它来触发绑定的事件处理函数\n",
        "  * `description(str)`: 显示在按钮上的文本\n",
        "  * `disabled(bool)`: 如果为True，则按钮不可用，默认为False\n",
        "  * `tooltip(str)`: 当鼠标悬停在按钮上时显示的提示文本\n",
        "  * `icon(str)`: 可选的图标名称，用于在按钮文本前显示图标\n",
        "  * `layout`|`style`: 用于控制按钮的布局和样式\n",
        "  * `.on_click(回调函数)`: `Button`控件的一个方法，用于注册一个回调函数（事件处理函数），当按钮被点击时，这个回调函数会被调用。回调函数定义时，必须接受一个参数b，参数`b`是触发事件的按钮实例本身(由系统自动传递)，通过`b`可以访问按钮的属性和方法\n",
        "* `display()`: `IPyWidgets`显示系统的一部分，用于在Jupyter Notebook中显示各种媒体类型（如文本、图像、HTML、小部件等）的对象\n",
        "* `.value`: `IPyWidgets`中各种控件的一个属性，用于获取或设置控件的当前值，在使用的时候直接访问它\n",
        "* `widgets.SelectionSlider(options,value,description,disabled=False,continuous_update=True,orientation=\"horizontal\",readout=True,readout_format)`: 选择滑块控件，允许用户通过滑动从预定义的选项列表种选择值\n",
        "  * `options`: 列表，必需，定义滑块可以选择的值\n",
        "  * `value`: 默认值\n",
        "  * `description`: 字符串，描述标签\n",
        "  * `disabled`: 布尔值，是否禁用，默认启用控件\n",
        "  * `continuous_update`: 布尔值，拖动时是否实时更新，默认是\n",
        "  * `horizontal`: 字符串，滑块方向，默认水平滑块\n",
        "  * `readout`: 布尔值，值显示\n",
        "  * `readout_format`: 字符串，显示格式\n",
        "* `widgets.RadioButtons(options,value,description,disabled,layout,style)`: 创建一个单选按钮组，用户只能从多个选项中选择一个\n",
        "  * `options`: 列表，必需，定义滑块可以选择的值\n",
        "  * `value`: 默认值\n",
        "  * `description`: 字符串，描述标签\n",
        "  * `disabled`: 布尔值，是否禁用，默认启用控件\n",
        "  * `layout`: 布局设置\n",
        "  * `style`: 样式设置"
      ],
      "metadata": {
        "id": "JCWQgaRoaIUY"
      }
    },
    {
      "cell_type": "markdown",
      "source": [
        "## NumPy\n",
        "\n",
        "---\n",
        "* `np.random.randiant(low,high=None,size=None,dtype=int)`: 生成在指定范围内的随机整数\n",
        "  * `low`: 生成随机整数的最小值（包含）\n",
        "  * `high`: 生成随机整数的最大值（不包含）\n",
        "  * `size`: 输出数组的形状,`size=None`时，表示不指定特定的形状，此时函数返回一个标量（单个随机整数）\n",
        "  * `dtype`: 输出数组的数据类型\n",
        "* `np.delete(arr,obj,axis=None):`用于从数组中删除指定的子数组、行或列\n",
        "  * `arr`: 输入的数组\n",
        "  * `obj`: 要删除的索引、切片或布尔数组\n",
        "  * `axis`: 沿哪个轴删除元素。axis代表数组的维度，一维数组只有`axis=0`，二维数组有`axis=0(行)`和`axis=1(列)`，以此类推\n",
        "* `np.isin().any()`: 检查一个数组中是否存在元素出现在另一个数组中\n",
        "  * `np.isin(elements,test_elements)`: 检查elements中的每个元素是否在test_elements中，返回一个和elements形状相同的`布尔数组`\n",
        "  * `.any()`: 检查数组中是否存在True值，返回单个布尔值"
      ],
      "metadata": {
        "id": "X2fRluLFXIdj"
      }
    },
    {
      "cell_type": "markdown",
      "source": [
        "## Python\n",
        "\n",
        "---\n",
        "* `utils`: 自定义工具模块，通常包含项目中重复使用的实用函数和类\n",
        "* `datetime`: Python中处理日期和时间的核心模块\n",
        "  * `date(year,month,day)`: 处理日期（年|月|日）\n",
        "  * `timedelta(days=0, seconds=0, microseconds=0, milliseconds=0, minutes=0, hours=0, weeks=0)`: 处理时间间隔。所有参数都是可选的，默认值为0\n",
        "  * `.strftime(\"%m-%d\")`: 用于将日期/时间对象（`datetime.date`）格式化为`月-日`字符串，如`01-15`(1月15日）。`%m`表示月份，`%d`表示日期，`%Y`表示四位月份，`%y`表示两位月份\n",
        "* `->`: 用于函数/方法的类型注解，表示该函数返回值的类型\n",
        "* `AttributeError`: 通常发生在对象没有某个属性或方法时\n",
        "* `list.index(element,start,end)`: 列表的方法，用于在列表中查找某个元素第一次出现的索引位置\n",
        "  * `element`: 要查找的元素\n",
        "  * `start`: 开始查找的起始位置\n",
        "  * `end`: 结束查找的结束位置\n",
        "* `Python中的假值`：在布尔上下文中被视为假的值，`not+假值`为真\n",
        "  * `None`: 空值\n",
        "  * `\"\"`: 空字符串\n",
        "  * `[]`: 空列表\n",
        "  * `False`: 假\n",
        "* `while True:` 创建无限循环（条件永远为真，循环会一直执行），必须依靠内部的`break`语句来退出循环\n",
        "* `None`: 在Python库中，用户可以通过将参数设置为`None`，传递`None`来使用默认值\n",
        "* `解包（Unpacking）`: 将可迭代对象（如列表、元组、字符串等）的元素分解并分配给多个变量的过程\n",
        "  * `*`: 可迭代对象解包操作符\n",
        "* `_`的用法\n",
        "  * `临时变量`: 表示“这个值我不关心”或“临时使用后丢弃”，可用于在循环中忽略索引、解包时忽略某些值、函数返回多个值时忽略部分\n",
        "  * `数字分隔符`: 作为数字分隔符，提高可读性，如10000表示为10_000\n",
        "* `集合|set`：无序的、不重复的元素序列，可自动去除重复元素\n",
        "  * `set()`：自动去重\n",
        "* `装饰器`：本质上是一个函数，可以在不修改原函数代码的情况下，为其他函数添加额外的功能\n",
        "* `%.0f%%`: 格式化字符串，用于将浮点数格式化为整数百分比\n",
        "  * `%.0f`: 浮点数格式说明符，表示将浮点数格式化为整数，即保留0位小数\n",
        "  * `%%`: 由于百分号`%`在格式化字符串中是一个特殊字符（用于引入格式说明符），所以当我们需要在字符串中直接使用百分号时，用两个百分号`%%`来表示百分号\n",
        "* `,`: Python允许在函数参数、列表、元组、字典的最后一个元素后面加上逗号，这样添加新参数时，只用新增一行，不用修改上一行，且所有参数格式一致，便于阅读\n",
        "* `f.__qualname__`: 返回函数的限定名称（qualified name），显示了函数在类或嵌套函数中的完整路径"
      ],
      "metadata": {
        "id": "UD_K2VomYxsP"
      }
    },
    {
      "cell_type": "markdown",
      "source": [
        "### 创建自定义工具模块-模拟生日问题\n",
        "\n",
        "---\n",
        "\n"
      ],
      "metadata": {
        "id": "Nod3f3MXbAC-"
      }
    },
    {
      "cell_type": "code",
      "source": [
        "import numpy as np\n",
        "from datetime import timedelta,date\n",
        "import matplotlib.pyplot as plt\n",
        "import seaborn as sns\n",
        "import ipywidgets as widgets\n",
        "from ipywidgets import interact_manual"
      ],
      "metadata": {
        "id": "CjZOI8yfYGaw"
      },
      "execution_count": null,
      "outputs": []
    },
    {
      "cell_type": "code",
      "source": [
        "# 创建班级规模列表\n",
        "big_classroom_sizes = [*range(1,1000,5)] # 创建包含1-999中间距为5的数字列表\n",
        "small_classroom_sizes = [*range(1,80)] # 创建包含1-79的列表"
      ],
      "metadata": {
        "id": "x0A0TMupkeL4"
      },
      "execution_count": null,
      "outputs": []
    },
    {
      "cell_type": "code",
      "source": [
        "# 构建可视化模拟概率与班级规模关系的绘图函数\n",
        "def plot_simulated_probs(sim_probs,class_size):\n",
        "  \"\"\"\n",
        "  Input:\n",
        "  * sim_probs: 模拟得到的概率值列表/数组\n",
        "  * class_size: 对应的班级规模列表/数组\n",
        "  \"\"\"\n",
        "  fig,ax = plt.subplots(1,1,figsize = (10,4))\n",
        "  sns.scatterplot(x=class_size,y=sim_probs,ax=ax,label=\"simulated probabilities\")\n",
        "  ax.set_ylabel(\"Simulated Probability\")\n",
        "  ax.set_xlabel(\"Classroom Size\")\n",
        "  ax.set_title(\"Probability vs Number of Students\")\n",
        "  ax.plot([0,max(class_size)],[0.5,0.5],color=\"red\",label=\"p=0.5\") # 绘制概率为0.5的基准线\n",
        "  ax.legend() # 调用显示图例，即散点代表什么，基准线代表什么\n",
        "  plt.show()"
      ],
      "metadata": {
        "id": "NMrdtervkqXf"
      },
      "execution_count": null,
      "outputs": []
    },
    {
      "cell_type": "markdown",
      "source": [
        "### 创建自定义模块-互动小游戏\n",
        "\n",
        "---\n",
        "\n"
      ],
      "metadata": {
        "id": "3HdIVyzk92E5"
      }
    },
    {
      "cell_type": "code",
      "source": [
        "# 定义生日类，用于模拟生日问题\n",
        "class your_bday:\n",
        "  # 初始化方法\n",
        "  def __init__(self) -> None: # `-> None`表示初始化方法不返回任何值\n",
        "    # 创建包含左右两个子图的图形对象\n",
        "    fig,(ax1,ax2) = plt.subplots(1, 2, figsize = (10,4)) # fig是整个图形对象，ax1和ax2分别是左右两个子图的坐标轴对象\n",
        "\n",
        "    # 将图形和坐标轴对象保存为实例变量，供其他方法使用\n",
        "    self.fig = fig\n",
        "    self.ax = ax1\n",
        "    self.ax_hist = ax2\n",
        "\n",
        "    self.dates = [\n",
        "        (date(2015,1,1)+ timedelta(days = n)).strftime(\"%m-%d\") for n in range(365)\n",
        "        ] # 从2015年1月1日开始，每天递增，生成365个连续的日期，将每个日期格式化为`月-日`字符串\n",
        "    self.match = False # 标志变量，表示是否找到生日匹配\n",
        "    self.bday_str = None # 存储用户选择的生日字符串，并初始化为None，表示bday对象的初始化bday_str属性为None\n",
        "    self.bday_index = None # 存储用户生日在self.date列表中的索引位置\n",
        "    self.n_students = 0 # 计数器，记录当前模拟中已添加的学生数量\n",
        "    self.history = [] # 列表，记录每次模拟成功时所需的学生数量\n",
        "    self.bday_picker = widgets.DatePicker(description = \"Pick your bday\", disabled = False, style = {\"description_width\":\"initial\"})\n",
        "    self.start_button = widgets.Button(description = \"Simulate!\")\n",
        "\n",
        "    display(self.bday_picker)\n",
        "    display(self.start_button)\n",
        "\n",
        "    self.start_button.on_click(self.on_button_clicked)\n",
        "\n",
        "  # 按钮点击事件处理\n",
        "  def on_button_clicked(self, b):\n",
        "    # 重置状态\n",
        "    self.match = False\n",
        "    self.n_students = 0\n",
        "\n",
        "    self.get_bday() # 获取用户输入的生日\n",
        "    self.add_students() # 开始模拟过程，不断添加学生直到找到匹配\n",
        "\n",
        "  # 获取生日\n",
        "  def get_bday(self):\n",
        "    try:\n",
        "      self.bday_str = self.bday_picker.value.strftime(\"%m-%d\")\n",
        "    except AttributeError:\n",
        "      self.ax.set_title(f\"Input a valid date and try again!\") # 更新图表标题，向用户显示错误信息\n",
        "      return\n",
        "    self.bday_index = self.dates.index(self.bday_str) # 在日期列表中查找生日字符串的索引位置\n",
        "\n",
        "  # 生成随机生日\n",
        "  def generate_bday(self):\n",
        "    gen_bday = np.random.randint(0,365)\n",
        "    if gen_bday == self.bday_index:\n",
        "      self.match = True\n",
        "\n",
        "  # 模拟添加学生\n",
        "  def add_students(self):\n",
        "    if not self.bday_str: # 如果用户没有选择日期，则`self.bday_str`保持为None，if条件为真，直接返回\n",
        "      return\n",
        "    while True:\n",
        "      # 退出条件检查：检查是否找到了生日匹配\n",
        "      if self.match:\n",
        "        self.history.append(self.n_students) # 将本次模拟所需的学生数量添加到历史记录中\n",
        "        n_runs = [i for i in range(len(self.history))] # 创建[0,1,2,...,n-1]的列表\n",
        "        self.ax.scatter(n_runs, self.history) # 在左子图上绘制散点图\n",
        "        self.ax_hist.clear() # 清除右子图的所有内容\n",
        "        sns.histplot(data=self.history,ax=self.ax_hist,bins=16) # 使用seaborn在右子图上绘制直方图，显示历史结果的分布情况\n",
        "        break\n",
        "\n",
        "      self.generate_bday() # 调用方法生成随机生日并检查匹配\n",
        "      self.n_students += 1 # 学生计数器加1\n",
        "      # 更新左子图的标题，显示当前状态：1.当前模拟已尝试的学生数量；2.总模拟次数（历史次数+当前运行）\n",
        "      self.ax.set_title(f\"Match found.It took {self.n_students} students.\\nNumber of runs: {len(self.history)+1}\")"
      ],
      "metadata": {
        "id": "qQUl8H1Ha-7G"
      },
      "execution_count": null,
      "outputs": []
    },
    {
      "cell_type": "markdown",
      "source": [
        "### 创建自定义模块-模拟蒙提霍尔问题\n",
        "\n",
        "---\n",
        "\n"
      ],
      "metadata": {
        "id": "oEngE0MKWZAq"
      }
    },
    {
      "cell_type": "code",
      "source": [
        "import numpy as np\n",
        "import matplotlib.pyplot as plt\n",
        "import seaborn as sns\n",
        "import ipywidgets as widgets\n",
        "from ipywidgets import interact_manual"
      ],
      "metadata": {
        "id": "SMWpPdZ3Wh0i"
      },
      "execution_count": 1,
      "outputs": []
    },
    {
      "cell_type": "code",
      "source": [
        "# 可视化蒙提霍尔问题模拟结果\n",
        "def success_rate_plot(f): # 装饰器函数\n",
        "\n",
        "  # 定义内部函数，用于模拟蒙提霍尔问题的可视化\n",
        "  def _plot(switch, n_iterations):\n",
        "\n",
        "    # 模拟并计算获胜率和失败率\n",
        "    wins = 0\n",
        "    for _ in range(n_iterations): # 循环执行指定次数的模拟\n",
        "      wins += f(switch=switch)  # 调用被装饰的原始函数并累加获胜次数\n",
        "    win_rate = wins / n_iterations # 计算获胜率\n",
        "    loss_rate = 1 - win_rate # 计算失败率\n",
        "\n",
        "    # 创建matplotlib图形，绘制饼图\n",
        "    fig, ax = plt.subplots(1, 1, figsize=(10, 4))\n",
        "    ax.pie(\n",
        "        [win_rate, loss_rate],\n",
        "        labels=[\"Win a car\", \"Win a goat\"],\n",
        "        colors=sns.color_palette(\"pastel\")[2:],\n",
        "        autopct=\"%.0f%%\",\n",
        "        ) # 绘制饼图，使用pastel柔和调色板，取第三个颜色开始的所有颜色（跳过前2个）\n",
        "    msg = \"always\" if switch else \"never\" # 设置标题信息：根据switch参数决定显示always还是never\n",
        "    ax.set_title(f\"Win rate if you {msg} switch doors ({n_iterations} simulations)\")\n",
        "\n",
        "    # 显示图形\n",
        "    plt.show()\n",
        "\n",
        "\n",
        "  # 定义内部函数，用于广义蒙提霍尔问题的可视化\n",
        "  def _plot_generalized(switch, n_iterations, n = 3, k = 1):\n",
        "    \"\"\"\n",
        "    Input：\n",
        "    * n: 总门数，默认3\n",
        "    * k: 主持人打开门数，默认1\n",
        "    \"\"\"\n",
        "\n",
        "    #循环调用广义版本的蒙提霍尔函数并计算胜率和失败率\n",
        "    wins = 0\n",
        "    for _ in range(n_iterations):\n",
        "      wins += f(switch=switch, n = n, k = k)\n",
        "    win_rate = wins / n_iterations\n",
        "    loss_rate = 1 - win_rate\n",
        "\n",
        "    # 创建matplotlib图形，绘制饼图\n",
        "    fig, ax = plt.subplots(1, 1, figsize=(12, 4))\n",
        "    ax.pie(\n",
        "        [win_rate, loss_rate],\n",
        "        labels=[\"Win a car\", \"Win a goat\"],\n",
        "        colors=sns.color_palette(\"pastel\")[2:],\n",
        "        autopct=\"%.0f%%\",\n",
        "        )\n",
        "    msg = \"always\" if switch else \"never\"\n",
        "    ax.set_title(f\"Win rate if you {msg} switch doors ({n_iterations} simulations)\")\n",
        "    plt.show()\n",
        "\n",
        "  # 创建迭代次数选择滑块\n",
        "  n_iterations_selection = widgets.SelectionSlider(\n",
        "      options=[1, 10, 100, 1000],\n",
        "      value=1,\n",
        "      description=\"# iterations\",\n",
        "      disabled=False,\n",
        "      continuous_update=False,\n",
        "      orientation=\"horizontal\",\n",
        "      readout=True,\n",
        "      )\n",
        "\n",
        "  # 创建策略选择单选按钮\n",
        "  strategy_selection = widgets.RadioButtons(\n",
        "      options=[True, False],\n",
        "      value=False,\n",
        "      description=\"Switch Doors?\",\n",
        "      disabled=False,\n",
        "      style={\"description_width\": \"initial\"},\n",
        "      )\n",
        "\n",
        "  # 检查被装饰函数的名称是否为标准蒙提霍尔函数\n",
        "  if f.__qualname__ == 'monty_hall':\n",
        "\n",
        "    # 为标准版本创建交互界面\n",
        "    interact_manual(\n",
        "        _plot, switch = strategy_selection, n_iterations = n_iterations_selection,\n",
        "        )\n",
        "\n",
        "  # 检查被装饰函数的名称是否为广义蒙提霍尔函数\n",
        "  if f.__qualname__ == 'generalized_monty_hall':\n",
        "    disabled = False # 启用控件\n",
        "\n",
        "    # 创建门数选择滑块\n",
        "    n_selection = widgets.SelectionSlider(\n",
        "        options=range(3,101),\n",
        "        value=3,\n",
        "        description=\"n\",\n",
        "        disabled=disabled,\n",
        "        )\n",
        "\n",
        "    # 创建打开门数选择滑块\n",
        "    k_selection = widgets.SelectionSlider(\n",
        "        options=range(0,99),\n",
        "        value=1,\n",
        "        description=\"k\",\n",
        "        disabled=disabled,\n",
        "        )\n",
        "\n",
        "    # 为广义版本创建交互界面\n",
        "    interact_manual(\n",
        "        _plot_generalized, switch=strategy_selection, n_iterations=n_iterations_selection, n = n_selection, k = k_selection\n",
        "        )"
      ],
      "metadata": {
        "id": "bIIeiMc4WpYD"
      },
      "execution_count": 10,
      "outputs": []
    },
    {
      "cell_type": "markdown",
      "source": [
        "# 经典概率问题"
      ],
      "metadata": {
        "id": "1Be4DNUJOQda"
      }
    },
    {
      "cell_type": "markdown",
      "source": [
        "## 生日问题（Birthday problems）\n",
        "\n",
        "---\n",
        "* `蒙特卡洛方法|Monte Carlo Method`：一类通过随机抽样和统计模拟来解决数学问题的计算方法\n",
        "* `大数定律|Law of Large Numbers`： 概率论中的核心定理，描述了当实验次数足够多时，随机事件的频率会收敛到其概率\n",
        "* `生日问题1`：在一个房间里，至少需要多少人，才能使得“至少有两个人生日相同”的概率大于等于0.5？\n",
        "* `生日问题2`：在一个有n名学生的班级中，如果随机抽取一名学生，要使该学生与班级中另一名同学生日相同的概率大于等于0.5，n的取值应该是多少？\n",
        "* `生日问题3`：给定一个有n名学生的班级，要使存在两名学生生日相同的概率大于等于0.5，n的取值应该是多少？\n",
        "* `生日问题4`：给定两个各有n名学生的教室，要使两个教室中存在两名学生生日相同的概率大于等于0.5，n的取值应该是多少？\n"
      ],
      "metadata": {
        "id": "l11yJWO3OUQh"
      }
    },
    {
      "cell_type": "markdown",
      "source": [
        "### 模拟小游戏\n",
        "\n",
        "---\n",
        "\n"
      ],
      "metadata": {
        "id": "UgHL79YgY46k"
      }
    },
    {
      "cell_type": "code",
      "source": [
        "import numpy as np\n",
        "import matplotlib.pyplot as plt\n",
        "\n",
        "# Colab不支持widget后端，因此没法实施更新，可使用ipywidgets+输出重绘（之后再研究）\n",
        "# %matplotlib widget"
      ],
      "metadata": {
        "id": "UKq2hElzymYd"
      },
      "execution_count": null,
      "outputs": []
    },
    {
      "cell_type": "code",
      "source": [
        "# Colab限制，无法使用交互功能\n",
        "# game = your_bday()"
      ],
      "metadata": {
        "id": "QJHsmtE50pr9"
      },
      "execution_count": null,
      "outputs": []
    },
    {
      "cell_type": "markdown",
      "source": [
        "### 生日问题1\n",
        "\n",
        "---\n",
        "\n"
      ],
      "metadata": {
        "id": "8PHY_uCMW6tV"
      }
    },
    {
      "cell_type": "code",
      "source": [
        "# 构造模拟函数：通过蒙特卡洛模拟的方法，重复实验多次来估算某个概率问题的发生概率\n",
        "def simulate(problem_func,n_students=365,n_simulations=1000):\n",
        "  \"\"\"\n",
        "  Input:\n",
        "  * problem_func: 函数，用于检测是否发生了我们关心的事件\n",
        "  * n_students: 班级规模\n",
        "  * n_simulations: 模拟次数\n",
        "  Return：事件发生次数的概率\n",
        "  \"\"\"\n",
        "\n",
        "  # 初始化匹配次数为0\n",
        "  matches = 0\n",
        "\n",
        "  # 循环执行模拟多次\n",
        "  for _ in range(n_simulations):\n",
        "\n",
        "    # 调用传入的problem_func函数，如果返回True，说明发生了我们关心的事件，计数器加1\n",
        "    if problem_func(n_students):\n",
        "      matches += 1\n",
        "\n",
        "  # 用匹配次数/模拟次数计算出概率并返回\n",
        "  return matches/n_simulations"
      ],
      "metadata": {
        "id": "FAQFyvRDXC1r"
      },
      "execution_count": null,
      "outputs": []
    },
    {
      "cell_type": "code",
      "source": [
        "# 构造解决生日问题1的函数\n",
        "def problem_1(n_students):\n",
        "\n",
        "  # 随机选择一个数作为预先设定的生日\n",
        "  predef_bday = np.random.randint(0,365)\n",
        "\n",
        "  # 生成包含n_students个随机整数的数组，每个整数在0-364之间，代表每个学生的生日\n",
        "  gen_bdays = np.random.randint(0,365,(n_students))\n",
        "\n",
        "  # 检查生日是否在随机生成的数组中，存在返回True，不存在返回False\n",
        "  return predef_bday in gen_bdays"
      ],
      "metadata": {
        "id": "0epe-aabb7Ct"
      },
      "execution_count": null,
      "outputs": []
    },
    {
      "cell_type": "code",
      "source": [
        "# 模拟\n",
        "n = 100\n",
        "simulated_prob = simulate(problem_1,n_students = n, n_simulations=10_000)\n",
        "\n",
        "print(f\"在有{n}名学生的班级中，存在学生的生日和预设日期相同的模拟概率为{simulated_prob}\")"
      ],
      "metadata": {
        "colab": {
          "base_uri": "https://localhost:8080/"
        },
        "id": "i65OfkjwiZa4",
        "outputId": "6b2ef3e4-d0e9-45e6-a81c-58cb5f7d747b"
      },
      "execution_count": null,
      "outputs": [
        {
          "output_type": "stream",
          "name": "stdout",
          "text": [
            "在有100名学生的班级中，存在学生的生日和预设日期相同的模拟概率为0.2364\n"
          ]
        }
      ]
    },
    {
      "cell_type": "code",
      "source": [
        "# 模拟并可视化\n",
        "simulated_probs_1 = [simulate(problem_1,n_students=n) for n in big_classroom_sizes]\n",
        "plot_simulated_probs(simulated_probs_1,big_classroom_sizes)"
      ],
      "metadata": {
        "colab": {
          "base_uri": "https://localhost:8080/",
          "height": 430
        },
        "id": "gvWU_y_aZPYy",
        "outputId": "b47e0190-dd98-47e0-c043-a0f60dd89daa"
      },
      "execution_count": null,
      "outputs": [
        {
          "output_type": "display_data",
          "data": {
            "text/plain": [
              "<Figure size 1000x400 with 1 Axes>"
            ],
            "image/png": "[encoded data removed]"
          },
          "metadata": {}
        }
      ]
    },
    {
      "cell_type": "markdown",
      "source": [
        "### 生日问题2\n",
        "\n",
        "---\n",
        "\n"
      ],
      "metadata": {
        "id": "0aGlOHRibIIZ"
      }
    },
    {
      "cell_type": "code",
      "source": [
        "# 构造解决生日问题2的函数\n",
        "def problem_2(n_students):\n",
        "\n",
        "  # 生成包含n_students个随机整数的数组，每个整数在0-364之间，代表每个学生的生日\n",
        "  gen_bdays = np.random.randint(0,365,(n_students))\n",
        "\n",
        "  # 随机选择一个学生\n",
        "  rnd_index = np.random.randint(0,len(gen_bdays))\n",
        "\n",
        "  # 获取选择的这个学生的生日\n",
        "  rnd_bday = gen_bdays[rnd_index]\n",
        "\n",
        "  # 把这个学生的生日从生日池中删除\n",
        "  remaining_bdays = np.delete(gen_bdays,rnd_index,axis=0)\n",
        "\n",
        "  # 检查生日学生生日中是否有和这个生日相同的\n",
        "  return rnd_bday in remaining_bdays"
      ],
      "metadata": {
        "id": "hXXttOMrgEdQ"
      },
      "execution_count": null,
      "outputs": []
    },
    {
      "cell_type": "code",
      "source": [
        "# 模拟\n",
        "simulated_probs_2 = [simulate(problem_2,n_students=n) for n in big_classroom_sizes]\n",
        "plot_simulated_probs(simulated_probs_2,big_classroom_sizes)"
      ],
      "metadata": {
        "colab": {
          "base_uri": "https://localhost:8080/",
          "height": 394
        },
        "id": "fMNF6gry7k0a",
        "outputId": "15bfb330-c474-46b5-d512-efbfcfd58f29"
      },
      "execution_count": null,
      "outputs": [
        {
          "output_type": "display_data",
          "data": {
            "text/plain": [
              "<Figure size 1000x400 with 1 Axes>"
            ],
            "image/png": "[encoded data removed]"
          },
          "metadata": {}
        }
      ]
    },
    {
      "cell_type": "markdown",
      "source": [
        "### 生日问题3\n",
        "\n",
        "---\n",
        "\n"
      ],
      "metadata": {
        "id": "IGoEu34j769B"
      }
    },
    {
      "cell_type": "code",
      "source": [
        "# 构造解决生日问题3的函数\n",
        "def problem_3(n_students):\n",
        "\n",
        "  # 生成包含n_students个随机整数的数组，每个整数在0-364之间，代表每个学生的生日\n",
        "  gen_bdays = np.random.randint(0,365,(n_students))\n",
        "\n",
        "  # 将数组转换为集合，自动去重，将集合转换回列表，将列表转换为数组\n",
        "  unique_bdays = np.array(list(set(gen_bdays)))\n",
        "\n",
        "  # 检查原数组是否有重复\n",
        "  return len(unique_bdays) != len(gen_bdays)"
      ],
      "metadata": {
        "id": "G9JXXmTJ-O8Z"
      },
      "execution_count": null,
      "outputs": []
    },
    {
      "cell_type": "code",
      "source": [
        "# 模拟\n",
        "simulated_probs_3 = [simulate(problem_3,n_students=n) for n in small_classroom_sizes]\n",
        "plot_simulated_probs(simulated_probs_3,small_classroom_sizes)"
      ],
      "metadata": {
        "colab": {
          "base_uri": "https://localhost:8080/",
          "height": 430
        },
        "id": "Vbox_CJlAt9x",
        "outputId": "19832ab9-1556-4c57-fc69-d2b3df7661c5"
      },
      "execution_count": null,
      "outputs": [
        {
          "output_type": "display_data",
          "data": {
            "text/plain": [
              "<Figure size 1000x400 with 1 Axes>"
            ],
            "image/png": "[encoded data removed]"
          },
          "metadata": {}
        }
      ]
    },
    {
      "cell_type": "markdown",
      "source": [
        "### 生日问题4\n",
        "\n",
        "---\n",
        "\n"
      ],
      "metadata": {
        "id": "MdSusz81CIXB"
      }
    },
    {
      "cell_type": "code",
      "source": [
        "# 构造解决生日问题4的函数\n",
        "def problem_4(n_students):\n",
        "\n",
        "  # 生成包含n_students个随机整数的数组，每个整数在0-364之间，代表每个学生的生日\n",
        "  gen_bdays_1 = np.random.randint(0,365,(n_students))\n",
        "  gen_bdays_2 = np.random.randint(0,365,(n_students))\n",
        "\n",
        "  # 检查两个数组中是否存在相同的数\n",
        "  return np.isin(gen_bdays_1,gen_bdays_2).any()"
      ],
      "metadata": {
        "id": "Qupa27ptCedY"
      },
      "execution_count": null,
      "outputs": []
    },
    {
      "cell_type": "code",
      "source": [
        "# 模拟\n",
        "simulated_probs_4 = [simulate(problem_4,n_students=n) for n in small_classroom_sizes]\n",
        "plot_simulated_probs(simulated_probs_4,small_classroom_sizes)"
      ],
      "metadata": {
        "colab": {
          "base_uri": "https://localhost:8080/",
          "height": 394
        },
        "id": "uefd9whrDH5J",
        "outputId": "63ec3aee-3fdb-442c-83dc-b77994995995"
      },
      "execution_count": null,
      "outputs": [
        {
          "output_type": "display_data",
          "data": {
            "text/plain": [
              "<Figure size 1000x400 with 1 Axes>"
            ],
            "image/png": "[encoded data removed]"
          },
          "metadata": {}
        }
      ]
    },
    {
      "cell_type": "markdown",
      "source": [
        "## 蒙提霍尔问题（The Monty Hall Problem）\n",
        "\n",
        "---\n",
        "\n",
        "* `蒙提霍尔问题`：假设你参加一个游戏节目，有三扇关闭的门：一扇门后是一辆汽车（大奖），另外两扇门后是山羊（安慰奖）。你首先选择一扇门，知道门后情况的主持人会打开另一扇门，这扇门后面必定是山羊，这时，主持人会给你一个选择：坚持你最初的选择，还是换到剩下的那扇没开的门。问题：换门会提高你赢得汽车的概率吗？"
      ],
      "metadata": {
        "id": "Y-gRNiB0Ej3P"
      }
    },
    {
      "cell_type": "markdown",
      "source": [
        "### 一般蒙提霍尔问题\n",
        "\n",
        "---\n",
        "\n"
      ],
      "metadata": {
        "id": "6iYZwkpEls8F"
      }
    },
    {
      "cell_type": "code",
      "source": [
        "import numpy as np"
      ],
      "metadata": {
        "id": "UKUHplFKKLEH"
      },
      "execution_count": 4,
      "outputs": []
    },
    {
      "cell_type": "code",
      "source": [
        "# 构造解决蒙提霍尔问题的函数: 0代表山羊，1代表汽车\n",
        "def monty_hall(switch):\n",
        "\n",
        "  # 设置初始值：所有门后面都是山羊\n",
        "  doors = np.array([0,0,0])\n",
        "  # 随机确定一扇门后面是汽车\n",
        "  winner_index = np.random.randint(0,3)\n",
        "  # 在大奖门后放上汽车\n",
        "  doors[winner_index] = 1\n",
        "\n",
        "  # 观众随机选择一扇门\n",
        "  choice = np.random.randint(0,3)\n",
        "  # 规定主持人可以打开的门\n",
        "  openable_doors = [i for i in range(3) if i not in (winner_index,choice)]\n",
        "  # 主持人选择一扇门\n",
        "  door_to_open = np.random.choice(openable_doors)\n",
        "\n",
        "  # 如果switch=True，玩家换到剩下的那扇门，如果switch=False，保持最初选择\n",
        "  if switch:\n",
        "    choice = [i for i in range(3) if i not in (choice,door_to_open)][0]\n",
        "\n",
        "  # 如果门后是山羊，则返回1，如果门后是汽车，则返回0\n",
        "  return doors[choice]"
      ],
      "metadata": {
        "id": "LA1faOk_MXPX"
      },
      "execution_count": 5,
      "outputs": []
    },
    {
      "cell_type": "code",
      "source": [
        "# 模拟：选择换门，模拟次数10次\n",
        "success_rate_plot(monty_hall)"
      ],
      "metadata": {
        "colab": {
          "base_uri": "https://localhost:8080/",
          "height": 495,
          "referenced_widgets": [
            "7487d25a16f549799fa96797cf91b1de",
            "ec52c91001e54b48a24f6ed1cff55c5b",
            "b4eb2f4b462444feb1ccfc9f11796429",
            "b84da8ff66e24ad8944b3db8282fc298",
            "a2718096eb824849a60780d5bed6b656",
            "5f87addeae1940038678a8a0302e88b2",
            "407311de53604d22bb8b96b2d89ddc81",
            "d0c37f70d7d241e5aa014eae83d31483",
            "6c18a98fbdfd494a9ecaddbf505e2723",
            "d92015b9122548618c7a6bc8a54bb8a4",
            "4f641a85d0294484ab0c0cd85b74eadc",
            "ba02cfdf2f9e455b9e421723f831c127",
            "6026d884dbd148198336a458da46cbe2"
          ]
        },
        "id": "j2U0EUvejSYV",
        "outputId": "8ffa8ce3-6089-4480-e0fd-809d8f03a296"
      },
      "execution_count": 12,
      "outputs": [
        {
          "output_type": "display_data",
          "data": {
            "text/plain": [
              "interactive(children=(RadioButtons(description='Switch Doors?', index=1, options=(True, False), style=Descript…"
            ],
            "application/vnd.jupyter.widget-view+json": {
              "version_major": 2,
              "version_minor": 0,
              "model_id": "7487d25a16f549799fa96797cf91b1de"
            }
          },
          "metadata": {}
        }
      ]
    },
    {
      "cell_type": "code",
      "source": [
        "# 模拟：选择换门，模拟次数100次\n",
        "success_rate_plot(monty_hall)"
      ],
      "metadata": {
        "colab": {
          "base_uri": "https://localhost:8080/",
          "height": 495,
          "referenced_widgets": [
            "e30bae53c24142559b682e793533034f",
            "5c3179f9d18441dcbc6125240e1aa035",
            "d58026db49ec448898da7c57d3ae95a8",
            "fc6623c1e3794f02b4f5898912efbbe9",
            "7719ec795f014021b2c0522329b2e5be",
            "e55a739a5c314868ba861e4499df2a48",
            "0f95a9938a454e8f8260eef7cbb657bf",
            "932069c274a94688b06ce835cfa709f6",
            "df06058b4b5a46d7aab9861fdd9b729a",
            "52be70a9ecc94819a806f730634907c8",
            "9b700aa8e65647c2b7d0967715bb860b",
            "9efb9066a1da4516a8307a5806614548",
            "b2654421ded942a7aee49b267501e011"
          ]
        },
        "id": "s_qI_uLVk93d",
        "outputId": "d5eca82f-41dc-412c-cf55-a64b24f089e7"
      },
      "execution_count": 13,
      "outputs": [
        {
          "output_type": "display_data",
          "data": {
            "text/plain": [
              "interactive(children=(RadioButtons(description='Switch Doors?', index=1, options=(True, False), style=Descript…"
            ],
            "application/vnd.jupyter.widget-view+json": {
              "version_major": 2,
              "version_minor": 0,
              "model_id": "e30bae53c24142559b682e793533034f"
            }
          },
          "metadata": {}
        }
      ]
    },
    {
      "cell_type": "code",
      "source": [
        "# 模拟：选择换门，模拟次数1000次\n",
        "success_rate_plot(monty_hall)"
      ],
      "metadata": {
        "colab": {
          "base_uri": "https://localhost:8080/",
          "height": 495,
          "referenced_widgets": [
            "6517bbad7f0a4881b16cf01dc2c2b8a6",
            "2b65be1964be44d19fe217ef6c49fe76",
            "fc6bc426a6344110893dc2257796f539",
            "2a5497f0130749f29f4acf75f542c007",
            "39aa3f4d461649078b75d399e03eaec0",
            "7e24347f93e94cc2a36148fbb2bb72f4",
            "6ab01f87781d4e509e0403129ad77def",
            "7805bf6230214cafaa9a9567571d6bc4",
            "47609357c3bc4730848ca0cc91f692c1",
            "69d965e77c8942009f7768024e945567",
            "5f8126d42f364b969ff730460c6a303a",
            "3b5797bed4974aad8bce3d29a8574b0f",
            "201c3ce623204d12aabeb4a5ad3b5b5f"
          ]
        },
        "id": "5dYDKZkWlDv7",
        "outputId": "53b0aecd-66a3-4224-fff2-90ee7c3dd0c0"
      },
      "execution_count": 14,
      "outputs": [
        {
          "output_type": "display_data",
          "data": {
            "text/plain": [
              "interactive(children=(RadioButtons(description='Switch Doors?', index=1, options=(True, False), style=Descript…"
            ],
            "application/vnd.jupyter.widget-view+json": {
              "version_major": 2,
              "version_minor": 0,
              "model_id": "6517bbad7f0a4881b16cf01dc2c2b8a6"
            }
          },
          "metadata": {}
        }
      ]
    },
    {
      "cell_type": "code",
      "source": [
        "# 模拟：选择不换门，模拟次数10次\n",
        "success_rate_plot(monty_hall)"
      ],
      "metadata": {
        "colab": {
          "base_uri": "https://localhost:8080/",
          "height": 495,
          "referenced_widgets": [
            "53654549c8ba4f7489254ddf4344c49f",
            "8365c8d107ca49e89e08d2868711feec",
            "318c7f27772a4b8fb1a94a66e303c677",
            "09186a9ced5047bda2f1af7f525865f7",
            "b5488e16abb14741b52cb603616d13fb",
            "8551848fe7c246e09909c791bd929c43",
            "7a9be0385eb74dcdac4fc4c3eb50df62",
            "b1349777060b47a99febe4a6ea0957d8",
            "5f15aa7b6daf44e583fc7593837f105a",
            "6377eac216b440f9b4132fcbf3558af4",
            "7abf347eda74416a9f9aef5040fe54c3",
            "61b3bb8a127a4b44a44dcacb35965afe",
            "1ffd05d71c9e44c5b56f3df161cec6e4"
          ]
        },
        "id": "GsKtbDYolJ3U",
        "outputId": "914a383f-19a7-49e2-98f3-1bd1f139799f"
      },
      "execution_count": 15,
      "outputs": [
        {
          "output_type": "display_data",
          "data": {
            "text/plain": [
              "interactive(children=(RadioButtons(description='Switch Doors?', index=1, options=(True, False), style=Descript…"
            ],
            "application/vnd.jupyter.widget-view+json": {
              "version_major": 2,
              "version_minor": 0,
              "model_id": "53654549c8ba4f7489254ddf4344c49f"
            }
          },
          "metadata": {}
        }
      ]
    },
    {
      "cell_type": "code",
      "source": [
        "# 模拟：选择不换门，模拟次数100次\n",
        "success_rate_plot(monty_hall)"
      ],
      "metadata": {
        "colab": {
          "base_uri": "https://localhost:8080/",
          "height": 495,
          "referenced_widgets": [
            "ead7f25560d84e11b23f8cdec39c614e",
            "3d50f2a60acb4ede98cbce3d6335169f",
            "aff30dda03d1400e9c7e37f043522443",
            "126a09f694a9401b8def6359b8151c6e",
            "47b6a0a04d2340aca5ef26389253ff05",
            "5d5e7a8171964c9c86537de835b39b21",
            "f98f835abbba4fb2924a668136a685c3",
            "5f88fcdc49ac4444b2e479e27a932de2",
            "700ed57c51c84760891164663447781d",
            "29569bdfae494234a6fa74f41dfaf1f4",
            "763422ed91d742b584bc97dc98e60371",
            "e5aa1d81b8804f808083f22cfc6e22db",
            "0fda86666d8945db905fac7e3303c307"
          ]
        },
        "id": "lgMon5bUlRqN",
        "outputId": "4f3620e4-53a7-46f7-a481-425a707f9a15"
      },
      "execution_count": 16,
      "outputs": [
        {
          "output_type": "display_data",
          "data": {
            "text/plain": [
              "interactive(children=(RadioButtons(description='Switch Doors?', index=1, options=(True, False), style=Descript…"
            ],
            "application/vnd.jupyter.widget-view+json": {
              "version_major": 2,
              "version_minor": 0,
              "model_id": "ead7f25560d84e11b23f8cdec39c614e"
            }
          },
          "metadata": {}
        }
      ]
    },
    {
      "cell_type": "code",
      "source": [
        "# 模拟：选择不换门，模拟次数1000次\n",
        "success_rate_plot(monty_hall)"
      ],
      "metadata": {
        "colab": {
          "base_uri": "https://localhost:8080/",
          "height": 495,
          "referenced_widgets": [
            "b19889125aca4d1793ee874dc5431f5d",
            "bc73785a74474bf18c13e5612bf8428e",
            "5570ce0bae4f403bb19206051d6da498",
            "e66e537e1f38474f8713e6259ca67934",
            "bb40631d23584fd1949372ee813d6ed5",
            "e38e9239b7594f2297a1b19c341dc3a2",
            "ded7eb2020134e15b885fa984898af98",
            "5a979fbce3904497b6dee5741a058571",
            "6bea4439834c4c868766c570423bda2a",
            "2bc7abfa1b3441f8b9e449241ac8ae8c",
            "4e8f91fec7ca4d6581fd9998d1764762",
            "8163743a93134899a28fb7a645cebbe2",
            "6ad1b5febad045e687670bc5cfd96937"
          ]
        },
        "id": "C2YvJA62lYBk",
        "outputId": "2edf0463-b839-45d0-a4e6-06be2146d35c"
      },
      "execution_count": 17,
      "outputs": [
        {
          "output_type": "display_data",
          "data": {
            "text/plain": [
              "interactive(children=(RadioButtons(description='Switch Doors?', index=1, options=(True, False), style=Descript…"
            ],
            "application/vnd.jupyter.widget-view+json": {
              "version_major": 2,
              "version_minor": 0,
              "model_id": "b19889125aca4d1793ee874dc5431f5d"
            }
          },
          "metadata": {}
        }
      ]
    },
    {
      "cell_type": "markdown",
      "source": [
        "### 广义蒙提霍尔问题\n",
        "\n",
        "---\n",
        "\n"
      ],
      "metadata": {
        "id": "ts6CVNNClxp8"
      }
    }
  ]
}