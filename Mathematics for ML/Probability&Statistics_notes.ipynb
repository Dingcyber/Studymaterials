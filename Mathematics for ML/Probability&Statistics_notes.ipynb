{
  "nbformat": 4,
  "nbformat_minor": 0,
  "metadata": {
    "colab": {
      "provenance": [],
      "authorship_tag": "ABX9TyNMNRA/ZHnnimzY2RByAHFM",
      "include_colab_link": true
    },
    "kernelspec": {
      "name": "python3",
      "display_name": "Python 3"
    },
    "language_info": {
      "name": "python"
    },
    "widgets": {
      "application/vnd.jupyter.widget-state+json": {
        "bf5335448a704a4b94653aa569a53e18": {
          "model_module": "@jupyter-widgets/controls",
          "model_name": "DatePickerModel",
          "model_module_version": "1.5.0",
          "state": {
            "_dom_classes": [],
            "_model_module": "@jupyter-widgets/controls",
            "_model_module_version": "1.5.0",
            "_model_name": "DatePickerModel",
            "_view_count": null,
            "_view_module": "@jupyter-widgets/controls",
            "_view_module_version": "1.5.0",
            "_view_name": "DatePickerView",
            "description": "Pick your bday",
            "description_tooltip": null,
            "disabled": false,
            "layout": "IPY_MODEL_e21b37191ecf4c2ebe2631b4baa11326",
            "style": "IPY_MODEL_9983dcad40ed4cde8bfceb5f4f9af9b5",
            "value": {
              "year": 2025,
              "month": 9,
              "date": 17
            }
          }
        },
        "e21b37191ecf4c2ebe2631b4baa11326": {
          "model_module": "@jupyter-widgets/base",
          "model_name": "LayoutModel",
          "model_module_version": "1.2.0",
          "state": {
            "_model_module": "@jupyter-widgets/base",
            "_model_module_version": "1.2.0",
            "_model_name": "LayoutModel",
            "_view_count": null,
            "_view_module": "@jupyter-widgets/base",
            "_view_module_version": "1.2.0",
            "_view_name": "LayoutView",
            "align_content": null,
            "align_items": null,
            "align_self": null,
            "border": null,
            "bottom": null,
            "display": null,
            "flex": null,
            "flex_flow": null,
            "grid_area": null,
            "grid_auto_columns": null,
            "grid_auto_flow": null,
            "grid_auto_rows": null,
            "grid_column": null,
            "grid_gap": null,
            "grid_row": null,
            "grid_template_areas": null,
            "grid_template_columns": null,
            "grid_template_rows": null,
            "height": null,
            "justify_content": null,
            "justify_items": null,
            "left": null,
            "margin": null,
            "max_height": null,
            "max_width": null,
            "min_height": null,
            "min_width": null,
            "object_fit": null,
            "object_position": null,
            "order": null,
            "overflow": null,
            "overflow_x": null,
            "overflow_y": null,
            "padding": null,
            "right": null,
            "top": null,
            "visibility": null,
            "width": null
          }
        },
        "9983dcad40ed4cde8bfceb5f4f9af9b5": {
          "model_module": "@jupyter-widgets/controls",
          "model_name": "DescriptionStyleModel",
          "model_module_version": "1.5.0",
          "state": {
            "_model_module": "@jupyter-widgets/controls",
            "_model_module_version": "1.5.0",
            "_model_name": "DescriptionStyleModel",
            "_view_count": null,
            "_view_module": "@jupyter-widgets/base",
            "_view_module_version": "1.2.0",
            "_view_name": "StyleView",
            "description_width": "initial"
          }
        },
        "2f2f097c16304084a294632d057e07a7": {
          "model_module": "@jupyter-widgets/controls",
          "model_name": "ButtonModel",
          "model_module_version": "1.5.0",
          "state": {
            "_dom_classes": [],
            "_model_module": "@jupyter-widgets/controls",
            "_model_module_version": "1.5.0",
            "_model_name": "ButtonModel",
            "_view_count": null,
            "_view_module": "@jupyter-widgets/controls",
            "_view_module_version": "1.5.0",
            "_view_name": "ButtonView",
            "button_style": "",
            "description": "Simulate!",
            "disabled": false,
            "icon": "",
            "layout": "IPY_MODEL_c4df493f93304239b552d7fe6cfc5be2",
            "style": "IPY_MODEL_6ea26876ca724a41b66826602041e611",
            "tooltip": ""
          }
        },
        "c4df493f93304239b552d7fe6cfc5be2": {
          "model_module": "@jupyter-widgets/base",
          "model_name": "LayoutModel",
          "model_module_version": "1.2.0",
          "state": {
            "_model_module": "@jupyter-widgets/base",
            "_model_module_version": "1.2.0",
            "_model_name": "LayoutModel",
            "_view_count": null,
            "_view_module": "@jupyter-widgets/base",
            "_view_module_version": "1.2.0",
            "_view_name": "LayoutView",
            "align_content": null,
            "align_items": null,
            "align_self": null,
            "border": null,
            "bottom": null,
            "display": null,
            "flex": null,
            "flex_flow": null,
            "grid_area": null,
            "grid_auto_columns": null,
            "grid_auto_flow": null,
            "grid_auto_rows": null,
            "grid_column": null,
            "grid_gap": null,
            "grid_row": null,
            "grid_template_areas": null,
            "grid_template_columns": null,
            "grid_template_rows": null,
            "height": null,
            "justify_content": null,
            "justify_items": null,
            "left": null,
            "margin": null,
            "max_height": null,
            "max_width": null,
            "min_height": null,
            "min_width": null,
            "object_fit": null,
            "object_position": null,
            "order": null,
            "overflow": null,
            "overflow_x": null,
            "overflow_y": null,
            "padding": null,
            "right": null,
            "top": null,
            "visibility": null,
            "width": null
          }
        },
        "6ea26876ca724a41b66826602041e611": {
          "model_module": "@jupyter-widgets/controls",
          "model_name": "ButtonStyleModel",
          "model_module_version": "1.5.0",
          "state": {
            "_model_module": "@jupyter-widgets/controls",
            "_model_module_version": "1.5.0",
            "_model_name": "ButtonStyleModel",
            "_view_count": null,
            "_view_module": "@jupyter-widgets/base",
            "_view_module_version": "1.2.0",
            "_view_name": "StyleView",
            "button_color": null,
            "font_weight": ""
          }
        }
      }
    }
  },
  "cells": [
    {
      "cell_type": "markdown",
      "metadata": {
        "id": "view-in-github",
        "colab_type": "text"
      },
      "source": [
        "<a href=\"https://colab.research.google.com/github/Dingcyber/Studymaterials/blob/main/Mathematics%20for%20ML/Probability%26Statistics_notes.ipynb\" target=\"_parent\"><img src=\"https://colab.research.google.com/assets/colab-badge.svg\" alt=\"Open In Colab\"/></a>"
      ]
    },
    {
      "cell_type": "markdown",
      "source": [
        "# 工具集（toolkit）"
      ],
      "metadata": {
        "id": "VSassw9uWPuP"
      }
    },
    {
      "cell_type": "markdown",
      "source": [
        "## Matplotlib\n",
        "\n",
        "---\n",
        "\n",
        "* `%matplotlib widget`: 魔法命令，用于在Jupyter Notebook|Lab中启用交互式matplotlib绘图\n",
        "* `.set_title()`: 坐标轴对象`Axes`的方法，用于设置图表的标题\n",
        "* `.scatter(x,y,s=None,c=None,marker=None,alpha=None,**kwargs)`: 绘制散点图的方法，用于在二维平面上显示数据点的分布。当参数设置为`None`时，`Matplotlib`会使用内部的默认值\n",
        "  * `x,y`: 数组，数据点的x，y坐标，必需\n",
        "  * `s`: 标量或数组，点的大小，默认值为20\n",
        "  * `c`: 字符串，点的颜色，默认值为`\"b\"`蓝色\n",
        "  * `marker`: 字符串，点的形状，默认值为`\"o\"`圆形\n",
        "  * `alpha`: 透明度（0-1），默认值为1（不透明）\n",
        "  * `label`: 图例标签，默认值为None\n",
        "* `.clear()`: 坐标轴对象`Axes`的方法，用于清除坐标轴上的所有内容，直接调用，不需要任何参数，返回值None\n",
        "* `.plot(x,y,fmt,**kwargs)`: 通过连接给定的数据点来创建线条\n",
        "  * `x,y`: 列表，数据点的x，y坐标，示例：`[1,2,3],[4,5,6]`\n",
        "  * `fmt`: 格式字符串，颜色+标记+线型，如`ro-`\n",
        "  * `color`: 字符串，线条颜色\n",
        "  * `linestyle`: 字符串，线条样式\n",
        "  * `linewidth`: 浮点数，线条宽度\n",
        "  * `marker`: 字符串，数据点标记\n",
        "  * `markersize`: 标量，标记大小\n",
        "  * `label`: 字符串，图例标签\n",
        "  * `alpha`: 浮点数0-1，透明度\n",
        "* `.legend()`: 显式调用以显示图例"
      ],
      "metadata": {
        "id": "7rj0GfJyWu0_"
      }
    },
    {
      "cell_type": "markdown",
      "source": [
        "## Seaborn\n",
        "\n",
        "---\n",
        "* `import seaborn as sns`: 基于Matplotlib的Python的数据可视化库，专门用于创建统计图形\n",
        "* 数据可视化中指定数据源的两种主要方式\n",
        "  * `列名（Column Names）`: 当数据是DataFrames时，使用列名来指定要可视化的数据\n",
        "  * `数组`: 直接使用NumPy数组、Python列表等作为数据源\n",
        "* `sns.histplot(data=None, x=None, y=None, bins=\"auto\", **kwargs)`: 高级直方图函数，用于可视化数值数据的分布\n",
        "  * `data`: 输入数据集（DataFrame、数组、列表等）\n",
        "  * `x,y`: 指定数据的列名或数组\n",
        "  * `bins`: 分箱数量或分箱边界。分箱也成为分桶或离散化，是将连续数值数据划分为若干个离散区间的过程\n",
        "  * `ax`: 绘图的坐标轴对象\n",
        "  * `kde`: 是否显示核密度估计，默认为False\n",
        "  * `color`: 直方图颜色，默认调色板\n",
        "  * `alpha`: 透明度，默认0.75\n",
        "  * `stat`: 统计类型（`count`,`frequency`,`density`等），默认`count`\n",
        "* `sns.scatterplot(data=None, x=None, y=None, hue=None,style=None, size=None, **kwargs)`: 高级散点图函数，用于可视化两个数值变量之间的关系\n",
        "  * `data`: 输入数据集（DataFrame）\n",
        "  * `x,y`: 指定x轴和y轴的数据，必需\n",
        "  * `hue`: 分组变量，用颜色区分\n",
        "  * `style`: 点的形状\n",
        "  * `size`: 点的大小\n",
        "  * `ax`: 绘图的坐标轴对象\n",
        "  * `s`: 标量，点的大小\n",
        "  * `alpha`: 透明度\n",
        "  * `legend`: 是否显示图例\n"
      ],
      "metadata": {
        "id": "_rtK0EqwZzVf"
      }
    },
    {
      "cell_type": "markdown",
      "source": [
        "## IPyWidgets\n",
        "\n",
        "---\n",
        "\n",
        "* `import ipywidgets as widgets`：用于Jupyter Notebook的交互式HTML组件库，允许创建交互式用户界面，使数据分析和可视化更加动态和直观\n",
        "* `interact_manual`: 函数，创建手动触发的交互界面\n",
        "* `widgets.DatePicker()`: 交互式控件，提供了一个日历界面，用户可以通过它方便地选择年、月、日\n",
        "  * `description(str)`: 显示在控件旁边的描述文本\n",
        "  * `value(date)`: 控件的初始值，必须是`datetime.date`对象，默认是当前日期\n",
        "  * `disabled(bool)`: 如果为True，则控件不可用，默认为False\n",
        "  * `style(dict)`: 用于控制控件样式的字典，可以设置描述文字的宽度等。`{\"description width\":\"initial\"}`表示设置文本的宽度为初始值，避免被截断\n",
        "  * `layout(dict)`: 用于设置控件布局的字典，可以控制宽度、高度等\n",
        "* `widget.button()`: 创建一个按钮控件，用户可以点击它来触发绑定的事件处理函数\n",
        "  * `description(str)`: 显示在按钮上的文本\n",
        "  * `disabled(bool)`: 如果为True，则按钮不可用，默认为False\n",
        "  * `tooltip(str)`: 当鼠标悬停在按钮上时显示的提示文本\n",
        "  * `icon(str)`: 可选的图标名称，用于在按钮文本前显示图标\n",
        "  * `layout`|`style`: 用于控制按钮的布局和样式\n",
        "  * `.on_click(回调函数)`: `Button`控件的一个方法，用于注册一个回调函数（事件处理函数），当按钮被点击时，这个回调函数会被调用。回调函数定义时，必须接受一个参数b，参数`b`是触发事件的按钮实例本身(由系统自动传递)，通过`b`可以访问按钮的属性和方法\n",
        "* `display()`: `IPyWidgets`显示系统的一部分，用于在Jupyter Notebook中显示各种媒体类型（如文本、图像、HTML、小部件等）的对象\n",
        "* `.value`: `IPyWidgets`中各种控件的一个属性，用于获取或设置控件的当前值，在使用的时候直接访问它"
      ],
      "metadata": {
        "id": "JCWQgaRoaIUY"
      }
    },
    {
      "cell_type": "markdown",
      "source": [
        "## NumPy\n",
        "\n",
        "---\n",
        "* `np.random.randiant(low,high=None,size=None,dtype=int)`: 生成在指定范围内的随机整数\n",
        "  * `low`: 生成随机整数的最小值（包含）\n",
        "  * `high`: 生成随机整数的最大值（不包含）\n",
        "  * `size`: 输出数组的形状,`size=None`时，表示不指定特定的形状，此时函数返回一个标量（单个随机整数）\n",
        "  * `dtype`: 输出数组的数据类型"
      ],
      "metadata": {
        "id": "X2fRluLFXIdj"
      }
    },
    {
      "cell_type": "markdown",
      "source": [
        "## Python\n",
        "\n",
        "---\n",
        "* `utils`: 自定义工具模块，通常包含项目中重复使用的实用函数和类\n",
        "* `datetime`: Python中处理日期和时间的核心模块\n",
        "  * `date(year,month,day)`: 处理日期（年|月|日）\n",
        "  * `timedelta(days=0, seconds=0, microseconds=0, milliseconds=0, minutes=0, hours=0, weeks=0)`: 处理时间间隔。所有参数都是可选的，默认值为0\n",
        "  * `.strftime(\"%m-%d\")`: 用于将日期/时间对象（`datetime.date`）格式化为`月-日`字符串，如`01-15`(1月15日）。`%m`表示月份，`%d`表示日期，`%Y`表示四位月份，`%y`表示两位月份\n",
        "* `->`: 用于函数/方法的类型注解，表示该函数返回值的类型\n",
        "* `AttributeError`: 通常发生在对象没有某个属性或方法时\n",
        "* `list.index(element,start,end)`: 列表的方法，用于在列表中查找某个元素第一次出现的索引位置\n",
        "  * `element`: 要查找的元素\n",
        "  * `start`: 开始查找的起始位置\n",
        "  * `end`: 结束查找的结束位置\n",
        "* `Python中的假值`：在布尔上下文中被视为假的值，`not+假值`为真\n",
        "  * `None`: 空值\n",
        "  * `\"\"`: 空字符串\n",
        "  * `[]`: 空列表\n",
        "  * `False`: 假\n",
        "* `while True:` 创建无限循环（条件永远为真，循环会一直执行），必须依靠内部的`break`语句来退出循环\n",
        "* `None`: 在Python库中，用户可以通过将参数设置为`None`，传递`None`来使用默认值\n",
        "* `解包（Unpacking）`: 将可迭代对象（如列表、元组、字符串等）的元素分解并分配给多个变量的过程\n",
        "  * `*`: 可迭代对象解包操作符\n",
        "* `_`: 作为临时变量，表示“这个值我不关心”或“临时使用后丢弃”，可用于在循环中忽略索引、解包时忽略某些值、函数返回多个值时忽略部分\n"
      ],
      "metadata": {
        "id": "UD_K2VomYxsP"
      }
    },
    {
      "cell_type": "markdown",
      "source": [
        "### 创建自定义工具模块utils1\n",
        "\n",
        "---\n",
        "\n"
      ],
      "metadata": {
        "id": "Nod3f3MXbAC-"
      }
    },
    {
      "cell_type": "code",
      "source": [
        "import numpy as np\n",
        "from datetime import timedelta,date\n",
        "import matplotlib.pyplot as plt\n",
        "import seaborn as sns\n",
        "import ipywidgets as widgets\n",
        "from ipywidgets import interact_manual"
      ],
      "metadata": {
        "id": "CjZOI8yfYGaw"
      },
      "execution_count": null,
      "outputs": []
    },
    {
      "cell_type": "code",
      "source": [
        "# 定义生日类，用于模拟生日问题\n",
        "class your_bday:\n",
        "  # 初始化方法\n",
        "  def __init__(self) -> None: # `-> None`表示初始化方法不返回任何值\n",
        "    # 创建包含左右两个子图的图形对象\n",
        "    fig,(ax1,ax2) = plt.subplots(1, 2, figsize = (10,4)) # fig是整个图形对象，ax1和ax2分别是左右两个子图的坐标轴对象\n",
        "\n",
        "    # 将图形和坐标轴对象保存为实例变量，供其他方法使用\n",
        "    self.fig = fig\n",
        "    self.ax = ax1\n",
        "    self.ax_hist = ax2\n",
        "\n",
        "    self.dates = [\n",
        "        (date(2015,1,1)+ timedelta(days = n)).strftime(\"%m-%d\") for n in range(365)\n",
        "        ] # 从2015年1月1日开始，每天递增，生成365个连续的日期，将每个日期格式化为`月-日`字符串\n",
        "    self.match = False # 标志变量，表示是否找到生日匹配\n",
        "    self.bday_str = None # 存储用户选择的生日字符串，并初始化为None，表示bday对象的初始化bday_str属性为None\n",
        "    self.bday_index = None # 存储用户生日在self.date列表中的索引位置\n",
        "    self.n_students = 0 # 计数器，记录当前模拟中已添加的学生数量\n",
        "    self.history = [] # 列表，记录每次模拟成功时所需的学生数量\n",
        "    self.bday_picker = widgets.DatePicker(description = \"Pick your bday\", disabled = False, style = {\"description_width\":\"initial\"})\n",
        "    self.start_button = widgets.Button(description = \"Simulate!\")\n",
        "\n",
        "    display(self.bday_picker)\n",
        "    display(self.start_button)\n",
        "\n",
        "    self.start_button.on_click(self.on_button_clicked)\n",
        "\n",
        "  # 按钮点击事件处理\n",
        "  def on_button_clicked(self, b):\n",
        "    # 重置状态\n",
        "    self.match = False\n",
        "    self.n_students = 0\n",
        "\n",
        "    self.get_bday() # 获取用户输入的生日\n",
        "    self.add_students() # 开始模拟过程，不断添加学生直到找到匹配\n",
        "\n",
        "  # 获取生日\n",
        "  def get_bday(self):\n",
        "    try:\n",
        "      self.bday_str = self.bday_picker.value.strftime(\"%m-%d\")\n",
        "    except AttributeError:\n",
        "      self.ax.set_title(f\"Input a valid date and try again!\") # 更新图表标题，向用户显示错误信息\n",
        "      return\n",
        "    self.bday_index = self.dates.index(self.bday_str) # 在日期列表中查找生日字符串的索引位置\n",
        "\n",
        "  # 生成随机生日\n",
        "  def generate_bday(self):\n",
        "    gen_bday = np.random.randint(0,365)\n",
        "    if gen_bday == self.bday_index:\n",
        "      self.match = True\n",
        "\n",
        "  # 模拟添加学生\n",
        "  def add_students(self):\n",
        "    if not self.bday_str: # 如果用户没有选择日期，则`self.bday_str`保持为None，if条件为真，直接返回\n",
        "      return\n",
        "    while True:\n",
        "      # 退出条件检查：检查是否找到了生日匹配\n",
        "      if self.match:\n",
        "        self.history.append(self.n_students) # 将本次模拟所需的学生数量添加到历史记录中\n",
        "        n_runs = [i for i in range(len(self.history))] # 创建[0,1,2,...,n-1]的列表\n",
        "        self.ax.scatter(n_runs, self.history) # 在左子图上绘制散点图\n",
        "        self.ax_hist.clear() # 清除右子图的所有内容\n",
        "        sns.histplot(data=self.history,ax=self.ax_hist,bins=16) # 使用seaborn在右子图上绘制直方图，显示历史结果的分布情况\n",
        "        break\n",
        "\n",
        "      self.generate_bday() # 调用方法生成随机生日并检查匹配\n",
        "      self.n_students += 1 # 学生计数器加1\n",
        "      # 更新左子图的标题，显示当前状态：1.当前模拟已尝试的学生数量；2.总模拟次数（历史次数+当前运行）\n",
        "      self.ax.set_title(f\"Match found.It took {self.n_students} students.\\nNumber of runs: {len(self.history)+1}\")"
      ],
      "metadata": {
        "id": "qQUl8H1Ha-7G"
      },
      "execution_count": null,
      "outputs": []
    },
    {
      "cell_type": "code",
      "source": [
        "# 创建班级规模列表\n",
        "big_classroom_sizes = [*range(1,1000),5] # 创建包含1-999和额外数字5的列表\n",
        "small_classroom_sizes = [*range(1,80)] # 创建包含1-79的列表"
      ],
      "metadata": {
        "id": "x0A0TMupkeL4"
      },
      "execution_count": null,
      "outputs": []
    },
    {
      "cell_type": "code",
      "source": [
        "# 构建可视化模拟概率与班级规模关系的绘图函数\n",
        "def plot_simulated_probs(sim_probs,class_size):\n",
        "  \"\"\"\n",
        "  Input:\n",
        "  * sim_probs: 模拟得到的概率值列表/数组\n",
        "  * class_size: 对应的班级规模列表/数组\n",
        "  \"\"\"\n",
        "  fig,ax = plt.subplots(1,1,figsize = (10,4))\n",
        "  sns.scatterplot(x=class_size,y=sim_probs,ax=ax,label=\"simulated probabilities\")\n",
        "  ax.set_ylabel(\"Simulated Probability\")\n",
        "  ax.set_xlabel(\"Classroom Size\")\n",
        "  ax.set_title(\"Probability vs Number of Students\")\n",
        "  ax.plot([0,max(class_size)],[0.5,0.5],color=\"red\",label=\"p=0.5\") # 绘制概率为0.5的基准线\n",
        "  ax.legend() # 调用显示图例，即散点代表什么，基准线代表什么\n",
        "  plt.show()"
      ],
      "metadata": {
        "id": "NMrdtervkqXf"
      },
      "execution_count": null,
      "outputs": []
    },
    {
      "cell_type": "code",
      "source": [
        "class third_bday_problem:\n",
        "  def __init__(self) -> None:\n",
        "    fig,axes = plt.subplot_mosaic(\n",
        "        [[\"top row\",\"top row\"],[\"bottom left\",\"bottom right\"]],figsize=(10,8)\n",
        "    )\n",
        "    self.fig = fig\n",
        "    self.ax = axes[\"top row\"]\n",
        "    self.count_ax = axes[\"bottom left\"]\n",
        "    self.ax_hist = axes[\"bottem right\"]\n",
        "    self.ax.spines[\"top\"].set_color(\"none\")\n",
        "    self.ax.spines[\"right\"].set_color(\"none\")\n",
        "    self.ax.spines[\"left\"].set_color(\"none\")\n",
        "    self.ax.get_yaxis().set_visible(False)\n",
        "    x = np.arrange(365)\n",
        "    y = np.zeros((365,))\n",
        "    y[y == 0] = np.nan\n",
        "\n",
        "    self.x = x\n",
        "    self.y = y\n",
        "    self.y_match = y_match\n",
        "    self.match = False\n",
        "    self.n_students = 0\n",
        "\n",
        "    self.dates = [\n",
        "        (date(2015, 1, 1) + timedelta(days=n)).strftime(\"%m-%d\") for n in range(365)\n",
        "        ]\n",
        "    self.month_names = [\n",
        "        \"January\",\n",
        "        \"February\",\n",
        "        \"March\",\n",
        "        \"April\",\n",
        "        \"May\",\n",
        "        \"June\",\n",
        "        \"July\",\n",
        "        \"August\",\n",
        "        \"September\",\n",
        "        \"October\",\n",
        "        \"November\",\n",
        "        \"December\",\n",
        "        ]\n",
        "\n",
        "    self.history = []\n",
        "    self.match_index = None\n",
        "    self.match_str = None\n",
        "\n",
        "    self.cpoint = self.fig.canvas.mpl_connect(\"button_press_event\", self.on_button_clicked)\n",
        "\n",
        "    # self.start_button = widgets.Button(description=\"Simulate!\")\n",
        "\n",
        "    # display(self.start_button)\n",
        "\n",
        "    # self.start_button.on_click(self.on_button_clicked)\n",
        "\n",
        "  def generate_bday(self):\n",
        "    gen_bday = np.random.randint(0, 365)\n",
        "\n",
        "    if not np.isnan(self.y[gen_bday]):\n",
        "      self.match_index = gen_bday\n",
        "      self.match_str = self.dates[gen_bday]\n",
        "      self.y_match[gen_bday] = 1\n",
        "      self.match = True\n",
        "      self.y[gen_bday] = 0.5\n",
        "\n",
        "  def on_button_clicked(self, event):\n",
        "    if event.inaxes in [self.ax]:\n",
        "      self.new_run()\n",
        "      self.add_students()\n",
        "\n",
        "  def add_students(self):\n",
        "\n",
        "    while True:\n",
        "      if self.match:\n",
        "        self.history.append(self.n_students)\n",
        "        n_runs = [i for i in range(len(self.history))]\n",
        "        self.count_ax.scatter(n_runs, self.history)\n",
        "        self.count_ax.set_ylabel(\"# of students\")\n",
        "        self.count_ax.set_xlabel(\"# of simulations\")\n",
        "\n",
        "        month_str = self.month_names[int(self.match_str.split(\"-\")[0]) - 1]\n",
        "        day_value = self.match_str.split(\"-\")[1]\n",
        "        self.ax.set_title(\n",
        "            f\"Match found for {month_str} {day_value}\\nIt took {self.n_students} students to get a match\"\n",
        "            )\n",
        "        self.ax_hist.clear()\n",
        "        sns.histplot(data=self.history, ax=self.ax_hist, bins=\"auto\")\n",
        "        break\n",
        "\n",
        "        self.generate_bday()\n",
        "        self.n_students += 1\n",
        "        self.ax.set_title(f\"Number of students: {self.n_students}\")\n",
        "\n",
        "        self.fig.canvas.draw()\n",
        "        self.fig.canvas.flush_events()\n",
        "\n",
        "        if not np.isnan(self.y_match).all():\n",
        "          markerline, stemlines, baseline = self.ax.stem(\n",
        "              self.x, self.y_match, markerfmt=\"*\"\n",
        "              )\n",
        "          plt.setp(markerline, color=\"green\")\n",
        "          plt.setp(stemlines, \"color\", plt.getp(markerline, \"color\"))\n",
        "          plt.setp(stemlines, \"linestyle\", \"dotted\")\n",
        "        self.ax.stem(self.x, self.y, markerfmt=\"o\")\n",
        "\n",
        "  def new_run(self):\n",
        "    y = np.zeros((365,))\n",
        "    y[y == 0] = np.nan\n",
        "    y_match = np.zeros((365,))\n",
        "    y_match[y_match == 0] = np.nan\n",
        "    self.y_match = y_match\n",
        "    self.y = y\n",
        "    self.n_students = 0\n",
        "    self.match = False\n",
        "    self.ax.clear()"
      ],
      "metadata": {
        "id": "QOVeHmGolwRa"
      },
      "execution_count": null,
      "outputs": []
    },
    {
      "cell_type": "code",
      "source": [],
      "metadata": {
        "id": "NrpRXFS6T8NL"
      },
      "execution_count": null,
      "outputs": []
    },
    {
      "cell_type": "markdown",
      "source": [
        "# 经典概率问题"
      ],
      "metadata": {
        "id": "1Be4DNUJOQda"
      }
    },
    {
      "cell_type": "markdown",
      "source": [
        "## 生日问题（Birthday problems）\n",
        "\n",
        "---\n",
        "* 生日问题1：在一个房间里，至少需要多少人，才能使得“至少有两个人生日相同”的概率大于0.5？\n",
        "  * `蒙特卡洛方法|Monte Carlo Method`：一类通过随机抽样和统计模拟来解决数学问题的计算方法\n",
        "  * `大数定律|Law of Large Numbers`： 概率论中的核心定理，描述了当实验次数足够多时，随机事件的频率会收敛到其概率\n"
      ],
      "metadata": {
        "id": "l11yJWO3OUQh"
      }
    },
    {
      "cell_type": "markdown",
      "source": [
        "### 模拟小游戏\n",
        "\n",
        "---\n",
        "\n"
      ],
      "metadata": {
        "id": "UgHL79YgY46k"
      }
    },
    {
      "cell_type": "code",
      "source": [
        "import numpy as np\n",
        "import matplotlib.pyplot as plt\n",
        "\n",
        "# Colab不支持widget后端，因此没法实施更新，可使用ipywidgets+输出重绘（之后再研究）\n",
        "# %matplotlib widget"
      ],
      "metadata": {
        "id": "UKq2hElzymYd"
      },
      "execution_count": null,
      "outputs": []
    },
    {
      "cell_type": "code",
      "source": [
        "game = your_bday()"
      ],
      "metadata": {
        "colab": {
          "base_uri": "https://localhost:8080/",
          "height": 427,
          "referenced_widgets": [
            "bf5335448a704a4b94653aa569a53e18",
            "e21b37191ecf4c2ebe2631b4baa11326",
            "9983dcad40ed4cde8bfceb5f4f9af9b5",
            "2f2f097c16304084a294632d057e07a7",
            "c4df493f93304239b552d7fe6cfc5be2",
            "6ea26876ca724a41b66826602041e611"
          ]
        },
        "id": "QJHsmtE50pr9",
        "outputId": "cc50d194-fa7f-4b2c-c10b-22aebbe1bf35"
      },
      "execution_count": null,
      "outputs": [
        {
          "output_type": "display_data",
          "data": {
            "text/plain": [
              "DatePicker(value=None, description='Pick your bday', style=DescriptionStyle(description_width='initial'))"
            ],
            "application/vnd.jupyter.widget-view+json": {
              "version_major": 2,
              "version_minor": 0,
              "model_id": "bf5335448a704a4b94653aa569a53e18"
            }
          },
          "metadata": {}
        },
        {
          "output_type": "display_data",
          "data": {
            "text/plain": [
              "Button(description='Simulate!', style=ButtonStyle())"
            ],
            "application/vnd.jupyter.widget-view+json": {
              "version_major": 2,
              "version_minor": 0,
              "model_id": "2f2f097c16304084a294632d057e07a7"
            }
          },
          "metadata": {}
        },
        {
          "output_type": "display_data",
          "data": {
            "text/plain": [
              "<Figure size 1000x400 with 2 Axes>"
            ],
            "image/png": "[encoded data removed]"
          },
          "metadata": {}
        }
      ]
    },
    {
      "cell_type": "markdown",
      "source": [
        "### 生日问题1\n",
        "\n",
        "---\n",
        "\n"
      ],
      "metadata": {
        "id": "8PHY_uCMW6tV"
      }
    },
    {
      "cell_type": "code",
      "source": [
        "# 构造模拟函数：通过蒙特卡洛模拟的方法，重复实验多次来估算某个概率问题的发生概率\n",
        "def simulate(problem_func,n_students=365,n_simulations=1000):\n",
        "  \"\"\"\n",
        "  Input:\n",
        "  * problem_func: 函数，用于检测是否发生了我们关心的事件\n",
        "  * n_students: 班级规模\n",
        "  * n_simulations: 模拟次数\n",
        "  Return：事件发生次数的概率\n",
        "  \"\"\"\n",
        "\n",
        "  # 初始化匹配次数为0\n",
        "  matches = 0\n",
        "\n",
        "  # 循环执行模拟多次\n",
        "  for _ in range(n_simulations):\n",
        "\n",
        "    # 调用传入的problem_func函数，如果返回True，说明发生了我们关心的事件，计数器加1\n",
        "    if problem_func(n_students):\n",
        "      matches += 1\n",
        "\n",
        "  # 用匹配次数/模拟次数计算出概率并返回\n",
        "  return matches/n_simulations"
      ],
      "metadata": {
        "id": "FAQFyvRDXC1r"
      },
      "execution_count": null,
      "outputs": []
    },
    {
      "cell_type": "code",
      "source": [
        "# 构造解决生日问题1的函数\n",
        "def problem_1(n_students):\n",
        "\n",
        "  # 随机选择一个数作为预先设定的生日\n",
        "  predef_bday = np.random.randint(0,365)\n",
        "\n",
        "  # 生成包含n_students个随机整数的数组，每个整数在0-364之间，代表每个学生的生日\n",
        "  gen_bdays = np.random.randint(0,365,(n_students))\n",
        "  return predf_bday in gen_bdays"
      ],
      "metadata": {
        "id": "0epe-aabb7Ct"
      },
      "execution_count": null,
      "outputs": []
    }
  ]
}