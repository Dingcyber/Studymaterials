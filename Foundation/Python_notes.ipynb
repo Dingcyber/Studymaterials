{
  "nbformat": 4,
  "nbformat_minor": 0,
  "metadata": {
    "colab": {
      "provenance": [],
      "collapsed_sections": [
        "IY3PvA5W-hXh",
        "fbg9Zxgg_bpT",
        "_qgJwaFgAqby",
        "yEzZUDLFMVS-",
        "QLnyNqc-CcnU",
        "TXNR0t6LOuL9",
        "ghy-Qfurs9UF",
        "aMrFA5Erw0aC",
        "99OFSzoSQ3cl",
        "3W9TjFA7KLsQ",
        "SMFU8e0eTujE",
        "YLuyGKRYT201",
        "Swfts0xqT8q8",
        "iwjxLj-qxgwD",
        "JyasOtNnH82s",
        "TauT9MjANeBj",
        "XFeFEILKT94H",
        "DDbVQzXSraG4",
        "BQunYYgMrz9m",
        "3L0p1YDLXnJ4",
        "Jm1QrDDOP--F",
        "K6Pl1rMUXUpZ",
        "7xEkgLtgUTNm",
        "XHSR2yLxUYkE",
        "aOZTLnypUiil",
        "TfAh1jCJUyck",
        "m2DiI_YCmLnV"
      ],
      "toc_visible": true,
      "mount_file_id": "1-NFAGRTWKxSg-IDSushRsqIfmF2U5WeV",
      "authorship_tag": "ABX9TyNTHyaQt+LiGXVdrBCeGWVV",
      "include_colab_link": true
    },
    "kernelspec": {
      "name": "python3",
      "display_name": "Python 3"
    },
    "language_info": {
      "name": "python"
    }
  },
  "cells": [
    {
      "cell_type": "markdown",
      "metadata": {
        "id": "view-in-github",
        "colab_type": "text"
      },
      "source": [
        "<a href=\"https://colab.research.google.com/github/Dingcyber/Studymaterials/blob/main/Python_notes.ipynb\" target=\"_parent\"><img src=\"https://colab.research.google.com/assets/colab-badge.svg\" alt=\"Open In Colab\"/></a>"
      ]
    },
    {
      "cell_type": "markdown",
      "source": [
        "\n",
        "# **基础**"
      ],
      "metadata": {
        "id": "dIeVyNEJ-TlZ"
      }
    },
    {
      "cell_type": "markdown",
      "source": [
        "## 对象（object）\n",
        "\n",
        "---\n",
        "\n",
        "\n",
        "* type(): 查看对象类型\n",
        "* 类型转换(type conversions|casting)\n",
        "\n"
      ],
      "metadata": {
        "id": "IY3PvA5W-hXh"
      }
    },
    {
      "cell_type": "code",
      "source": [
        "# 查看对象类型\n",
        "print(type(\"anna\"))\n",
        "print(type(5))\n",
        "print(type(3.0))\n",
        "print(type(float(123)))\n",
        "print(type(round(7.9)))\n",
        "print(type(float(round(7.2))))"
      ],
      "metadata": {
        "colab": {
          "base_uri": "https://localhost:8080/"
        },
        "id": "9EBqfVaj-20T",
        "outputId": "b7da5291-6198-4bd4-dbed-a25dd83be53f"
      },
      "execution_count": null,
      "outputs": [
        {
          "output_type": "stream",
          "name": "stdout",
          "text": [
            "<class 'str'>\n",
            "<class 'int'>\n",
            "<class 'float'>\n",
            "<class 'float'>\n",
            "<class 'int'>\n",
            "<class 'float'>\n"
          ]
        }
      ]
    },
    {
      "cell_type": "code",
      "source": [
        "# 类型转换\n",
        "print(float(3))\n",
        "print(int(3.9))\n",
        "print(round(3.9)) # round()命令包含隐式转换(implict cast),round(5.9)时,会将其四舍五入并转换为整数"
      ],
      "metadata": {
        "colab": {
          "base_uri": "https://localhost:8080/"
        },
        "id": "CFHeIDvy_EQA",
        "outputId": "70a01176-9732-4ba8-b914-fe7cc02abeab"
      },
      "execution_count": null,
      "outputs": [
        {
          "output_type": "stream",
          "name": "stdout",
          "text": [
            "3.0\n",
            "3\n",
            "4\n"
          ]
        }
      ]
    },
    {
      "cell_type": "markdown",
      "source": [
        "## 表达式（expressions）\n",
        "\n",
        "---\n",
        "\n"
      ],
      "metadata": {
        "id": "fbg9Zxgg_bpT"
      }
    },
    {
      "cell_type": "code",
      "source": [
        "# 表达式\n",
        "print((13 - 4) / (12 * 12))\n",
        "print(type(4 * 3))\n",
        "print(type(4.0 * 3))\n",
        "print(int(1 / 2))"
      ],
      "metadata": {
        "colab": {
          "base_uri": "https://localhost:8080/"
        },
        "id": "SsfzNut6_iCx",
        "outputId": "d4194939-76dc-4015-8b56-7c7f53d8f16e"
      },
      "execution_count": null,
      "outputs": [
        {
          "output_type": "stream",
          "name": "stdout",
          "text": [
            "0.0625\n",
            "<class 'int'>\n",
            "<class 'float'>\n",
            "0\n"
          ]
        }
      ]
    },
    {
      "cell_type": "markdown",
      "source": [
        "## 变量（variables）\n",
        "\n",
        "---\n",
        "\n"
      ],
      "metadata": {
        "id": "_qgJwaFgAqby"
      }
    },
    {
      "cell_type": "code",
      "source": [
        "# 变量\n",
        "# 6 = x # 错误\n",
        "# x * y = 3 + 4 # 错误,左边有运算符(是表达式)\n",
        "xy = 3 + 4"
      ],
      "metadata": {
        "id": "zhy_3JIYA2MB"
      },
      "execution_count": null,
      "outputs": []
    },
    {
      "cell_type": "code",
      "source": [
        "# 用pi的近似值计算面积(area)和周长(circumference)\n",
        "pi = 355/113\n",
        "radius = 2.2\n",
        "area = pi * (radius ** 2)\n",
        "circumference = pi * (radius * 2)\n",
        "\n",
        "print(area)\n",
        "print(circumference)"
      ],
      "metadata": {
        "colab": {
          "base_uri": "https://localhost:8080/"
        },
        "id": "Jj7QtF33A8hY",
        "outputId": "7b788ffd-883c-45bd-db51-3c9050dac933"
      },
      "execution_count": null,
      "outputs": [
        {
          "output_type": "stream",
          "name": "stdout",
          "text": [
            "15.205309734513278\n",
            "13.823008849557525\n"
          ]
        }
      ]
    },
    {
      "cell_type": "code",
      "source": [
        "# 交换变量x和y的绑定值,需要引入一个临时变量存储x或y的值\n",
        "x = 1\n",
        "y = 2\n",
        "print(x)\n",
        "print(y)\n",
        "\n",
        "temp = y\n",
        "y = x\n",
        "x = temp\n",
        "print(x)\n",
        "print(y)"
      ],
      "metadata": {
        "colab": {
          "base_uri": "https://localhost:8080/"
        },
        "id": "A1ENsFkCBd-6",
        "outputId": "34ea8dfe-6aa1-4c95-caf2-5621241b32c7"
      },
      "execution_count": null,
      "outputs": [
        {
          "output_type": "stream",
          "name": "stdout",
          "text": [
            "1\n",
            "2\n",
            "2\n",
            "1\n"
          ]
        }
      ]
    },
    {
      "cell_type": "markdown",
      "source": [
        "## 二进制数（binary numbers）\n",
        "\n",
        "---\n",
        "\n"
      ],
      "metadata": {
        "id": "yEzZUDLFMVS-"
      }
    },
    {
      "cell_type": "code",
      "source": [
        "# 浮点误差(floating point error)\n",
        "x = 0\n",
        "for i in range(10):\n",
        "\tx += 0.1\n",
        "print(x == 1)\n",
        "print(x, \"==\",10 * 0.1)"
      ],
      "metadata": {
        "colab": {
          "base_uri": "https://localhost:8080/"
        },
        "id": "bvfN_c2YNcQl",
        "outputId": "fe0dc07b-0128-4c5b-912a-c20db887095f"
      },
      "execution_count": null,
      "outputs": [
        {
          "output_type": "stream",
          "name": "stdout",
          "text": [
            "False\n",
            "0.9999999999999999 == 1.0\n"
          ]
        }
      ]
    },
    {
      "cell_type": "code",
      "source": [
        "# 十进制转二进制数：整数\n",
        "num = int(input(\"请输入一个整数作为num的值:\"))\n",
        "Binum = \"\"\n",
        "is_neg = False\n",
        "if num < 0:\n",
        "\tis_neg = True\n",
        "\tnum = abs(num)\n",
        "if num == 0:\n",
        "\tBinum = \"0\"\n",
        "while num > 0:\n",
        "\tBinum = str(num % 2 ) + Binum\n",
        "\tnum = num  // 2\n",
        "if is_neg:\n",
        "\tBinum = \"-\" + Binum\n",
        "print(Binum)"
      ],
      "metadata": {
        "colab": {
          "base_uri": "https://localhost:8080/"
        },
        "id": "2wtya1qANjmt",
        "outputId": "ad53cf4a-421a-498c-f780-d2f8a79f6f7b"
      },
      "execution_count": null,
      "outputs": [
        {
          "output_type": "stream",
          "name": "stdout",
          "text": [
            "请输入一个整数作为num的值:10\n",
            "1010\n"
          ]
        }
      ]
    },
    {
      "cell_type": "code",
      "source": [
        "# 十进制转二进制数：分数\n",
        "frac = 31.25\n",
        "# 找出2的幂次方使得分数可以化为整数\n",
        "p = 0\n",
        "while ((2 ** p) * frac) % 1 != 0:\n",
        "\tprint(\"Remainder = \" + str((2 ** p) * frac - int((2**p) * frac)))\n",
        "\tp += 1\n",
        "# 把这个整数转换为二进制数\n",
        "inte = int(frac * (2 ** p))\n",
        "print(inte)\n",
        "Bi_frac = \"\"\n",
        "if inte == 0:\n",
        "\tBi_frac = \"0\"\n",
        "while inte > 0:\n",
        "\tBi_frac = str(inte % 2) + Bi_frac\n",
        "\tinte = inte // 2\n",
        "print(Bi_frac)\n",
        "# 补位\n",
        "for i in range(p - len(Bi_frac)):\n",
        "\tBi_frac = \"0\" + Bi_frac\n",
        "print(Bi_frac)\n",
        "# 移动小数点得到分数的二进制数\n",
        "Bi_frac = Bi_frac[0: -p] + \".\" + Bi_frac[-p:]\n",
        "print(Bi_frac)"
      ],
      "metadata": {
        "colab": {
          "base_uri": "https://localhost:8080/"
        },
        "id": "97gvu2QDNxVF",
        "outputId": "f89d5e86-2410-4731-be0e-7d68a6f31100"
      },
      "execution_count": null,
      "outputs": [
        {
          "output_type": "stream",
          "name": "stdout",
          "text": [
            "Remainder = 0.25\n",
            "Remainder = 0.5\n",
            "125\n",
            "1111101\n",
            "1111101\n",
            "11111.01\n"
          ]
        }
      ]
    },
    {
      "cell_type": "markdown",
      "source": [
        "## 输入 | 输出（input | output）\n",
        "\n",
        "---\n",
        "\n",
        "\n",
        "* print(): 打印函数\n",
        "  * 逗号自动插入空格\n",
        "* f-string: 格式化输出函数， {}中的是表达式\n",
        "* input()： 输入函数，返回值总是一个字符串，需要显式转换成其他类型"
      ],
      "metadata": {
        "id": "QLnyNqc-CcnU"
      }
    },
    {
      "cell_type": "code",
      "source": [
        "# 打印函数 print()\n",
        "a = \"the\"\n",
        "b = 3\n",
        "c = \"musketeers\"\n",
        "print(a, b, c) # 逗号自动插入空格\n",
        "# print(a + b + c) # 类型错误:不能将字符串和整数串联在一起\n",
        "print(a + str(b) + c)"
      ],
      "metadata": {
        "colab": {
          "base_uri": "https://localhost:8080/"
        },
        "id": "O842HQ9TKa9X",
        "outputId": "0813655a-06ed-4340-bbfe-9a7ad6acaba1"
      },
      "execution_count": null,
      "outputs": [
        {
          "output_type": "stream",
          "name": "stdout",
          "text": [
            "the 3 musketeers\n",
            "the3musketeers\n"
          ]
        }
      ]
    },
    {
      "cell_type": "code",
      "source": [
        "# 格式化输出函数\n",
        "num = 3000\n",
        "fraction = 1/3\n",
        "print(f\"{num*fraction} is {fraction*100}% of {num}\")"
      ],
      "metadata": {
        "colab": {
          "base_uri": "https://localhost:8080/"
        },
        "id": "fL8KWD5gKufv",
        "outputId": "27d19b38-0993-4155-cc52-f2f8b0af72cc"
      },
      "execution_count": null,
      "outputs": [
        {
          "output_type": "stream",
          "name": "stdout",
          "text": [
            "1000.0 is 33.33333333333333% of 3000\n"
          ]
        }
      ]
    },
    {
      "cell_type": "code",
      "source": [
        "# 输入函数\n",
        "text = input(\"请输入文字:\")\n",
        "print(5 * text)\n",
        "num1 = input(\"请输入一个数字:\")\n",
        "print(5 * num1)\n",
        "num2 = int(input(\"请输入一个数字:\"))\n",
        "print(5 * num2)\n",
        "\n",
        "verb = input(\"请输入一个动词:\")\n",
        "print(\"我能比你\" + verb + \"得快\")\n",
        "print((verb + \" \") * 5)"
      ],
      "metadata": {
        "colab": {
          "base_uri": "https://localhost:8080/"
        },
        "id": "YS7RJUpuLCVW",
        "outputId": "5d413e6e-b76c-4c11-9c2f-a4f3243f202c"
      },
      "execution_count": null,
      "outputs": [
        {
          "output_type": "stream",
          "name": "stdout",
          "text": [
            "请输入文字:1\n",
            "11111\n",
            "请输入一个数字:2\n",
            "22222\n",
            "请输入一个数字:3\n",
            "15\n",
            "请输入一个动词:走\n",
            "我能比你走得快\n",
            "走 走 走 走 走 \n"
          ]
        }
      ]
    },
    {
      "cell_type": "markdown",
      "source": [
        "## 调试（debugging）\n",
        "\n",
        "---\n",
        "\n",
        "\n",
        "* 调试步骤\n",
        "  * 运行代码\n",
        "  * 添加打印语句\n",
        "  * 修正\n",
        "* 异常(Exceptions): 常用于处理用户输入(user input)\n",
        "  * 简单try|except\n",
        "  * 用except来捕获不同错误\n",
        "  * 用except来抛出异常并传递自定义信息\n",
        "* 断言(Assertions)\n",
        "  * assert关键字：如果断言条件为假,则抛出AssertError异常"
      ],
      "metadata": {
        "id": "TXNR0t6LOuL9"
      }
    },
    {
      "cell_type": "markdown",
      "source": [
        "### 调试步骤\n",
        "\n",
        "---\n",
        "\n",
        "\n"
      ],
      "metadata": {
        "id": "qB01EUAMQYhV"
      }
    },
    {
      "cell_type": "code",
      "source": [
        "# 调试函数\n",
        "def is_pal(x):\n",
        "\t\"\"\"\n",
        "\tInput: x, 列表\n",
        "\tReturn:如果x是回文(palindrome)则返回真(True),否则返回假(False)\n",
        "\t\"\"\"\n",
        "\ttemp = x\n",
        "\ttemp.reverse\n",
        "\tif temp == x:\n",
        "\t\treturn True\n",
        "\telse:\n",
        "\t\treturn False"
      ],
      "metadata": {
        "id": "hZQL7wRYO-Rs"
      },
      "execution_count": null,
      "outputs": []
    },
    {
      "cell_type": "code",
      "source": [
        "# 步骤一: 运行代码\n",
        "print(is_pal(list(\"abcba\"))) # input是[\"a\", \"b\", \"c\", \"b\", \"a\"]\n",
        "print(is_pal(list(\"ab\"))) # input是[\"a\", \"b\"]"
      ],
      "metadata": {
        "colab": {
          "base_uri": "https://localhost:8080/"
        },
        "id": "ItWH1NBSPKAk",
        "outputId": "e8fd5842-d163-44b8-df18-835370a704db"
      },
      "execution_count": null,
      "outputs": [
        {
          "output_type": "stream",
          "name": "stdout",
          "text": [
            "True\n",
            "True\n"
          ]
        }
      ]
    },
    {
      "cell_type": "code",
      "source": [
        "# 步骤二：添加打印语句\n",
        "def is_pal_print(x):\n",
        "\t\"\"\"\n",
        "\tInput: x, 列表\n",
        "\tReturn:如果x是回文(palindrome)则返回真(True),否则返回假(False)\n",
        "\t\"\"\"\n",
        "\ttemp = x\n",
        "\ttemp.reverse()\n",
        "\tprint(x)\n",
        "\tprint(temp)\n",
        "\tif temp == x:\n",
        "\t\treturn True\n",
        "\telse:\n",
        "\t\treturn False"
      ],
      "metadata": {
        "id": "EBNXzwkKP5bF"
      },
      "execution_count": null,
      "outputs": []
    },
    {
      "cell_type": "code",
      "source": [
        "# 步骤三: 运行代码\n",
        "print(is_pal_print(list(\"abcba\"))) # input是[\"a\", \"b\", \"c\", \"b\", \"a\"]\n",
        "print(is_pal_print(list(\"ab\"))) # input是[\"a\", \"b\"]"
      ],
      "metadata": {
        "colab": {
          "base_uri": "https://localhost:8080/"
        },
        "outputId": "b92e3a3c-0042-40d2-e12a-862e90440fb7",
        "id": "D0WMMISSQHtu"
      },
      "execution_count": null,
      "outputs": [
        {
          "output_type": "stream",
          "name": "stdout",
          "text": [
            "['a', 'b', 'c', 'b', 'a']\n",
            "['a', 'b', 'c', 'b', 'a']\n",
            "True\n",
            "['b', 'a']\n",
            "['b', 'a']\n",
            "True\n"
          ]
        }
      ]
    },
    {
      "cell_type": "code",
      "source": [
        "# 步骤四：修正\n",
        "def is_pal_debug(x):\n",
        "\t\"\"\"\n",
        "\tInput: x, 列表\n",
        "\tReturn:如果x是回文(palindrome)则返回真(True),否则返回假(False)\n",
        "\t\"\"\"\n",
        "\ttemp = x[:]\n",
        "\ttemp.reverse()\n",
        "\t#print(x)\n",
        "\t#print(temp)\n",
        "\tif temp == x:\n",
        "\t\treturn True\n",
        "\telse:\n",
        "\t\treturn False"
      ],
      "metadata": {
        "id": "4AMi-POUPcNl"
      },
      "execution_count": null,
      "outputs": []
    },
    {
      "cell_type": "code",
      "source": [
        "# 步骤五：运行代码\n",
        "print(is_pal_debug(list(\"abcba\"))) # input是[\"a\", \"b\", \"c\", \"b\", \"a\"]\n",
        "print(is_pal_debug(list(\"ab\"))) # input是[\"a\", \"b\"]"
      ],
      "metadata": {
        "colab": {
          "base_uri": "https://localhost:8080/"
        },
        "id": "9P0iXbK4QPs0",
        "outputId": "857ce9f6-dc58-4f0a-b07e-2b9a23ee1f17"
      },
      "execution_count": null,
      "outputs": [
        {
          "output_type": "stream",
          "name": "stdout",
          "text": [
            "True\n",
            "False\n"
          ]
        }
      ]
    },
    {
      "cell_type": "markdown",
      "source": [
        "### 异常\n",
        "\n",
        "---\n",
        "\n",
        "\n"
      ],
      "metadata": {
        "id": "2zFQUblNQ0hO"
      }
    },
    {
      "cell_type": "code",
      "source": [
        "# 简单try|except\n",
        "def sum_digits(s):\n",
        "\t\"\"\"\n",
        "\tInput: s, 包含数字的非空字符串\n",
        "\tReturn: 返回s中所有数字之和\n",
        "\t\"\"\"\n",
        "\ttotal = 0\n",
        "\tfor char in s:\n",
        "\t\ttry:\n",
        "\t\t\tval = int(char)\n",
        "\t\t\ttotal += val\n",
        "\t\texcept:\n",
        "\t\t\tprint(f\"{char}不能转化为数字\")\n",
        "\treturn total\n",
        "\n",
        "print(sum_digits(\"123\"))\n",
        "print(sum_digits(\"123abc\"))"
      ],
      "metadata": {
        "colab": {
          "base_uri": "https://localhost:8080/"
        },
        "id": "5dCo2cO2Q5q-",
        "outputId": "976dc4c5-c25d-4bcc-ffb6-37ee78ca735a"
      },
      "execution_count": null,
      "outputs": [
        {
          "output_type": "stream",
          "name": "stdout",
          "text": [
            "6\n",
            "a不能转化为数字\n",
            "b不能转化为数字\n",
            "c不能转化为数字\n",
            "6\n"
          ]
        }
      ]
    },
    {
      "cell_type": "code",
      "source": [
        "# 用except来捕获不同错误\n",
        "def divide_nums():\n",
        "\ttry:\n",
        "\t\ta = int(input(\"告诉我一个数字:\"))\n",
        "\t\tb = int(input(\"告诉我另一个数字:\"))\n",
        "\t\tprint(f\"{a}+{b}={a / b}\")\n",
        "\t\tprint(f\"{a}+{b}={a + b}\")\n",
        "\texcept ValueError:\n",
        "\t\tprint(\"不能转化为数字\")\n",
        "\texcept ZeroDivisionError:\n",
        "\t\tprint(\"不能除以零\")\n",
        "\t\tprint(f\"{a}/{b}=infinity\")\n",
        "\t\tprint(f\"{a}+{b}={a + b}\")\n",
        "\texcept:\n",
        "\t\tprint(\"出现了某些重大BUG\")\n",
        "\telse:\n",
        "\t\tprint(\"成功!\") # 当try代码块中所有命令被完美执行,else代码块中的命令会被执行"
      ],
      "metadata": {
        "id": "HbSJJ2tzRDRc"
      },
      "execution_count": null,
      "outputs": []
    },
    {
      "cell_type": "code",
      "source": [
        "# 用except来抛出异常并传递自定义信息\n",
        "def sum_digits_raise(s):\n",
        "\t\"\"\"\n",
        "\tInput: s, 包含数字的非空字符串\n",
        "\tReturn: 返回s中所有数字之和\n",
        "\t\"\"\"\n",
        "\ttotal = 0\n",
        "\tfor char in s:\n",
        "\t\ttry:\n",
        "\t\t\tval = int(char)\n",
        "\t\t\ttotal += val\n",
        "\t\texcept:\n",
        "\t\t\traise ValueError(\"字符串包含字母\")\n",
        "\treturn total\n",
        "\n",
        "print(sum_digits_raise(\"123\"))\n",
        "print(sum_digits_raise(\"123abc\"))"
      ],
      "metadata": {
        "id": "jUdNxWjCRR8k"
      },
      "execution_count": null,
      "outputs": []
    },
    {
      "cell_type": "markdown",
      "source": [
        "### 断言\n",
        "\n",
        "---\n",
        "\n",
        "\n"
      ],
      "metadata": {
        "id": "kGOqvdSuR8hF"
      }
    },
    {
      "cell_type": "code",
      "source": [
        "def sum_digit_assert(s):\n",
        "\t\"\"\"\n",
        "\tInput: s, 包含数字的非空字符串\n",
        "\tReturn: 返回s中所有数字之和\n",
        "\t\"\"\"\n",
        "\tassert len(s) != 0,\"s是空的\"\n",
        "\ttotal = 0\n",
        "\tfor char in s:\n",
        "\t\ttry:\n",
        "\t\t\tval = int(char)\n",
        "\t\t\ttotal += val\n",
        "\t\texcept:\n",
        "\t\t\traise ValueError(\"字符串包含字母\")\n",
        "\n",
        "print(sum_digit_assert(\"\"))\n",
        "print(sum_digit_assert(\"123\"))\n",
        "print(sum_digit_assert(\"123abc\"))"
      ],
      "metadata": {
        "id": "DLnip5IYR_BM"
      },
      "execution_count": null,
      "outputs": []
    },
    {
      "cell_type": "markdown",
      "source": [
        "### 练习\n",
        "\n",
        "---\n",
        "\n",
        "\n"
      ],
      "metadata": {
        "id": "-N5e8jK5SXvV"
      }
    },
    {
      "cell_type": "code",
      "source": [
        "# 除数对,若除数中含有0则抛出ValueError异常\n",
        "def pairwise_div(Lnum, Ldnum):\n",
        "\t\"\"\"\n",
        "\tInput: Lnum & Ldnum, 一对包括数字的长度相同的非空列表\n",
        "\tReturn:返回Lnum中每个数字除以相对应的Ldnum中的数字的商的字符串\n",
        "\tRaise:如果Ldnum中含有0,则抛出一个ValueError\n",
        "\t\"\"\"\n",
        "\tassert len(Lnum) != 0 and len(Ldnum) != 0,\"列表是空的\"\n",
        "\tassert len(Lnum) == len(Ldnum),\"列表长度不同\"\n",
        "\tdiv_list = []\n",
        "\ttry:\n",
        "\t\tdiv_list = [Lnum[i] / Ldnum[i] for i in range(len(Lnum))] # 列表推导式\n",
        "\texcept ZeroDivisionError:\n",
        "\t\traise ValueError(\"Ldnum中含有0\")\n",
        "  # 另一种方法\n",
        "\t#for i in range(len(Lnum)):\n",
        "\t#\ttry:\n",
        "\t#\t\tval = Lnum[i] / Ldnum[i]\n",
        "\t#\t\tdiv_list.append(val)\n",
        "\t#\texcept ZeroDivisionError:\n",
        "\t#\t\traise ValueError(\"Ldnum中含有0\")\n",
        "\treturn div_list"
      ],
      "metadata": {
        "id": "6BKjhcdtSbzV"
      },
      "execution_count": null,
      "outputs": []
    },
    {
      "cell_type": "code",
      "source": [
        "# 测试：除数对\n",
        "L1 = [4, 5, 6]\n",
        "L2 = [1, 2, 3]\n",
        "L3 = [1, 0, 3]\n",
        "L4 = [1, 2, 3, 4]\n",
        "L5 = []\n",
        "L6 = []\n",
        "print(pairwise_div(L1, L2))\n",
        "print(pairwise_div(L1, L3))\n",
        "print(pairwise_div(L1, L4))\n",
        "print(pairwise_div(L5, L6))"
      ],
      "metadata": {
        "id": "jhN4gjKJShQl"
      },
      "execution_count": null,
      "outputs": []
    },
    {
      "cell_type": "code",
      "source": [
        "# 添加平均成绩\n",
        "test_grades = [[[\"peter\", \"parker\"], [80.0, 70.0, 85.0]],\n",
        "               [[\"bruce\", \"wayne\"], [100.0, 80.0, 74.0]],\n",
        "               [[\"captain\",\"america\"], [80.0, 10.0, 96.0]],\n",
        "               [[\"deadpool\"],[]]]\n",
        "def get_stats(class_list):\n",
        "\tnew_stats = []\n",
        "\tfor stu in class_list:\n",
        "\t\tnew_stats.append([stu[0], stu[1], avg(stu[1])])\n",
        "\treturn new_stats\n",
        "def avg(grades):\n",
        "\ttry:\n",
        "\t\treturn sum(grades) / len(grades)\n",
        "\texcept ZeroDivisionError:\n",
        "\t\tprint(\"注意:有人没有成绩\")\n",
        "\t\treturn 0.0\n",
        "\t#另一种方法\n",
        "\t#assert len(grades) != 0,\"注意:有人没成绩\"\n",
        "\t#return sum(grades) / len(grades)"
      ],
      "metadata": {
        "id": "xtUeb_W5SyBl"
      },
      "execution_count": null,
      "outputs": []
    },
    {
      "cell_type": "code",
      "source": [
        "# 测试：添加平均成绩\n",
        "print(get_stats(test_grades))"
      ],
      "metadata": {
        "id": "8nTiQ3TFS2A9"
      },
      "execution_count": null,
      "outputs": []
    },
    {
      "cell_type": "markdown",
      "source": [
        "\n",
        "# 容器"
      ],
      "metadata": {
        "id": "iSmvtOglswNd"
      }
    },
    {
      "cell_type": "markdown",
      "source": [
        "## 字符串（Strings）\n",
        "\n",
        "---\n",
        "\n",
        "\n",
        "* 字符串属性：不可变（immutable）\n",
        "* 字符串操作\n",
        "  * 创建字符串\n",
        "  * 组合字符串\n",
        "    * 串联(concatenate): +\n",
        "    * 重复(repeat): *\n",
        "  * 查看字符串长度：len()\n",
        "  * 索引（Indexing）：通过索引提取字符串中特定位置的字符，在现代编程语言中，索引是从零开始的\n",
        "  * 切片（Slicing）:通过切片获取从一个索引开始直至另一个索引的子字符串，可以跳过某些字符\n",
        "    * 格式：[起始位置(start) : 停止位置(stop) : 步长(step)]\n",
        "    * 左闭右开：包括起始位置，不包括停止位置\n",
        "    * 默认起始位置为0，默认停止位置为-1(包括-1)，默认步长为1\n",
        "    * 步长的符号表示从左向右处理(+)或从右向左处理(-)\n"
      ],
      "metadata": {
        "id": "ghy-Qfurs9UF"
      }
    },
    {
      "cell_type": "code",
      "source": [
        "# 创建字符串\n",
        "a = \"me\"\n",
        "b = \"myself\"\n",
        "s = \"abc\"\n",
        "f = \"a\"\n",
        "g = \" b \"\n",
        "h = \"3\"\n",
        "w = \"abcdefgh\""
      ],
      "metadata": {
        "id": "EEwjZBKktG9d"
      },
      "execution_count": null,
      "outputs": []
    },
    {
      "cell_type": "code",
      "source": [
        "# 组合字符串\n",
        "c = a + b\n",
        "d = a + \" \" + b\n",
        "s1 = a * 3\n",
        "s2 = (f+g)*int(h)"
      ],
      "metadata": {
        "id": "lrtbQlrGtiu_"
      },
      "execution_count": null,
      "outputs": []
    },
    {
      "cell_type": "code",
      "source": [
        "# 查看字符串长度\n",
        "chars = len(s)\n",
        "print(chars)"
      ],
      "metadata": {
        "id": "v05DRAOgttxF"
      },
      "execution_count": null,
      "outputs": []
    },
    {
      "cell_type": "code",
      "source": [
        "# 索引\n",
        "s[0] # a\n",
        "s[1] # b\n",
        "s[2] # c\n",
        "s[-1] # c\n",
        "s[-2] # b\n",
        "s[-3] # a"
      ],
      "metadata": {
        "id": "STDQPF7LvBWJ"
      },
      "execution_count": null,
      "outputs": []
    },
    {
      "cell_type": "code",
      "source": [
        "# 切片\n",
        "w[3:6]\n",
        "w[3:6:2]\n",
        "w[:]\n",
        "w[::-1]\n",
        "w[4:1:-2]"
      ],
      "metadata": {
        "id": "XhVA6glfw4f9"
      },
      "execution_count": null,
      "outputs": []
    },
    {
      "cell_type": "markdown",
      "source": [
        "## 元组（Tuples）\n",
        "\n",
        "---\n",
        "\n",
        "\n",
        "* 元组属性\n",
        "  * 有序的: 可索引的有序对象序列\n",
        "  * 多相的(heterogeneous): 即元素可以是任意类型,包括数、字符、字符串、其他列表等\n",
        "  * 不可变的(immutable)\n",
        "* 元组操作\n",
        "  * 创建元组：t=()\n",
        "  * 组合：+\n",
        "  * 索引\n",
        "  * 切片\n",
        "  * 遍历元组\n",
        "* 元组应用\n",
        "  * 交换变量的值\n",
        "  * 从函数中返回多个值\n",
        "  * 作为函数的输入值，用符号*"
      ],
      "metadata": {
        "id": "aMrFA5Erw0aC"
      }
    },
    {
      "cell_type": "code",
      "source": [
        "# 元组操作：创建元组\n",
        "te = ()\n",
        "ts = (2,) # 逗号是为了区分只有一个元素的元组和括号作为运算的操作\n",
        "t = (2, \"mit\", 3)\n",
        "seq = (2, \"a\", 4, (1,2)) # 元组的元素可以是另一个元组"
      ],
      "metadata": {
        "id": "2XdN5QuC1lwi"
      },
      "execution_count": null,
      "outputs": []
    },
    {
      "cell_type": "code",
      "source": [
        "# 元组操作：组合、索引和切片\n",
        "t[0]\n",
        "t[1:2]\n",
        "t[1:3]\n",
        "new = (2, \"mit\", 3)+(5, 6)\n",
        "len(t) # 3\n",
        "max((3,5,0)) # 5\n",
        "seq[3][0] # 1"
      ],
      "metadata": {
        "id": "gUd4g0op1qMp"
      },
      "execution_count": null,
      "outputs": []
    },
    {
      "cell_type": "code",
      "source": [
        "# 元组操作：遍历元组\n",
        "for e in seq:\n",
        "\tprint(e)"
      ],
      "metadata": {
        "id": "2IRUQzW11ul5"
      },
      "execution_count": null,
      "outputs": []
    },
    {
      "cell_type": "code",
      "source": [
        "# 元组应用：交换变量的值\n",
        "x = 1\n",
        "y = 2\n",
        "(x, y) = (y, x) # 先对右侧做运算,再将运算得到的值赋给左侧"
      ],
      "metadata": {
        "id": "0tTk5B5a1yKK"
      },
      "execution_count": null,
      "outputs": []
    },
    {
      "cell_type": "code",
      "source": [
        "# 元组应用：从函数中返回多个值\n",
        "def quotient_and_remainder(x, y):\n",
        "\tq = x // y\n",
        "\tr = x % y\n",
        "\treturn(q, r)\n",
        "\n",
        "both = quotient_and_remainder(10,3)\n",
        "(quot, rem) = quotient_and_remainder(5,2)"
      ],
      "metadata": {
        "id": "pjlv9zj218ay"
      },
      "execution_count": null,
      "outputs": []
    },
    {
      "cell_type": "code",
      "source": [
        "# 元组应用：作为函数的输入值,用符号*\n",
        "def mean(*args): # Python会把args视为元组\n",
        "\ttot = 0\n",
        "\tfor a in args:\n",
        "\t\ttot += a\n",
        "\treturn tot / len(args)"
      ],
      "metadata": {
        "id": "H36_q9rM2EB7"
      },
      "execution_count": null,
      "outputs": []
    },
    {
      "cell_type": "code",
      "source": [
        "# 练习:用元组返回字符串中元音和辅音的数量\n",
        "def char_counts(s):\n",
        "\t\"\"\"\n",
        "\tInput: s, 小写字母组成的字符串\n",
        "\tReturn: 元组,第一个元素是元音(vowel)的数量,第二个元素是辅音(consonant)的数量\n",
        "\t\"\"\"\n",
        "\tcount_vowel = 0\n",
        "\tcount_consonant = 0\n",
        "\tv = \"aoeiu\"\n",
        "\tfor i in s:\n",
        "\t\tif i in v:\n",
        "\t\t\tcount_vowel += 1\n",
        "\t\telse:\n",
        "\t\t\tcount_consonant += 1\n",
        "\treturn(count_vowel, count_consonant)"
      ],
      "metadata": {
        "id": "SVINvIx52JzB"
      },
      "execution_count": null,
      "outputs": []
    },
    {
      "cell_type": "markdown",
      "source": [
        "## 列表（List）\n",
        "\n",
        "---\n",
        "\n",
        "\n",
        "* 列表属性\n",
        "  * 有序的：可索引的有序对象序列\n",
        "  * 多相的(heterogeneous),：元素可以是任意类型，包括数、字符、字符串、其他列表等\n",
        "  * 可变的(mutability)\n",
        "* 列表操作\n",
        "  * 创建列表：L=[ ]\n",
        "  * 组合列表\n",
        "  * 查看列表长度\n",
        "  * 索引：L[i]\n",
        "  * 切片：[start : stop : step ]\n",
        "  * 遍历列表：for i in L\n",
        "  * 查看列表内存编号：id()\n",
        "  * 创建别名：用赋值运算符(=)可以为内存中的统一对象创建别名\n",
        "    * 别名(Aliasing)：指代同一对象的不同名称\n",
        "    * 在函数中，形式参数实际是输入对象的别名\n",
        "  * 列表推导式(List Comprehension)：[expression for elem in iterable if test]\n",
        "    * 作用：将循环、条件判断和表达式组合在单行语句中，用于从现有可迭代对象生成新列表\n",
        "* 字符串<——>列表\n",
        "  * 字符串转列表：用lists(s)转换：会包括空格\n",
        "  * 字符串转列表：用s.split把字符串按某个符号拆分\n",
        "  * 列表转字符串：用\"\".join(L)\n",
        "* 可变性（mutability）\n",
        "  * 改变元素\n",
        "    * L[i] = a：把列表里的第i+1个元素变为a\n",
        "    * L.append(element)：在列表后面增加元素，但一次只能增加一个元素\n",
        "    * L.extend(some_list)：在列表后面增加多个元素\n",
        "    * L.clear()：清空列表中元素\n",
        "    * del(L[i]): 去除列表中的第i+1个元素\n",
        "    * L.pop(i): 去除列表中的第i+1个元素，默认去除最后一个元素\n",
        "    * L.remove(element): 去除列表中的element，如果这个元素出现多次，则删除第一次出现的元素\n",
        "  * 改变顺序\n",
        "    * L.sort(): 按某一原则排序(改变原有列表)\n",
        "    * sorted(): 按某一原则排序(不改变原有列表)\n",
        "    * L.reverse(): 倒序\n",
        "* 复制(cloning): 在内存中创建一个新的列表，把原有列表里的所有元素放到新的列表中\n",
        "  * 浅复制(shallow copy): 含有可变元素时，在列表的最外层进行复制，任何位于更深层次的可变对象都不会被复制，而是保持原有对象\n",
        "    * L[:]: 返回列表的浅复制\n",
        "    * copy.copy(): 返回列表的浅复制\n",
        "  * 深复制(deep copy): 含有可变元素时，复制所有层次\n",
        "    * copy.deepcopy(): 返回列表的深复制\n",
        "* 列表的存储方式\n",
        "  * 存储相同类型元素的列表：\n",
        "    * 列表中元素的存储位置按顺序分配固定的字节(例如整数是4位，32个字节)\n",
        "    * 列表的名字指向第一个元素的内存位置\n",
        "    * 访问第i个元素的内存位置：第一个元素的内存位置 + 元素所占字节数 * i = Θ(1)\n",
        "  * 存储不同类型元素的列表：\n",
        "    * 指针的存储位置按顺序分配固定的字节，指针指向元素的内存位置\n",
        "    * 列表的名字指向第一个指针的内存位置\n",
        "    * 访问第i个元素的内存位置：第一个指针的内存位置 + 指针所占字节数 * i + 1 = Θ(1)\n",
        "* 列表操作的复杂度\n",
        "  * 访问列表中的第i个元素(access): Θ(1)\n",
        "  * 存储(store): Θ(1)\n",
        "  * 查看长度(length): Θ(1)\n",
        "  * 添加元素(append): Θ(1)\n",
        "  * 检查相等(==): Θ(n)-->需要查看列表中的每个元素\n",
        "  * 删除元素(delete): Θ(n)\n",
        "  * 复制(copy): Θ(n)\n",
        "  * 反转(reverse): Θ(n)\n",
        "  * 遍历(iteration): Θ(n)-->需要查看列表中的每个元素\n",
        "  * 查找元素(in list): Θ(n)-->需要查看列表中的每个元素"
      ],
      "metadata": {
        "id": "99OFSzoSQ3cl"
      }
    },
    {
      "cell_type": "markdown",
      "source": [
        "### 列表操作\n",
        "\n",
        "---\n",
        "\n",
        "\n"
      ],
      "metadata": {
        "id": "fPfiaa8Ds1a6"
      }
    },
    {
      "cell_type": "code",
      "source": [
        "# 创建列表\n",
        "a_list = []\n",
        "L = [2, \"a\", 4, [1, 2]]\n",
        "\n",
        "# 组合\n",
        "[1, 2] + [3, 4] # [1, 2, 3, 4]\n",
        "\n",
        "# 查看列表长度\n",
        "len(L) # 4\n",
        "\n",
        "# 索引\n",
        "L[0] # 2\n",
        "L[2] + 1 # 5\n",
        "L[3]\n",
        "i = 2\n",
        "L[i - 1]"
      ],
      "metadata": {
        "id": "u9FZIiRQdhOB"
      },
      "execution_count": null,
      "outputs": []
    },
    {
      "cell_type": "code",
      "source": [
        "# 字符串转列表\n",
        "s = \"I<3 cs su\"\n",
        "Ls = list(s)  # ['I', '<', '3', ' ', 'c', 's', ' ', 's', 'u']\n",
        "\n",
        "# 字符串转列表\n",
        "Ls1 = s.split(\" \") # ['I<3', 'cs', 'su']\n",
        "Ls2 = s.split(\"<\") # ['I', '3 cs su']\n",
        "\n",
        "# 列表转字符串\n",
        "Lo = [\"a\", \"b\", \"c\"]\n",
        "A = \"\".join(Lo) # abc\n",
        "B = \"_\".join(Lo) # a_b_c\n",
        "#C = \"\".join([1, 2, 3]) #Error:只能运用于字符串\n",
        "C = \"\".join([\"1\", \"2\", \"3\"]) # 123"
      ],
      "metadata": {
        "id": "atZjmkildvZb"
      },
      "execution_count": null,
      "outputs": []
    },
    {
      "cell_type": "code",
      "source": [
        "# 用id()函数检查在内存中是否还是同一个对象\n",
        "L_check = [4, 5, 6]\n",
        "print(id(L_check))\n",
        "print(L_check)\n",
        "L_check.append(8)\n",
        "print(id(L_check))\n",
        "L_check.extend([1, 2])\n",
        "print(L_check)\n",
        "print(id(L_check))\n",
        "L_check.clear()\n",
        "print(L_check)\n",
        "print(id(L_check))"
      ],
      "metadata": {
        "colab": {
          "base_uri": "https://localhost:8080/"
        },
        "id": "aG7tcSUZmoe4",
        "outputId": "25b3bb49-bcad-40c3-92bb-4fc484358a64"
      },
      "execution_count": null,
      "outputs": [
        {
          "output_type": "stream",
          "name": "stdout",
          "text": [
            "135573502747200\n",
            "[4, 5, 6]\n",
            "135573502747200\n",
            "[4, 5, 6, 8, 1, 2]\n",
            "135573502747200\n",
            "[]\n",
            "135573502747200\n"
          ]
        }
      ]
    },
    {
      "cell_type": "code",
      "source": [
        "# 创建别名：不含可变元素的列表\n",
        "Loriginalname = [4, 5, 6]\n",
        "Lalias = Loriginalname\n",
        "print(Lalias)"
      ],
      "metadata": {
        "colab": {
          "base_uri": "https://localhost:8080/"
        },
        "id": "uNdhgwGToliS",
        "outputId": "f4e40fa6-f41c-4180-b393-0f47eeb1e81a"
      },
      "execution_count": null,
      "outputs": [
        {
          "output_type": "stream",
          "name": "stdout",
          "text": [
            "[4, 5, 6]\n"
          ]
        }
      ]
    },
    {
      "cell_type": "code",
      "source": [
        "# 创建别名：含有可变元素的列表\n",
        "old_List = [[1, 2], [3, 4], [5, \"foo\"]] # 含有可变元素的列表\n",
        "new_List = old_List\n",
        "new_List[2][1] = 6\n",
        "print(\"New List:\", new_List)\n",
        "print(\"Old List:\", old_List)"
      ],
      "metadata": {
        "colab": {
          "base_uri": "https://localhost:8080/"
        },
        "id": "awaXYx0YpDEA",
        "outputId": "300bf277-7f87-4e3b-ca63-f69295632467"
      },
      "execution_count": null,
      "outputs": [
        {
          "output_type": "stream",
          "name": "stdout",
          "text": [
            "New List: [[1, 2], [3, 4], [5, 6]]\n",
            "Old List: [[1, 2], [3, 4], [5, 6]]\n"
          ]
        }
      ]
    },
    {
      "cell_type": "code",
      "source": [
        "# 列表推导式(List Comprehension)\n",
        "Lorig_c = [1, 2, 3, 4, 5]\n",
        "Lnew_c1 = [e ** 2 for e in Lorig_c]\n",
        "print(Lnew_c1)\n",
        "Lnew_c2 = [e ** 2 for e in Lorig_c if e % 2 == 0]\n",
        "print(Lnew_c2)\n",
        "Lnew_c3 = [e ** 2 for e in range(6)]\n",
        "print(Lnew_c3)\n",
        "Lnew_c4 = [e ** 2 for e in range(8) if e % 2 == 0]\n",
        "print(Lnew_c4)\n",
        "Lnew_c5 = [[e, e ** 2] for e in range(4) if e % 2 != 0]\n",
        "print(Lnew_c5)\n",
        "Lnew_c6 = [len(x) for x in [\"xy\", \"abcd\", 7, \"4.0\"] if type(x) == str]\n",
        "print(Lnew_c6)"
      ],
      "metadata": {
        "colab": {
          "base_uri": "https://localhost:8080/"
        },
        "id": "OfiLQubzp6ko",
        "outputId": "c350e3c1-dd24-483d-8d45-398961009d5b"
      },
      "execution_count": null,
      "outputs": [
        {
          "output_type": "stream",
          "name": "stdout",
          "text": [
            "[1, 4, 9, 16, 25]\n",
            "[4, 16]\n",
            "[0, 1, 4, 9, 16, 25]\n",
            "[0, 4, 16, 36]\n",
            "[[1, 1], [3, 9]]\n",
            "[2, 4, 3]\n"
          ]
        }
      ]
    },
    {
      "cell_type": "markdown",
      "source": [
        "### 可变性（mutability）: 元素\n",
        "\n",
        "---\n",
        "\n",
        "\n"
      ],
      "metadata": {
        "id": "Ln0yAxkqs5y0"
      }
    },
    {
      "cell_type": "code",
      "source": [
        "# 改变列表里的元素\n",
        "L[1] = 10 # 把列表里的第四个元素换成了10"
      ],
      "metadata": {
        "id": "lbmMHdC2r7qv"
      },
      "execution_count": null,
      "outputs": []
    },
    {
      "cell_type": "code",
      "source": [
        "# 在列表后面增加一个元素\n",
        "L.append(5) # 只进行了操作,没有返回值,即返回值是None\n",
        "L1 = [\"re\"]\n",
        "L2 = [\"mi\"]\n",
        "L3 = [\"do\"]\n",
        "L4 = L1 + L2 # [\"re\", \"mi\"]\n",
        "L3.append(L4) # [\"do\", [\"re\", \"mi\"]]:L4被视为一个元素\n",
        "N = L1.append(L3) # None,函数append的返回值是None"
      ],
      "metadata": {
        "id": "pjuazpoCsP40"
      },
      "execution_count": null,
      "outputs": []
    },
    {
      "cell_type": "code",
      "source": [
        "# 在列表后面增加多个元素\n",
        "L5 = [2, 1, 3]\n",
        "L6 = [4, 5, 6]\n",
        "L7 = [0, 6]\n",
        "L5.extend(L7) # [2, 1, 3, 0, 6]\n",
        "L6.extend([[1,2], [3, 4]]) # [4, 5, 6, [1,2], [3,4]]"
      ],
      "metadata": {
        "id": "RyAgq8lDsVgU"
      },
      "execution_count": null,
      "outputs": []
    },
    {
      "cell_type": "code",
      "source": [
        "# 清空列表中的元素\n",
        "L8 = [1, 2, 3, 4, 5]\n",
        "L8.clear()"
      ],
      "metadata": {
        "id": "edTHSbdjsetc"
      },
      "execution_count": null,
      "outputs": []
    },
    {
      "cell_type": "code",
      "source": [
        "# 用索引去除列表中的某个元素\n",
        "L9 = [1, 2, 3, 4, 5]\n",
        "del(L9[2]) # [1, 2, 4, 5]\n",
        "\n",
        "L10 = [1, 2, 3, 4, 5]\n",
        "L10.pop() # 返回被删除的最后一个元素5,L10被变更为[1, 2, 3, 4]\n",
        "L11 = [1, 2, 3, 4, 5]\n",
        "L11.pop(1) # 返回被删除的第二个元素2,L11被变更为[1, 3, 4, 5]"
      ],
      "metadata": {
        "id": "UgaDzS7wsjfc"
      },
      "execution_count": null,
      "outputs": []
    },
    {
      "cell_type": "code",
      "source": [
        "# 去除列表中的某个元素\n",
        "L12 = [2, 1, 3, 6, 3, 7, 0]\n",
        "L12.remove(2)\n",
        "L12.remove(3) # [2,1,6,3,7,0],如果这个元素出现多次,则删除第一次出现的元素\n",
        "#L12.remove(4) # Error:如果列表中没有元素,则报错"
      ],
      "metadata": {
        "id": "ZCeGKgwYssCU"
      },
      "execution_count": null,
      "outputs": []
    },
    {
      "cell_type": "markdown",
      "source": [
        "### 可变性（mutability）: 顺序\n",
        "\n",
        "---\n",
        "\n",
        "\n"
      ],
      "metadata": {
        "id": "02nIxpkFktrT"
      }
    },
    {
      "cell_type": "code",
      "source": [
        "# 函数：排序（改变原有列表）\n",
        "def sort_list(L):\n",
        "\tL.sort()\n",
        "\treturn L"
      ],
      "metadata": {
        "id": "LuCpZ-eikxC0"
      },
      "execution_count": null,
      "outputs": []
    },
    {
      "cell_type": "code",
      "source": [
        "# 测试函数（排序）\n",
        "print(sort_list([4, 2, 7]))"
      ],
      "metadata": {
        "colab": {
          "base_uri": "https://localhost:8080/"
        },
        "id": "DCgblvH0lA5O",
        "outputId": "ab702a85-0f25-4c3d-b7c5-a0cd76a11499"
      },
      "execution_count": null,
      "outputs": [
        {
          "output_type": "stream",
          "name": "stdout",
          "text": [
            "[2, 4, 7]\n"
          ]
        }
      ]
    },
    {
      "cell_type": "code",
      "source": [
        "# 排序（不改变原有列表）\n",
        "L_original = [4, 2, 7]\n",
        "L_new = sorted(L_original)\n",
        "print(L_original)\n",
        "print(L_new)"
      ],
      "metadata": {
        "colab": {
          "base_uri": "https://localhost:8080/"
        },
        "id": "rBCfSkK6lJHp",
        "outputId": "b0a3a040-265b-4cf0-fa70-0f1317b8008f"
      },
      "execution_count": null,
      "outputs": [
        {
          "output_type": "stream",
          "name": "stdout",
          "text": [
            "[4, 2, 7]\n",
            "[2, 4, 7]\n"
          ]
        }
      ]
    },
    {
      "cell_type": "code",
      "source": [
        "# 函数：倒序\n",
        "def reverse_List(L):\n",
        "\tL.reverse()\n",
        "\treturn L"
      ],
      "metadata": {
        "id": "J4VvLzQOmLlt"
      },
      "execution_count": null,
      "outputs": []
    },
    {
      "cell_type": "code",
      "source": [
        "# 测试函数（倒序）\n",
        "print(reverse_List([4, 2, 7]))"
      ],
      "metadata": {
        "colab": {
          "base_uri": "https://localhost:8080/"
        },
        "id": "aifx5TDJmSEc",
        "outputId": "600c344b-b936-4f90-f8b5-d2e0dd406407"
      },
      "execution_count": null,
      "outputs": [
        {
          "output_type": "stream",
          "name": "stdout",
          "text": [
            "[7, 2, 4]\n"
          ]
        }
      ]
    },
    {
      "cell_type": "markdown",
      "source": [
        "### 复制（Cloning）\n",
        "\n",
        "---\n",
        "\n",
        "\n"
      ],
      "metadata": {
        "id": "ao4HJk4ppFcL"
      }
    },
    {
      "cell_type": "code",
      "source": [
        "# 复制列表：不含可变元素的列表\n",
        "Loriginal = [4, 5, 6]\n",
        "Lcopy = Loriginal[:]\n",
        "print(Lcopy)"
      ],
      "metadata": {
        "colab": {
          "base_uri": "https://localhost:8080/"
        },
        "id": "BQ2OM_O1pK_6",
        "outputId": "4c410e97-d349-4d2c-9a90-ce606fc8336a"
      },
      "execution_count": null,
      "outputs": [
        {
          "output_type": "stream",
          "name": "stdout",
          "text": [
            "[4, 5, 6]\n"
          ]
        }
      ]
    },
    {
      "cell_type": "code",
      "source": [
        "# 复制列表：含有可变元素的列表（浅复制）\n",
        "old_List_s = [[1, 2], [3, 4], [5, 6]]\n",
        "new_List_s = old_List_s[:]\n",
        "print(\"New_List_s:\", new_List_s)\n",
        "print(\"Old_List_s:\", old_List_s)\n",
        "old_List_s[1][1] = 9 # 列表里的可变元素对象没有被复制,因此改变以后副本也会被改变\n",
        "print(\"New_List_s:\", new_List_s)\n",
        "print(\"Old_List_s:\", old_List_s)"
      ],
      "metadata": {
        "id": "eNxwzvarpyGO",
        "colab": {
          "base_uri": "https://localhost:8080/"
        },
        "outputId": "fcb22800-eb0b-45b6-99cf-59ac0fb5ae19"
      },
      "execution_count": null,
      "outputs": [
        {
          "output_type": "stream",
          "name": "stdout",
          "text": [
            "New_List_s: [[1, 2], [3, 4], [5, 6]]\n",
            "Old_List_s: [[1, 2], [3, 4], [5, 6]]\n",
            "New_List_s: [[1, 2], [3, 9], [5, 6]]\n",
            "Old_List_s: [[1, 2], [3, 9], [5, 6]]\n"
          ]
        }
      ]
    },
    {
      "cell_type": "code",
      "source": [
        "# 复制列表：含有可变元素的列表（浅复制）\n",
        "import copy\n",
        "old_List_s2 = [[1, 2], [3, 4], [5, 6]]\n",
        "new_List_s2 = copy.copy(old_List_s2)\n",
        "print(\"New_List_s2:\", new_List_s2)\n",
        "print(\"Old_List_s2:\", old_List_s2)\n",
        "old_List_s2.append([7,8])\n",
        "old_List_s2[1][1] = 9\n",
        "print(\"New_List_s2:\", new_List_s2)\n",
        "print(\"Old_List_s2:\", old_List_s2)"
      ],
      "metadata": {
        "colab": {
          "base_uri": "https://localhost:8080/"
        },
        "id": "EDKGwYIinWhp",
        "outputId": "3ef37d6b-435b-4ac8-8b5d-1c5acd0f9f33"
      },
      "execution_count": null,
      "outputs": [
        {
          "output_type": "stream",
          "name": "stdout",
          "text": [
            "New_List_s2: [[1, 2], [3, 4], [5, 6]]\n",
            "Old_List_s2: [[1, 2], [3, 4], [5, 6]]\n",
            "New_List_s2: [[1, 2], [3, 9], [5, 6]]\n",
            "Old_List_s2: [[1, 2], [3, 9], [5, 6], [7, 8]]\n"
          ]
        }
      ]
    },
    {
      "cell_type": "code",
      "source": [
        "# 复制列表：含有可变元素的列表（深复制）\n",
        "import copy\n",
        "old_List_d = [[1, 2], [3, 4], [5, 6]]\n",
        "new_List_d = copy.deepcopy(old_List_d)\n",
        "print(\"New_List_d:\",new_List_d)\n",
        "print(\"Old_List_d:\",old_List_d)\n",
        "old_List_d.append([7, 8])\n",
        "old_List_d[1][1] = 9 # 列表里的可变元素对象也被复制了,因此改变以后副本不会被改变\n",
        "print(\"New_List_d:\",new_List_d)\n",
        "print(\"Old_List_d:\",old_List_d)"
      ],
      "metadata": {
        "colab": {
          "base_uri": "https://localhost:8080/"
        },
        "id": "jlTXTttKnPWD",
        "outputId": "74586cb3-7bed-4208-8f12-6189ed8a5383"
      },
      "execution_count": null,
      "outputs": [
        {
          "output_type": "stream",
          "name": "stdout",
          "text": [
            "New_List_d: [[1, 2], [3, 4], [5, 6]]\n",
            "Old_List_d: [[1, 2], [3, 4], [5, 6]]\n",
            "New_List_d: [[1, 2], [3, 4], [5, 6]]\n",
            "Old_List_d: [[1, 2], [3, 9], [5, 6], [7, 8]]\n"
          ]
        }
      ]
    },
    {
      "cell_type": "markdown",
      "source": [
        "### 难题（Tricky examples）\n",
        "\n",
        "---\n",
        "\n",
        "\n"
      ],
      "metadata": {
        "id": "8mlP8I3gnpfQ"
      }
    },
    {
      "cell_type": "code",
      "source": [
        "# 难题1：遍历列表的长度范围增加元素\n",
        "range(4) # 类似元组(0, 1, 2, 3)\n",
        "range(2, 9, 2) # 类似元组(2, 4, 6, 8)\n",
        "L_tricky1 = [1, 2, 3, 4]\n",
        "for i in range(len(L_tricky1)):\n",
        "\tL_tricky1.append(i)\n",
        "print(L_tricky1)"
      ],
      "metadata": {
        "colab": {
          "base_uri": "https://localhost:8080/"
        },
        "id": "xTmMkbv7nvjN",
        "outputId": "3d5675ee-57f8-44ab-ef94-02ed8c5d7c85"
      },
      "execution_count": null,
      "outputs": [
        {
          "output_type": "stream",
          "name": "stdout",
          "text": [
            "[1, 2, 3, 4, 0, 1, 2, 3]\n"
          ]
        }
      ]
    },
    {
      "cell_type": "code",
      "source": [
        "# 难题2：遍历列表的对象来增加元素:遍历列表的同时也在改变列表,程序永远不会停止\n",
        "L_tricky2 = [1, 2, 3, 4]\n",
        "i = 0\n",
        "for e in L_tricky2:\n",
        "\tL_tricky2.append(i)\n",
        "\ti += 1\n",
        "\tprint(L_tricky2)"
      ],
      "metadata": {
        "id": "BWL1kzd4oAYF"
      },
      "execution_count": null,
      "outputs": []
    },
    {
      "cell_type": "code",
      "source": [
        "#难题3：遍历列表里的对象来组合列表:程序不会陷入无限循环\n",
        "L_tricky3 = [1, 2, 3, 4]\n",
        "for e in L_tricky3: # e对旧有对象的绑定不变,因此只遍历4次\n",
        "\tL_tricky3 = L_tricky3 + L_tricky3 # 赋值符号(=)将原有绑定断开,指向内存中新的值\n",
        "\tprint(L_tricky3)"
      ],
      "metadata": {
        "colab": {
          "base_uri": "https://localhost:8080/"
        },
        "id": "E8zYPsgip7sM",
        "outputId": "a69ef768-b348-40d1-8d50-6dba4b33c633"
      },
      "execution_count": null,
      "outputs": [
        {
          "output_type": "stream",
          "name": "stdout",
          "text": [
            "[1, 2, 3, 4, 1, 2, 3, 4]\n",
            "[1, 2, 3, 4, 1, 2, 3, 4, 1, 2, 3, 4, 1, 2, 3, 4]\n",
            "[1, 2, 3, 4, 1, 2, 3, 4, 1, 2, 3, 4, 1, 2, 3, 4, 1, 2, 3, 4, 1, 2, 3, 4, 1, 2, 3, 4, 1, 2, 3, 4]\n",
            "[1, 2, 3, 4, 1, 2, 3, 4, 1, 2, 3, 4, 1, 2, 3, 4, 1, 2, 3, 4, 1, 2, 3, 4, 1, 2, 3, 4, 1, 2, 3, 4, 1, 2, 3, 4, 1, 2, 3, 4, 1, 2, 3, 4, 1, 2, 3, 4, 1, 2, 3, 4, 1, 2, 3, 4, 1, 2, 3, 4, 1, 2, 3, 4]\n"
          ]
        }
      ]
    },
    {
      "cell_type": "code",
      "source": [
        "#难题4：遍历列表的对象来去除元素中所有某个对象:列表缩短了但是指针还在按部就班的往前指,最终会少删除一个元素(？只删除了第一个元素)\n",
        "L_tricky4 = [1, 2, 2, 2]\n",
        "for e in L_tricky4:\n",
        "\tif e == 2:\n",
        "\t\tL_tricky4.remove(2)\n",
        "def remove_dups(L1, L2):\n",
        "\t\"\"\"\n",
        "\tInput:\n",
        "\t\t* L1: 列表\n",
        "\t\t* L2: 列表\n",
        "\tReturn:去除L1中所有和L2重复的元素,不返回任何值\n",
        "\t*bug版\n",
        "\t\"\"\"\n",
        "\tfor e in L1:\n",
        "\t\tif e in L2:\n",
        "\t\t\tL1.remove(e)\n",
        "L1_dups = [10, 20, 30, 40]\n",
        "L2_dups = [10, 20, 50, 60]\n",
        "remove_dups(L1_dups, L2_dups)\n",
        "print(L1_dups, L2_dups)"
      ],
      "metadata": {
        "colab": {
          "base_uri": "https://localhost:8080/"
        },
        "id": "_VaB0284qJ1b",
        "outputId": "f9329590-4b40-411d-a537-6ab024d1ffda"
      },
      "execution_count": null,
      "outputs": [
        {
          "output_type": "stream",
          "name": "stdout",
          "text": [
            "[20, 30, 40] [10, 20, 50, 60]\n"
          ]
        }
      ]
    },
    {
      "cell_type": "code",
      "source": [
        "# 难题4 修正方法: 创建一个列表的副本,遍历副本里的对象而不是遍历列表里的对象\n",
        "def remove_dups_fixed(L1, L2):\n",
        "\t\"\"\"\n",
        "\tInput:\n",
        "\t\t* L1: 列表\n",
        "\t\t* L2: 列表\n",
        "\tReturn:去除L1中所有和L2重复的元素,不返回任何值\n",
        "\t*修正版\n",
        "\t\"\"\"\n",
        "\tL1_copy = L1[:]\n",
        "\tfor e in L1_copy:\n",
        "\t\tif e in L2:\n",
        "\t\t\tL1.remove(e)\n",
        "L1_dups_fixed = [10, 20, 30, 40]\n",
        "L2_dups_fixed = [10, 20, 50, 60]\n",
        "remove_dups_fixed(L1_dups_fixed, L2_dups_fixed)\n",
        "print(L1_dups_fixed, L2_dups_fixed)"
      ],
      "metadata": {
        "colab": {
          "base_uri": "https://localhost:8080/"
        },
        "id": "7NDU45bhqdtz",
        "outputId": "6579fbb2-8b0e-43aa-97cc-f989f853f852"
      },
      "execution_count": null,
      "outputs": [
        {
          "output_type": "stream",
          "name": "stdout",
          "text": [
            "[30, 40] [10, 20, 50, 60]\n"
          ]
        }
      ]
    },
    {
      "cell_type": "markdown",
      "source": [
        "### 练习\n",
        "\n",
        "---\n",
        "\n",
        "\n"
      ],
      "metadata": {
        "id": "5sp95twNmi3O"
      }
    },
    {
      "cell_type": "code",
      "source": [
        "# 遍历列表-求和:方法1\n",
        "sum = [1, 2, 3, 4, 5]\n",
        "total = 0\n",
        "for i in sum:\n",
        "\ttotal += i\n",
        "print(total)"
      ],
      "metadata": {
        "colab": {
          "base_uri": "https://localhost:8080/"
        },
        "id": "GRL5Bvb4mr30",
        "outputId": "b8f47a75-b0b7-47b8-aeff-2af0c7c71c30"
      },
      "execution_count": null,
      "outputs": [
        {
          "output_type": "stream",
          "name": "stdout",
          "text": [
            "15\n"
          ]
        }
      ]
    },
    {
      "cell_type": "code",
      "source": [
        "# 遍历列表-求和:方法二(定义函数)\n",
        "def list_sum(L):\n",
        "\ttotal = 0\n",
        "\tfor i in L:\n",
        "\t\ttotal += i\n",
        "\treturn(total)\n",
        "print(list_sum([8, 3, 5]))"
      ],
      "metadata": {
        "colab": {
          "base_uri": "https://localhost:8080/"
        },
        "id": "Aij8t5tnmmEO",
        "outputId": "5ec7a2a7-9a29-4bf6-86f6-a2c0b083ddca"
      },
      "execution_count": null,
      "outputs": [
        {
          "output_type": "stream",
          "name": "stdout",
          "text": [
            "16\n"
          ]
        }
      ]
    },
    {
      "cell_type": "code",
      "source": [
        "# 遍历列表-求长度之和\n",
        "def len_sum(L):\n",
        "\ttotal = 0\n",
        "\tfor s in L:\n",
        "\t\ttotal += len(s)\n",
        "\treturn(total)\n",
        "print(len_sum([\"ab\", \"def\", \"g\"]))"
      ],
      "metadata": {
        "colab": {
          "base_uri": "https://localhost:8080/"
        },
        "id": "P-OTOblIm1VY",
        "outputId": "5a1c1ab2-abe5-41d4-c4c9-33fe44784a9b"
      },
      "execution_count": null,
      "outputs": [
        {
          "output_type": "stream",
          "name": "stdout",
          "text": [
            "6\n"
          ]
        }
      ]
    },
    {
      "cell_type": "code",
      "source": [
        "# 遍历列表-求和和积\n",
        "def sum_and_prod(L):\n",
        "\t\"\"\"\n",
        "\tInput: L, 数字列表\n",
        "\tReturn: 返回一个元组, 第一个值是L中所有元素之和,第二个值是L中所有元素之积\n",
        "\t\"\"\"\n",
        "\tsum = 0\n",
        "\tprod = 1\n",
        "\tfor i in L:\n",
        "\t\tsum += i\n",
        "\t\tprod *= i\n",
        "\treturn(sum, prod)\n",
        "print(sum_and_prod([3, 4, 5, 6, 7]))"
      ],
      "metadata": {
        "colab": {
          "base_uri": "https://localhost:8080/"
        },
        "id": "WGKbVLVXm6h-",
        "outputId": "25e7b2ab-b91c-468d-fe6a-d64c340e3eff"
      },
      "execution_count": null,
      "outputs": [
        {
          "output_type": "stream",
          "name": "stdout",
          "text": [
            "(25, 2520)\n"
          ]
        }
      ]
    },
    {
      "cell_type": "code",
      "source": [
        "# 计一个句子中有多少个单词\n",
        "def count_word(sen):\n",
        "\t\"\"\"\n",
        "\tInput: sen, 一个代表一个句子的字符串\n",
        "\tReturn: 返回sen中有多少个单词\n",
        "\t\"\"\"\n",
        "\tLsen = sen.split(\" \")\n",
        "\t#print(Lsen)\n",
        "\tcount = len(Lsen)\n",
        "\treturn count\n",
        "print(count_word(\"Hello it's me'\"))"
      ],
      "metadata": {
        "colab": {
          "base_uri": "https://localhost:8080/"
        },
        "id": "jAKeKYkLnB2Q",
        "outputId": "b7521c76-40a6-4de7-85f3-4a58385f47f8"
      },
      "execution_count": null,
      "outputs": [
        {
          "output_type": "stream",
          "name": "stdout",
          "text": [
            "3\n"
          ]
        }
      ]
    },
    {
      "cell_type": "code",
      "source": [
        "# 用append函数创建包含从0到n的整数的list\n",
        "def make_ordered_list(n):\n",
        "\t\"\"\"\n",
        "\tInput: n, 正整数\n",
        "\tReturn: 返回一个包含所有从0到n(包括)的整数的list\n",
        "\t\"\"\"\n",
        "\tLn = []\n",
        "\tfor i in range(n+1):\n",
        "\t\tLn.append(i)\n",
        "\treturn Ln\n",
        "print(make_ordered_list(10))"
      ],
      "metadata": {
        "colab": {
          "base_uri": "https://localhost:8080/"
        },
        "id": "ar95p07unHZ3",
        "outputId": "efa92336-7090-44c7-83e5-1340d9b3ccaf"
      },
      "execution_count": null,
      "outputs": [
        {
          "output_type": "stream",
          "name": "stdout",
          "text": [
            "[0, 1, 2, 3, 4, 5, 6, 7, 8, 9, 10]\n"
          ]
        }
      ]
    },
    {
      "cell_type": "code",
      "source": [
        "# 用append函数从列表中删除元素\n",
        "def remove_elem(L, e):\n",
        "\t\"\"\"\n",
        "\tInput:\n",
        "\t\t* L, 列表\n",
        "\t\t* n, 对象\n",
        "\tReturn: 返回一个不包括e的L列表\n",
        "\t\"\"\"\n",
        "\tLnew = []\n",
        "\tfor i in L:\n",
        "\t\tif i != e:\n",
        "\t\t\tLnew.append(i)\n",
        "\treturn Lnew\n",
        "print(remove_elem([1,2,2,2],2))"
      ],
      "metadata": {
        "colab": {
          "base_uri": "https://localhost:8080/"
        },
        "id": "tNWqGK9snKW1",
        "outputId": "a1ef1e44-e7b1-4096-d6f7-ba33765ccf5c"
      },
      "execution_count": null,
      "outputs": [
        {
          "output_type": "stream",
          "name": "stdout",
          "text": [
            "[1]\n"
          ]
        }
      ]
    },
    {
      "cell_type": "code",
      "source": [
        "# 给句子中的单词排序\n",
        "def sort_word(sen):\n",
        "\t\"\"\"\n",
        "\tInput: sen,代表一个句子的字符串\n",
        "\tReturn: 返回一个包含sen中所有单词但按照字母表排序的列表\n",
        "\t\"\"\"\n",
        "\tL = sen.split(\" \")\n",
        "\tL.sort()\n",
        "\treturn L\n",
        "print(sort_word(\"look at this photograph\"))"
      ],
      "metadata": {
        "colab": {
          "base_uri": "https://localhost:8080/"
        },
        "id": "c6AjV7pSnP6e",
        "outputId": "c1083c32-fb5f-4bb8-874a-87cb352ae9cf"
      },
      "execution_count": null,
      "outputs": [
        {
          "output_type": "stream",
          "name": "stdout",
          "text": [
            "['at', 'look', 'photograph', 'this']\n"
          ]
        }
      ]
    },
    {
      "cell_type": "code",
      "source": [
        "# 把列表中每个元素改为元素的平方\n",
        "def square_list(L):\n",
        "\t\"\"\"\n",
        "\tInput: L,元素是数字的列表\n",
        "\tReturn:返回每个元素是原元素的平方的列表L\n",
        "\t\"\"\"\n",
        "\tfor i in range(len(L)):\n",
        "\t\tL[i] = (L[i]) ** 2\n",
        "\treturn L\n",
        "print(square_list([1, 2, 3]))"
      ],
      "metadata": {
        "colab": {
          "base_uri": "https://localhost:8080/"
        },
        "id": "uh3Aq2pdnSce",
        "outputId": "5e07349d-5212-4332-c3c6-ed5dea04ca21"
      },
      "execution_count": null,
      "outputs": [
        {
          "output_type": "stream",
          "name": "stdout",
          "text": [
            "[1, 4, 9]\n"
          ]
        }
      ]
    },
    {
      "cell_type": "code",
      "source": [
        "# 去除列表中所有的某个元素(利用列表副本)\n",
        "def remove_all(L, e):\n",
        "\t\"\"\"\n",
        "\tInput:\n",
        "\t\t* L:一个列表\n",
        "\t\t* e:对象\n",
        "\tReturn:去除L中所有e元素,不返回任何值\n",
        "\t\"\"\"\n",
        "\tL_copy = L[:] # 创建L的副本保存L中的所有元素\n",
        "\tL.clear() # 清空L\n",
        "\tfor ele in L_copy:\n",
        "\t\tif ele != e:\n",
        "\t\t\tL.append(ele)\n",
        "\n",
        "Lin = [1,2,2,2]\n",
        "remove_all(Lin, 2)\n",
        "print(Lin)"
      ],
      "metadata": {
        "colab": {
          "base_uri": "https://localhost:8080/"
        },
        "id": "5qK4iVAAnYW2",
        "outputId": "ece27a6c-575d-4aa6-b8d4-89e2a41b1c2a"
      },
      "execution_count": null,
      "outputs": [
        {
          "output_type": "stream",
          "name": "stdout",
          "text": [
            "[1]\n"
          ]
        }
      ]
    },
    {
      "cell_type": "code",
      "source": [
        "# 去除列表中所有的某个元素(利用去除元素操作)\n",
        "def remove_all2(L, e):\n",
        "\t\"\"\"\n",
        "\tInput:\n",
        "\t\t* L:一个列表\n",
        "\t\t* e:对象\n",
        "\tReturn:去除L中所有e元素,不返回任何值\n",
        "\t\"\"\"\n",
        "\twhile e in L:\n",
        "\t\tL.remove(e)\n",
        "\n",
        "Lin2 = [1, 2, 2, 2]\n",
        "remove_all2(Lin2,2)\n",
        "print(Lin2)"
      ],
      "metadata": {
        "colab": {
          "base_uri": "https://localhost:8080/"
        },
        "id": "M35YmIKAncyJ",
        "outputId": "c9b51309-5175-4b4c-8fbd-6830c86a32f7"
      },
      "execution_count": null,
      "outputs": [
        {
          "output_type": "stream",
          "name": "stdout",
          "text": [
            "[1]\n"
          ]
        }
      ]
    },
    {
      "cell_type": "markdown",
      "source": [
        "## 字典（Dictionary）\n",
        "\n",
        "---\n",
        "\n",
        "\n",
        "* 字典属性\n",
        "  * 可变的\n",
        "  * 多相的\n",
        "  * 无序的\n",
        "  * 字典里的元素是条目(entry)，对应一个键值对(key - value pair)，键(key)起到索引(index)的作用\n",
        "  * 键必须是唯一的、不可变类型(int|float|string|tuple|bool)，可哈希的(hashable)\n",
        "* 字典操作\n",
        "  * dict = {key:value}：创建字典\n",
        "  * dict[key]：通过键查找值（不能通过值查找键）\n",
        "  * in：查找键是否在字典中\n",
        "  * .keys()：遍历字典中的键，返回一个可迭代的键序列(get an iterable that acts like a tuple of all keys)\n",
        "  * .values()：遍历字典中的值\n",
        "  * .items(): 遍历字典中的条目\n",
        "  * .copy(): 复制字典\n",
        "* 可变性\n",
        "  * dict[new key] = new value： 增加条目\n",
        "  * dict[key] = new value： 改变条目，某个键对应的值\n",
        "  * del(Dict[key])： 删除条目\n",
        "\n",
        "\n",
        "\n"
      ],
      "metadata": {
        "id": "3W9TjFA7KLsQ"
      }
    },
    {
      "cell_type": "markdown",
      "source": [
        "### 字典操作\n",
        "\n",
        "---\n",
        "\n",
        "\n"
      ],
      "metadata": {
        "id": "vbiPV2V82KyS"
      }
    },
    {
      "cell_type": "code",
      "source": [
        "# 创建字典\n",
        "my_dict = {}\n",
        "d = {4: 16}\n",
        "grades = {\"Ana\": \"B\",\n",
        "      \"Matt\": \"A\",\n",
        "      \"John\": \"B\",\n",
        "      \"Kathy\": \"A\"}\n",
        "grades_table = {\"Ana\": {\"mq\": [5, 4, 4], \"ps\": [10, 9, 9], \"fin\": \"B\"},\n",
        "         \"Bob\": {\"mq\": [6, 7, 8], \"ps\": [8, 9, 10], \"fin\": \"A\"}}"
      ],
      "metadata": {
        "id": "weZOn-66Br7H"
      },
      "execution_count": null,
      "outputs": []
    },
    {
      "cell_type": "code",
      "source": [
        "# 通过键查找值\n",
        "print(grades[\"John\"]) # \"B\"\n",
        "print(grades_table[\"Ana\"][\"mq\"][0]) # 5\n",
        "#grades[\"Grace\"] # Error"
      ],
      "metadata": {
        "colab": {
          "base_uri": "https://localhost:8080/"
        },
        "id": "YeFVQkG-0-Qp",
        "outputId": "75d646d4-ea66-4776-cf31-e323358a0275"
      },
      "execution_count": null,
      "outputs": [
        {
          "output_type": "stream",
          "name": "stdout",
          "text": [
            "B\n",
            "5\n"
          ]
        }
      ]
    },
    {
      "cell_type": "code",
      "source": [
        "# 查找键是否在字典中\n",
        "print(\"John\" in grades) # True\n",
        "print(\"Daniel\" in grades) # False\n",
        "print(\"B\" in grades) # False"
      ],
      "metadata": {
        "colab": {
          "base_uri": "https://localhost:8080/"
        },
        "id": "KLdfZ43j1Jmc",
        "outputId": "24e55497-af90-4be6-dd03-d9b54c4dda7f"
      },
      "execution_count": null,
      "outputs": [
        {
          "output_type": "stream",
          "name": "stdout",
          "text": [
            "True\n",
            "False\n",
            "False\n"
          ]
        }
      ]
    },
    {
      "cell_type": "code",
      "source": [
        "# 遍历字典中的键\n",
        "print(grades.keys()) # 返回dict_keys([\"Ana\", \"Matt\", \"John\", \"Kathy\"])\n",
        "print(list(grades.keys())) # 返回[\"Ana\", \"Matt\", \"John\", \"Kathy\"]"
      ],
      "metadata": {
        "colab": {
          "base_uri": "https://localhost:8080/"
        },
        "id": "6_UKYWci15WV",
        "outputId": "b39751b6-2978-4ff1-a5ca-fd14edc6964d"
      },
      "execution_count": null,
      "outputs": [
        {
          "output_type": "stream",
          "name": "stdout",
          "text": [
            "dict_keys(['Ana', 'Matt', 'John', 'Kathy'])\n",
            "['Ana', 'Matt', 'John', 'Kathy']\n"
          ]
        }
      ]
    },
    {
      "cell_type": "code",
      "source": [
        "# 遍历字典中的值\n",
        "print(grades.values()) # 返回dict_values数据类型\n",
        "print(list(grades.values())) # 将其转换为列表"
      ],
      "metadata": {
        "colab": {
          "base_uri": "https://localhost:8080/"
        },
        "id": "pgzJKRL32G6U",
        "outputId": "32d5943e-0f5e-4f58-c1df-d40fb14d5ab6"
      },
      "execution_count": null,
      "outputs": [
        {
          "output_type": "stream",
          "name": "stdout",
          "text": [
            "dict_values(['B', 'A', 'B', 'A'])\n",
            "['B', 'A', 'B', 'A']\n"
          ]
        }
      ]
    },
    {
      "cell_type": "code",
      "source": [
        "# 遍历字典中的条目\n",
        "print(grades.items()) # 返回dict_items数据类型,dict_items([(\"Ana\", \"B\"), (\"Matt\", \"A\"), (\"John\", \"B\"), (\"Kathy\", \"A\")])\n",
        "print(list(grades.items())) # 将其转换为列表\n",
        "\n",
        "for k, v in grades.items():\n",
        "\tprint(f\"键{k}的值是{v}\")"
      ],
      "metadata": {
        "colab": {
          "base_uri": "https://localhost:8080/"
        },
        "id": "I9dS_4fw2VOi",
        "outputId": "ea8016b5-4a30-41c3-fb6d-3f2de85f0783"
      },
      "execution_count": null,
      "outputs": [
        {
          "output_type": "stream",
          "name": "stdout",
          "text": [
            "dict_items([('Ana', 'B'), ('Matt', 'A'), ('John', 'B'), ('Kathy', 'A')])\n",
            "[('Ana', 'B'), ('Matt', 'A'), ('John', 'B'), ('Kathy', 'A')]\n",
            "键Ana的值是B\n",
            "键Matt的值是A\n",
            "键John的值是B\n",
            "键Kathy的值是A\n"
          ]
        }
      ]
    },
    {
      "cell_type": "code",
      "source": [
        "# 复制字典\n",
        "grades_copy = grades.copy()\n",
        "print(grades_copy)"
      ],
      "metadata": {
        "colab": {
          "base_uri": "https://localhost:8080/"
        },
        "id": "bjQfCDo82m5V",
        "outputId": "5c79e45c-8b9c-448a-d424-6d7f7a07642b"
      },
      "execution_count": null,
      "outputs": [
        {
          "output_type": "stream",
          "name": "stdout",
          "text": [
            "{'Ana': 'B', 'Matt': 'A', 'John': 'B', 'Kathy': 'A'}\n"
          ]
        }
      ]
    },
    {
      "cell_type": "markdown",
      "source": [
        "### 可变性\n",
        "\n",
        "---\n",
        "\n",
        "\n"
      ],
      "metadata": {
        "id": "DBa4Dcfl3jY2"
      }
    },
    {
      "cell_type": "code",
      "source": [
        "# 增加条目\n",
        "grades[\"Grace\"] = \"A\"\n",
        "print(grades)"
      ],
      "metadata": {
        "colab": {
          "base_uri": "https://localhost:8080/"
        },
        "id": "RO89LYfg3l07",
        "outputId": "dbaf2a48-5056-4a05-ba4d-3219722d24e4"
      },
      "execution_count": null,
      "outputs": [
        {
          "output_type": "stream",
          "name": "stdout",
          "text": [
            "{'Ana': 'B', 'Matt': 'A', 'John': 'B', 'Kathy': 'A', 'Grace': 'A'}\n"
          ]
        }
      ]
    },
    {
      "cell_type": "code",
      "source": [
        "# 改变条目:某个键对应的值\n",
        "grades[\"Grace\"] = \"C\"\n",
        "print(grades)"
      ],
      "metadata": {
        "colab": {
          "base_uri": "https://localhost:8080/"
        },
        "id": "W-5cYDvE3wSK",
        "outputId": "8fb76b26-4ef3-4092-e05c-d8df097e9a88"
      },
      "execution_count": null,
      "outputs": [
        {
          "output_type": "stream",
          "name": "stdout",
          "text": [
            "{'Ana': 'B', 'Matt': 'A', 'John': 'B', 'Kathy': 'A', 'Grace': 'C'}\n"
          ]
        }
      ]
    },
    {
      "cell_type": "code",
      "source": [
        "# 删除条目\n",
        "del(grades[\"Grace\"])\n",
        "print(grades)"
      ],
      "metadata": {
        "colab": {
          "base_uri": "https://localhost:8080/"
        },
        "id": "aNSGMgea31X6",
        "outputId": "dbdfedfe-5488-4d4a-b2e3-007ad251d342"
      },
      "execution_count": null,
      "outputs": [
        {
          "output_type": "stream",
          "name": "stdout",
          "text": [
            "{'Ana': 'B', 'Matt': 'A', 'John': 'B', 'Kathy': 'A'}\n"
          ]
        }
      ]
    },
    {
      "cell_type": "markdown",
      "source": [
        "### 练习\n",
        "\n",
        "---\n",
        "\n",
        "\n"
      ],
      "metadata": {
        "id": "FF6FAgJg4ALs"
      }
    },
    {
      "cell_type": "code",
      "source": [
        "# 查找字典中的值:查找学生对应的成绩\n",
        "def find_grades(grades, students):\n",
        "\t\"\"\"\n",
        "\tInput:\n",
        "\t\t* grades: 将学生名字(str)映射到学生分数(str)的字典\n",
        "\t\t* students: 学生名字的列表\n",
        "\tReturn: 返回一个用同样的顺序表示学生分数的列表\n",
        "\t\"\"\"\n",
        "\tgrade_list = [grades[e] for e in students]\n",
        "\treturn grade_list\n",
        "D_grades = {\"Ana\": \"B\",\n",
        "       \"Matt\": \"A\",\n",
        "       \"John\": \"B\",\n",
        "       \"Kathy\": \"A\"}\n",
        "print(find_grades(D_grades, [\"Matt\", \"John\"]))"
      ],
      "metadata": {
        "colab": {
          "base_uri": "https://localhost:8080/"
        },
        "id": "hDR-QSEu4D8L",
        "outputId": "c7f6e618-18eb-4d8a-8466-f9942f1a0b65"
      },
      "execution_count": null,
      "outputs": [
        {
          "output_type": "stream",
          "name": "stdout",
          "text": [
            "['A', 'B']\n"
          ]
        }
      ]
    },
    {
      "cell_type": "code",
      "source": [
        "# 查找键是否在字典中：查找某个整数是否是列表中的字典的键\n",
        "def find_in_L(Ld, k):\n",
        "\t\"\"\"\n",
        "\tInput:\n",
        "\t\t* Ld: 字典组成的列表\n",
        "\t\t* k: 整数\n",
        "\tReturn: 如果k是Ld中任一字典中的键则返回真,否则返回假\n",
        "\t\"\"\"\n",
        "\tfor e in Ld:\n",
        "\t\tif k in e:\n",
        "\t\t\treturn True\n",
        "\treturn False\n",
        "\t#另一种方法\n",
        "\t#check = False\n",
        "\t#for e in Ld:\n",
        "\t#\tif k in e:\n",
        "\t#\t\tcheck = True\n",
        "\t#return check\n",
        "d1 = {1: 2, 3: 4, 5: 6}\n",
        "d2 = {2: 4, 4: 6}\n",
        "d3 = {1: 1, 3: 9, 4: 16, 5:25}\n",
        "print(find_in_L([d1, d2, d3], 2))\n",
        "print(find_in_L([d1, d2, d3], 25))"
      ],
      "metadata": {
        "colab": {
          "base_uri": "https://localhost:8080/"
        },
        "id": "vXgimvN88ijC",
        "outputId": "eae1d755-6102-4e27-b0b6-2cc54dab6d4a"
      },
      "execution_count": null,
      "outputs": [
        {
          "output_type": "stream",
          "name": "stdout",
          "text": [
            "True\n",
            "False\n"
          ]
        }
      ]
    },
    {
      "cell_type": "code",
      "source": [
        "# 遍历条目:查找字典中有多少条目键等于值\n",
        "def count_matches(d):\n",
        "\t\"\"\"\n",
        "\tInput: d, 字典\n",
        "\tReturn: d中多少个条目的键等于值\n",
        "\t\"\"\"\n",
        "\tcount = 0\n",
        "\tfor k, v in d.items():\n",
        "\t\tif k == v:\n",
        "\t\t\tcount += 1\n",
        "\t#另一种方法\n",
        "\t#for x in d.keys():\n",
        "\t#\tif d[x] == x:\n",
        "\t#\t\tcount += 1\n",
        "\treturn count\n",
        "d_c1 = {1: 2, 3: 4, 5: 6}\n",
        "d_c2 = {1: 2, \"a\": \"a\", 5: 5}\n",
        "print(count_matches(d_c1))\n",
        "print(count_matches(d_c2))"
      ],
      "metadata": {
        "colab": {
          "base_uri": "https://localhost:8080/"
        },
        "id": "83iimBYI8qjB",
        "outputId": "176335e2-5102-48b8-dd98-3ea6ff19c684"
      },
      "execution_count": null,
      "outputs": [
        {
          "output_type": "stream",
          "name": "stdout",
          "text": [
            "0\n",
            "2\n"
          ]
        }
      ]
    },
    {
      "cell_type": "code",
      "source": [
        "# 计算平均分\n",
        "my_d = {\"Ana\": {\"mq\":[10], \"ps\":[10, 10]},\n",
        "     \"Bob\": {\"ps\":[7, 8], \"mq\": [8]},\n",
        "     \"Eric\": {\"mq\": [3],\"ps\": [0]}}\n",
        "def get_average(data, what):\n",
        "\tall_data = []\n",
        "\tfor stud in data.keys():\n",
        "\t\tall_data = all_data + data[stud][what]\n",
        "\t\t#另一种方法\n",
        "\t\t#for grade_type in data[stud].keys():\n",
        "\t\t#\tif grade_type == what:\n",
        "\t\t#\t\tfor g in my_d[stud][grade_type]:\n",
        "\t\t#\t\t\tall_data.append(g)\n",
        "\treturn sum(all_data)/len(all_data)\n",
        "\n",
        "print(get_average(my_d, \"mq\"))"
      ],
      "metadata": {
        "colab": {
          "base_uri": "https://localhost:8080/"
        },
        "id": "bB7sgMn88vAL",
        "outputId": "5007fcc7-c38d-4030-c51f-43607d75735b"
      },
      "execution_count": null,
      "outputs": [
        {
          "output_type": "stream",
          "name": "stdout",
          "text": [
            "7.0\n"
          ]
        }
      ]
    },
    {
      "cell_type": "code",
      "source": [
        "# 找出一首歌歌词中最常见的单词\n",
        "def generate_word_dict(song):\n",
        "\t\"\"\"\n",
        "\tInput: song, 字符串\n",
        "\tReturn: 将song中的每个单词映射到它们出现频率的字典\n",
        "\t\"\"\"\n",
        "\tsong_words = song.lower() # 把song中所有字母都转换成小写字母\n",
        "\tword_list = song_words.split(\" \")\n",
        "\t#print(word_list)\n",
        "\tword_dict = {}\n",
        "\tfor w in word_list:\n",
        "\t\tif w in word_dict:\n",
        "\t\t\tword_dict[w] += 1\n",
        "\t\telse:\n",
        "\t\t\tword_dict[w] = 1\n",
        "\treturn word_dict\n",
        "\n",
        "def find_frequent_word(word_dict):\n",
        "\twords = []\n",
        "\thighest = max(word_dict.values())\n",
        "\tfor k, v in word_dict.items():\n",
        "\t\tif v == highest:\n",
        "\t\t\twords.append(k)\n",
        "\treturn(words, highest)\n",
        "\n",
        "def occurs_often(word_dict, x):\n",
        "\t\"\"\"\n",
        "\tInput:\n",
        "\t\t* word_dict: 把单词映射到单词出现频率的字典\n",
        "\t\t* x: 整数, 代表至少出现x次\n",
        "\tReturn: 返回降序排列的列表,列表中的元素是单词和频率对应的元组\n",
        "\t\"\"\"\n",
        "\tfreq_list = []\n",
        "\tword_freq_tuple = find_frequent_word(word_dict)\n",
        "\twhile word_freq_tuple[1] > x:\n",
        "\t\tword_freq_tuple = find_frequent_word(word_dict)\n",
        "\t\tfreq_list.append(word_freq_tuple)\n",
        "\t\tfor word in word_freq_tuple[0]:\n",
        "\t\t\tdel(word_dict[word])\n",
        "\treturn freq_list\n",
        "\n",
        "song = \"RAH RAH AH AH AH ROM MAH RO MAH MAH\"\n",
        "word_dict = generate_word_dict(song)\n",
        "print(occurs_often(word_dict, 1))"
      ],
      "metadata": {
        "colab": {
          "base_uri": "https://localhost:8080/"
        },
        "id": "zMSQgVpL9DKS",
        "outputId": "d3890a29-a868-43bf-d0fb-7c8eacd08d1c"
      },
      "execution_count": null,
      "outputs": [
        {
          "output_type": "stream",
          "name": "stdout",
          "text": [
            "[(['ah', 'mah'], 3), (['rah'], 2), (['rom', 'ro'], 1)]\n"
          ]
        }
      ]
    },
    {
      "cell_type": "markdown",
      "source": [
        "\n",
        "# 控制流"
      ],
      "metadata": {
        "id": "IRmBF_dgTFC8"
      }
    },
    {
      "cell_type": "markdown",
      "source": [
        "## 分支（branching）\n",
        "\n",
        "---\n",
        "\n",
        "\n",
        "* 条件判断\n",
        "  * 比较运算符： = | > | <\n",
        "  * 逻辑运算符： and | or\n",
        "* 条件语句\n",
        "  * if-else\n",
        "  * if-elif-else\n",
        "* 嵌套（nested）条件语句\n"
      ],
      "metadata": {
        "id": "SMFU8e0eTujE"
      }
    },
    {
      "cell_type": "code",
      "source": [
        "# 比较运算符\n",
        "pset_time = 15\n",
        "sleep_time = 8\n",
        "print(sleep_time > pset_time) # True"
      ],
      "metadata": {
        "colab": {
          "base_uri": "https://localhost:8080/"
        },
        "id": "5YM5XcisawVc",
        "outputId": "e6159f5e-6c2a-46e1-caeb-3ce39b15a738"
      },
      "execution_count": null,
      "outputs": [
        {
          "output_type": "stream",
          "name": "stdout",
          "text": [
            "False\n"
          ]
        }
      ]
    },
    {
      "cell_type": "code",
      "source": [
        "# 逻辑运算符\n",
        "derive = True\n",
        "drink = False\n",
        "both = drink and derive\n",
        "print(both) # Flase"
      ],
      "metadata": {
        "colab": {
          "base_uri": "https://localhost:8080/"
        },
        "id": "kcNpSvw5a12c",
        "outputId": "501a2901-acc4-43dd-d1fd-2539ba69675e"
      },
      "execution_count": null,
      "outputs": [
        {
          "output_type": "stream",
          "name": "stdout",
          "text": [
            "False\n"
          ]
        }
      ]
    },
    {
      "cell_type": "code",
      "source": [
        "# 条件语句-if-else\n",
        "x = int(input(\"输入一个数字x:\"))\n",
        "y = int(input(\"输入一个不同的数字y:\"))\n",
        "if x == y:\n",
        "\tprint(f\"{x}和{y}相同\")\n",
        "\tprint(\"它们是一样的!\")\n",
        "else:\n",
        "\tpass # pass的意思是不做任何事情"
      ],
      "metadata": {
        "colab": {
          "base_uri": "https://localhost:8080/"
        },
        "id": "nX7jDD8UjiIS",
        "outputId": "64450191-065c-47ea-aaf2-a71c28217e02"
      },
      "execution_count": null,
      "outputs": [
        {
          "name": "stdout",
          "output_type": "stream",
          "text": [
            "输入一个数字x:1\n",
            "输入一个不同的数字y:2\n"
          ]
        }
      ]
    },
    {
      "cell_type": "code",
      "source": [
        "# 条件语句-if-elif-else\n",
        "if (pset_time + sleep_time) > 24:\n",
        "\tprint(\"不可能\")\n",
        "elif (pset_time + sleep_time) >= 24:\n",
        "\tprint(\"时间表排满了\")\n",
        "else:\n",
        "\tleftover = abs(24 - pset_time - sleep_time)\n",
        "\tprint(f\"还剩{leftover}h\")\n",
        "print(\"一天结束了\")"
      ],
      "metadata": {
        "colab": {
          "base_uri": "https://localhost:8080/"
        },
        "id": "-nIn-aO-kJpb",
        "outputId": "f1a99ec9-6082-4e66-eb7d-ccd16a8d1ba1"
      },
      "execution_count": null,
      "outputs": [
        {
          "output_type": "stream",
          "name": "stdout",
          "text": [
            "还剩1h\n",
            "一天结束了\n"
          ]
        }
      ]
    },
    {
      "cell_type": "code",
      "source": [
        "# 嵌套条件语句\n",
        "a = float(input(\"输入一个实数a:\"))\n",
        "b = float(input(\"输入一个实数b:\"))\n",
        "if a == b:\n",
        "\tprint(\"a和b相等\")\n",
        "\tif b != 0:\n",
        "\t\tprint(f\"因此,a/b等于{a / b}\")\n",
        "elif a < b:\n",
        "\tprint(\"a比b小\")\n",
        "else:\n",
        "\tprint(\"b比a小\")\n",
        "print(\"谢谢!\")"
      ],
      "metadata": {
        "colab": {
          "base_uri": "https://localhost:8080/"
        },
        "id": "xpDM0-ThkPdK",
        "outputId": "f128f3aa-7ee8-4feb-aa12-acf9f56b253a"
      },
      "execution_count": null,
      "outputs": [
        {
          "output_type": "stream",
          "name": "stdout",
          "text": [
            "输入一个实数a:1\n",
            "输入一个实数b:2\n",
            "a比b小\n",
            "谢谢!\n"
          ]
        }
      ]
    },
    {
      "cell_type": "code",
      "source": [
        "# 练习: 在程序中存储一个秘密数字,让用户猜测,并反馈两者大小\n",
        "secret_number = 1996\n",
        "guess_number = int(input(\"请猜测一个数字:\"))\n",
        "if secret_number > guess_number:\n",
        "\tprint(\"你猜小了!\")\n",
        "elif secret_number < guess_number:\n",
        "\tprint(\"你猜大了!\")\n",
        "else:\n",
        "\tprint(\"你猜对了!\")"
      ],
      "metadata": {
        "colab": {
          "base_uri": "https://localhost:8080/"
        },
        "id": "_V_lsHeokliz",
        "outputId": "f36e1e92-d527-40f5-d5f6-4c1e4169b8ff"
      },
      "execution_count": null,
      "outputs": [
        {
          "output_type": "stream",
          "name": "stdout",
          "text": [
            "请猜测一个数字:10\n",
            "你猜小了!\n"
          ]
        }
      ]
    },
    {
      "cell_type": "markdown",
      "source": [
        "## 迭代（iteration）\n",
        "\n",
        "---\n",
        "\n",
        "\n",
        "* while循环（while loops）\n",
        "  * 用于创建循环结构的控制流语句,它会重复执行代码块,直到指定的条件变为False\n",
        "  * 适合处理未知循环次数或需持续满足某种条件的情况\n",
        "  * 应用：遍历数值序列(iterate through numbers in a sequence)\n",
        "* for循环（for loops）\n",
        "  * 一种用于遍历可迭代对象的循环结构，能够逐个访问序列中的元素，无需手动管理索引\n",
        "  * 可迭代对象包括列表、元组、字符串、字典、集合，还有生成器或者使用range()函数生成的数字序列\n",
        "  * 应用\n",
        "    * 遍历数值序列\n",
        "    * 遍历字符串\n"
      ],
      "metadata": {
        "id": "YLuyGKRYT201"
      }
    },
    {
      "cell_type": "markdown",
      "source": [
        "### while循环\n",
        "\n",
        "---\n",
        "\n",
        "\n"
      ],
      "metadata": {
        "id": "ktZYuYnil3-K"
      }
    },
    {
      "cell_type": "code",
      "source": [
        "# 练习:失落森林(Lost Forest)\n",
        "where = input(\"你在失落森林里,向左还是向右?\")\n",
        "while where == \"向右\":\n",
        "\twhere = input(\"你在失落森林里,向左还是向右?\")\n",
        "print(\"你走出了失落森林!\")"
      ],
      "metadata": {
        "id": "xqQdsArdl6nD"
      },
      "execution_count": null,
      "outputs": []
    },
    {
      "cell_type": "code",
      "source": [
        "# 练习:失落森林-带提示版\n",
        "where1 = input(\"左还是右?\")\n",
        "counter = 0\n",
        "while where1 == \"右\":\n",
        "\tcounter += 1\n",
        "\tif counter >= 2:\n",
        "\t\tprint(\":(\")\n",
        "\tprint(f\"错了{counter}次了!\")\n",
        "\twhere1 = input(\"左还是右?\")\n",
        "print(\"你走出来了!\")"
      ],
      "metadata": {
        "id": "ss02p_E4l8hz"
      },
      "execution_count": null,
      "outputs": []
    },
    {
      "cell_type": "code",
      "source": [
        "# 练习:在控制流中打出n个x\n",
        "n = int(input(\"请输入一个正整数:\"))\n",
        "while n > 0:\n",
        "\tprint(\"x\")\n",
        "\tn = n - 1"
      ],
      "metadata": {
        "id": "cvNRyy6Pl-Zz"
      },
      "execution_count": null,
      "outputs": []
    },
    {
      "cell_type": "code",
      "source": [
        "# 遍历数值序列\n",
        "x = 0\n",
        "while x < 5:\n",
        "\tprint(x)\n",
        "\tx += 1"
      ],
      "metadata": {
        "id": "h9bQL7cBmKLs"
      },
      "execution_count": null,
      "outputs": []
    },
    {
      "cell_type": "code",
      "source": [
        "# 练习: 遍历数值序列-求阶乘(factorial)\n",
        "a = int(input(\"请输入用作阶乘的一个正整数:\"))\n",
        "i = 1\n",
        "factorial = 1\n",
        "while i <= a:\n",
        "\tfactorial *= i\n",
        "\ti += 1\n",
        "print(f\"{a}的阶乘是{factorial}\")"
      ],
      "metadata": {
        "id": "RaXdcLIOmP_a"
      },
      "execution_count": null,
      "outputs": []
    },
    {
      "cell_type": "markdown",
      "source": [
        "### for循环\n",
        "\n",
        "---\n",
        "\n",
        "\n"
      ],
      "metadata": {
        "id": "CmIc_Si7ma9S"
      }
    },
    {
      "cell_type": "code",
      "source": [
        "# 遍历数值序列\n",
        "for b in range(5):\n",
        "\tprint(b)"
      ],
      "metadata": {
        "id": "qGIvDZ19mdUS"
      },
      "execution_count": null,
      "outputs": []
    },
    {
      "cell_type": "code",
      "source": [
        "# 练习:求和\n",
        "c = int(input(\"请输入用作求和的一个正整数:\"))\n",
        "mysum = 0\n",
        "for i in range(c):\n",
        "\tmysum += i\n",
        "print(mysum)\n",
        "\n",
        "mysum2 = 0\n",
        "start = int(input(\"请输入用来求和的起始数:\"))\n",
        "end = int(input(\"请输入用来求和的结束数:\"))\n",
        "for i in range(start, end + 1):\n",
        "\tprint(i)\n",
        "\tmysum2 += i\n",
        "print(mysum2)"
      ],
      "metadata": {
        "id": "WSzj6vXsml4T"
      },
      "execution_count": null,
      "outputs": []
    },
    {
      "cell_type": "code",
      "source": [
        "# 练习:计算阶乘\n",
        "d = int(input(\"请输入用来阶乘的一个正整数:\"))\n",
        "factorial2 = 1\n",
        "for i in range(1, d + 1, 1):\n",
        "\tfactorial2 *= i\n",
        "print(f\"{d}的阶乘是{factorial2}\")"
      ],
      "metadata": {
        "id": "9ksapOmKmoU7"
      },
      "execution_count": null,
      "outputs": []
    },
    {
      "cell_type": "code",
      "source": [
        "# 练习:计数-偶数的数量\n",
        "numstart = int(input(\"输入起始值:\") or 0)  # 用or设置默认值,若用户直接按回车,可设置默认值\n",
        "numstop = int(input(\"输入结束值:\"))\n",
        "numstep = int(input(\"输入步长:\") or 1)\n",
        "numeven = 0\n",
        "for i in range(numstart, numstop, numstep):\n",
        "\tif i % 2 == 0:\n",
        "\t\tnumeven += 1\n",
        "\t\tprint(i)\n",
        "print(numeven)"
      ],
      "metadata": {
        "id": "Ij0DFDMEmqvj"
      },
      "execution_count": null,
      "outputs": []
    },
    {
      "cell_type": "code",
      "source": [
        "# 遍历字符串\n",
        "s = \"demo loops - fruint loops\"\n",
        "for index in range(len(s)):\n",
        "\tif s[index] == \"i\" or s[index] == \"u\":\n",
        "\t\tprint(\"There is an i or u\")\n",
        "for char in s:\n",
        "\tif char == 'i' or char == \"u\":\n",
        "\t\tprint(\"There is an i or u\")\n",
        "for char2 in s:\n",
        "\tif char2 in \"iu\":\n",
        "\t\tprint(\"There is an i or u\")"
      ],
      "metadata": {
        "id": "wireebPrmuT_"
      },
      "execution_count": null,
      "outputs": []
    },
    {
      "cell_type": "code",
      "source": [
        "# 练习:机器人啦啦队(robot cheerleaders)\n",
        "an_letters = \"aefhilmnorsxAEFHILMNORSX\"\n",
        "word = input(\"I will cheer for you!Enter a word:\")\n",
        "times = int(input(\"Enthusiaam level(1-10):\"))\n",
        "for w in word:\n",
        "\tif w in an_letters: # 元音字母\n",
        "\t\tprint(f\"Give me an {c}:{c}\")\n",
        "\telse:\n",
        "\t\tprint(f\"Give me a {c}:{c}\")\n",
        "print(\"What's that spell?'\")\n",
        "for i in range(times):\n",
        "\tprint(word,\"!!!\")"
      ],
      "metadata": {
        "id": "ucTLMD5gmwwy"
      },
      "execution_count": null,
      "outputs": []
    },
    {
      "cell_type": "code",
      "source": [
        "# 练习:找出字符串中只出现过一次的字母个数\n",
        "letter_s = \"abca\"\n",
        "letter_sa = \"\"\n",
        "for char in letter_s:\n",
        "\tif char not in letter_sa:\n",
        "\t\tletter_sa += char\n",
        "print(len(letter_sa))"
      ],
      "metadata": {
        "id": "6bsTNQgCm1A6"
      },
      "execution_count": null,
      "outputs": []
    },
    {
      "cell_type": "markdown",
      "source": [
        "## 递归（recursion）\n",
        "\n",
        "---\n",
        "\n",
        "\n",
        "* 递归(Recursion): 函数直接或间接调用自身\n",
        "* 递归模式: 递归步骤+递归基\n",
        "* 递归应用\n",
        "  * 数值应用\n",
        "  * 非数值应用：递归应用于列表\n",
        "    * 求和\n",
        "    * 查找元素是否在列表中\n",
        "    * 拍平单层嵌套列表\n",
        "    * 检查元素是否在单层嵌套列表中\n",
        "    * 反转顶层列表\n",
        "    * 反转所有层次的列表"
      ],
      "metadata": {
        "id": "Swfts0xqT8q8"
      }
    },
    {
      "cell_type": "markdown",
      "source": [
        "\n",
        "\n",
        "---\n",
        "数值应用\n",
        "\n",
        "---\n",
        "\n",
        "\n"
      ],
      "metadata": {
        "id": "LVujEis7SSEn"
      }
    },
    {
      "cell_type": "code",
      "source": [
        "# 数值应用\n",
        "def mult_recur(a, b):\n",
        "\t\"\"\"\n",
        "\tInput: a, b, 整数\n",
        "\tReturn:返回a*b的值\n",
        "\t\"\"\"\n",
        "\tif b == 1:\n",
        "\t\treturn a\n",
        "\telse:\n",
        "\t\treturn a + mult_recur(a, b - 1)"
      ],
      "metadata": {
        "id": "tz19LsDLRl1v"
      },
      "execution_count": null,
      "outputs": []
    },
    {
      "cell_type": "markdown",
      "source": [
        "\n",
        "\n",
        "---\n",
        "非数值应用：递归应用于列表\n",
        "\n",
        "---\n",
        "\n",
        "\n"
      ],
      "metadata": {
        "id": "SCllfgi6RqnD"
      }
    },
    {
      "cell_type": "code",
      "source": [
        "# 求和\n",
        "def total_recur(L):\n",
        "\tif len(L) == 1:\n",
        "\t\treturn L[0]\n",
        "\telse:\n",
        "\t\treturn L[0] + total_recur(L[1:])\n",
        "test = [30, 40, 50]\n",
        "\n",
        "print(total_recur(test))"
      ],
      "metadata": {
        "colab": {
          "base_uri": "https://localhost:8080/"
        },
        "id": "cze5s3hQRuoe",
        "outputId": "479d3e61-6d02-413c-a208-d0c2cec98b0d"
      },
      "execution_count": null,
      "outputs": [
        {
          "output_type": "stream",
          "name": "stdout",
          "text": [
            "120\n"
          ]
        }
      ]
    },
    {
      "cell_type": "code",
      "source": [
        "# 查找元素是否在列表中\n",
        "def in_list(L, e):\n",
        "\tif len(L) == 1:\n",
        "\t\treturn L[0] == e\n",
        "\telse:\n",
        "\t\tif L[0] == e:\n",
        "\t\t\treturn True\n",
        "\t\telse:\n",
        "\t\t\treturn in_list(L[1:], e)\n",
        "test_in = [2, 5, 8, 1]\n",
        "\n",
        "print(in_list(test_in, 5))"
      ],
      "metadata": {
        "colab": {
          "base_uri": "https://localhost:8080/"
        },
        "id": "Jj9OpAuFR06e",
        "outputId": "d38ca829-c713-4b5c-e678-baaa14384479"
      },
      "execution_count": null,
      "outputs": [
        {
          "output_type": "stream",
          "name": "stdout",
          "text": [
            "True\n"
          ]
        }
      ]
    },
    {
      "cell_type": "code",
      "source": [
        "# 拍平单层嵌套列表\n",
        "def flatten(L):\n",
        "\tif len(L) == 1:\n",
        "\t\treturn L[0]\n",
        "\telse:\n",
        "\t\treturn L[0] + flatten(L[1:])\n",
        "test_f = [[1, 2], [3, 4], [5, 6]]\n",
        "\n",
        "print(flatten(test_f))"
      ],
      "metadata": {
        "colab": {
          "base_uri": "https://localhost:8080/"
        },
        "id": "7kKpvVm2R37n",
        "outputId": "3130233f-115a-4d7d-bc0e-52adf3729209"
      },
      "execution_count": null,
      "outputs": [
        {
          "output_type": "stream",
          "name": "stdout",
          "text": [
            "[1, 2, 3, 4, 5, 6]\n"
          ]
        }
      ]
    },
    {
      "cell_type": "code",
      "source": [
        "# 检查元素是否在单层嵌套列表中\n",
        "def in_list_of_lists(L, e):\n",
        "\t\"\"\"\n",
        "\tInput:\n",
        "\t\t* L: 元素是包含着整数的列表的列表\n",
        "\t\t* e: 整数\n",
        "\tReturn: 如果e在L的元素中,则返回真,否则返回假\n",
        "\t\"\"\"\n",
        "\tif len(L) == 1:\n",
        "\t\treturn (e in L[0])\n",
        "\telse:\n",
        "\t\tif e in L[0]:\n",
        "\t\t\treturn True\n",
        "\t\telse:\n",
        "\t\t\treturn in_list_of_lists(L[1:], e)\n",
        "test_inin = [[1, 2], [3, 4], [5, 6]]\n",
        "\n",
        "print(in_list_of_lists(test_inin, 0))\n",
        "print(in_list_of_lists(test_inin, 3))"
      ],
      "metadata": {
        "colab": {
          "base_uri": "https://localhost:8080/"
        },
        "id": "uoITShyLR9a2",
        "outputId": "b32a928f-3c36-4658-ab14-c4794b7084c3"
      },
      "execution_count": null,
      "outputs": [
        {
          "output_type": "stream",
          "name": "stdout",
          "text": [
            "False\n",
            "True\n"
          ]
        }
      ]
    },
    {
      "cell_type": "code",
      "source": [
        "# 反转顶层列表\n",
        "def my_rev(L):\n",
        "\tif len(L) == 1:\n",
        "\t\treturn L\n",
        "\telse:\n",
        "\t\treturn my_rev(L[1:]) + [L[0]]\n",
        "test_rev1 = [1, 2, \"abc\"]\n",
        "test_rev2 = [1, [\"d\"], [\"e\", [\"f\", \"g\"]]]\n",
        "\n",
        "print(my_rev(test_rev1))\n",
        "print(my_rev(test_rev2))"
      ],
      "metadata": {
        "colab": {
          "base_uri": "https://localhost:8080/"
        },
        "id": "8fFgZrDqSDEe",
        "outputId": "caa8699a-684a-4fd7-8973-e1b239ac37cf"
      },
      "execution_count": null,
      "outputs": [
        {
          "output_type": "stream",
          "name": "stdout",
          "text": [
            "['abc', 2, 1]\n",
            "[['e', ['f', 'g']], ['d'], 1]\n"
          ]
        }
      ]
    },
    {
      "cell_type": "code",
      "source": [
        "# 反转所有层次的列表\n",
        "def deep_rev(L):\n",
        "\t#if len(L) == 1:\n",
        "\t#\tif type(L[0]) != list:\n",
        "\t#\t\treturn L\n",
        "\t#\telse:\n",
        "\t#\t\treturn [deep_rev(L[0])]\n",
        "\t#else:\n",
        "\t#\tif type(L[0]) != list:\n",
        "\t#\t\treturn deep_rev(L[1:]) + [L[0]]\n",
        "\t#\telse:\n",
        "\t#\t\treturn deep_rev(L[1:]) + [deep_rev(L[0])]\n",
        "\t# 优化版本\n",
        "\tif L == []:\n",
        "\t\treturn []\n",
        "\telif type(L[0]) != list:\n",
        "\t\treturn deep_rev(L[1:]) + [L[0]]\n",
        "\telse:\n",
        "\t\treturn deep_rev(L[1:]) + [deep_rev(L[0])]"
      ],
      "metadata": {
        "id": "bSdEjSJiSIgH"
      },
      "execution_count": null,
      "outputs": []
    },
    {
      "cell_type": "markdown",
      "source": [
        "\n",
        "\n",
        "---\n",
        "练习\n",
        "\n",
        "---\n",
        "\n",
        "\n"
      ],
      "metadata": {
        "id": "mPvG1MZ7SVCe"
      }
    },
    {
      "cell_type": "code",
      "source": [
        "# n的p次方\n",
        "def power_recur(n, p):\n",
        "\tif p == 0:\n",
        "\t\treturn 1\n",
        "\t#这个elif不是必须的\n",
        "\t#elif p == 1:\n",
        "\t#\treturn n\n",
        "\telse:\n",
        "\t\treturn n * power_recur(n, p - 1)\n",
        "\n",
        "print(power_recur(2, 3))"
      ],
      "metadata": {
        "colab": {
          "base_uri": "https://localhost:8080/"
        },
        "id": "5Y_ZMJwFSakn",
        "outputId": "287dea97-4e15-46fb-d7df-4f831a7159fe"
      },
      "execution_count": null,
      "outputs": [
        {
          "output_type": "stream",
          "name": "stdout",
          "text": [
            "8\n"
          ]
        }
      ]
    },
    {
      "cell_type": "code",
      "source": [
        "# 阶乘(factorial)\n",
        "def fact(n):\n",
        "\tif n == 1:\n",
        "\t\treturn 1\n",
        "\telse:\n",
        "\t\treturn n * fact(n - 1)\n",
        "\n",
        "print(fact(4))"
      ],
      "metadata": {
        "colab": {
          "base_uri": "https://localhost:8080/"
        },
        "id": "sCBm7zu3SflW",
        "outputId": "4cae6ab2-a302-4984-e79b-862df3527295"
      },
      "execution_count": null,
      "outputs": [
        {
          "output_type": "stream",
          "name": "stdout",
          "text": [
            "24\n"
          ]
        }
      ]
    },
    {
      "cell_type": "code",
      "source": [
        "# 斐波那契数列(Fibonacci sequence)\n",
        "def fib(n):\n",
        "\tif n == 1 or n == 2:\n",
        "\t\treturn 1\n",
        "\telse:\n",
        "\t\treturn fib(n - 1) + fib(n - 2)\n",
        "\n",
        "def fib_efficient(n, d):\n",
        "\tif n in d:\n",
        "\t\treturn d[n]\n",
        "\telse:\n",
        "\t\tans = fib_efficient(n-1, d) + fib_efficient(n-2, d)\n",
        "\t\td[n] = ans # 把运算过的斐波那契数存储到字典中\n",
        "\t\treturn ans\n",
        "d = {1: 1, 2: 1}\n",
        "\n",
        "print(fib_efficient(6, d))"
      ],
      "metadata": {
        "colab": {
          "base_uri": "https://localhost:8080/"
        },
        "id": "P2llv3-ASixG",
        "outputId": "6b1eb0df-a998-40ec-af8e-d0bcd943a06b"
      },
      "execution_count": null,
      "outputs": [
        {
          "output_type": "stream",
          "name": "stdout",
          "text": [
            "8\n"
          ]
        }
      ]
    },
    {
      "cell_type": "code",
      "source": [
        "# 计算篮球得分方式\n",
        "def score_count(x):\n",
        "\t\"\"\"\n",
        "\tInput:x, 整数\n",
        "\tReturn:返回所有得到x分的方式的数量\n",
        "\t\"\"\"\n",
        "\tif x == 1:\n",
        "\t\treturn 1 # 1=1+0\n",
        "\telif x == 2:\n",
        "\t\treturn 2 # 2=1+1=2+0\n",
        "\telif x == 3:\n",
        "\t\treturn 3 # 3=1+1+1=2+1=3+0\n",
        "\telse:\n",
        "\t\treturn score_count(x - 1) + score_count(x - 2) + score_count(x - 3)\n",
        "\n",
        "def score_count_effi(x, d_s):\n",
        "\tif x in d_s:\n",
        "\t\treturn d_s[x]\n",
        "\telse:\n",
        "\t\tans = score_count_effi(x - 1, d_s) + score_count_effi(x - 2, d_s) + score_count_effi(x - 3, d_s)\n",
        "\t\td_s[x] = ans\n",
        "\t\treturn ans\n",
        "d_s = {1: 1, 2: 2, 3: 3}\n",
        "\n",
        "print(score_count_effi(64, d_s))"
      ],
      "metadata": {
        "colab": {
          "base_uri": "https://localhost:8080/"
        },
        "id": "xbAEQbRpSm5o",
        "outputId": "014a8db9-39f9-4285-b436-b2f2e105ede1"
      },
      "execution_count": null,
      "outputs": [
        {
          "output_type": "stream",
          "name": "stdout",
          "text": [
            "44952952817020192\n"
          ]
        }
      ]
    },
    {
      "cell_type": "code",
      "source": [
        "# 求列表中元素长度之和\n",
        "def total_len_recur(L):\n",
        "\tif len(L) == 1:\n",
        "\t\treturn len(L[0])\n",
        "\telse:\n",
        "\t\treturn len(L[0]) + total_len_recur(L[1:])\n",
        "test_len = [\"ab\", \"c\", \"defgh\"]\n",
        "\n",
        "print(total_len_recur(test_len))"
      ],
      "metadata": {
        "colab": {
          "base_uri": "https://localhost:8080/"
        },
        "id": "vgLpflXnSy5G",
        "outputId": "2e2ff236-2331-44f7-f965-84f158d544a8"
      },
      "execution_count": null,
      "outputs": [
        {
          "output_type": "stream",
          "name": "stdout",
          "text": [
            "8\n"
          ]
        }
      ]
    },
    {
      "cell_type": "markdown",
      "source": [
        "# 函数（Function）"
      ],
      "metadata": {
        "id": "iwjxLj-qxgwD"
      }
    },
    {
      "cell_type": "markdown",
      "source": [
        "## 定义函数（Define fcn）\n",
        "\n",
        "---\n",
        "\n",
        "\n",
        "* 规范 | 文档字符串(Specificaiton|Docstrings)：描述函数功能，该函数的输入是什么，这个函数在做什么，该函数的输出是什么。\n",
        "* 形参(formal parameters)：函数定义时声明的参数，用于接收调用函数时传递的具体值(成为实参)。形参相当于函数的“输入占位符”，定义了函数需要什么类型的数据才能运行\n",
        "* 默认参数(default parameters)： 默认参数必须放在最后\n",
        "* 返回：return & print\n",
        "  * return：只在函数内部有意义\n",
        "  * print()：本身是一个函数，但是不返回任何值，因此返回的是None\n",
        "* 匿名函数(Lambda function)：(lambdax：判定条件)()，返回True或False\n"
      ],
      "metadata": {
        "id": "rohzik_VxsEj"
      }
    },
    {
      "cell_type": "markdown",
      "source": [
        "### 定义函数\n",
        "\n",
        "---\n",
        "\n",
        "\n"
      ],
      "metadata": {
        "id": "FEEKu6Q7osMn"
      }
    },
    {
      "cell_type": "code",
      "source": [
        "# 定义函数：奇偶判定\n",
        "def is_even(i):\n",
        "\t\"\"\"\n",
        "\tInput: i, 一个整数\n",
        "\tReturn: 如果i是偶数返回True,否则False\n",
        "\t\"\"\"\n",
        "\treturn i % 2 == 0 # 如果没有return,函数会自动返回return"
      ],
      "metadata": {
        "id": "IGyPxpCAynod"
      },
      "execution_count": null,
      "outputs": []
    },
    {
      "cell_type": "code",
      "source": [
        "# 定义函数：二分法找平方根\n",
        "def bisection_root_default(x, epsilon = 0.01): # 设置默认参数\n",
        "\tlow = 0\n",
        "\thigh = x\n",
        "\tguess = (high + low) / 2.0\n",
        "\twhile abs(guess ** 2 - x) >= epsilon:\n",
        "\t\tif guess ** 2 < x:\n",
        "\t\t\tlow = guess\n",
        "\t\telse:\n",
        "\t\t\thigh = guess\n",
        "\t\tguess = (high + low) / 2.0\n",
        "\treturn guess"
      ],
      "metadata": {
        "id": "ZV3xEK630UZ0"
      },
      "execution_count": null,
      "outputs": []
    },
    {
      "cell_type": "code",
      "source": [
        "# 测试函数（bisection_root_default())\n",
        "print(bisection_root_default(123))\n",
        "print(bisection_root_default(123, 0.5))\n",
        "print(bisection_root_default(123, epsilon = 0.001))\n",
        "print(bisection_root_default(x = 123, epsilon = 0.1))\n",
        "print(bisection_root_default(epsilon = 0.1, x = 123))"
      ],
      "metadata": {
        "id": "RIqxwqo90pIl",
        "colab": {
          "base_uri": "https://localhost:8080/"
        },
        "outputId": "6c419a50-c433-4397-f830-de9f37f82f11"
      },
      "execution_count": null,
      "outputs": [
        {
          "output_type": "stream",
          "name": "stdout",
          "text": [
            "11.090194702148438\n",
            "11.11083984375\n",
            "11.090546607971191\n",
            "11.08831787109375\n",
            "11.08831787109375\n"
          ]
        }
      ]
    },
    {
      "cell_type": "code",
      "source": [
        "# 函数：奇偶判定（有返回值）\n",
        "def is_even_with_return(i):\n",
        "\t\"\"\"\n",
        "\tInput: i, 正整数\n",
        "\tReturn: 如果i是偶数返回True,否则返回False\n",
        "\t\"\"\"\n",
        "\tprint(\"with return\")\n",
        "\tremainder = i % 2\n",
        "\treturn remainder == 0"
      ],
      "metadata": {
        "id": "FhgK06HiEorA"
      },
      "execution_count": null,
      "outputs": []
    },
    {
      "cell_type": "code",
      "source": [
        "# 测试函数（is_even_with_return())\n",
        "print(is_even_with_return(3))"
      ],
      "metadata": {
        "colab": {
          "base_uri": "https://localhost:8080/"
        },
        "id": "GcTa1oWqE104",
        "outputId": "0ffef366-be97-486a-e1eb-78cbbb9c815a"
      },
      "execution_count": null,
      "outputs": [
        {
          "output_type": "stream",
          "name": "stdout",
          "text": [
            "with return\n",
            "False\n"
          ]
        }
      ]
    },
    {
      "cell_type": "code",
      "source": [
        "# 函数：奇偶判定（无返回值）\n",
        "def is_even_without_return(i):\n",
        "\t\"\"\"\n",
        "\tInput: i, 正整数\n",
        "\tReturn:None\n",
        "\t\"\"\"\n",
        "\tprint(\"without return\")\n",
        "\tremainder = i % 2\n",
        "\thas_rem = (remainder == 0)\n",
        "\tprint(has_rem) # return None"
      ],
      "metadata": {
        "id": "9RBVVF4tFIER"
      },
      "execution_count": null,
      "outputs": []
    },
    {
      "cell_type": "code",
      "source": [
        "# 测试函数（is_even_without_return())\n",
        "print(is_even_without_return(3))"
      ],
      "metadata": {
        "colab": {
          "base_uri": "https://localhost:8080/"
        },
        "id": "-y8FhbKcFhnp",
        "outputId": "09a72b49-fcf4-428e-8fa2-7b47f5fa45ee"
      },
      "execution_count": null,
      "outputs": [
        {
          "output_type": "stream",
          "name": "stdout",
          "text": [
            "without return\n",
            "False\n",
            "None\n"
          ]
        }
      ]
    },
    {
      "cell_type": "code",
      "source": [
        "# 函数：加（有返回值）| 乘（无返回值）\n",
        "def add(x, y):\n",
        "\treturn (x + y)\n",
        "def mult(x, y):\n",
        "\tprint (x * y) # return None"
      ],
      "metadata": {
        "id": "f-OhcpnMF6Op"
      },
      "execution_count": null,
      "outputs": []
    },
    {
      "cell_type": "code",
      "source": [
        "# print() 函数\n",
        "print(print(5)) # return None"
      ],
      "metadata": {
        "colab": {
          "base_uri": "https://localhost:8080/"
        },
        "id": "PtulcY4uGLSA",
        "outputId": "7e7cd0dd-e238-4af1-dd1b-ab3c2685dea6"
      },
      "execution_count": null,
      "outputs": [
        {
          "output_type": "stream",
          "name": "stdout",
          "text": [
            "5\n",
            "None\n"
          ]
        }
      ]
    },
    {
      "cell_type": "markdown",
      "source": [
        "### 匿名函数\n",
        "\n",
        "---\n",
        "\n",
        "\n"
      ],
      "metadata": {
        "id": "wPhEGeVwowAn"
      }
    },
    {
      "cell_type": "code",
      "source": [
        "# 匿名函数：奇偶判定\n",
        "lambda x: x % 2 == 0"
      ],
      "metadata": {
        "colab": {
          "base_uri": "https://localhost:8080/"
        },
        "id": "g3jfZY54o5XH",
        "outputId": "91187ec3-d121-4eca-f9c7-51408100331e"
      },
      "execution_count": null,
      "outputs": [
        {
          "output_type": "execute_result",
          "data": {
            "text/plain": [
              "<function __main__.<lambda>(x)>"
            ]
          },
          "metadata": {},
          "execution_count": 21
        }
      ]
    },
    {
      "cell_type": "code",
      "source": [
        "#测试\n",
        "(lambda x: x % 2 == 0)(8)"
      ],
      "metadata": {
        "colab": {
          "base_uri": "https://localhost:8080/"
        },
        "id": "68jlf138pGSH",
        "outputId": "7d03da84-81ee-4848-8c3c-b8513e7ceb63"
      },
      "execution_count": null,
      "outputs": [
        {
          "output_type": "execute_result",
          "data": {
            "text/plain": [
              "True"
            ]
          },
          "metadata": {},
          "execution_count": 22
        }
      ]
    },
    {
      "cell_type": "code",
      "source": [
        "# 使用lambda函数：连续应用某个函数两次\n",
        "def do_twice(n, fn):\n",
        "\treturn fn(fn(n))\n",
        "print(do_twice(3, lambda x: x ** 2))"
      ],
      "metadata": {
        "colab": {
          "base_uri": "https://localhost:8080/"
        },
        "id": "yEu5ge6cqkbp",
        "outputId": "3d973f47-bf9e-4bda-8eeb-c23e117d3418"
      },
      "execution_count": null,
      "outputs": [
        {
          "output_type": "stream",
          "name": "stdout",
          "text": [
            "81\n"
          ]
        }
      ]
    },
    {
      "cell_type": "markdown",
      "source": [
        "### 练习\n",
        "\n",
        "---\n",
        "\n",
        "\n"
      ],
      "metadata": {
        "id": "vm2OLerbpRxR"
      }
    },
    {
      "cell_type": "code",
      "source": [
        "# 函数：判断一个数是否可以被另一个数整除\n",
        "def div_by(n, d):\n",
        "\t\"\"\"\n",
        "\tInput: n, d, 正整数\n",
        "\tReturn: 如果n可以被d整除,返回True,否则返回False\n",
        "\t\"\"\"\n",
        "\treturn n % d == 0"
      ],
      "metadata": {
        "id": "ehHO_GjOpUwZ"
      },
      "execution_count": null,
      "outputs": []
    },
    {
      "cell_type": "code",
      "source": [
        "# 测试\n",
        "print(div_by(10,3))\n",
        "print(div_by(195,13))"
      ],
      "metadata": {
        "colab": {
          "base_uri": "https://localhost:8080/"
        },
        "id": "zSzmSabvpaNo",
        "outputId": "6c145da1-902e-4ca7-e323-c56e9aba4fb9"
      },
      "execution_count": null,
      "outputs": [
        {
          "output_type": "stream",
          "name": "stdout",
          "text": [
            "False\n",
            "True\n"
          ]
        }
      ]
    },
    {
      "cell_type": "code",
      "source": [
        "# 函数：将a和b之间所有的奇数相加\n",
        "def sum_odds(a, b):\n",
        "\t\"\"\"\n",
        "\tInput: a, b,整数\n",
        "\tReturn: a和b之间所有奇数之和\n",
        "\t\"\"\"\n",
        "\tsum = 0\n",
        "\tfor i in range(a, b + 1):\n",
        "\t\tif i % 2 != 0:\n",
        "\t\t\tsum += i\n",
        "\treturn sum"
      ],
      "metadata": {
        "id": "a5m3G67vp_2H"
      },
      "execution_count": null,
      "outputs": []
    },
    {
      "cell_type": "code",
      "source": [
        "# 函数：判定三角数(Triangular Number),三角数是能排列成等边三角形点阵的自然数,其数学本质是首n个自然数之和\n",
        "def is_triangular(n):\n",
        "\t\"\"\"\n",
        "\tInput: n, 正整数\n",
        "\tReturn: 如果n是连续自然数之和(1+2+3+...+k),则返回True,否则返回False\n",
        "\t\"\"\"\n",
        "\ttotal = 0\n",
        "\tfor i in range(n + 1):\n",
        "\t\ttotal += i\n",
        "\t\tif total == n:\n",
        "\t\t\tprint(i)\n",
        "\t\t\treturn True\n",
        "\treturn False # 为什么这个return False放在最外面?"
      ],
      "metadata": {
        "id": "0u8YXILIqGpd"
      },
      "execution_count": null,
      "outputs": []
    },
    {
      "cell_type": "code",
      "source": [
        "# 函数：把用二分法找平方根封装在函数中\n",
        "def bisection_root(x):\n",
        "\t\"\"\"\n",
        "\tInput: x, 大于1的正整数\n",
        "\tReturn: 返回x在epsilon误差范围内的平方根\n",
        "\t\"\"\"\n",
        "\tepsilon = 0.01\n",
        "\tlow = 0\n",
        "\thigh = x\n",
        "\tans = (high + low) / 2.0\n",
        "\twhile abs(ans ** 2 - x) >= epsilon:\n",
        "\t\tif ans ** 2 < x:\n",
        "\t\t\tlow = ans\n",
        "\t\telse:\n",
        "\t\t\thigh = ans\n",
        "\t\tans = (high + low) / 2.0\n",
        "\treturn ans"
      ],
      "metadata": {
        "id": "OUFnaYt3qSsm"
      },
      "execution_count": null,
      "outputs": []
    },
    {
      "cell_type": "code",
      "source": [
        "# 函数：找出平方根接近n加或减epsilon的数的个数\n",
        "def count_nums_with_sqrt_close_to(n, epsilon):\n",
        "\t\"\"\"\n",
        "\tInput: n, 大于2的整数; epsilon, 小于1的正数\n",
        "\tReturn: 返回有多少个整数的平方根在n的正负epsilon范围内\n",
        "\t\"\"\"\n",
        "\tcount = 0\n",
        "\tfor i in range(n ** 3):\n",
        "\t\tsqrt = bisection_root(i)\n",
        "\t\tif abs(n - sqrt) < epsilon:\n",
        "\t\t\tprint(i, sqrt)\n",
        "\t\t\tcount += 1\n",
        "\treturn count"
      ],
      "metadata": {
        "id": "o9jU5A41qYQJ"
      },
      "execution_count": null,
      "outputs": []
    },
    {
      "cell_type": "markdown",
      "source": [
        "## 调用函数（Call fcn）\n",
        "\n",
        "---\n",
        "\n",
        "\n",
        "* 调用函数后返回一个值，这个值代替了这个函数调用\n",
        "* 函数调用环境\n",
        "  * 如果函数调用环境中没有某个名为x的变量，Python会一层层往外找，看调用了它的环境里有没有名为x的变量\n",
        "  * 函数可以获取外部环境中的变量(can access a variable defined outside)，但不能改变它(cannot modify a variable defined outside)\n",
        "* 链式调用（chaining）\n"
      ],
      "metadata": {
        "id": "yDsNAYF0GZ6B"
      }
    },
    {
      "cell_type": "code",
      "source": [
        "# 调用函数（is_even())\n",
        "is_even(3) # 返回False\n",
        "print(is_even(3))\n",
        "is_even(8) # 返回True\n",
        "print(is_even(8))"
      ],
      "metadata": {
        "colab": {
          "base_uri": "https://localhost:8080/"
        },
        "id": "bpS2T7SJHKMJ",
        "outputId": "a1811066-76bb-474a-8f56-fdb4af13de2f"
      },
      "execution_count": null,
      "outputs": [
        {
          "output_type": "stream",
          "name": "stdout",
          "text": [
            "False\n",
            "True\n"
          ]
        }
      ]
    },
    {
      "cell_type": "code",
      "source": [
        "# 获取外部变量\n",
        "def g(y):\n",
        "\tprint(x)\n",
        "\tprint(x+1)\n",
        "x = 5\n",
        "g(x)\n",
        "print(x)"
      ],
      "metadata": {
        "id": "yrGxTL2lHqlI",
        "colab": {
          "base_uri": "https://localhost:8080/"
        },
        "outputId": "7aa175a1-d4f0-4e71-b643-e91773cfe2a1"
      },
      "execution_count": null,
      "outputs": [
        {
          "output_type": "stream",
          "name": "stdout",
          "text": [
            "5\n",
            "6\n",
            "5\n"
          ]
        }
      ]
    },
    {
      "cell_type": "markdown",
      "source": [
        "## 函数运用\n",
        "\n",
        "---\n",
        "\n",
        "\n",
        "* 一般运用\n",
        "* 函数用作函数的参数\n",
        "*  函数用作函数返回的对象(function as object)"
      ],
      "metadata": {
        "id": "MfqMS9yJjhWg"
      }
    },
    {
      "cell_type": "code",
      "source": [
        "# 函数(奇偶判定)的运用\n",
        "print(\"1-10之间的数字:奇数还是偶数\")\n",
        "for i in range(1,10):\n",
        "\tif is_even(i):\n",
        "\t\tprint(f\"{i}是偶数\")\n",
        "\telse:\n",
        "\t\tprint(f\"{i}是奇数\")"
      ],
      "metadata": {
        "colab": {
          "base_uri": "https://localhost:8080/"
        },
        "collapsed": true,
        "id": "Kqu8pg0Em-cI",
        "outputId": "6835d44a-ede4-4946-bd3d-bb9802818cc9"
      },
      "execution_count": null,
      "outputs": [
        {
          "output_type": "stream",
          "name": "stdout",
          "text": [
            "1-10之间的数字:奇数还是偶数\n",
            "1是奇数\n",
            "2是偶数\n",
            "3是奇数\n",
            "4是偶数\n",
            "5是奇数\n",
            "6是偶数\n",
            "7是奇数\n",
            "8是偶数\n",
            "9是奇数\n"
          ]
        }
      ]
    },
    {
      "cell_type": "code",
      "source": [
        "# 函数作为函数的参数\n",
        "def func_a():\n",
        "\tprint(\"inside func_a\")\n",
        "\n",
        "def func_b(y):\n",
        "\tprint(\"inside func_b\")\n",
        "\treturn(y)\n",
        "\n",
        "def func_c(f, z):\n",
        "\tprint(\"inside func_c\")\n",
        "\treturn f(z)"
      ],
      "metadata": {
        "id": "hiqMrXKBnLYH"
      },
      "execution_count": null,
      "outputs": []
    },
    {
      "cell_type": "code",
      "source": [
        "# 测试\n",
        "print(func_a())\n",
        "print(5+func_b(2))\n",
        "print(func_c(func_b, 3))"
      ],
      "metadata": {
        "colab": {
          "base_uri": "https://localhost:8080/"
        },
        "collapsed": true,
        "id": "aXYHsF5XnbJY",
        "outputId": "374a88ff-85eb-4f29-b782-cc7f376bd1f9"
      },
      "execution_count": null,
      "outputs": [
        {
          "output_type": "stream",
          "name": "stdout",
          "text": [
            "inside func_a\n",
            "None\n",
            "inside func_b\n",
            "7\n",
            "inside func_c\n",
            "inside func_b\n",
            "3\n"
          ]
        }
      ]
    },
    {
      "cell_type": "code",
      "source": [
        "# 练习：满足用作参数的函数的数字的个数\n",
        "def apply(criteria, n):\n",
        "\t\"\"\"\n",
        "\tInput:\n",
        "\t\t* criteria: 输入数字输出布尔值的一个函数\n",
        "\t\t* n: 整数\n",
        "\tReturn:从0到n(包括)有多少整数满足criteria,即将函数criteria应用于0到n的数字时,返回多少个true\n",
        "\t\"\"\"\n",
        "\tnum_apply = 0\n",
        "\tfor i in range(n+1):\n",
        "\t\tif criteria(i):\n",
        "\t\t\tnum_apply += 1\n",
        "\treturn num_apply"
      ],
      "metadata": {
        "id": "UKjczacNq7j2"
      },
      "execution_count": null,
      "outputs": []
    },
    {
      "cell_type": "code",
      "source": [
        "# 测试\n",
        "print(apply(is_even,10))\n",
        "print(\"apply with anon fcn\", \":\", apply(lambda x: x==5, 100))"
      ],
      "metadata": {
        "colab": {
          "base_uri": "https://localhost:8080/"
        },
        "id": "ydfGyptHrSrG",
        "outputId": "6b540c87-8092-4d60-f4d1-9a6a109bd2bf"
      },
      "execution_count": null,
      "outputs": [
        {
          "output_type": "stream",
          "name": "stdout",
          "text": [
            "6\n",
            "apply with anon fcn : 1\n"
          ]
        }
      ]
    },
    {
      "cell_type": "code",
      "source": [
        "# 函数用作函数返回的对象\n",
        "def make_prod(a):\n",
        "\tdef g(b):\n",
        "\t\treturn a * b\n",
        "\treturn g # 函数make_prod()返回的值是函数g()"
      ],
      "metadata": {
        "id": "jpRk8JDnoK54"
      },
      "execution_count": null,
      "outputs": []
    },
    {
      "cell_type": "code",
      "source": [
        "# 测试\n",
        "val1 = make_prod(2)(3) # make_prod(2)就是一级函数返回的函数g(), 即make_prod(2)(3) = g(3)\n",
        "print(val1)\n",
        "\n",
        "doubler = make_prod(2)\n",
        "val2 = doubler(3)\n",
        "print(val2)"
      ],
      "metadata": {
        "colab": {
          "base_uri": "https://localhost:8080/"
        },
        "id": "cgrF2I3ZoSXP",
        "outputId": "ab803e3b-6e39-4ca2-b1bb-e0944459e06f"
      },
      "execution_count": null,
      "outputs": [
        {
          "output_type": "stream",
          "name": "stdout",
          "text": [
            "6\n",
            "6\n"
          ]
        }
      ]
    },
    {
      "cell_type": "markdown",
      "source": [
        "# 类（Python class）"
      ],
      "metadata": {
        "id": "N_i2pulYIJ0g"
      }
    },
    {
      "cell_type": "markdown",
      "source": [
        "## 创建类\n",
        "\n",
        "---\n",
        "\n",
        "\n",
        "* class关键字：* 语法--> class 类名称(父类)\n",
        "* 双下划线方法（Dunder Method）：类的构造函数，语法--> def __ init __(self,)\n",
        "* self：变量，类方法的第一个参数，代表当前类的实例对象(instance)，还没有创建实际对象时，需要某种方法来指代一个还不存在的实例(refer to an instance without actually having one)，self相当于占位符(placeholder)。使用变量self来访问实例成员，访问实例属性和调用其他实例方法\n",
        "* 点符号(Dot notation)：访问对象的数据属性或行为属性，语法--> < object_variable >.<方法(method)>(<参数(parameters>)，定义方法时所用的self会隐式地变成点之前的对象\n",
        "* 用双下划线方法实现Python里一些简写符号的功能\n",
        "* 获取器(setters)：通过获取器访问属性\n",
        "* 设置器(getters)：通过设置器设置属性\n",
        "* 类变量(class variables)：任何这种特定类型的实例都可以访问和修改，可以\n",
        "通过类或者实例来访问类变量，语法-->类|实例.类变量\n"
      ],
      "metadata": {
        "id": "JyasOtNnH82s"
      }
    },
    {
      "cell_type": "code",
      "source": [
        "# 创建类：坐标（Coordinate）\n",
        "class Coordinate(object):\n",
        "\t\"\"\" 一个包含x和y坐标值的坐标 \"\"\"\n",
        "\tdef __init__(self, xval, yval):\n",
        "\t\t\"\"\" 初始化x和y变量 \"\"\"\n",
        "\t\t# self后面跟着创建的类的参数\n",
        "\t\tself.x = xval\n",
        "\t\tself.y = yval\n",
        "\t\t# self.变量创建了属于这个对象的变量(variables that belong to this object),定义对象的数据属性\n",
        "\t# 定义一个方法(Method)\n",
        "\tdef distance(self, other):\n",
        "\t\t\"\"\" 返回两点之间的欧几里得距离(Euclidean distance) \"\"\"\n",
        "\t\tx_diff_sq = (self.x - other.x) ** 2\n",
        "\t\ty_diff_sq = (self.y - other.y) ** 2\n",
        "\t\treturn (x_diff_sq + y_diff_sq) ** 0.5\n",
        "\tdef to_origin(self):\n",
        "\t\t\"\"\" 把(self.x, self.y)重置为(0, 0) \"\"\"\n",
        "\t\tself.x = 0\n",
        "\t\tself.y = 0\n",
        "\t# 打印设置\n",
        "\tdef __str__(self):\n",
        "\t\treturn \"<\" + str(self.x) + \",\" + str(self.y) + \">\""
      ],
      "metadata": {
        "id": "peqEL0FxKysq"
      },
      "execution_count": null,
      "outputs": []
    },
    {
      "cell_type": "code",
      "source": [
        "# 测试坐标类\n",
        "c = Coordinate(3, 4)\n",
        "origin = Coordinate(0, 0)\n",
        "print(c.x)\n",
        "print(origin.x)\n",
        "print(c.distance(origin))\n",
        "print(Coordinate.distance(c, origin))\n",
        "print(c)\n",
        "print(type(c)) # Coordinate\n",
        "print(type(Coordinate)) # type\n",
        "c.to_origin()\n",
        "print(c.x, c.y)"
      ],
      "metadata": {
        "collapsed": true,
        "id": "7T79UEgcLeuN",
        "colab": {
          "base_uri": "https://localhost:8080/"
        },
        "outputId": "4ec113d8-5ff5-4a2a-d4b6-fe11b85b38e4"
      },
      "execution_count": null,
      "outputs": [
        {
          "output_type": "stream",
          "name": "stdout",
          "text": [
            "3\n",
            "0\n",
            "5.0\n",
            "5.0\n",
            "<3,4>\n",
            "<class '__main__.Coordinate'>\n",
            "<class 'type'>\n",
            "0 0\n"
          ]
        }
      ]
    },
    {
      "cell_type": "code",
      "source": [
        "# 用坐标类来创建一个圆类\n",
        "class Circle(object):\n",
        "\tdef __init__(self, center, radius):\n",
        "\t\tif type(center) != Coordinate:\n",
        "\t\t\traise ValueError\n",
        "\t\tif type(radius) != int:\n",
        "\t\t\traise ValueError\n",
        "\t\tself.center = center\n",
        "\t\tself.radius = radius\n",
        "\tdef is_inside(self, point):\n",
        "\t\t\"\"\"\n",
        "\t\tInput: point, 坐标点\n",
        "\t\tReturn: 如果坐标点在圆中则返回真,否则返回假\n",
        "\t\t\"\"\"\n",
        "\t\tif type(point) != Coordinate:\n",
        "\t\t\traise ValueError\n",
        "\t\treturn point.distance(self.center) < self.radius"
      ],
      "metadata": {
        "id": "qcWCKwgOL5H7"
      },
      "execution_count": null,
      "outputs": []
    },
    {
      "cell_type": "code",
      "source": [
        "# 测试圆类\n",
        "center = Coordinate(2, 2)\n",
        "my_circle = Circle(center, 2)\n",
        "p = Coordinate(1, 1)\n",
        "print(my_circle.radius)\n",
        "print(my_circle.center.x)\n",
        "print(my_circle.is_inside(p))"
      ],
      "metadata": {
        "collapsed": true,
        "id": "AgchU-DjMKCJ",
        "colab": {
          "base_uri": "https://localhost:8080/"
        },
        "outputId": "1f00f870-2fb6-44f2-e887-6ee7b1923239"
      },
      "execution_count": null,
      "outputs": [
        {
          "output_type": "stream",
          "name": "stdout",
          "text": [
            "2\n",
            "2\n",
            "True\n"
          ]
        }
      ]
    },
    {
      "cell_type": "code",
      "source": [
        "# 创建简单分数类\n",
        "class SimpleFraction(object):\n",
        "\t\"\"\"用整数表示分数\"\"\"\n",
        "\tdef __init__(self, n, d):\n",
        "\t\tself.num = n\n",
        "\t\tself.denom = d\n",
        "\tdef times(self, other):\n",
        "\t\ttop = self.num * other.num\n",
        "\t\tbottom = self.denom * other.denom\n",
        "\t\treturn top / bottom\n",
        "\tdef plus(self, other):\n",
        "\t\ttop = self.num * other.denom + self.denom * other.num\n",
        "\t\tbottom = self.denom * other.denom\n",
        "\t\treturn top / bottom\n",
        "\tdef get_inverse(self):\n",
        "\t\t\"\"\"返回一个代表1/self的浮点数\"\"\"\n",
        "\t\ttop = self.denom\n",
        "\t\tbottom = self.num\n",
        "\t\treturn top / bottom\n",
        "\tdef invert(self):\n",
        "\t\t\"\"\"把self的分子设为分母,分母设为分子,返回None\"\"\"\n",
        "\t\tnewnum = self.denom\n",
        "\t\tnewdenom = self.num\n",
        "\t\tself.num = newnum\n",
        "\t\tself.denom = newdenom\n",
        "\t\t# 另一种方法\n",
        "\t\t#(self.num, self.denom) = (self.denom, self.num)"
      ],
      "metadata": {
        "id": "WViPub-MMpBa"
      },
      "execution_count": null,
      "outputs": []
    },
    {
      "cell_type": "code",
      "source": [
        "# 测试简单分数类\n",
        "f1 = SimpleFraction(3, 4)\n",
        "f2 = SimpleFraction(1, 4)\n",
        "f3 = SimpleFraction(5, 1)\n",
        "print(f1.num)\n",
        "print(f1.denom)\n",
        "print(f1.plus(f2))\n",
        "print(f1.times(f2))\n",
        "print(f1.get_inverse())\n",
        "f1.invert()\n",
        "print(f1.num, f1.denom)"
      ],
      "metadata": {
        "collapsed": true,
        "id": "slEnLECSMtdP",
        "colab": {
          "base_uri": "https://localhost:8080/"
        },
        "outputId": "1cd782d4-703a-41cc-ebe9-3dde264cae5c"
      },
      "execution_count": null,
      "outputs": [
        {
          "output_type": "stream",
          "name": "stdout",
          "text": [
            "3\n",
            "4\n",
            "1.0\n",
            "0.1875\n",
            "1.3333333333333333\n",
            "4 3\n"
          ]
        }
      ]
    },
    {
      "cell_type": "code",
      "source": [
        "# 创建分数类：带有print|*|约分|类型转换等功能的分数\n",
        "class Fraction(object):\n",
        "\tdef __init__(self, n, d):\n",
        "\t\tself.num = n\n",
        "\t\tself.denom = d\n",
        "\t# print设置\n",
        "\tdef __str__(self):\n",
        "\t\tif self.denom == 1:\n",
        "\t\t\treturn str(self.num)\n",
        "\t\telse:\n",
        "\t\t\treturn str(self.num) + \"/\" + str(self.denom)\n",
        "\t# * 设置\n",
        "\tdef __mul__(self, other):\n",
        "\t\ttop = self.num * other.num\n",
        "\t\tbottom = self.denom * other.denom\n",
        "\t\treturn Fraction(top, bottom)\n",
        "\t# 类型转换设置(float)\n",
        "\tdef __float__(self):\n",
        "\t\treturn self.num / self.denom\n",
        "\t# 约分\n",
        "\tdef reduce(self):\n",
        "\t\tdef gcd(n, d):\n",
        "\t\t\t\"\"\"返回n和d的最大公约数\"\"\"\n",
        "\t\t\twhile d != 0:\n",
        "\t\t\t\t(d, n) = (n%d , d)\n",
        "\t\t\treturn n\n",
        "\t\tif self.denom == 0:\n",
        "\t\t\treturn None\n",
        "\t\telif self.denom == 1:\n",
        "\t\t\treturn Fraction(self.num, 1)\n",
        "\t\telse:\n",
        "\t\t\tgreatest_common_divisor = gcd(self.num, self.denom)\n",
        "\t\t\ttop = int(self.num / greatest_common_divisor)\n",
        "\t\t\tbottom = int(self.denom / greatest_common_divisor)\n",
        "\t\t\treturn Fraction(top, bottom)"
      ],
      "metadata": {
        "id": "w1aXbvrOM6jw"
      },
      "execution_count": null,
      "outputs": []
    },
    {
      "cell_type": "code",
      "source": [
        "# 测试分数类\n",
        "fq1 = Fraction(3, 4)\n",
        "fq2 = Fraction(1, 4)\n",
        "fq3 = Fraction(5, 1)\n",
        "print(fq1)\n",
        "print(fq2)\n",
        "print(fq3)\n",
        "print(fq1 * fq2)\n",
        "print(float(fq1 * fq2))\n",
        "print(fq1 * fq3)\n",
        "print(fq1.__mul__(fq2))\n",
        "print(Fraction.__mul__(fq1, fq2))"
      ],
      "metadata": {
        "collapsed": true,
        "id": "_Vo5lL_RNL17",
        "colab": {
          "base_uri": "https://localhost:8080/"
        },
        "outputId": "a6af8a1e-fafb-4726-fc96-d4c727a2ea08"
      },
      "execution_count": null,
      "outputs": [
        {
          "output_type": "stream",
          "name": "stdout",
          "text": [
            "3/4\n",
            "1/4\n",
            "5\n",
            "3/16\n",
            "0.1875\n",
            "15/4\n",
            "3/16\n",
            "3/16\n"
          ]
        }
      ]
    },
    {
      "cell_type": "markdown",
      "source": [
        "## 继承类\n",
        "\n",
        "---\n",
        "\n",
        "\n",
        "* 父类｜超类\n",
        "  * super()函数:返回一个代理对象，用于调用父类或兄弟类的方法，避免直接使用父类名称(实现松耦合)\n",
        "* 子类\n",
        "  * 复用父类的方法\n",
        "  * 添加新方法\n",
        "  * 重写（Overide）父类的方法\n"
      ],
      "metadata": {
        "id": "TauT9MjANeBj"
      }
    },
    {
      "cell_type": "code",
      "source": [
        "# 创建动物类\n",
        "class Animal(object):\n",
        "\tdef __init__(self, age):\n",
        "\t\tself.age = age\n",
        "\t\tself.name = None\n",
        "\tdef __str__(self):\n",
        "\t\treturn \"animal:\" + str(self.name) + \":\" + str(self.age)\n",
        "\t# 获取器(getters)\n",
        "\tdef get_age(self):\n",
        "\t\treturn self.age\n",
        "\tdef get_name(self):\n",
        "\t\treturn self.name\n",
        "\t# 设置器(setters)\n",
        "\tdef set_age(self, newage):\n",
        "\t\tself.age = newage\n",
        "\tdef set_name(self, newname = \"\"): # 默认设置(=):如果没有输入一个字符串,会默认设置为空字符串\n",
        "\t\tself.name = newname"
      ],
      "metadata": {
        "id": "7N4GDAJ0NmKG"
      },
      "execution_count": null,
      "outputs": []
    },
    {
      "cell_type": "code",
      "source": [
        "# 测试动物类\n",
        "myanimal = Animal(3)\n",
        "A_a = Animal(4)\n",
        "A_b = Animal(6)\n",
        "print(A_b)\n",
        "print(A_a.age)\n",
        "print(A_a.get_age())\n",
        "A_a.set_name(\"fluffy\")\n",
        "print(A_a.name)\n",
        "print(A_a)\n",
        "A_a.set_name()\n",
        "print(A_a)"
      ],
      "metadata": {
        "collapsed": true,
        "id": "QkXU2He6OR6v",
        "colab": {
          "base_uri": "https://localhost:8080/"
        },
        "outputId": "443f8f61-493d-43f8-f9e4-886d3988992c"
      },
      "execution_count": null,
      "outputs": [
        {
          "output_type": "stream",
          "name": "stdout",
          "text": [
            "animal:None:6\n",
            "4\n",
            "4\n",
            "fluffy\n",
            "animal:fluffy:4\n",
            "animal::4\n"
          ]
        }
      ]
    },
    {
      "cell_type": "code",
      "source": [
        "# 创建子类猫\n",
        "class Cat(Animal):\n",
        "\t# 复用Animal的__init__方法\n",
        "\t# 添加新方法\n",
        "\tdef speak(self):\n",
        "\t\tprint(\"meow\")\n",
        "  # 重写（overide）父类的方法\n",
        "\tdef __str__(self):\n",
        "\t\treturn \"cat:\" + str(self.name) + \":\" + str(self.age)"
      ],
      "metadata": {
        "id": "O-wn48oSOpzz"
      },
      "execution_count": null,
      "outputs": []
    },
    {
      "cell_type": "code",
      "source": [
        "# 测试子类猫\n",
        "cat = Cat(5)\n",
        "cat.set_name(\"fluffy\")\n",
        "print(cat)\n",
        "cat.speak()\n",
        "print(cat.get_age())"
      ],
      "metadata": {
        "collapsed": true,
        "id": "KRdFh6qCPRDH",
        "colab": {
          "base_uri": "https://localhost:8080/"
        },
        "outputId": "8e6c5386-31eb-4c6a-a3ea-3bab798f3d11"
      },
      "execution_count": null,
      "outputs": [
        {
          "output_type": "stream",
          "name": "stdout",
          "text": [
            "cat:fluffy:5\n",
            "meow\n",
            "5\n"
          ]
        }
      ]
    },
    {
      "cell_type": "code",
      "source": [
        "# 创建子类兔子\n",
        "class Rabbit(Animal):\n",
        "\ttag = 1 # 用来给每一个兔子实例一个身份编号\n",
        "\tdef __init__(self, age, parent1 = None, parent2=None):\n",
        "\t\tAnimal.__init__(self,age)\n",
        "\t\tself.p1 = parent1\n",
        "\t\tself.p2 = parent2\n",
        "\t\tself.rid = Rabbit.tag\n",
        "\t\tRabbit.tag += 1\n",
        "\tdef get_rid(self):\n",
        "\t\treturn str(self.rid).zfiil(5) # 填充0函数zfill(n):在数字前增加0至n位\n",
        "\tdef get_parent1(self):\n",
        "\t\treturn self.p1\n",
        "\tdef get_parent2(self):\n",
        "\t\treturn self.p2\n",
        "\t# + 设置\n",
        "\tdef __add__(self, other):\n",
        "\t\treturn Rabbit(0, self, other)\n",
        "\t\t# 创建一个新的兔子, 兔子的年龄是0, parent1是self, parent2是other\n",
        "\t# == 设置\n",
        "\tdef __eq__(self, other):\n",
        "\t\tparents_same = (self.p1.rid == other.p1.rid and self.p2.rid == other.p2.rid)\n",
        "\t\tparents_opp = (self.p2.rid == other.p1.rid and self.p1.rid == other.p2.rid)\n",
        "\t\treturn parents_same or parents_opp"
      ],
      "metadata": {
        "id": "53QDsOggQF-A"
      },
      "execution_count": null,
      "outputs": []
    },
    {
      "cell_type": "code",
      "source": [
        "# 测试子类兔子\n",
        "rr1 = Rabbit(8)\n",
        "rr2 = Rabbit(6)\n",
        "rr3 = Rabbit(10)\n",
        "print(\"兔子1:\", rr1)\n",
        "print(\"兔子2:\", rr2)\n",
        "print(\"兔子3:\", rr3)\n",
        "print(\"兔子1的父母1:\", rr1.get_parent1())\n",
        "print(\"兔子1的父母2:\", rr1.get_parent2())\n",
        "rr4 = rr1 + rr2\n",
        "print(\"兔子4:\", rr4)\n",
        "print(\"兔子4的父母1:\", rr4.get_parent1())\n",
        "print(\"兔子4的父母2:\", rr4.get_parent2())\n",
        "rr5 = rr3 + rr4\n",
        "rr6 = rr4 + rr3\n",
        "print(\"兔子5:\", rr5)\n",
        "print(\"兔子6:\", rr6)\n",
        "print(rr5 == rr6)"
      ],
      "metadata": {
        "id": "ZL2TkEufQaH7",
        "colab": {
          "base_uri": "https://localhost:8080/"
        },
        "outputId": "05d759ae-789e-4e7f-8e0f-503cd852e2c9"
      },
      "execution_count": null,
      "outputs": [
        {
          "output_type": "stream",
          "name": "stdout",
          "text": [
            "兔子1: animal:None:8\n",
            "兔子2: animal:None:6\n",
            "兔子3: animal:None:10\n",
            "兔子1的父母1: None\n",
            "兔子1的父母2: None\n",
            "兔子4: animal:None:0\n",
            "兔子4的父母1: animal:None:8\n",
            "兔子4的父母2: animal:None:6\n",
            "兔子5: animal:None:0\n",
            "兔子6: animal:None:0\n",
            "True\n"
          ]
        }
      ]
    },
    {
      "cell_type": "code",
      "source": [
        "# 创建子类人\n",
        "class Person(Animal):\n",
        "\tdef __init__(self, name, age):\n",
        "\t\tAnimal.__init__(self, age) # 调用并继承Animal的__init__方法\n",
        "\t\tself.set_name(name)\n",
        "\t\tself.friends = []\n",
        "\tdef get_friends(self):\n",
        "\t\treturn self.friends.copy()\n",
        "\tdef add_friend(self, fname):\n",
        "\t\tif fname not in self.friends:\n",
        "\t\t\tself.friends.append(fname)\n",
        "\tdef speak(self):\n",
        "\t\tprint(\"Hello\")\n",
        "\tdef age_diff(self, other):\n",
        "\t\tdiff = self.age - other.age\n",
        "\t\tprint(f\"年龄差{abs(diff)}\")\n",
        "\tdef __str__(self):\n",
        "\t\treturn \"person:\" + str(self.name) + \":\" + str(self.age)"
      ],
      "metadata": {
        "id": "up5sCLifPbda"
      },
      "execution_count": null,
      "outputs": []
    },
    {
      "cell_type": "code",
      "source": [
        "# 测试子类人\n",
        "p1 = Person(\"Jack\", 30)\n",
        "p2 = Person(\"Jill\", 25)\n",
        "print(p1.get_name())\n",
        "print(p1.get_age())\n",
        "print(p2.get_name())\n",
        "print(p2.get_age())\n",
        "print(p1)\n",
        "print(p2)\n",
        "p1.speak()\n",
        "p1.age_diff(p2)\n",
        "p1.add_friend(\"anna\")\n",
        "p1.add_friend(\"bob\")\n",
        "p1.add_friend(\"bob\")\n",
        "print(p1.get_friends())"
      ],
      "metadata": {
        "collapsed": true,
        "id": "AdSr5p81Pi8i",
        "colab": {
          "base_uri": "https://localhost:8080/"
        },
        "outputId": "40bb1116-22ea-414b-b714-1e3dab6d6665"
      },
      "execution_count": null,
      "outputs": [
        {
          "output_type": "stream",
          "name": "stdout",
          "text": [
            "Jack\n",
            "30\n",
            "Jill\n",
            "25\n",
            "person:Jack:30\n",
            "person:Jill:25\n",
            "Hello\n",
            "年龄差5\n",
            "['anna', 'bob']\n"
          ]
        }
      ]
    },
    {
      "cell_type": "code",
      "source": [
        "# 创建子子类学生\n",
        "class Student(Person):\n",
        "\tdef __init__(self, name, age, major = None):\n",
        "\t\tPerson.__init__(self, name, age)\n",
        "\t\tself.major = major\n",
        "\tdef change_majotr(self, major):\n",
        "\t\tself.major = major\n",
        "\tdef speak(self):\n",
        "\t\timport random\n",
        "\t\tr = random.random() # 随机函数,随机生成一个0和1之间的浮点数\n",
        "\t\tif r < 0.25:\n",
        "\t\t\tprint(\"我有作业\")\n",
        "\t\telif 0.25 <= r < 0.5:\n",
        "\t\t\tprint(\"我需要睡觉\")\n",
        "\t\telif 0.5 <= r < 0.75:\n",
        "\t\t\tprint(\"我应该吃饭了\")\n",
        "\t\telse:\n",
        "\t\t\tprint(\"我还在上课\")\n",
        "\tdef __str__(self):\n",
        "\t\treturn \"students:\" + str(self.name) + \":\" + str(self.age) + \":\" + str(self.major)"
      ],
      "metadata": {
        "id": "RTAwWomJRZCT"
      },
      "execution_count": null,
      "outputs": []
    },
    {
      "cell_type": "code",
      "source": [
        "# 测试子子类学生\n",
        "ss1 = Student(\"alice\", 20, \"cs\")\n",
        "ss2 = Student(\"beth\", 18)\n",
        "print(ss1)\n",
        "print(ss2)\n",
        "print(ss1.get_name(),\"says:\")\n",
        "ss1.speak()\n",
        "print(ss2.get_name(),\"says:\")\n",
        "ss2.speak()"
      ],
      "metadata": {
        "id": "evvRmw5WRfHD",
        "colab": {
          "base_uri": "https://localhost:8080/"
        },
        "outputId": "4d3a349e-709b-4532-c96a-71bf62ff34b2"
      },
      "execution_count": null,
      "outputs": [
        {
          "output_type": "stream",
          "name": "stdout",
          "text": [
            "students:alice:20:cs\n",
            "students:beth:18:None\n",
            "alice says:\n",
            "我还在上课\n",
            "beth says:\n",
            "我应该吃饭了\n"
          ]
        }
      ]
    },
    {
      "cell_type": "code",
      "source": [
        "# 函数：创建一个动物字典\n",
        "def animal_dict(L):\n",
        "\t\"\"\"\n",
        "\tInput: L,列表\n",
        "\tReturn:\n",
        "\t\t* 返回一个字典d, 将一个整数映射到一个动物类里的对象\n",
        "\t\t* 键是非负整数列表L中的n\n",
        "\t\t* 值是年龄为n的动物对象\n",
        "\t\"\"\"\n",
        "\td = {}\n",
        "\tfor n in L:\n",
        "\t\tif type(n) == int and n >= 0:\n",
        "\t\t\td[n] = Animal(n)\n",
        "\treturn d"
      ],
      "metadata": {
        "id": "3gx104qhSJtk"
      },
      "execution_count": null,
      "outputs": []
    },
    {
      "cell_type": "code",
      "source": [
        "# 测试函数 animal_dict()\n",
        "L_animal = [2, 5, \"a\", -5, 0]\n",
        "animals = animal_dict(L_animal)\n",
        "for n,a in animals.items():\n",
        "  print(f\"key {n} with val {a}\")"
      ],
      "metadata": {
        "id": "o27ZWX0xSYEr",
        "colab": {
          "base_uri": "https://localhost:8080/"
        },
        "outputId": "84dfe398-8c22-442c-cd78-6bc5dace3253"
      },
      "execution_count": null,
      "outputs": [
        {
          "output_type": "stream",
          "name": "stdout",
          "text": [
            "key 2 with val animal:None:2\n",
            "key 5 with val animal:None:5\n",
            "key 0 with val animal:None:0\n"
          ]
        }
      ]
    },
    {
      "cell_type": "code",
      "source": [
        "# 函数：创建动物列表\n",
        "def make_animals(L1, L2):\n",
        "\t\"\"\"\n",
        "\tInput:\n",
        "\t\t* L1: 整数列表\n",
        "\t\t* L2: 字符串列表,和L1长度一样\n",
        "\tReturn: 创建一个和L1、L2等长的动物列表,动物的年龄和名字对应L1中的数字和L2中的字符串\n",
        "\t\"\"\"\n",
        "\tLa = []\n",
        "\tfor i in range(len(L1)):\n",
        "\t\tage = L1[i]\n",
        "\t\tname = L2[i]\n",
        "\t\tanimal = Animal(age)\n",
        "\t\tanimal.set_name(name)\n",
        "\t\tLa.append(animal)\n",
        "\treturn La"
      ],
      "metadata": {
        "id": "XWApSflxSo2k"
      },
      "execution_count": null,
      "outputs": []
    },
    {
      "cell_type": "code",
      "source": [
        "# 测试函数 make_animals()\n",
        "L1_a = [2, 5, 1]\n",
        "L2_a = [\"blobfish\", \"crazyant\", \"parafox\"]\n",
        "La_animals = make_animals(L1_a, L2_a)\n",
        "print(La_animals)\n",
        "for i in La_animals:\n",
        "\tprint(i)"
      ],
      "metadata": {
        "id": "83_-gz-STMKI",
        "colab": {
          "base_uri": "https://localhost:8080/"
        },
        "outputId": "b21b53fb-99e0-47ed-95b6-89ec0202baae"
      },
      "execution_count": null,
      "outputs": [
        {
          "output_type": "stream",
          "name": "stdout",
          "text": [
            "[<__main__.Animal object at 0x79abcbbc8690>, <__main__.Animal object at 0x79abcbbc8710>, <__main__.Animal object at 0x79abcbbc86d0>]\n",
            "animal:blobfish:2\n",
            "animal:crazyant:5\n",
            "animal:parafox:1\n"
          ]
        }
      ]
    },
    {
      "cell_type": "code",
      "source": [
        "# 函数：打印人和动物对应的列表\n",
        "def make_pets(d):\n",
        "\t\"\"\"\n",
        "\tInput: d, 字典,映射人和动物\n",
        "\tPrints: 每行打印一个人:他的猫\n",
        "\t\"\"\"\n",
        "\tfor n,a in d.items():\n",
        "\t\tprint(f\"{n.get_name()}:{a.get_name()}\")"
      ],
      "metadata": {
        "id": "W2oK8VFCTcjY"
      },
      "execution_count": null,
      "outputs": []
    },
    {
      "cell_type": "code",
      "source": [
        "# 测试函数 make_pets()\n",
        "pp1 = Person(\"ana\", 86)\n",
        "pp2 = Person(\"james\", 7)\n",
        "cc1 = Cat(1)\n",
        "cc1.set_name(\"furball\")\n",
        "cc2 = Cat(1)\n",
        "cc2.set_name(\"fluffsphere\")\n",
        "dd = {pp1: cc1, pp2: cc2}\n",
        "make_pets(dd)"
      ],
      "metadata": {
        "id": "bdXbNDpjTidb",
        "colab": {
          "base_uri": "https://localhost:8080/"
        },
        "outputId": "087acea2-c0f0-4d01-8c34-a2c6e24474af"
      },
      "execution_count": null,
      "outputs": [
        {
          "output_type": "stream",
          "name": "stdout",
          "text": [
            "ana:furball\n",
            "james:fluffsphere\n"
          ]
        }
      ]
    },
    {
      "cell_type": "markdown",
      "source": [
        "## 面向对象的编程：健身追踪器\n",
        "\n",
        "---\n",
        "\n",
        "\n",
        "* 哈弗赛因距离（Haversine distance）：一种用于计算地球表面两点间大源距离的数学公式，尤其适用于地理坐标（经度longitude，纬度latitude）。核心思想是将地球近似视为一个完美球体，通过经纬度坐标计算两点间的最短路径（即球面距离）"
      ],
      "metadata": {
        "id": "XFeFEILKT94H"
      }
    },
    {
      "cell_type": "code",
      "source": [
        "# 导入datetime库\n",
        "from dateutil import parser"
      ],
      "metadata": {
        "id": "Uh3s4YDEUIRJ"
      },
      "execution_count": null,
      "outputs": []
    },
    {
      "cell_type": "code",
      "source": [
        "# 测试datetime库\n",
        "start = \"9/30/2021 1:35 PM\"\n",
        "end = \"9/30/2021 1:45 PM\"\n",
        "start_date = parser.parse(start)\n",
        "end_date = parser.parse(end)\n",
        "print(type(start_date))\n",
        "print(start_date)\n",
        "print(end_date)\n",
        "print((end_date - start_date).total_seconds())"
      ],
      "metadata": {
        "id": "QUK-wmKCV7mP",
        "colab": {
          "base_uri": "https://localhost:8080/"
        },
        "outputId": "aeda17e0-e9c9-4845-e534-a1f158642887"
      },
      "execution_count": null,
      "outputs": [
        {
          "output_type": "stream",
          "name": "stdout",
          "text": [
            "<class 'datetime.datetime'>\n",
            "2021-09-30 13:35:00\n",
            "2021-09-30 13:45:00\n",
            "600.0\n"
          ]
        }
      ]
    },
    {
      "cell_type": "code",
      "source": [
        "# 导入math库\n",
        "from math import sin, cos, sqrt, atan2, radians"
      ],
      "metadata": {
        "id": "jl0CEfxLaiJq"
      },
      "execution_count": null,
      "outputs": []
    },
    {
      "cell_type": "code",
      "source": [
        "# 函数：求哈弗赛因距离\n",
        "def gpsDistance(p1,p2):\n",
        "  \"\"\"\n",
        "  Input: p1, p2, 表示（纬度lat，经度lon）的元组\n",
        "  Return: 返回两点之间的距离\n",
        "  \"\"\"\n",
        "  R = 6373.0 # 地球半径\n",
        "\n",
        "  # 将经纬度转为弧度\n",
        "  lat1 = radians(p1[0])\n",
        "  lon1 = radians(p1[1])\n",
        "  lat2 = radians(p2[0])\n",
        "  lon2 = radians(p2[1])\n",
        "\n",
        "  # 经纬度差值\n",
        "  dlon = lon2 - lon1\n",
        "  dlat = lat2 - lat1\n",
        "\n",
        "  # 哈弗赛因公式\n",
        "  a = sin(dlat / 2) ** 2 + cos(lat1) * cos(lat2) * sin(dlon / 2) ** 2\n",
        "  c = 2 * atan2(sqrt(a), sqrt(1 - a))\n",
        "  return R * c"
      ],
      "metadata": {
        "id": "qMdfVsHSYk3Y"
      },
      "execution_count": null,
      "outputs": []
    },
    {
      "cell_type": "code",
      "source": [
        "# 创建锻炼类\n",
        "class Workout(object):\n",
        "\tcar_per_hr = 200\n",
        "\n",
        "\tdef __init__(self, start, end, calories = None):\n",
        "\t\tself.start = parser.parse(start)\n",
        "\t\tself.end = parser.parse(end)\n",
        "\t\tself.calories = calories\n",
        "\t\tself.icon = \"🙂‍↕️\"\n",
        "\t\tself.kind = \"Workout\"\n",
        "\tdef get_calories(self):\n",
        "\t\tif (self.calories == None):\n",
        "\t\t\treturn Workout.car_per_hr * (self.end - self.start).total_seconds() / 3600\n",
        "\t\telse:\n",
        "\t\t\treturn self.calories\n",
        "\tdef get_start(self):\n",
        "\t\treturn self.start\n",
        "\tdef get_end(self):\n",
        "\t\treturn self.end\n",
        "\tdef set_calories(self, calories):\n",
        "\t\tself.calories = calories\n",
        "\tdef set_start(self, start):\n",
        "\t\tself.start = start\n",
        "\tdef set_end(self, end):\n",
        "\t\tself.end = end\n",
        "\tdef get_duration(self):\n",
        "\t\treturn self.end - self.start\n",
        "\tdef __str__(self):\n",
        "\t\twidth = 16\n",
        "\t\tretstr = f\"|{'-' * width}|\\n\"\n",
        "\t\tretstr += f\"|{' ' * width}|\\n\"\n",
        "\t\ticonLen = 0\n",
        "\t\tretstr += f\"| {self.icon}{' ' * (width - 3)}|\\n\"\n",
        "\t\tretstr += f\"| {self.kind}{' ' * (width - len(self.kind) - 1 )}|\\n\"\n",
        "\t\tretstr += f\"|{' ' * width}|\\n\"\n",
        "\t\tduration_str = str(self.get_duration())\n",
        "\t\tretstr += f\"| {duration_str}{' ' * (width - len(duration_str) - 1 )}|\\n\"\n",
        "\t\tcal_str = f\"{self.get_calories(): .0f}\"\n",
        "\t\tretstr += f\"|{cal_str} Calories {' ' * (width - len(cal_str) - 10)}|\\n\"\n",
        "\t\tretstr += f\"|{' ' * width}|\\n\"\n",
        "\t\tretstr += f\"|{'_' * width}|\\n\"\n",
        "\t\treturn retstr"
      ],
      "metadata": {
        "id": "CWdLSWl5WJ0Q"
      },
      "execution_count": null,
      "outputs": []
    },
    {
      "cell_type": "code",
      "source": [
        "# 测试锻炼类\n",
        "my_workout = Workout(\"9/30/2021 1:35 PM\", \"9/30/2021 1:57 PM\", 200)\n",
        "\n",
        "print(Workout.car_per_hr) # 通过类访问类变量\n",
        "print(my_workout.car_per_hr) # 通过实例访问类变量\n",
        "Workout.car_per_hr = 250 # 修改类变量的值\n",
        "print(Workout.car_per_hr)\n",
        "\n",
        "w_one = Workout(\"1/1/2021 3:30 PM\", \"1/1/2021 4 PM\")\n",
        "print(w_one.get_calories())\n",
        "w_two = Workout(\"1/1/2021 3:35 PM\",\"1/1/2021 4 PM\", 300)\n",
        "print(w_two.get_calories())\n",
        "\n",
        "print(my_workout)"
      ],
      "metadata": {
        "id": "Fq8K4_T3WRZr",
        "colab": {
          "base_uri": "https://localhost:8080/"
        },
        "outputId": "5000473f-4b6c-47a2-eb8b-1a65696a70b7"
      },
      "execution_count": null,
      "outputs": [
        {
          "output_type": "stream",
          "name": "stdout",
          "text": [
            "200\n",
            "200\n",
            "250\n",
            "125.0\n",
            "300\n",
            "|----------------|\n",
            "|                |\n",
            "| 🙂‍↕️             |\n",
            "| Workout        |\n",
            "|                |\n",
            "| 0:22:00        |\n",
            "| 200 Calories   |\n",
            "|                |\n",
            "|________________|\n",
            "\n"
          ]
        }
      ]
    },
    {
      "cell_type": "code",
      "source": [
        "# 创建跑步类\n",
        "class RunWorkout(Workout):\n",
        "  cals_per_km = 100\n",
        "\n",
        "  def __init__(self, start, end, elev=0, calories=None, route_gps_points=None):\n",
        "    super().__init__(start,end,calories)\n",
        "    self.icon = '🏃🏽‍'\n",
        "    self.kind = 'Running'\n",
        "    self.elev = elev\n",
        "    self.route_gps_points = route_gps_points\n",
        "\n",
        "  def get_elev(self):\n",
        "    return self.elev\n",
        "\n",
        "  def set_elev(self, e):\n",
        "    self.elev = e\n",
        "\n",
        "  def get_calories(self):\n",
        "    if (self.route_gps_points != None):\n",
        "      dist = 0\n",
        "      lastP = self.route_gps_points[0]\n",
        "      for p in self.route_gps_points[1:]:\n",
        "        dist += gpsDistance(lastP,p)\n",
        "        lastP = p\n",
        "      return dist * RunWorkout.cals_per_km\n",
        "    else:\n",
        "      return super().get_calories()\n",
        "\n",
        "  def __eq__(self, other):\n",
        "    return type(self) == type(other) and \\\n",
        "           self.start == other.start and \\\n",
        "           self.end == other.end and \\\n",
        "           self.kind == other.kind and \\\n",
        "           self.get_calories() == other.get_calories()"
      ],
      "metadata": {
        "id": "eoMHR041jbju"
      },
      "execution_count": null,
      "outputs": []
    },
    {
      "cell_type": "code",
      "source": [
        "# 测试从经纬度点得到卡路里\n",
        "points = [(42.3601, -71.0589), (42.3370, -71.2092)]\n",
        "run1 = RunWorkout(\"9/30/2021 1:35 PM\",\"9/30/2021 3:57 PM\", 100, route_gps_points = points )\n",
        "print(f\"有坐标点的卡路里值：{run1.get_calories()}\")\n",
        "run2 = RunWorkout(\"9/30/2021 1:35 PM\",\"9/30/2021 3:57 PM\", 100)\n",
        "print(f\"继承父类的卡路里值：{run2.get_calories()}\")"
      ],
      "metadata": {
        "id": "7GZXA3gbdO8P",
        "colab": {
          "base_uri": "https://localhost:8080/"
        },
        "outputId": "5d782ccb-bea2-437b-de91-20d94ac70503"
      },
      "execution_count": null,
      "outputs": [
        {
          "output_type": "stream",
          "name": "stdout",
          "text": [
            "有坐标点的卡路里值：1261.983237744608\n",
            "继承父类的卡路里值：591.6666666666666\n"
          ]
        }
      ]
    },
    {
      "cell_type": "code",
      "source": [
        "# 函数：总卡路里计算 & 总高度计算\n",
        "def total_calories(workouts):\n",
        "\tcals = 0\n",
        "\tfor w in workouts:\n",
        "\t\tcals += w.get_calories()\n",
        "\treturn cals\n",
        "\n",
        "def total_elvation(run_workouts):\n",
        "\telev = 0\n",
        "\tfor w in run_workouts:\n",
        "\t\telev += w.get_elev()\n",
        "\treturn elev"
      ],
      "metadata": {
        "id": "yQJJqQ7xYBZP"
      },
      "execution_count": null,
      "outputs": []
    },
    {
      "cell_type": "code",
      "source": [
        "# 测试函数 total_calories() & total_elvation()\n",
        "w1 = Workout(\"9/30/2021 1:35 PM\", \"9/30/2021 2:05 PM\")\n",
        "w2 = Workout(\"9/30/2021 4:35 PM\", \"9/30/2021 5:05 PM\")\n",
        "rw1 = RunWorkout(\"9/30/2021 1:35 PM\", \"9/30/2021 3:35 PM\", 100)\n",
        "rw2 = RunWorkout(\"9/30/2021 1:35 PM\", \"9/30/2021 3:35 PM\", 200)\n",
        "\n",
        "t1 = total_calories([w1, w2, rw1, rw2])\n",
        "t2 = total_elvation([rw1, rw2])\n",
        "# Error：父类锻炼没有elevation属性\n",
        "# t3 = total_elvation([w1, rw1])\n",
        "print(t1)\n",
        "print(t2)"
      ],
      "metadata": {
        "id": "p1tMW1SoYOQz",
        "colab": {
          "base_uri": "https://localhost:8080/"
        },
        "outputId": "3e37e4a2-2471-4504-e746-ec8822cbc3a3"
      },
      "execution_count": null,
      "outputs": [
        {
          "output_type": "stream",
          "name": "stdout",
          "text": [
            "1250.0\n",
            "300\n"
          ]
        }
      ]
    },
    {
      "cell_type": "markdown",
      "source": [
        "\n",
        "\n",
        "# 实用工具"
      ],
      "metadata": {
        "id": "DDbVQzXSraG4"
      }
    },
    {
      "cell_type": "markdown",
      "source": [
        "## 语句\n",
        "\n",
        "---\n",
        "\n",
        "\n",
        "* pass语句: 空操作语句，语法上的占位符，当执行时不产生任何操作。在Python的字节码层面，pass语句不生成任何操作指令\n",
        "* break语句：强制退出最内层循环（innermost loop），跳过剩下的代码\n"
      ],
      "metadata": {
        "id": "xg8ywKDmnsS6"
      }
    },
    {
      "cell_type": "code",
      "source": [
        "# pass语句\n",
        "x = int(input(\"输入一个数字x:\"))\n",
        "y = int(input(\"输入一个不同的数字y:\"))\n",
        "if x == y:\n",
        "\tprint(f\"{x}和{y}相同\")\n",
        "\tprint(\"它们是一样的!\")\n",
        "else:\n",
        "\tpass # pass的意思是不做任何事情"
      ],
      "metadata": {
        "id": "Iis9tKqXoBmS"
      },
      "execution_count": null,
      "outputs": []
    },
    {
      "cell_type": "code",
      "source": [
        "# break语句\n",
        "mysum3 = 0\n",
        "for i in range(5, 11, 2):\n",
        "\tmysum3 += i\n",
        "\tif mysum3 == 5:\n",
        "\t\tbreak\n",
        "\t\tmysum3 += 1 # 这一行永远不会被执行\n",
        "print(mysum3)"
      ],
      "metadata": {
        "id": "3obuu6iRn_Sa"
      },
      "execution_count": null,
      "outputs": []
    },
    {
      "cell_type": "markdown",
      "source": [
        "## 函数（Function）\n",
        "\n",
        "---\n",
        "\n",
        "\n",
        "* range(start,stop,step)： 用于生成一个不可变的整数序列，常用于循环和需要数字序列的场景。支持灵活控制序列的起始值，终止值和步长\n",
        "  * start(可选): 序列起始值(包含),默认为0\n",
        "  * stop(必选): 序列终止值(不包含)\n",
        "  * step(可选): 步长(差值),默认为1\n",
        "* hash(): 哈希函数，用于将任意大小的数据映射为固定大小的整数值(哈希值)，是Python核心数据结构(如字典和集合)高效运作的基础\n",
        "  * 可哈希(hashable): 对对象运行哈希函数，无论运行多少次都会得到同样的值。需要不可变类型，如整数｜浮点数｜字符串｜元组\n",
        "  * 不可哈希: 可变类型，如列表｜字典｜集合\n",
        "  * 哈希表: 基于键值对存储的高效数据结构\n",
        "    * 将任意键(key)转换为固定范围的整数值\n",
        "    * 桶数组(Bucket Array): 固定大小的连续内存空间，每个位置称为桶(buckey)或槽(slot)，桶数量决定哈希表容量\n",
        "    * 哈希表存储允许冲突，即不同键映射到同一桶\n",
        "\n",
        "\n"
      ],
      "metadata": {
        "id": "0EFZSKcYU-HJ"
      }
    },
    {
      "cell_type": "code",
      "source": [
        "# range()函数\n",
        "for i1 in range(4):\n",
        "\tprint(i1)\n",
        "\n",
        "for i2 in range(3, 5):\n",
        "\tprint(i2)\n",
        "\n",
        "for i in range(1, 4, 1):\n",
        "\tprint(i)\n",
        "\n",
        "for j in range(1, 4, 2):\n",
        "\tprint(j * 2)\n",
        "\n",
        "for me in range(4, 0 , -1):\n",
        "\tprint(\"$\" * me)"
      ],
      "metadata": {
        "colab": {
          "base_uri": "https://localhost:8080/"
        },
        "id": "actWAdR2WAFs",
        "outputId": "de200323-5adc-4c1c-dede-7de49488daf0"
      },
      "execution_count": null,
      "outputs": [
        {
          "output_type": "stream",
          "name": "stdout",
          "text": [
            "0\n",
            "1\n",
            "2\n",
            "3\n",
            "3\n",
            "4\n",
            "1\n",
            "2\n",
            "3\n",
            "2\n",
            "6\n",
            "$$$$\n",
            "$$$\n",
            "$$\n",
            "$\n"
          ]
        }
      ]
    },
    {
      "cell_type": "code",
      "source": [
        "# 哈希函数\n",
        "print(hash(123))\n",
        "print(hash(\"6.100L is awesome\"))\n",
        "print(hash((1, 2, 3)))\n",
        "\n",
        "#print(hash([1, 2, 3])) Error:list不能哈希(unhashable)"
      ],
      "metadata": {
        "colab": {
          "base_uri": "https://localhost:8080/"
        },
        "id": "9VBpvvbmVJD5",
        "outputId": "e6887547-8d32-46ce-edbe-3d7997b6b7d6"
      },
      "execution_count": null,
      "outputs": [
        {
          "output_type": "stream",
          "name": "stdout",
          "text": [
            "123\n",
            "-3484128962112887738\n",
            "529344067295497451\n"
          ]
        }
      ]
    },
    {
      "cell_type": "markdown",
      "source": [
        "##  模块（Modules）\n",
        "\n",
        "---\n",
        "\n",
        "\n",
        "* copy模块：创建对象副本\n",
        "  * copy.copy(x): 返回x的浅复制\n",
        "  * copy.deepcopy(x): 返回x的深复制\n",
        "* random模块：用来生成伪随机数\n",
        "  * random.random(): 随机生成0和1之间的一个浮点数\n",
        "  * random.shuffle(): 洗牌函数，随机地重新调整列表中的元素\n",
        "  * random.choice(): 随机选择某个元素\n",
        "* dateutil模块：日期时间处理\n",
        "  * parser.parse(): 将各种格式的日期时间字符串自动转换为datetime对象\n",
        "  * total_seconds(): 计算某一时间段内所有的描述\n",
        "* math模块：用于数学运算。主要包含三角函数、对数函数、指数函数、常数（如圆周率和e）以及一些实用工具（如阶乘、取整等）\n",
        "* time模块：时间处理的基础工具，在简单的时间操作、性能测试和程序控制方面非常高效\n",
        "  * time.time(): 自从1970/1/1日之后，过去了多少秒\n",
        "  * time.perf_counter(): 性能计数器（performance counter），用于高精度性能测量的工具，提供最精确的时间计数，适合测量短时间间隔和代码性能分析"
      ],
      "metadata": {
        "id": "BQunYYgMrz9m"
      }
    },
    {
      "cell_type": "markdown",
      "source": [
        "\n",
        "\n",
        "---\n",
        "random\n",
        "\n",
        "---\n",
        "\n",
        "\n"
      ],
      "metadata": {
        "id": "Bloi7_H6q96A"
      }
    },
    {
      "cell_type": "code",
      "source": [
        "# 模拟掷骰子\n",
        "import random\n",
        "\n",
        "def prob_dice(side):\n",
        "    dice = [\".\",\":\",\":.\",\"::\",\"::.\",\":::\"]\n",
        "    Nsims = 1000000\n",
        "    count = 0\n",
        "    for i in range(Nsims):\n",
        "        roll = random.choice(dice)\n",
        "        if roll == side:\n",
        "            count += 1\n",
        "    print(count / Nsims)"
      ],
      "metadata": {
        "id": "TLyGyZzae-IH"
      },
      "execution_count": null,
      "outputs": []
    },
    {
      "cell_type": "code",
      "source": [
        "# 测试掷骰子\n",
        "prob_dice(\".\")\n",
        "prob_dice(\"::\")"
      ],
      "metadata": {
        "colab": {
          "base_uri": "https://localhost:8080/"
        },
        "id": "PVovZQEpgHrP",
        "outputId": "a5edd57f-c028-40d7-c11f-347512b3304f"
      },
      "execution_count": null,
      "outputs": [
        {
          "output_type": "stream",
          "name": "stdout",
          "text": [
            "0.166932\n",
            "0.166844\n"
          ]
        }
      ]
    },
    {
      "cell_type": "code",
      "source": [
        "# 模拟掷骰子-变体：每掷n次至少得到i次\"::\"的概率\n",
        "import random\n",
        "\n",
        "def prob_dice_atleast(Nrolls, n_at_least):\n",
        "    dice = [\".\", \":\", \":.\", \"::\", \"::.\", \":::\"]\n",
        "    Nsims = 10000\n",
        "    how_many_matched = []\n",
        "    for i in range(Nsims):\n",
        "        matched = 0\n",
        "        for i in range(Nrolls):\n",
        "            roll = random.choice(dice)\n",
        "            if roll == \"::\":\n",
        "                matched += 1\n",
        "        how_many_matched.append(matched)\n",
        "\n",
        "    count = 0\n",
        "    for i in how_many_matched:\n",
        "        if i >= n_at_least:\n",
        "            count += 1\n",
        "    print(count / len(how_many_matched))"
      ],
      "metadata": {
        "id": "3vHT2EzEhTrI"
      },
      "execution_count": null,
      "outputs": []
    },
    {
      "cell_type": "code",
      "source": [
        "# 测试掷骰子-变体\n",
        "prob_dice_atleast(7, 3)\n",
        "prob_dice_atleast(1, 1)"
      ],
      "metadata": {
        "colab": {
          "base_uri": "https://localhost:8080/"
        },
        "id": "HJfuIPrsiivS",
        "outputId": "79457b89-fa99-448d-d883-376f0b498dc0"
      },
      "execution_count": null,
      "outputs": [
        {
          "output_type": "stream",
          "name": "stdout",
          "text": [
            "0.1003\n",
            "0.1625\n"
          ]
        }
      ]
    },
    {
      "cell_type": "code",
      "source": [
        "# 模拟：水通过水龙头随机流动(流速在 1 gallon/min 到 3 gallon/min 之间),填满 600 gallon的游泳池需要多长时间？\n",
        "import random\n",
        "import matplotlib.pyplot as plt\n",
        "\n",
        "def fill_pool(size):\n",
        "    flow_rate = []\n",
        "    fill_time = []\n",
        "    Npoints = 10000\n",
        "    for i in range(Npoints):\n",
        "        r = 1 + 2 * random.random() # 随机在1到3之间选一个浮点数\n",
        "        flow_rate.append(r)\n",
        "        fill_time.append(size / r)\n",
        "\n",
        "    print(\"平均流速:\",sum(flow_rate) / len(flow_rate))\n",
        "    print(\"平均时间:\",sum(fill_time) / len(fill_time))\n",
        "    plt.figure()\n",
        "    plt.scatter(range(Npoints), flow_rate, s = 1)\n",
        "    plt.figure()\n",
        "    plt.scatter(range(Npoints), fill_time, s = 1)"
      ],
      "metadata": {
        "id": "WPQemAp_jeMi"
      },
      "execution_count": null,
      "outputs": []
    },
    {
      "cell_type": "code",
      "source": [
        "# 测试水随机流动\n",
        "fill_pool(600)"
      ],
      "metadata": {
        "colab": {
          "base_uri": "https://localhost:8080/",
          "height": 879
        },
        "id": "i6wg_HI6oSAt",
        "outputId": "8a80c652-af20-4936-cdb8-040d3fc4fc46"
      },
      "execution_count": null,
      "outputs": [
        {
          "output_type": "stream",
          "name": "stdout",
          "text": [
            "平均流速: 2.009245139900232\n",
            "平均时间: 328.17339587762405\n"
          ]
        },
        {
          "output_type": "display_data",
          "data": {
            "text/plain": [
              "<Figure size 640x480 with 1 Axes>"
            ],
            "image/png": "[encoded data removed]"
          },
          "metadata": {}
        },
        {
          "output_type": "display_data",
          "data": {
            "text/plain": [
              "<Figure size 640x480 with 1 Axes>"
            ],
            "image/png": "[encoded data removed]"
          },
          "metadata": {}
        }
      ]
    },
    {
      "cell_type": "markdown",
      "source": [
        "\n",
        "\n",
        "---\n",
        "dateutil\n",
        "\n",
        "---\n",
        "\n",
        "\n"
      ],
      "metadata": {
        "id": "yQ4p_JHPrCFH"
      }
    },
    {
      "cell_type": "code",
      "source": [
        "import dateutil\n",
        "print(dateutil.parser.parse(\"9/30/2021 1:35 PM\"))"
      ],
      "metadata": {
        "colab": {
          "base_uri": "https://localhost:8080/"
        },
        "id": "nFS1eQj3sz9k",
        "outputId": "5eece7a8-cd21-454a-afbd-bcbde2b5058f"
      },
      "execution_count": null,
      "outputs": [
        {
          "output_type": "stream",
          "name": "stdout",
          "text": [
            "2021-09-30 13:35:00\n"
          ]
        }
      ]
    },
    {
      "cell_type": "markdown",
      "source": [
        "\n",
        "\n",
        "---\n",
        "math\n",
        "\n",
        "---\n",
        "\n",
        "\n"
      ],
      "metadata": {
        "id": "vEv-XkzprIfn"
      }
    },
    {
      "cell_type": "code",
      "source": [
        "import math\n",
        "print(math.sin(math.pi / 2))"
      ],
      "metadata": {
        "colab": {
          "base_uri": "https://localhost:8080/"
        },
        "id": "sXsSPgvdt6Us",
        "outputId": "e40735f9-35d3-4717-f47f-63a219687cd2"
      },
      "execution_count": null,
      "outputs": [
        {
          "output_type": "stream",
          "name": "stdout",
          "text": [
            "1.0\n"
          ]
        }
      ]
    },
    {
      "cell_type": "markdown",
      "source": [
        "## 方法（Method）\n",
        "\n",
        "---\n",
        "\n",
        "\n",
        "* 格式化数字\n",
        "  * ,:  千分位分隔\n",
        "  * :.2e:  一种用于格式化数字的科学计数法表示格式。\".\"表示开始格式化说明，\"2\"指定小数点后保留的位数（精度），\"e\"表示实用科学计数法（指数表示法）\n",
        "  * :.2f:  浮点数\n",
        "  * :.2g:  自动选择f或e"
      ],
      "metadata": {
        "id": "4r_kV_02nOpL"
      }
    },
    {
      "cell_type": "markdown",
      "source": [
        "## 库（library）\n",
        "\n",
        "---\n",
        "\n",
        "\n",
        "* Matplotlib: 绘图可视化库\n",
        "  * 指令\n",
        "    * import matplotlib.pyplot as plt:  调用matplotlib库并将其重命名为plt\n",
        "    * plt.plot(< x values >, < y values >): 连点成线\n",
        "    * plt.scatter(< x values >, < y values >): 绘制点\n",
        "    * plt.figure(< arg >): 创建一个新的图形窗口，并为其命名\n",
        "    * plt.title(): 添加图名\n",
        "    * plt.xlabel(): 添加x变量名\n",
        "    * plt.ylabel(): 添加y变量名\n",
        "    * plt.xlim(): 设置x轴取值范围\n",
        "    * plt.xticks(): 设置x轴上的刻度，输入元组\n",
        "    * plt.grid(): 打开｜关闭网格线\n",
        "    * plt.legend(loc = \"best\"): 增加图例\n",
        "    * plt.subplot(row, column, which): 绘制子视图\n",
        "    * plt.semilogy(): 将y轴设为对数刻度，而不是线性刻度\n",
        "    * plt.hist(): 绘制直方图\n",
        "  * 数值分析\n",
        "    * 本福德规律(Benford's law): 在许多现实世界的数据集中出现的，关于首位数字分布的统计学现象。在这些数据集中，数字1作为首位数字出现的频率最高，随着首位数字的增大，其出现频率逐渐降低。本福德规律成立的核心原因在于数据集通常跨越多个数量级，在这样的数据中，数字的分布不是均匀的，而是对数尺度上均匀的。\n",
        "\n"
      ],
      "metadata": {
        "id": "V2d5RXLeJsuK"
      }
    },
    {
      "cell_type": "markdown",
      "source": [
        "### Matplotlib（绘图可视化库）\n",
        "\n",
        "---\n",
        "\n",
        "\n"
      ],
      "metadata": {
        "id": "OR1P5-BEr9q_"
      }
    },
    {
      "cell_type": "code",
      "source": [
        "import matplotlib.pyplot as plt # 把这个库重命名为plt"
      ],
      "metadata": {
        "id": "KqxfIC0aJ_AQ"
      },
      "execution_count": null,
      "outputs": []
    },
    {
      "cell_type": "code",
      "source": [
        "# 构造点的x|y坐标值列表\n",
        "nVals = []\n",
        "linear = []\n",
        "quadratic = []\n",
        "cubic = []\n",
        "exponential = []\n",
        "\n",
        "for n in range(0, 30):\n",
        "    nVals.append(n) # 点的x值\n",
        "    linear.append(n) # 点的y值\n",
        "    quadratic.append(n ** 2) # 点的y值\n",
        "    cubic.append(n ** 3) # 点的y值\n",
        "    exponential.append(1.5 ** n) # 点的y值"
      ],
      "metadata": {
        "id": "vM1FcFsuKrvn"
      },
      "execution_count": null,
      "outputs": []
    },
    {
      "cell_type": "code",
      "source": [
        "# 绘制线条\n",
        "plt.plot(nVals, linear)"
      ],
      "metadata": {
        "colab": {
          "base_uri": "https://localhost:8080/",
          "height": 448
        },
        "collapsed": true,
        "id": "Az96-rI9IduM",
        "outputId": "501fedfe-7d0c-4f39-9aaa-ee6bd1258b51"
      },
      "execution_count": null,
      "outputs": [
        {
          "output_type": "execute_result",
          "data": {
            "text/plain": [
              "[<matplotlib.lines.Line2D at 0x79ac000ef410>]"
            ]
          },
          "metadata": {},
          "execution_count": 70
        },
        {
          "output_type": "display_data",
          "data": {
            "text/plain": [
              "<Figure size 640x480 with 1 Axes>"
            ],
            "image/png": "[encoded data removed]"
          },
          "metadata": {}
        }
      ]
    },
    {
      "cell_type": "code",
      "source": [
        "# 绘制多条线条\n",
        "plt.plot(nVals, linear)\n",
        "plt.plot(nVals, quadratic)\n",
        "plt.plot(nVals, cubic)\n",
        "plt.plot(nVals, exponential)"
      ],
      "metadata": {
        "colab": {
          "base_uri": "https://localhost:8080/",
          "height": 448
        },
        "collapsed": true,
        "id": "kz8wb4_IGNh5",
        "outputId": "736a428d-b8b1-45a1-b32a-152665983733"
      },
      "execution_count": null,
      "outputs": [
        {
          "output_type": "execute_result",
          "data": {
            "text/plain": [
              "[<matplotlib.lines.Line2D at 0x79abc97d7790>]"
            ]
          },
          "metadata": {},
          "execution_count": 71
        },
        {
          "output_type": "display_data",
          "data": {
            "text/plain": [
              "<Figure size 640x480 with 1 Axes>"
            ],
            "image/png": "[encoded data removed]"
          },
          "metadata": {}
        }
      ]
    },
    {
      "cell_type": "code",
      "source": [
        "# 在不同的窗口中绘制线条\n",
        "plt.figure(\"expo\")\n",
        "plt.plot(nVals, exponential)\n",
        "\n",
        "plt.figure(\"lin\")\n",
        "plt.plot(nVals, linear)\n",
        "\n",
        "plt.figure(\"quad\")\n",
        "plt.plot(nVals, quadratic)\n",
        "\n",
        "plt.figure(\"cube\")\n",
        "plt.plot(nVals, cubic)\n",
        "\n",
        "newExpo = []\n",
        "for i in range(30):\n",
        "    newExpo.append(1.6 ** i)\n",
        "plt.figure(\"expo\") # 在expo图上画新的线条\n",
        "plt.plot(nVals, newExpo)"
      ],
      "metadata": {
        "colab": {
          "base_uri": "https://localhost:8080/",
          "height": 1000
        },
        "collapsed": true,
        "id": "-u33GLnqJUBa",
        "outputId": "36b4a85b-fea6-4abf-93e4-a4d1c58fcec1"
      },
      "execution_count": null,
      "outputs": [
        {
          "output_type": "execute_result",
          "data": {
            "text/plain": [
              "[<matplotlib.lines.Line2D at 0x79abcba3aad0>]"
            ]
          },
          "metadata": {},
          "execution_count": 72
        },
        {
          "output_type": "display_data",
          "data": {
            "text/plain": [
              "<Figure size 640x480 with 1 Axes>"
            ],
            "image/png": "[encoded data removed]"
          },
          "metadata": {}
        },
        {
          "output_type": "display_data",
          "data": {
            "text/plain": [
              "<Figure size 640x480 with 1 Axes>"
            ],
            "image/png": "[encoded data removed]"
          },
          "metadata": {}
        },
        {
          "output_type": "display_data",
          "data": {
            "text/plain": [
              "<Figure size 640x480 with 1 Axes>"
            ],
            "image/png": "[encoded data removed]"
          },
          "metadata": {}
        },
        {
          "output_type": "display_data",
          "data": {
            "text/plain": [
              "<Figure size 640x480 with 1 Axes>"
            ],
            "image/png": "[encoded data removed]"
          },
          "metadata": {}
        }
      ]
    },
    {
      "cell_type": "code",
      "source": [
        "# 绘制点\n",
        "testSamples = [0,5,3,6,15,2,1,4,25,20,7,21,22,23,9,8,24,10,12,11]\n",
        "testValues = [0,25,9,36,225,4,1,16,625,400,49,441,484,529,81,64,576,100,144,121]\n",
        "# plt.plot(testSamples, testValues)\n",
        "plt.scatter(testSamples, testValues)"
      ],
      "metadata": {
        "colab": {
          "base_uri": "https://localhost:8080/",
          "height": 448
        },
        "collapsed": true,
        "id": "39orBN93G8rp",
        "outputId": "75325730-cc63-4c4e-a782-19b25aa256ef"
      },
      "execution_count": null,
      "outputs": [
        {
          "output_type": "execute_result",
          "data": {
            "text/plain": [
              "<matplotlib.collections.PathCollection at 0x79abc970ef90>"
            ]
          },
          "metadata": {},
          "execution_count": 73
        },
        {
          "output_type": "display_data",
          "data": {
            "text/plain": [
              "<Figure size 640x480 with 1 Axes>"
            ],
            "image/png": "[encoded data removed]"
          },
          "metadata": {}
        }
      ]
    },
    {
      "cell_type": "code",
      "source": [
        "# 月份-温度曲线\n",
        "months = range(1, 13, 1)\n",
        "temps = [28, 32, 39, 48, 59, 68, 75, 73, 66, 54, 45, 34]\n",
        "plt.plot(months, temps)\n",
        "\n",
        "plt.title(\"Ave. Temperature in Boston\")\n",
        "plt.xlabel(\"Month\")\n",
        "plt.ylabel(\"Degrees F\")\n",
        "\n",
        "plt.xlim(1, 12)\n",
        "#plt.xticks((1, 2, 3, 4, 5, 6, 7, 8, 9, 10, 11, 12))\n",
        "plt.xticks((1,2,3,4,5,6,7,8,9,10,11,12),(\"Jan\",\"Feb\",\"Mar\",\"Apr\",\"May\",\"Jun\",\"Jul\",\"Aug\",\"Sep\",\"Oct\",\"Nov\",\"Dec\"))\n",
        "plt.grid()"
      ],
      "metadata": {
        "colab": {
          "base_uri": "https://localhost:8080/",
          "height": 472
        },
        "collapsed": true,
        "id": "z9696FsGRX7u",
        "outputId": "dae521c5-e472-429e-e610-d86809b44678"
      },
      "execution_count": null,
      "outputs": [
        {
          "output_type": "display_data",
          "data": {
            "text/plain": [
              "<Figure size 640x480 with 1 Axes>"
            ],
            "image/png": "[encoded data removed]"
          },
          "metadata": {}
        }
      ]
    },
    {
      "cell_type": "code",
      "source": [
        "# 多个城市的月份-温度曲线\n",
        "months = range(1, 13, 1)\n",
        "boston = [28, 32, 39, 48, 59, 68, 75, 73, 66, 54, 45, 34]\n",
        "plt.plot(months, boston, \".b-\", label = \"Boston\", linewidth = 1) # 蓝色实线\n",
        "#plt.plot(months, boston, color = \"b\", linestyle = \"-\", label = \"Boston\") # 规范输入\n",
        "phoenix = [54, 57, 61, 68, 77, 86, 91, 90, 84, 73, 61, 54]\n",
        "plt.plot(months, phoenix, \"or--\", label = \"Phoenix\", linewidth = 2) # 红色虚线\n",
        "msp = [16, 19, 34, 48, 59, 70, 75, 73, 64, 60, 37, 21]\n",
        "plt.plot(months, msp, \"*g-.\", label = \"Minneapolis\", linewidth = 3)\n",
        "\n",
        "plt.title(\"Ave. Temperatures\")\n",
        "plt.xlabel(\"Month\")\n",
        "plt.ylabel(\"Degrees F\")\n",
        "plt.legend(loc= \"best\", fontsize = 8)\n",
        "\n",
        "plt.xlim(1, 12)\n",
        "plt.xticks((1,2,3,4,5,6,7,8,9,10,11,12),(\"Jan\",\"Feb\",\"Mar\",\"Apr\",\"May\",\"Jun\",\"Jul\",\"Aug\",\"Sep\",\"Oct\",\"Nov\",\"Dec\"))"
      ],
      "metadata": {
        "colab": {
          "base_uri": "https://localhost:8080/",
          "height": 913
        },
        "collapsed": true,
        "id": "Vy_JTGY7V7os",
        "outputId": "79f1aa88-b8eb-4c78-b01b-23221c1b1661"
      },
      "execution_count": null,
      "outputs": [
        {
          "output_type": "execute_result",
          "data": {
            "text/plain": [
              "([<matplotlib.axis.XTick at 0x79abc95f5850>,\n",
              "  <matplotlib.axis.XTick at 0x79abc95f4c50>,\n",
              "  <matplotlib.axis.XTick at 0x79abc9624610>,\n",
              "  <matplotlib.axis.XTick at 0x79abc95e9e90>,\n",
              "  <matplotlib.axis.XTick at 0x79abc962ce10>,\n",
              "  <matplotlib.axis.XTick at 0x79abc962f2d0>,\n",
              "  <matplotlib.axis.XTick at 0x79abc96397d0>,\n",
              "  <matplotlib.axis.XTick at 0x79abc963bc10>,\n",
              "  <matplotlib.axis.XTick at 0x79abc962c1d0>,\n",
              "  <matplotlib.axis.XTick at 0x79abc9642f10>,\n",
              "  <matplotlib.axis.XTick at 0x79abc9645550>,\n",
              "  <matplotlib.axis.XTick at 0x79abc9647990>],\n",
              " [Text(1, 0, 'Jan'),\n",
              "  Text(2, 0, 'Feb'),\n",
              "  Text(3, 0, 'Mar'),\n",
              "  Text(4, 0, 'Apr'),\n",
              "  Text(5, 0, 'May'),\n",
              "  Text(6, 0, 'Jun'),\n",
              "  Text(7, 0, 'Jul'),\n",
              "  Text(8, 0, 'Aug'),\n",
              "  Text(9, 0, 'Sep'),\n",
              "  Text(10, 0, 'Oct'),\n",
              "  Text(11, 0, 'Nov'),\n",
              "  Text(12, 0, 'Dec')])"
            ]
          },
          "metadata": {},
          "execution_count": 75
        },
        {
          "output_type": "display_data",
          "data": {
            "text/plain": [
              "<Figure size 640x480 with 1 Axes>"
            ],
            "image/png": "[encoded data removed]"
          },
          "metadata": {}
        }
      ]
    },
    {
      "cell_type": "code",
      "source": [
        "# 多个城市的月份-温度曲线-子视图\n",
        "months = range(1, 13, 1)\n",
        "boston = [28, 32, 39, 48, 59, 68, 75, 73, 66, 54, 45, 34]\n",
        "plt.subplot(2, 1, 1)\n",
        "plt.ylim(0,100)\n",
        "plt.xlim(1,12)\n",
        "plt.plot(months, boston, \".b-\", label = \"Boston\", linewidth = 1) # 蓝色实线\n",
        "plt.ylabel(\"Degrees F\")\n",
        "plt.title(\"Boston vs. Phoenix\")\n",
        "plt.xticks((1,2,3,4,5,6,7,8,9,10,11,12),(\"Jan\",\"Feb\",\"Mar\",\"Apr\",\"May\",\"Jun\",\"Jul\",\"Aug\",\"Sep\",\"Oct\",\"Nov\",\"Dec\"))\n",
        "\n",
        "phoenix = [54, 57, 61, 68, 77, 86, 91, 90, 84, 73, 61, 54]\n",
        "plt.subplot(2, 1, 2)\n",
        "plt.ylim(0,100)\n",
        "plt.xlim(1,12)\n",
        "plt.plot(months, phoenix, \"or--\", label = \"Phoenix\", linewidth = 2) # 红色虚线\n",
        "plt.ylabel(\"Degrees F\")\n",
        "plt.xticks((1,2,3,4,5,6,7,8,9,10,11,12),(\"Jan\",\"Feb\",\"Mar\",\"Apr\",\"May\",\"Jun\",\"Jul\",\"Aug\",\"Sep\",\"Oct\",\"Nov\",\"Dec\"))"
      ],
      "metadata": {
        "colab": {
          "base_uri": "https://localhost:8080/",
          "height": 893
        },
        "collapsed": true,
        "outputId": "4acc5eaf-7ed8-4708-fb0d-80d22e49073b",
        "id": "26N6SJT5c7Sa"
      },
      "execution_count": null,
      "outputs": [
        {
          "output_type": "execute_result",
          "data": {
            "text/plain": [
              "([<matplotlib.axis.XTick at 0x79abc94ece90>,\n",
              "  <matplotlib.axis.XTick at 0x79abc966c690>,\n",
              "  <matplotlib.axis.XTick at 0x79abc9505b90>,\n",
              "  <matplotlib.axis.XTick at 0x79abc9507fd0>,\n",
              "  <matplotlib.axis.XTick at 0x79abc9512490>,\n",
              "  <matplotlib.axis.XTick at 0x79abc9513790>,\n",
              "  <matplotlib.axis.XTick at 0x79abc9519b50>,\n",
              "  <matplotlib.axis.XTick at 0x79abc951c0d0>,\n",
              "  <matplotlib.axis.XTick at 0x79abc951e410>,\n",
              "  <matplotlib.axis.XTick at 0x79abc951f990>,\n",
              "  <matplotlib.axis.XTick at 0x79abc9525250>,\n",
              "  <matplotlib.axis.XTick at 0x79abc9527750>],\n",
              " [Text(1, 0, 'Jan'),\n",
              "  Text(2, 0, 'Feb'),\n",
              "  Text(3, 0, 'Mar'),\n",
              "  Text(4, 0, 'Apr'),\n",
              "  Text(5, 0, 'May'),\n",
              "  Text(6, 0, 'Jun'),\n",
              "  Text(7, 0, 'Jul'),\n",
              "  Text(8, 0, 'Aug'),\n",
              "  Text(9, 0, 'Sep'),\n",
              "  Text(10, 0, 'Oct'),\n",
              "  Text(11, 0, 'Nov'),\n",
              "  Text(12, 0, 'Dec')])"
            ]
          },
          "metadata": {},
          "execution_count": 76
        },
        {
          "output_type": "display_data",
          "data": {
            "text/plain": [
              "<Figure size 640x480 with 2 Axes>"
            ],
            "image/png": "[encoded data removed]"
          },
          "metadata": {}
        }
      ]
    },
    {
      "cell_type": "code",
      "source": [
        "# 函数：读取文件中的年份和美国人口数量\n",
        "def getUSPop(filename):\n",
        "    inFile = open(filename,\"r\")\n",
        "    dates, pops = [],[]\n",
        "    for l in inFile: # 遍历文件中的每一行\n",
        "        line = \"\"\n",
        "        for c in l:\n",
        "            if c in \"0123456789 \":\n",
        "                line += c # 去掉数据中的逗号，只保留数字和空格\n",
        "        line = line.split(\" \") # 通过空格将字符串转化为包含两个元素的列表\n",
        "        dates.append(int(line[0]))\n",
        "        pops.append(int(line[1]))\n",
        "    return dates, pops"
      ],
      "metadata": {
        "id": "KnYPUb97BnZS"
      },
      "execution_count": null,
      "outputs": []
    },
    {
      "cell_type": "code",
      "source": [
        "# 绘制美国人口数量表：线性刻度\n",
        "dates, pops = getUSPop(\"lec25_USPopulation.txt\")\n",
        "plt.plot(dates, pops)\n",
        "plt.title(\"Population in What Is Now U.S.\\n\"+\\\n",
        "          \"(Native Am.Excluded Before 1860)\")\n",
        "plt.xlabel(\"Year\")\n",
        "plt.ylabel(\"Population\")"
      ],
      "metadata": {
        "colab": {
          "base_uri": "https://localhost:8080/",
          "height": 511
        },
        "collapsed": true,
        "id": "A1s-bFCtEzOb",
        "outputId": "ab3385d8-288a-40aa-b28c-486ceeddc9f9"
      },
      "execution_count": null,
      "outputs": [
        {
          "output_type": "execute_result",
          "data": {
            "text/plain": [
              "Text(0, 0.5, 'Population')"
            ]
          },
          "metadata": {},
          "execution_count": 7
        },
        {
          "output_type": "display_data",
          "data": {
            "text/plain": [
              "<Figure size 640x480 with 1 Axes>"
            ],
            "image/png": "[encoded data removed]"
          },
          "metadata": {}
        }
      ]
    },
    {
      "cell_type": "code",
      "source": [
        "# 绘制美国人口数量表：对数刻度\n",
        "dates, pops = getUSPop(\"lec25_USPopulation.txt\")\n",
        "plt.plot(dates, pops)\n",
        "plt.title(\"Population in What Is Now U.S.\\n\"+\\\n",
        "          \"(Native Am.Excluded Before 1860)\")\n",
        "plt.xlabel(\"Year\")\n",
        "plt.ylabel(\"Population\")\n",
        "plt.semilogy() # 将y轴设为对数刻度，即y轴上的每个常规增量都将表示人口的指数增长"
      ],
      "metadata": {
        "colab": {
          "base_uri": "https://localhost:8080/",
          "height": 511
        },
        "collapsed": true,
        "outputId": "9cd8742f-1c53-4ed3-fbf6-1699216c6a28",
        "id": "Xq3kzGm3IXDL"
      },
      "execution_count": null,
      "outputs": [
        {
          "output_type": "execute_result",
          "data": {
            "text/plain": [
              "[]"
            ]
          },
          "metadata": {},
          "execution_count": 8
        },
        {
          "output_type": "display_data",
          "data": {
            "text/plain": [
              "<Figure size 640x480 with 1 Axes>"
            ],
            "image/png": "[encoded data removed]"
          },
          "metadata": {}
        }
      ]
    },
    {
      "cell_type": "code",
      "source": [
        "# 函数：读取文件中的每个国家人口数量\n",
        "def getCountryPops(fileName):\n",
        "    inFile = open(fileName, \"r\")\n",
        "    pops = []\n",
        "    for l in inFile:\n",
        "        line = l.split(\"\\t\") # 用制表符分隔(tab-seperated file)\n",
        "        l = line[2]\n",
        "        pop = \"\"\n",
        "        for c in l:\n",
        "            if c in \"0123456789\":\n",
        "                pop += c\n",
        "        pops.append(int(pop))\n",
        "    return pops"
      ],
      "metadata": {
        "id": "1VUH_BoGJUYp"
      },
      "execution_count": null,
      "outputs": []
    },
    {
      "cell_type": "code",
      "source": [
        "# 绘制每个国家的人口数\n",
        "pops = getCountryPops(\"lec25_countryPops.txt\")\n",
        "\n",
        "plt.plot(pops)\n",
        "plt.title(\"Population Size of Countries July 2017\")\n",
        "plt.ylabel(\"Population\")\n",
        "plt.xlabel(\"Country Rank Based on Size\")\n",
        "plt.semilogy()"
      ],
      "metadata": {
        "colab": {
          "base_uri": "https://localhost:8080/",
          "height": 490
        },
        "collapsed": true,
        "id": "eIzMSlbNKUAa",
        "outputId": "468bdec0-3c85-4380-ddde-8269734d9388"
      },
      "execution_count": null,
      "outputs": [
        {
          "output_type": "execute_result",
          "data": {
            "text/plain": [
              "[]"
            ]
          },
          "metadata": {},
          "execution_count": 14
        },
        {
          "output_type": "display_data",
          "data": {
            "text/plain": [
              "<Figure size 640x480 with 1 Axes>"
            ],
            "image/png": "[encoded data removed]"
          },
          "metadata": {}
        }
      ]
    },
    {
      "cell_type": "code",
      "source": [
        "# 绘制每个国家人口数的首位数字: 本福德规律\n",
        "pops = getCountryPops(\"lec25_countryPops.txt\")\n",
        "firstDigits = []\n",
        "for p in pops:\n",
        "    firstDigits.append(int(str(p)[0]))\n",
        "\n",
        "plt.figure(\"首位数字图\")\n",
        "plt.plot(firstDigits)\n",
        "plt.figure(\"首位数字直方图\")\n",
        "plt.hist(firstDigits, bins = 9)"
      ],
      "metadata": {
        "colab": {
          "base_uri": "https://localhost:8080/",
          "height": 915
        },
        "collapsed": true,
        "id": "IUEku-VdLrqO",
        "outputId": "e1e3ee7c-d20b-4a32-c1e1-c8d3be7ef6b3"
      },
      "execution_count": null,
      "outputs": [
        {
          "output_type": "execute_result",
          "data": {
            "text/plain": [
              "(array([69., 40., 30., 15., 28., 17., 13., 12., 13.]),\n",
              " array([1.        , 1.88888889, 2.77777778, 3.66666667, 4.55555556,\n",
              "        5.44444444, 6.33333333, 7.22222222, 8.11111111, 9.        ]),\n",
              " <BarContainer object of 9 artists>)"
            ]
          },
          "metadata": {},
          "execution_count": 21
        },
        {
          "output_type": "display_data",
          "data": {
            "text/plain": [
              "<Figure size 640x480 with 1 Axes>"
            ],
            "image/png": "[encoded data removed]"
          },
          "metadata": {}
        },
        {
          "output_type": "display_data",
          "data": {
            "text/plain": [
              "<Figure size 640x480 with 1 Axes>"
            ],
            "image/png": "[encoded data removed]"
          },
          "metadata": {}
        }
      ]
    },
    {
      "cell_type": "code",
      "source": [
        "# 函数：获取城市\n",
        "def getCities():\n",
        "    inFile = open(\"lec25_temperatures.csv\")\n",
        "    cities = []\n",
        "    for l in inFile:\n",
        "        c = l.split(\",\")[0]\n",
        "        if c not in cities:\n",
        "            cities.append(c)\n",
        "    return cities"
      ],
      "metadata": {
        "id": "LmOKJLmvRLRZ"
      },
      "execution_count": null,
      "outputs": []
    },
    {
      "cell_type": "code",
      "source": [
        "# 函数：摄氏度转华氏度\n",
        "def CtoF(c):\n",
        "    return (c * 9 / 5) + 32"
      ],
      "metadata": {
        "id": "FaxYe6PccNtQ"
      },
      "execution_count": null,
      "outputs": []
    },
    {
      "cell_type": "code",
      "source": [
        "# 函数：读取特定城市的所有温度\n",
        "def getTempsForCity(city):\n",
        "    inFile = open(\"lec25_temperatures.csv\")\n",
        "    temps = []\n",
        "    dates = []\n",
        "    for l in inFile:\n",
        "        data = l.split(\",\")\n",
        "        c = data[0]\n",
        "        tem = data[1]\n",
        "        date = data[2]\n",
        "        if c == city:\n",
        "            temps.append(CtoF(float(tem)))\n",
        "            dates.append(date)\n",
        "    return temps, dates"
      ],
      "metadata": {
        "id": "Py7QCKdZcKRM"
      },
      "execution_count": null,
      "outputs": []
    },
    {
      "cell_type": "code",
      "source": [
        "# 函数：获取不同城市的平均温度\n",
        "def getAverageTemps():\n",
        "    cities = getCities()[1:]\n",
        "    xPts = range(len(cities))\n",
        "    aveTemp = []\n",
        "    cityLabels = []\n",
        "    for c in cities:\n",
        "        temps, dates = getTempsForCity(c)\n",
        "        aveTemp.append(sum(temps) / len(temps))\n",
        "        cityLabels.append(c[0:2])\n",
        "        print(c[0:2], sum(temps) / len(temps))\n",
        "\n",
        "    plt.figure(\"Temps\")\n",
        "    plt.scatter(xPts, aveTemp)\n",
        "    plt.title(\"Ave. Temperatures\")\n",
        "    plt.xlabel(\"City\")\n",
        "    plt.ylabel(\"Degrees F\")\n",
        "    plt.xticks(xPts, cityLabels)\n",
        "\n",
        "# 绘制不同城市的平均温度图\n",
        "getAverageTemps()"
      ],
      "metadata": {
        "colab": {
          "base_uri": "https://localhost:8080/",
          "height": 850
        },
        "id": "R0IvDHIWYW_k",
        "outputId": "f2844980-204e-4f8b-f085-7627d3a6907a"
      },
      "execution_count": null,
      "outputs": [
        {
          "output_type": "stream",
          "name": "stdout",
          "text": [
            "SE 52.37133512544815\n",
            "SA 64.12213261648773\n",
            "PH 55.35763888888897\n",
            "PH 73.9106765232976\n",
            "LA 67.96468637992868\n",
            "CH 60.50832437276032\n",
            "DA 66.09383960573523\n",
            "BA 55.56289426523339\n",
            "SA 80.48503136200725\n",
            "LO 63.15581093189985\n",
            "MI 76.60319444444461\n",
            "NE 68.88260304659504\n",
            "AL 57.103624551971876\n",
            "PO 54.07276433691735\n",
            "BO 51.612473118279766\n",
            "SA 57.63098566308245\n",
            "TA 72.88112007168394\n",
            "NE 54.19445340501822\n",
            "DE 49.54754032258066\n",
            "ST 56.41681451612899\n",
            "CH 49.61554211469518\n"
          ]
        },
        {
          "output_type": "display_data",
          "data": {
            "text/plain": [
              "<Figure size 640x480 with 1 Axes>"
            ],
            "image/png": "[encoded data removed]"
          },
          "metadata": {}
        }
      ]
    },
    {
      "cell_type": "markdown",
      "source": [
        "\n",
        "\n",
        "# 程序计算效率"
      ],
      "metadata": {
        "id": "nb7OuTvCXMdp"
      }
    },
    {
      "cell_type": "markdown",
      "source": [
        "## 直观理解\n",
        "\n",
        "---\n",
        "\n",
        "\n",
        "* 运行时间（计时）\n",
        "* 操作步骤（计步）"
      ],
      "metadata": {
        "id": "3L0p1YDLXnJ4"
      }
    },
    {
      "cell_type": "code",
      "source": [
        "# 调用时间模块\n",
        "import time"
      ],
      "metadata": {
        "id": "z5FXSzXda0C1"
      },
      "execution_count": null,
      "outputs": []
    },
    {
      "cell_type": "markdown",
      "source": [
        "### 程序计时：处理数字的函数\n",
        "\n",
        "---\n",
        "\n"
      ],
      "metadata": {
        "id": "J4s6DiyMpRo6"
      }
    },
    {
      "cell_type": "code",
      "source": [
        "# 常数函数(constant fcn): 摄氏度转华氏度\n",
        "# 操作步骤：3\n",
        "def c_to_f(c):\n",
        "    counter = 3\n",
        "    return (counter, c * 9.0 / 5 + 32)"
      ],
      "metadata": {
        "id": "ijG_DU0PXtup"
      },
      "execution_count": null,
      "outputs": []
    },
    {
      "cell_type": "code",
      "source": [
        "# 线性函数（linear fcn）：求和\n",
        "# 操作步骤：1 +（x + 1) * 3 = 3x + 4\n",
        "def mysum(x):\n",
        "    counter = 1\n",
        "    total = 0\n",
        "    for i in range(x + 1):\n",
        "      counter += 3\n",
        "      total += 1\n",
        "    return (counter, total)"
      ],
      "metadata": {
        "id": "8GrfJkOVYD50"
      },
      "execution_count": null,
      "outputs": []
    },
    {
      "cell_type": "code",
      "source": [
        "# 二次函数（quadrtic fcn）：平方数\n",
        "# 操作步骤：1+n*1*n*3 = 3n^2 + 1\n",
        "def square(n):\n",
        "    \"\"\"\n",
        "    Input:n, 整数\n",
        "    Return: n * n\n",
        "    \"\"\"\n",
        "    counter = 1\n",
        "    sqsum = 0\n",
        "    for i in range(n):\n",
        "      counter += 1\n",
        "      for j in range(n):\n",
        "        counter += 3\n",
        "        sqsum += 1\n",
        "    return (counter, sqsum)"
      ],
      "metadata": {
        "id": "3mOltj4cZSL-"
      },
      "execution_count": null,
      "outputs": []
    },
    {
      "cell_type": "code",
      "source": [
        "# 用time.time()给程序计时（timing a program）\n",
        "tstart = time.time()\n",
        "c_to_f(37)\n",
        "dt = time.time() - tstart\n",
        "print(f\"用时{dt}秒\")"
      ],
      "metadata": {
        "colab": {
          "base_uri": "https://localhost:8080/"
        },
        "id": "8ri6ZoJDa8gx",
        "outputId": "38ba5c48-ba39-4c56-85aa-d60e8905fda0"
      },
      "execution_count": null,
      "outputs": [
        {
          "output_type": "stream",
          "name": "stdout",
          "text": [
            "用时7.2479248046875e-05秒\n"
          ]
        }
      ]
    },
    {
      "cell_type": "code",
      "source": [
        "# 函数：运行计时包裹\n",
        "def time_wrapper(f,L):\n",
        "    \"\"\"\n",
        "    Input:\n",
        "      *f: 想要运行的函数\n",
        "      *L: 列表，包含函数的不同输入\n",
        "    Return: 打印运行时间，返回空\n",
        "    \"\"\"\n",
        "    print(\"计时\", f.__name__)\n",
        "    for i in L:\n",
        "      t = time.time()\n",
        "      f(i)\n",
        "      dt = time.time() - t\n",
        "      print(f\"{f.__name__}({i}) 用时 {dt} 秒\")"
      ],
      "metadata": {
        "id": "Tq3QQv3vb3Ts"
      },
      "execution_count": null,
      "outputs": []
    },
    {
      "cell_type": "code",
      "source": [
        "# 函数：步骤计数包裹\n",
        "def counter_wrapper(f, L):\n",
        "    \"\"\"\n",
        "    Input:\n",
        "      *f: 想要运行的函数\n",
        "      *L: 列表，包含函数的不同输入\n",
        "    Return: 打印操作步骤，返回空\n",
        "    \"\"\"\n",
        "    print(\"计步\", f.__name__)\n",
        "    for i in L:\n",
        "      counter = f(i)[0]\n",
        "      if i == min(L):\n",
        "        multiplier = 1.0\n",
        "      else:\n",
        "        multiplier = counter/float(prev)\n",
        "      prev = counter\n",
        "      print(f\"{f.__name__}({i}): {counter} 步 是前一例的 {multiplier} 倍\")"
      ],
      "metadata": {
        "id": "wGn0jljhp3Dh"
      },
      "execution_count": null,
      "outputs": []
    },
    {
      "cell_type": "code",
      "source": [
        "# 构造测试数列:[1, 10, 100, ...]\n",
        "L_N = [1]\n",
        "for i in range(8):\n",
        "    L_N.append(L_N[-1] * 10)"
      ],
      "metadata": {
        "id": "q6RxkoyBlV-z"
      },
      "execution_count": null,
      "outputs": []
    },
    {
      "cell_type": "code",
      "source": [
        "# 用计时包裹测试运行用时\n",
        "time_wrapper(c_to_f, L_N)\n",
        "time_wrapper(mysum, L_N)\n",
        "#time_wrapper(square, L_N) # 效率很低"
      ],
      "metadata": {
        "collapsed": true,
        "id": "3o8NpDqzlvmc"
      },
      "execution_count": null,
      "outputs": []
    },
    {
      "cell_type": "code",
      "source": [
        "# 构造测试数列\n",
        "L1 = [100]\n",
        "for i in range(5):\n",
        "    L1.append(L1[-1] * 10)\n",
        "L2_a = [128, 256, 512, 1024, 2048, 4096, 8192]\n",
        "L2_b = [1, 10, 100, 1000, 10000]"
      ],
      "metadata": {
        "id": "uwZV1h8qphzz"
      },
      "execution_count": null,
      "outputs": []
    },
    {
      "cell_type": "code",
      "source": [
        "# 用计数包裹测试操作步骤\n",
        "counter_wrapper(c_to_f, L1)\n",
        "counter_wrapper(mysum, L1)\n",
        "counter_wrapper(square, L2_a)\n",
        "counter_wrapper(square, L2_b)"
      ],
      "metadata": {
        "collapsed": true,
        "id": "p8mfasJ4hooF"
      },
      "execution_count": null,
      "outputs": []
    },
    {
      "cell_type": "code",
      "source": [
        "# 函数：英里转公里\n",
        "def convert_to_km(m):\n",
        "    return m * 1.609"
      ],
      "metadata": {
        "id": "A55MoHygc4h9"
      },
      "execution_count": null,
      "outputs": []
    },
    {
      "cell_type": "code",
      "source": [
        "# 函数：复利计算\n",
        "def compound(invest, interest, n_months):\n",
        "    \"\"\"\n",
        "    Input:\n",
        "      * invest: 浮点数，代表每月投资\n",
        "      * interest： 浮点数，代表每月利率\n",
        "      * n_months：整数，代表投资的月份\n",
        "    Return：返回这几个月里赚了多少钱\n",
        "    \"\"\"\n",
        "    total = 0\n",
        "    for i in range(n_months):\n",
        "        total = total * interest + invest\n",
        "    return total"
      ],
      "metadata": {
        "id": "BIfexfILd8D3"
      },
      "execution_count": null,
      "outputs": []
    },
    {
      "cell_type": "code",
      "source": [
        "# 用性能计数器给程序计时\n",
        "t0 = time.perf_counter()\n",
        "convert_to_km(100000)\n",
        "dt2 = time.perf_counter() - t0\n",
        "print(f\"用时{dt2}秒\")"
      ],
      "metadata": {
        "id": "3TX067NBbW3C"
      },
      "execution_count": null,
      "outputs": []
    },
    {
      "cell_type": "code",
      "source": [
        "# 构造测试数列\n",
        "L_N2 = [1]\n",
        "for i in range(7):\n",
        "    L_N2.append(L_N2[-1] * 10)"
      ],
      "metadata": {
        "id": "gNmZ6yq9fleP"
      },
      "execution_count": null,
      "outputs": []
    },
    {
      "cell_type": "code",
      "source": [
        "# 用性能计数器测试函数（英里转公里）运行用时\n",
        "for N in L_N2:\n",
        "    t0_ck = time.perf_counter()\n",
        "    km = convert_to_km(N)\n",
        "    dt_ck = time.perf_counter() - t0_ck\n",
        "    print(f\"convert_to_km({N}) 用时 {dt_ck:.2e} 秒（{1/dt_ck:,.2f} /秒）\")"
      ],
      "metadata": {
        "collapsed": true,
        "id": "fs-Y6L8QgCwI"
      },
      "execution_count": null,
      "outputs": []
    },
    {
      "cell_type": "code",
      "source": [
        "# 用性能计数器测试函数（复利计算）运行用时:改变invest--区别不大\n",
        "for N in L_N2:\n",
        "    t0_cp1 = time.perf_counter()\n",
        "    money1 = compound(N, 1.05, 12)\n",
        "    dt_cp1 = time.perf_counter() - t0_cp1\n",
        "    print(f\"compound({N}) 用时 {dt_cp1:.2e} 秒（{1/dt_cp1:,.2f} /秒）\")"
      ],
      "metadata": {
        "collapsed": true,
        "id": "_f1SPLgGpCKa"
      },
      "execution_count": null,
      "outputs": []
    },
    {
      "cell_type": "code",
      "source": [
        "# 用性能计数器测试函数（复利计算）运行用时:改变interest--区别不大\n",
        "for N in L_N2:\n",
        "    t0_cp2 = time.perf_counter()\n",
        "    money2 = compound(10.0, 1 + 1/N, 12)\n",
        "    dt_cp2 = time.perf_counter() - t0_cp2\n",
        "    print(f\"compound({N}) 用时 {dt_cp2:.2e} 秒（{1/dt_cp2:,.2f} /秒）\")"
      ],
      "metadata": {
        "collapsed": true,
        "id": "rKj0C96gqhrA"
      },
      "execution_count": null,
      "outputs": []
    },
    {
      "cell_type": "code",
      "source": [
        "# 用性能计数器测试函数（复利计算）运行用时:改变n_months--呈10倍增加\n",
        "for N in L_N2:\n",
        "    t0_cp3 = time.perf_counter()\n",
        "    money3 = compound(10.0, 1.05, N)\n",
        "    dt_cp3 = time.perf_counter() - t0_cp3\n",
        "    print(f\"compound({N}) 用时 {dt_cp3:.2e} 秒（{1/dt_cp3:,.2f} /秒）\")"
      ],
      "metadata": {
        "collapsed": true,
        "id": "TA4Du_Exq_OB"
      },
      "execution_count": null,
      "outputs": []
    },
    {
      "cell_type": "markdown",
      "source": [
        "### 程序计时（Timing program）：处理列表数据的函数\n",
        "\n",
        "---\n",
        "\n"
      ],
      "metadata": {
        "id": "HoPfH0LtqPWV"
      }
    },
    {
      "cell_type": "code",
      "source": [
        "# 处理列表的函数：计算列表之和\n",
        "def sum_of(L):\n",
        "    \"\"\"\n",
        "    Input: L,列表\n",
        "    Return: 列表中元素之和\n",
        "    \"\"\"\n",
        "    total = 0.0\n",
        "    for elt in L:\n",
        "        total = total + elt\n",
        "    return elt"
      ],
      "metadata": {
        "id": "46xzTsmFwDLA"
      },
      "execution_count": null,
      "outputs": []
    },
    {
      "cell_type": "code",
      "source": [
        "# 构造测试数列\n",
        "L_testlist_1 = [1]\n",
        "for i in range(7):\n",
        "    L_testlist_1.append(L_testlist_1[-1] * 10)"
      ],
      "metadata": {
        "id": "iv2K1Hg0qQTz"
      },
      "execution_count": null,
      "outputs": []
    },
    {
      "cell_type": "code",
      "source": [
        "# 用性能计数器测试函数（计算列表之和）\n",
        "for N in L_testlist_1:\n",
        "  L_insf = list(range(N))\n",
        "  t0_sf = time.perf_counter()\n",
        "  sf = sum_of(L_insf)\n",
        "  dt_sf = time.perf_counter() - t0_sf\n",
        "  print(f\"sum_of({N}) 用时 {dt_sf:.2e} 秒（{1/dt_sf:,.2f} / 秒)\")"
      ],
      "metadata": {
        "id": "6vZ6iFpYwSdd",
        "collapsed": true
      },
      "execution_count": null,
      "outputs": []
    },
    {
      "cell_type": "code",
      "source": [
        "# 处理列表的函数：遍历列表中的元素查找匹配元素\n",
        "def bruteforce_search(L, x):\n",
        "    \"\"\"\n",
        "    Input:\n",
        "     * L:列表\n",
        "     * x:整数\n",
        "    Return: 如果列表中有元素等于x，返回真，否则返回假\n",
        "    \"\"\"\n",
        "    for elt in L:\n",
        "        if elt == x:\n",
        "            return True\n",
        "    return False"
      ],
      "metadata": {
        "id": "1BqLbhEW4k2T"
      },
      "execution_count": null,
      "outputs": []
    },
    {
      "cell_type": "code",
      "source": [
        "# 处理列表的函数：二分法查找匹配元素\n",
        "def binary_search(L, x):\n",
        "    \"\"\"\n",
        "    Input:\n",
        "     * L:列表\n",
        "     * x:整数\n",
        "    Return:如果列表中有元素等于x，返回真，否则返回假\n",
        "    \"\"\"\n",
        "    lo = 0\n",
        "    hi = len(L)\n",
        "    while hi - lo > 1:\n",
        "        mid = (hi + lo) // 2 # 向下取整\n",
        "        if L[mid] <= x:\n",
        "            lo = mid\n",
        "        else:\n",
        "            hi = mid\n",
        "    return L[lo] == x"
      ],
      "metadata": {
        "id": "rLxpmHde47dH"
      },
      "execution_count": null,
      "outputs": []
    },
    {
      "cell_type": "code",
      "source": [
        "# 处理列表的函数：运用内置运算器查找匹配元素\n",
        "def builtin_search(L, x):\n",
        "    \"\"\"\n",
        "    Input:\n",
        "     * L:列表\n",
        "     * x:整数\n",
        "    Return:如果列表中有元素等于x，返回真，否则返回假\n",
        "    \"\"\"\n",
        "    return x in L"
      ],
      "metadata": {
        "id": "hySBMtsx8GxY"
      },
      "execution_count": null,
      "outputs": []
    },
    {
      "cell_type": "code",
      "source": [
        "# 构造测试数列:list[1,10,...,100000000]\n",
        "L_testlist_2 = [1]\n",
        "for i in range(8):\n",
        "  L_testlist_2.append(L_testlist_2[-1] * 10)"
      ],
      "metadata": {
        "id": "Jt3HHEbEqxMY"
      },
      "execution_count": null,
      "outputs": []
    },
    {
      "cell_type": "code",
      "source": [
        "# 用性能计数器测试函数（遍历查找）:列表长度增加10，程序用时增为10倍\n",
        "prev_time_brute = None\n",
        "\n",
        "for N in L_testlist_2:\n",
        "    L_isin = list(range(N)) # list[0,1,2,...,N-1]\n",
        "\n",
        "    t_brute = time.perf_counter()\n",
        "    for x in[L_isin[0], L_isin[len(L_isin) // 2],L_isin[-1]]: # 用第一个数｜中间数｜最后一个数来做测试\n",
        "        my_bool_brute = bruteforce_search(L_isin, x)\n",
        "    t_brute = (time.perf_counter() - t_brute) / 3\n",
        "    print(f\"bruteforce_search({N}) 用时 {t_brute:.2e} 秒（{1 / t_brute:,.2f} / 秒）\")\n",
        "    if not N == L_testlist_2[0]:\n",
        "        print(f\"是上一个用时的 {t_brute / prev_time_brute:.2f} 倍\")\n",
        "    prev_time_brute = t_brute"
      ],
      "metadata": {
        "collapsed": true,
        "id": "RvkWtVgo9SYW"
      },
      "execution_count": null,
      "outputs": []
    },
    {
      "cell_type": "code",
      "source": [
        "# 用性能计数器测试函数（二分法查找）\n",
        "prev_time_binary = None\n",
        "\n",
        "for N in L_testlist_2:\n",
        "    L_isin = list(range(N))\n",
        "\n",
        "    t_binary = time.perf_counter()\n",
        "    for x in[L_isin[0], L_isin[len(L_isin) // 2],L_isin[-1]]: # 用第一个数｜中间数｜最后一个数来做测试\n",
        "        my_bool_binary = binary_search(L_isin, x)\n",
        "    t_binary = (time.perf_counter() - t_binary) / 3\n",
        "    print(f\"binary_search({N}) 用时 {t_binary:.2e} 秒（{1 / t_binary:,.2f} / 秒）\")\n",
        "    if not N == L_testlist_2[0]:\n",
        "        print(f\"是上一个用时的 {t_binary / prev_time_binary:.2f} 倍\")\n",
        "    prev_time_binary = t_binary"
      ],
      "metadata": {
        "collapsed": true,
        "id": "881RTP8JhdF8"
      },
      "execution_count": null,
      "outputs": []
    },
    {
      "cell_type": "code",
      "source": [
        "# 用性能计数器测试函数（内置运算器查找）:列表长度增加10，程序用时增为10倍\n",
        "prev_time_builtin = None\n",
        "for N in L_testlist_2:\n",
        "    L_isin = list(range(N))\n",
        "\n",
        "    t_builtin = time.perf_counter()\n",
        "    for x in[L_isin[0], L_isin[len(L_isin) // 2],L_isin[-1]]: # 用第一个数｜中间数｜最后一个数来做测试\n",
        "        my_bool_builtin = builtin_search(L_isin, x)\n",
        "    t_builtin = (time.perf_counter() - t_builtin) / 3\n",
        "    print(f\"builtin_search({N}) 用时 {t_builtin:.2e} 秒（{1 / t_builtin:,.2f} / 秒）\")\n",
        "    if not N == L_testlist_2[0]:\n",
        "        print(f\"是上一个用时的 {t_builtin / prev_time_builtin:.2f} 倍\")\n",
        "    prev_time_builtin = t_builtin"
      ],
      "metadata": {
        "collapsed": true,
        "id": "Ej8v0KiyhcC-"
      },
      "execution_count": null,
      "outputs": []
    },
    {
      "cell_type": "markdown",
      "source": [
        "### 程序计时：处理嵌套循环的函数\n",
        "\n",
        "\n",
        "---\n",
        "\n"
      ],
      "metadata": {
        "id": "DzXm83942H_0"
      }
    },
    {
      "cell_type": "code",
      "source": [
        "import math"
      ],
      "metadata": {
        "id": "m4wSxSbfwkC8"
      },
      "execution_count": null,
      "outputs": []
    },
    {
      "cell_type": "code",
      "source": [
        "# 嵌套循环函数：找到点之间的最大距离\n",
        "def diameter(L):\n",
        "    \"\"\"\n",
        "    Input: L, 元素为代表笛卡尔坐标系的数据对的列表\n",
        "    Return: 返回两两数据对之间的最大距离\n",
        "    \"\"\"\n",
        "    farthest_dist = 0\n",
        "    for i in range(len(L)):\n",
        "        for j in range(i + 1, len(L)):\n",
        "            p1 = L[i]\n",
        "            p2 = L[j]\n",
        "            dist = math.sqrt((p1[0] - p2[0]) ** 2 + (p1[1] - p2[1]) ** 2)\n",
        "            if dist > farthest_dist:\n",
        "                farthest_dist = dist\n",
        "    return farthest_dist"
      ],
      "metadata": {
        "id": "_Iga51ZwwMxn"
      },
      "execution_count": null,
      "outputs": []
    },
    {
      "cell_type": "code",
      "source": [
        "# 测试嵌套循环函数用时\n",
        "\n",
        "# 函数: 生成代表坐标点的数据对\n",
        "def create_list_of_2D_points(N):\n",
        "    \"\"\"\n",
        "    Input: N,列表\n",
        "    Return: 基于列表中的数字创建的数据对的列表\n",
        "    \"\"\"\n",
        "    L = []\n",
        "    for i in range(N):\n",
        "        x = math.cos(i) * i\n",
        "        y = math.sin(i) * i\n",
        "        L.append((x, y))\n",
        "    return L\n",
        "\n",
        "# 构造测试列表\n",
        "L_test_nestedloops = [100, 200, 400, 800, 1600, 3200, 6400]\n",
        "\n",
        "# 用性能计数器测试函数（找到点之间的最大距离）\n",
        "diameter_times = []\n",
        "prev_time_diameter = 0\n",
        "for N in L_test_nestedloops:\n",
        "    L_testpoint = create_list_of_2D_points(N)\n",
        "    t0_diameter = time.perf_counter()\n",
        "    test_diameter = diameter(L_testpoint)\n",
        "    dt_diameter = time.perf_counter() - t0_diameter\n",
        "    diameter_times.append(dt_diameter)\n",
        "    print(\"找到\",N,\"个点之间的最大距离用了\",dt_diameter,\"秒\")\n",
        "    if prev_time_diameter != 0:\n",
        "        print(f\"点数变为两倍,用时变为 {dt_diameter / prev_time_diameter:.1f} 倍\")\n",
        "    prev_time_diameter = dt_diameter"
      ],
      "metadata": {
        "id": "-66HwaLD2oYQ",
        "collapsed": true
      },
      "execution_count": null,
      "outputs": []
    },
    {
      "cell_type": "markdown",
      "source": [
        "### 程序计步\n",
        "\n",
        "---\n",
        "\n",
        "\n"
      ],
      "metadata": {
        "id": "E_WsN18Vi2WF"
      }
    },
    {
      "cell_type": "code",
      "source": [
        "# 函数：遍历列表查找匹配元素\n",
        "count_test = None\n",
        "def brute_search_counter(L, x):\n",
        "    global count_test # 抓取全局变量（慎用！）\n",
        "    count_test += 1 # 函数return了一个值\n",
        "    for elt in L:\n",
        "        count_test += 2 # 1️⃣抓取L中的元素；2️⃣比较elt是否等于x\n",
        "        if elt == x:\n",
        "            return True\n",
        "    return False"
      ],
      "metadata": {
        "id": "yeos7EGLi6qZ"
      },
      "execution_count": null,
      "outputs": []
    },
    {
      "cell_type": "code",
      "source": [
        "# 测试\n",
        "\n",
        "# 构造测试数列\n",
        "L_countertest1 = [1]\n",
        "for i in range(8):\n",
        "    L_countertest1.append(L_countertest1[-1] * 10)\n",
        "\n",
        "# 计步遍历列表函数\n",
        "brute_counts = []\n",
        "for N in L_countertest1:\n",
        "    count_test = 0\n",
        "    L_brute_counts = range(N)\n",
        "    for x in [L_brute_counts[0], L_brute_counts[len(L_brute_counts) // 2],L_brute_counts[-1]]:\n",
        "       my_bool_brutecounts = brute_search_counter(L_brute_counts, x)\n",
        "    print(\"暴力搜索\",N,\"个元素用了\",count_test,\"步\")\n",
        "    brute_counts.append(count_test)"
      ],
      "metadata": {
        "id": "lIcmr3j0knyj",
        "collapsed": true
      },
      "execution_count": null,
      "outputs": []
    },
    {
      "cell_type": "code",
      "source": [
        "# 函数：二分法查找元素\n",
        "def binary_search_counter(L, x):\n",
        "    global count_test\n",
        "    lo = 0\n",
        "    hi = len(L)\n",
        "    count_test += 3 # 1.设置lo;2.计算len;3.设置hi\n",
        "    while hi - lo > 1:\n",
        "        count_test += 2 # 1.减法;2.while条件判断\n",
        "        mid = (hi + lo) // 2\n",
        "        count_test += 3 # 1.加法;2.取整;3.赋值\n",
        "        if L[mid] <= x:\n",
        "           lo = mid\n",
        "        else:\n",
        "           hi = mid\n",
        "        count_test +=3 # 1.取出列表中mid的值;2.if条件判断;3.赋值\n",
        "    count_test += 3 # 1.取出lo的值;2.相等检查;3.返回值\n",
        "    return L[lo] == x"
      ],
      "metadata": {
        "id": "rBPsnFvPlAI0"
      },
      "execution_count": null,
      "outputs": []
    },
    {
      "cell_type": "code",
      "source": [
        "# 测试\n",
        "\n",
        "# 构造测试数列\n",
        "L_countertest2 = [1]\n",
        "for i in range(10):\n",
        "    L_countertest2.append(L_countertest2[-1] * 10)\n",
        "\n",
        "# 计步二分法查找函数\n",
        "binary_counts = []\n",
        "for N in L_countertest2:\n",
        "    count_test = 0\n",
        "    L_binary_counts = range(N)\n",
        "    for x in [L_binary_counts[0], L_binary_counts[len(L_binary_counts) // 2],L_binary_counts[-1]]:\n",
        "       my_bool_binarycounts = binary_search_counter(L_binary_counts, x)\n",
        "    print(\"二分查找\",N,\"个元素用了\",count_test,\"步\")\n",
        "    binary_counts.append(count_test)"
      ],
      "metadata": {
        "collapsed": true,
        "id": "9jED9fgp5URr"
      },
      "execution_count": null,
      "outputs": []
    },
    {
      "cell_type": "markdown",
      "source": [
        "## 计算复杂度\n",
        "\n",
        "---\n",
        "\n",
        "\n",
        "* 增长函数f(n)：查看函数的输入，关注与这些输入参数的代码部分，计算与输入参数相关的操作数量\n",
        "* 常数级(constant)：不依赖输入，总是以常量时间运行\n",
        "  * 列表内置函数(n=len(L))\n",
        "    * index: L[i]\n",
        "    * store\n",
        "    * length\n",
        "    * append\n",
        "  * 字典内置函数\n",
        "    * index\n",
        "    * store\n",
        "    * length\n",
        "    * delete\n",
        "* 线性级（linear）\n",
        "  * 简单的循环：一个循环，或多个循环串联，循环次数与输入参数线性相关\n",
        "  * 递归函数：调用次数与输入参数线性相关\n",
        "  * 列表内置函数(n=len(L)：\n",
        "    * ==：必须查看列表中的每个元素并进行比较以确保它们相同与否\n",
        "    * remove：列表中的元素是有序存储的，必须遍历找到元素并删除\n",
        "    * copy\n",
        "    * reverse\n",
        "    * iteration\n",
        "    * in list: 必须查看列表中的每个元素以确定元素在列表中\n",
        "  * 字典内置函数(n=len(L)):\n",
        "    * .keys\n",
        "    * .values\n",
        "    * iteration\n",
        "* 对数级(logarithmic)\n",
        "  * 二分查找优化版\n",
        "* 线性对数级(log-linear)\n",
        "  * 二分查找\n",
        "  * 归并排序\n",
        "* 多项式级(polynomial)：处理有嵌套循环的函数\n",
        "* 指数级(exponential)：递归"
      ],
      "metadata": {
        "id": "Jm1QrDDOP--F"
      }
    },
    {
      "cell_type": "code",
      "source": [
        "# 直观理解；如何找到一个函数的增长函数f(n)\n",
        "# f = 1 + len(L1) * 5 + 1 + len(L2) * 5 + 2 =5 * len(L1) + 5 * len(L2) + 3\n",
        "# 若列表长度相同，则f = 10 * len(L) + 3\n",
        "# Θ(f) = Θ(10 * len(L) + 3) = Θ(len(L))\n",
        "def f(L, L1, L2):\n",
        "    inL1 = False\n",
        "    count = 1 # 1.为inL1赋值\n",
        "    for i in range(len(L1)):\n",
        "        if L[i] == L1[i]:\n",
        "            inL1 = True\n",
        "        count += 5 # 1.为i赋值;2.在L中索引i;3.在L1中索引i;4.比较相等;5.为inL1赋值\n",
        "    inL2 = False\n",
        "    count += 1 # 同上\n",
        "    for i in range(len(L2)):\n",
        "        if L[i] == L2[i]:\n",
        "            inL2 = True\n",
        "            count += 5 # 同上\n",
        "    return inL1 and inL2\n",
        "    count += 2 # 1.布尔运算and;2.返回值"
      ],
      "metadata": {
        "id": "X-CGS96kRCX_"
      },
      "execution_count": null,
      "outputs": []
    },
    {
      "cell_type": "markdown",
      "source": [
        "### 常数复杂度(Constant Complexity)\n",
        "\n",
        "---\n",
        "\n",
        "\n"
      ],
      "metadata": {
        "id": "AvVC8s3TWMGV"
      }
    },
    {
      "cell_type": "code",
      "source": [
        "# 加法\n",
        "def add(x, y):\n",
        "    return x + y"
      ],
      "metadata": {
        "id": "yTkO8ikoXSUG"
      },
      "execution_count": null,
      "outputs": []
    },
    {
      "cell_type": "code",
      "source": [
        "# 单位转换\n",
        "def convert_to_km(m):\n",
        "    return m * 1.609"
      ],
      "metadata": {
        "id": "NSDWiCMVyYwf"
      },
      "execution_count": null,
      "outputs": []
    },
    {
      "cell_type": "code",
      "source": [
        "# 乘一个常数\n",
        "def loop(x):\n",
        "    y = 100\n",
        "    total = 0\n",
        "    for i in range(y):\n",
        "        total += x\n",
        "    return total"
      ],
      "metadata": {
        "id": "UBzgpj8wyZ-L"
      },
      "execution_count": null,
      "outputs": []
    },
    {
      "cell_type": "markdown",
      "source": [
        "### 线性复杂度（Linear Complexity）\n",
        "\n",
        "---\n",
        "\n",
        "\n"
      ],
      "metadata": {
        "id": "XzaTvz6yYpJW"
      }
    },
    {
      "cell_type": "code",
      "source": [
        "# 乘积\n",
        "# 关于y的复杂度 = Θ(y)\n",
        "# 关于x的复杂度 = Θ(1)\n",
        "def mul(x, y):\n",
        "    tot = 0\n",
        "    for i in range(y):\n",
        "        tot += x\n",
        "    return tot"
      ],
      "metadata": {
        "id": "jwISBylM_V3x"
      },
      "execution_count": null,
      "outputs": []
    },
    {
      "cell_type": "code",
      "source": [
        "# 字符串各位之和\n",
        "# 关于s的复杂度 = Θ(len(s))\n",
        "def add_digits(s):\n",
        "    val = 0\n",
        "    for c in s:\n",
        "        val += int(c)\n",
        "    return val"
      ],
      "metadata": {
        "id": "CuZeSuDryuEl"
      },
      "execution_count": null,
      "outputs": []
    },
    {
      "cell_type": "code",
      "source": [
        "# 阶乘-迭代\n",
        "# 关于n的复杂度 = Θ(n)\n",
        "def fac_iter(n):\n",
        "    prod = 1\n",
        "    for i in range(2, n+1):\n",
        "        prod *= i\n",
        "    return prod"
      ],
      "metadata": {
        "id": "XfW46uW9yvMy"
      },
      "execution_count": null,
      "outputs": []
    },
    {
      "cell_type": "code",
      "source": [
        "# 阶乘-递归: 考虑递归函数被调用多少次\n",
        "# 关于n的复杂度 = Θ(n)\n",
        "def fac_recur(n):\n",
        "    \"\"\" assume n >= 0 \"\"\"\n",
        "    if n <= 1:\n",
        "        return 1\n",
        "    else:\n",
        "        return n * fact_recur(n - 1)"
      ],
      "metadata": {
        "id": "xtCCj7mDyv0t"
      },
      "execution_count": null,
      "outputs": []
    },
    {
      "cell_type": "code",
      "source": [
        "# 复利计算\n",
        "# 关于invest的复杂度 = Θ(1)\n",
        "# 关于interest的复杂度 = Θ(1)\n",
        "# 关于n_months的复杂度 = Θ(n)(当n_months = n):\n",
        "# * Θ(1) + 4 * Θ(n) + Θ(1) = Θ(1 + 4 * n + 1) = Θ(n)\n",
        "def compound(invest, interest, n_months):\n",
        "    total = 0\n",
        "    count = 1\n",
        "    for i in range(n_months):\n",
        "        total = total * interest + invest\n",
        "        count += 4\n",
        "    return total\n",
        "    count += 1"
      ],
      "metadata": {
        "id": "nHCEoz-cywdX"
      },
      "execution_count": null,
      "outputs": []
    },
    {
      "cell_type": "code",
      "source": [
        "# 斐波那契数列（Fibonacci）-迭代\n",
        "# Θ(1)+Θ(1)+Θ(n)*Θ(1)+Θ(1) = Θ(n)\n",
        "def fib_iter(n):\n",
        "    if n == 0:\n",
        "        return 0\n",
        "    elif n == 1:\n",
        "        return 1\n",
        "    else:\n",
        "        fib_i = 0\n",
        "        fib_ii = 1\n",
        "        for i in range(n - 1):\n",
        "            tmp = fib_i\n",
        "            fib_i = fib_ii\n",
        "            fib_ii = tmp + fib_ii\n",
        "        return fib_ii"
      ],
      "metadata": {
        "id": "46BcFLrf1GN2"
      },
      "execution_count": null,
      "outputs": []
    },
    {
      "cell_type": "code",
      "source": [
        "# 检查元素是否在列表中\n",
        "# Θ(len(nums))\n",
        "def all_digits(nums):\n",
        "    \"\"\"nums是一个元素为数字的列表\"\"\"\n",
        "    digits = [0, 1, 2, 3, 4, 5, 6, 7, 8, 9]\n",
        "    for i in nums:\n",
        "        isin = False\n",
        "        for j in digits:\n",
        "            if i == j:\n",
        "                isin = True\n",
        "                break\n",
        "        if not isin:\n",
        "            return False\n",
        "    return True"
      ],
      "metadata": {
        "id": "-0eR1BZM62Ig"
      },
      "execution_count": null,
      "outputs": []
    },
    {
      "cell_type": "markdown",
      "source": [
        "### 多项式复杂度(Polynomial complexity)\n",
        "\n",
        "\n",
        "---\n",
        "\n",
        "\n"
      ],
      "metadata": {
        "id": "pbJOuoZXQTWk"
      }
    },
    {
      "cell_type": "code",
      "source": [
        "# 计算平方数\n",
        "# Θ(n) * Θ(n) = Θ(n^2)\n",
        "def g(n):\n",
        "    \"\"\" 假设n >= 0 \"\"\"\n",
        "    x = 0\n",
        "    for i in range(n):\n",
        "        for j in range(n):\n",
        "            x += 1\n",
        "    return x"
      ],
      "metadata": {
        "id": "wtSnNQUHQhKt"
      },
      "execution_count": null,
      "outputs": []
    },
    {
      "cell_type": "code",
      "source": [
        "# 子集检查\n",
        "# Θ(len(L1)*len(L2))\n",
        "def is_subset(L1, L2):\n",
        "    for e1 in L1:\n",
        "        matched = False\n",
        "        for e2 in L2:\n",
        "            if e1 == e2:\n",
        "                matched = True\n",
        "                break\n",
        "        if not matched:\n",
        "           return False\n",
        "    return True"
      ],
      "metadata": {
        "id": "O5hlYzby1bNb"
      },
      "execution_count": null,
      "outputs": []
    },
    {
      "cell_type": "code",
      "source": [
        "# 求交集\n",
        "# Θ(len(L1) * len(L2)) + Θ(len(L1) * len(L2)) = Θ（len(L1) * len(L2))\n",
        "def intersect(L1, L2):\n",
        "    tmp = []\n",
        "    for e1 in L1:\n",
        "        for e2 in L2:\n",
        "            if e1 == e2:\n",
        "                tmp.append(e1)\n",
        "    unique = []\n",
        "    for e in tmp: # 最坏的情况下,tmp的长度是L1的长度*L2的长度\n",
        "        if not (e in unique): # ?为什么这里不用算步骤？\n",
        "            unique.append(e)\n",
        "    return unique"
      ],
      "metadata": {
        "id": "RT2uY0iz61j1"
      },
      "execution_count": null,
      "outputs": []
    },
    {
      "cell_type": "code",
      "source": [
        "# 找点之间的最大距离\n",
        "# Θ(len(L))*Θ(len(L)-1)+Θ(len(L))*Θ(len(L)-2)+...+Θ(len(L))*Θ(1)=Θ(len(L)*(len(L))/2) = Θ(len(L)^2)\n",
        "def diameter(L):\n",
        "    import math\n",
        "    farthest_dist = 0\n",
        "    for i in range(len(L)):\n",
        "        for j in range(i+1, len(L)): # 循环次数：len(L)-1;len(L)-2;len(L)-3;...;1;0\n",
        "            p1 = L[i]\n",
        "            p2 = L[j]\n",
        "            dist = math.sqrt((p1[0] - p2[0]) ** 2 + (p1[1] - p2[1]) ** 2)\n",
        "            if dist > farthest_dist:\n",
        "                farthest_dist = dist\n",
        "    return farthest_dist"
      ],
      "metadata": {
        "id": "eQS4xe_g6158"
      },
      "execution_count": null,
      "outputs": []
    },
    {
      "cell_type": "code",
      "source": [
        "# 检查子集\n",
        "# Θ(len(L1)) * Θ(len(L2)) * 2 * Θ(len(L3)) = Θ(len(L1)*len(L2)*len(L3))\n",
        "def f(L1,L2,L3):\n",
        "    for e1 in L1:\n",
        "        for e2 in L2:\n",
        "            if e1 in L3 and e2 in L3:\n",
        "                return True\n",
        "    return False"
      ],
      "metadata": {
        "id": "SN86NCAW71Ys"
      },
      "execution_count": null,
      "outputs": []
    },
    {
      "cell_type": "markdown",
      "source": [
        "### 指数复杂度（Exponential Complexity)\n",
        "\n",
        "\n",
        "---\n",
        "\n",
        "\n"
      ],
      "metadata": {
        "id": "vn2tA0cA8ye9"
      }
    },
    {
      "cell_type": "code",
      "source": [
        "# 斐波那契数列-递归\n",
        "# ？没太懂\n",
        "# Θ(2^n)\n",
        "def fib_recur(n):\n",
        "    \"\"\"假设n是一个大于等于0的整数\"\"\"\n",
        "    if n == 0:\n",
        "        return 0\n",
        "    elif n == 1:\n",
        "        return 1\n",
        "    else:\n",
        "        return fib_recur(n-1) + fib_recur(n-2)"
      ],
      "metadata": {
        "id": "66VZaMaR9EBD"
      },
      "execution_count": null,
      "outputs": []
    },
    {
      "cell_type": "code",
      "source": [
        "# 生成列表所有可能子集\n",
        "# ？没懂\n",
        "# Θ(2^n)*Θ(n)=Θ(n*2^n)(当len(L) = n时)\n",
        "# * 调用函数n-1次，每个次级函数的子集数量是2^k,2^(n-1)+2^(n-2)+...+2^0 = Θ(2^n)\n",
        "# * 复制smaller的时间复杂度 = Θ(n)\n",
        "def gen_subsets(L):\n",
        "    if len(L) == 0:\n",
        "        return [[]]\n",
        "    extra = L[-1:]\n",
        "    smaller = gen_subsets(L[:-1])\n",
        "    new = []\n",
        "    for small in smaller:\n",
        "        new.append(small + extra)\n",
        "    return smaller + new"
      ],
      "metadata": {
        "id": "2vjz1_SJ97Xx"
      },
      "execution_count": null,
      "outputs": []
    },
    {
      "cell_type": "markdown",
      "source": [
        "### 对数复杂度(Logarithmic Complexity)\n",
        "\n",
        "---\n",
        "\n",
        "\n"
      ],
      "metadata": {
        "id": "ry9SGdWOR_ga"
      }
    },
    {
      "cell_type": "code",
      "source": [
        "# 将一个数各位相加\n",
        "# Θ(len(s)) = Θ(logn): n的位数 = logn\n",
        "def digit_add(n):\n",
        "    \"\"\" 假设n是一个大于等于0的整数 \"\"\"\n",
        "    answer = 0\n",
        "    s = str(n)\n",
        "    for c in s[::-1]: # 反向遍历列表\n",
        "        answer += int(c)\n",
        "    return answer"
      ],
      "metadata": {
        "id": "l899JXp5SJEk"
      },
      "execution_count": null,
      "outputs": []
    },
    {
      "cell_type": "markdown",
      "source": [
        "# 算法（Algorithms）"
      ],
      "metadata": {
        "id": "pVB7VNcvULUN"
      }
    },
    {
      "cell_type": "markdown",
      "source": [
        "## 搜索&排序算法\n",
        "\n",
        "---\n",
        "\n",
        "\n",
        "* 搜索算法\n",
        "  * 线性搜索：无序\n",
        "  * 二分查找：有序\n",
        "  * 线性搜索 vs 二分查找\n",
        "    * Sort<Θ(n)-Θ(logn)：永远不成立，因为Sort >= Θ(n)，必须至少查看列表一次才能知道列表有没有排序\n",
        "    * Sort< k * Θ(n)- k *Θ(logn): 当需要进行多次查找时，选择先排序再二分查找\n",
        "* 排序算法\n",
        "  * Bogosort｜随机排序｜猴子排序：源于无限猴子理论——如果无数只猴子在打字机上随机敲键，最终可能打出莎士比亚全集。Bogosort的随机性与此类似\n",
        "  * 冒泡排序（Bubble Sort）：通过反复比较相邻元素并交换位置，使较大（或较小）的元素逐步冒泡到数组末端\n",
        "  * 选择排序（Selection Sort）：在每次遍历中，决定这些元素中的哪个应该放在某个索引位置\n",
        "  * 归并排序（Merge sort）：通过递归地将数组分解成最小单元，然后有序地合并这些小单元，最终实现整个数组的排序\n"
      ],
      "metadata": {
        "id": "K6Pl1rMUXUpZ"
      }
    },
    {
      "cell_type": "markdown",
      "source": [
        "### 搜索算法\n",
        "\n",
        "---\n",
        "\n",
        "\n"
      ],
      "metadata": {
        "id": "q3cV4ER2uLA5"
      }
    },
    {
      "cell_type": "code",
      "source": [
        "# 搜索算法：线性搜索\n",
        "# Θ(len(L))\n",
        "def linear_search(L, e):\n",
        "    found = False\n",
        "    for i in range(len(L)):\n",
        "        if e == L[i]:\n",
        "            found = True\n",
        "    return found"
      ],
      "metadata": {
        "id": "46xw9d9dUQXO"
      },
      "execution_count": null,
      "outputs": []
    },
    {
      "cell_type": "code",
      "source": [
        "# 搜索算法：在有序列表中线性搜索\n",
        "# Θ(len(L))\n",
        "def search(L, e):\n",
        "    for i in L:\n",
        "        if i == e:\n",
        "            return True\n",
        "        if i > e:\n",
        "            return False\n",
        "    return False"
      ],
      "metadata": {
        "id": "EjTLmUeOXZQi"
      },
      "execution_count": null,
      "outputs": []
    },
    {
      "cell_type": "code",
      "source": [
        "# 搜索算法：二分查找1\n",
        "# Θ(n * logn)\n",
        "# * 调用函数次数i和列表长度n的关系：1 = n/2^i, i = logn,调用函数的时间复杂度为Θ(logn)\n",
        "# * 复制列表的时间复杂度为Θ(n)\n",
        "def bisect_search(L, e):\n",
        "    if L == []:\n",
        "        return False\n",
        "    elif len(L) == 1:\n",
        "        return L[0] == e\n",
        "    else:\n",
        "        half = len(L) // 2\n",
        "        if L[half] > e:\n",
        "            return bisect_search(L[:half], e) # 复制列表的时间复杂度为Θ(n)\n",
        "        else:\n",
        "            return bisect_search(L[half:], e)"
      ],
      "metadata": {
        "id": "FmrlnNXgYYu1"
      },
      "execution_count": null,
      "outputs": []
    },
    {
      "cell_type": "code",
      "source": [
        "# 搜索算法：二分查找2\n",
        "# Θ(logn)\n",
        "def bisect_search2(L, e):\n",
        "    def bisect_search_helper(L, e, low, high):\n",
        "        if high == low:\n",
        "            return L[low] == e\n",
        "        mid = (low + high) // 2\n",
        "        if L[mid] == e:\n",
        "            return True\n",
        "        elif L[mid] > e:\n",
        "            if low == mid:\n",
        "                return False\n",
        "            else:\n",
        "                return bisect_search_helper(L, e, low, mid-1)\n",
        "        else:\n",
        "            return bisect_search_helper(L, e, mid-1, high)\n",
        "    if len(L) == 0:\n",
        "        return False\n",
        "    else:\n",
        "        return bisect_search_helper(L, e , 0, len(L)-1)"
      ],
      "metadata": {
        "id": "Vkkd73cvaYWv"
      },
      "execution_count": null,
      "outputs": []
    },
    {
      "cell_type": "markdown",
      "source": [
        "### 排序算法\n",
        "\n",
        "\n",
        "---\n"
      ],
      "metadata": {
        "id": "9OtTNvPDuUpC"
      }
    },
    {
      "cell_type": "code",
      "source": [
        "# 测试列表1\n",
        "L = []\n",
        "for i in range(0, 9):\n",
        "    L.append(random.randint(0, 100))"
      ],
      "metadata": {
        "id": "lwwup22FlrHf"
      },
      "execution_count": null,
      "outputs": []
    },
    {
      "cell_type": "code",
      "source": [
        "# 测试列表2\n",
        "L = [8, 4, 1, 6, 5, 11, 2, 0]"
      ],
      "metadata": {
        "id": "d0Iadbw4lP93"
      },
      "execution_count": null,
      "outputs": []
    },
    {
      "cell_type": "code",
      "source": [
        "# 排序算法：Bogosort｜随机排序｜猴子排序(monkey sort)\n",
        "import random\n",
        "import time\n",
        "\n",
        "def is_sorted(L):\n",
        "    i = 0\n",
        "    j = len(L)\n",
        "    while i + 1 < j:\n",
        "        if L[i] > L[i + 1]:\n",
        "            return False\n",
        "        i += 1\n",
        "    return True\n",
        "\n",
        "def bogo_sort(L):\n",
        "    count = 0\n",
        "    while not is_sorted(L):\n",
        "        random.shuffle(L)\n",
        "        count += 1\n",
        "    return count"
      ],
      "metadata": {
        "id": "14GWq_O8hlwr"
      },
      "execution_count": null,
      "outputs": []
    },
    {
      "cell_type": "code",
      "source": [
        "# 测试Bogosort算法\n",
        "print(\"L:       \",L)\n",
        "t0 = time.time()\n",
        "count = bogo_sort(L)\n",
        "print(\"Sorted L:\",L)\n",
        "print(\"随机排序\",count,\"次用了\", time.time() - t0,\"秒\")"
      ],
      "metadata": {
        "collapsed": true,
        "id": "SiCGFsrUmBjB"
      },
      "execution_count": null,
      "outputs": []
    },
    {
      "cell_type": "code",
      "source": [
        "# 排序算法：冒泡排序（Bubble sort）\n",
        "# Θ(len(L)^2)\n",
        "def bubble_sort(L, detail = False):\n",
        "    did_swap = True\n",
        "    while did_swap: # Θ(len(L))\n",
        "        did_swap = False\n",
        "        for j in range(1,len(L)): # Θ(len(L))\n",
        "            if L[j-1] > L[j]:\n",
        "                did_swap = True\n",
        "                L[j], L[j-1] = L[j-1], L[j]\n",
        "            if detail == True:\n",
        "                print(L)\n",
        "        print()"
      ],
      "metadata": {
        "id": "UWptFLoFuciN"
      },
      "execution_count": null,
      "outputs": []
    },
    {
      "cell_type": "code",
      "source": [
        "# 测试冒泡排序\n",
        "print(\"L:      \", L)\n",
        "bubble_sort(L, True)\n",
        "print(\"Sorted L\", L)"
      ],
      "metadata": {
        "collapsed": true,
        "id": "AHtoT5xWxDxD"
      },
      "execution_count": null,
      "outputs": []
    },
    {
      "cell_type": "code",
      "source": [
        "# 排序算法：选择排序（Selection sort）\n",
        "# Θ(len(L)^2)\n",
        "def selection_sort(L, detail = False):\n",
        "    for i in range(len(L)): # Θ(len(L))\n",
        "        for j in range(i,len(L)): # Θ(len(L)-i)\n",
        "            if L[j] < L[i]:\n",
        "               L[i],L[j] = L[j],L[i]\n",
        "            if detail == True:\n",
        "                print(L)\n",
        "        print()"
      ],
      "metadata": {
        "id": "4_uLukFs1tiF"
      },
      "execution_count": null,
      "outputs": []
    },
    {
      "cell_type": "code",
      "source": [
        "# 测试选择排序\n",
        "print(\"L:        \",L)\n",
        "selection_sort(L, True)\n",
        "print(\"Sorted L:\", L)"
      ],
      "metadata": {
        "collapsed": true,
        "id": "qt3wHdCw4YlT"
      },
      "execution_count": null,
      "outputs": []
    },
    {
      "cell_type": "code",
      "source": [
        "# 排序算法：选择排序优化版——遍历时比较，遍历完再交换\n",
        "def selection_sort_var(L, detail = False):\n",
        "    for i in range(len(L)):\n",
        "        smallest = L[i]\n",
        "        smallestj = i\n",
        "        for j in range(i, len(L)):\n",
        "            if L[j] < L[smallestj]:\n",
        "                smallest = L[j]\n",
        "                smallestj = j\n",
        "            if detail == True:\n",
        "                print(L)\n",
        "        L[i],L[smallestj] = L[smallestj], L[i]\n",
        "        print()"
      ],
      "metadata": {
        "id": "GYyM3mUp4unz"
      },
      "execution_count": null,
      "outputs": []
    },
    {
      "cell_type": "code",
      "source": [
        "# 测试选择排序优化版\n",
        "print(\"L:       \", L)\n",
        "selection_sort_var(L, True)\n",
        "print(\"Sorted L:\", L)"
      ],
      "metadata": {
        "collapsed": true,
        "id": "u1jzogI05kHc"
      },
      "execution_count": null,
      "outputs": []
    },
    {
      "cell_type": "code",
      "source": [
        "# 排序算法：归并排序（Merge Sort）\n",
        "# Θ(n * logn)\n",
        "# *调用函数次数i和列表长度n的关系：1=n/2^i, i =logn\n",
        "# *归并的复杂度 = Θ(len(left)+len(right)) =Θ(n)\n",
        "def merge(left, right):\n",
        "    result = []\n",
        "    i, j = 0, 0\n",
        "    while i < len(left) and j < len(right):\n",
        "        if left[i] < right[j]:\n",
        "            result.append(left[i])\n",
        "            i += 1\n",
        "        else:\n",
        "            result.append(right[j])\n",
        "            j += 1\n",
        "    while (i < len(left)):\n",
        "        result.append(left[i])\n",
        "        i += 1\n",
        "    while (j < len(right)):\n",
        "        result.append(right[j])\n",
        "        j += 1\n",
        "    return result\n",
        "\n",
        "def merge_sort(L):\n",
        "    if len(L) < 2:\n",
        "       return L[:]\n",
        "    else:\n",
        "       middle = len(L) // 2\n",
        "       left = merge_sort(L[:middle])\n",
        "       right = merge_sort(L[middle:])\n",
        "       return merge(left, right)"
      ],
      "metadata": {
        "id": "-I9EgmLt8NNc"
      },
      "execution_count": null,
      "outputs": []
    },
    {
      "cell_type": "markdown",
      "source": [
        "## 猜测与检查算法（Guess and Check）\n",
        "\n",
        "---\n",
        "\n",
        "\n",
        "* 原理：通过生成候选解并验证其可行性来解决问题的通用范式，不依赖复杂数学推导，而是通过系统化试错来寻找答案"
      ],
      "metadata": {
        "id": "7xEkgLtgUTNm"
      }
    },
    {
      "cell_type": "code",
      "source": [
        "# 求平方根 - while 循环\n",
        "guess1 = 0\n",
        "neg_flag1 = False\n",
        "square = int(input(\"请输入一个整数:\"))\n",
        "if square < 0:\n",
        "\tneg_flag1 = True\n",
        "while guess1 ** 2 < square:\n",
        "\tguess1 += 1\n",
        "if guess1 ** 2 == square:\n",
        "\tprint(f\"{square} 的平方根是 {guess1}\")\n",
        "else:\n",
        "\tprint(f\"{square} 不是一个完美平方数\")\n",
        "\tif neg_flag1:\n",
        "\t\tprint(f\"你想说的是不是 { - square} ?\")"
      ],
      "metadata": {
        "id": "wO8OCQ6MTFA2"
      },
      "execution_count": null,
      "outputs": []
    },
    {
      "cell_type": "code",
      "source": [
        "# 找出秘密数字 - for 循环\n",
        "secret_number = int(input(\"请输入一个秘密数字:\"))\n",
        "found_flag = False\n",
        "for i in range(1, 11):\n",
        "\tif i == secret_number:\n",
        "\t\tprint(f\"秘密数字是 {i} \")\n",
        "\t\tfound_flag = True\n",
        "if not found_flag:\n",
        "\tprint(f\"没找到秘密数字!\")"
      ],
      "metadata": {
        "id": "9bKNeUlOTIGH"
      },
      "execution_count": null,
      "outputs": []
    },
    {
      "cell_type": "code",
      "source": [
        "# 求立方根(cube roots) - for 循环\n",
        "cube = int(input(\"请输入一个整数:\"))\n",
        "iscube_flag = False\n",
        "for guess2 in range(abs(cube + 1)):\n",
        "\tif guess2 ** 3 >= abs(cube):\n",
        "\t\tbreak\n",
        "if guess2 ** 3 == abs(cube): # 为什么这个if是在循环外面的?\n",
        "\t\tif cube < 0:\n",
        "\t\t\tguess2 = -guess2\n",
        "\t\tprint(f\"{cube} 的立方根是 {guess2} \")\n",
        "\t\tiscube_flag = True\n",
        "if not iscube_flag:\n",
        "\tprint(f\"{cube} 不是一个立方数\")"
      ],
      "metadata": {
        "id": "zsRGuZNhTLjw"
      },
      "execution_count": null,
      "outputs": []
    },
    {
      "cell_type": "code",
      "source": [
        "# 工程问题:Alyssa、Ben、Cindy一共卖出了10张票,其中B比A少卖出2张,C卖出的是A的2倍,三人各卖出了几张?\n",
        "for alyssa in range(11):\n",
        "\tfor ben in range(10 - alyssa + 1):\n",
        "\t\tfor cindy in range(10 - alyssa - ben +1):\n",
        "\t\t\ttotal = (alyssa + ben + cindy == 10)\n",
        "\t\t\ttwo_less = (ben == alyssa - 2)\n",
        "\t\t\ttwice = (cindy == 2 * alyssa)\n",
        "\t\t\tif total and two_less and twice:\n",
        "\t\t\t\tprint(f\"Alyssa卖出了 {alyssa} 张票\")\n",
        "\t\t\t\tprint(f\"Ben卖出了 {ben} 张票\")\n",
        "\t\t\t\tprint(f\"Cindy卖出了 {cindy} 张票\")"
      ],
      "metadata": {
        "id": "tCbstCBWTObO"
      },
      "execution_count": null,
      "outputs": []
    },
    {
      "cell_type": "code",
      "source": [
        "# 工程问题:Alyssa、Ben、Cindy一共卖出了1000张票,其中B比A少卖出20张,C卖出的是A的2倍,三人各卖出了几张?\n",
        "for alyssa2 in range(20, 1001):\n",
        "\tben2 = alyssa2 - 20\n",
        "\tcindy2 = alyssa2 * 2\n",
        "\tif alyssa2 + ben2 + cindy2 == 1000:\n",
        "\t\tprint(f\"Alyssa卖出了 {alyssa2} 张票\")\n",
        "\t\tprint(f\"Ben卖出了 {ben2} 张票\")\n",
        "\t\tprint(f\"Cindy卖出了 {cindy2} 张票\")"
      ],
      "metadata": {
        "id": "3Y00l_NdTPpf"
      },
      "execution_count": null,
      "outputs": []
    },
    {
      "cell_type": "markdown",
      "source": [
        "## 近似算法（Approximation Algorithms）\n",
        "\n",
        "---\n",
        "\n",
        "\n",
        "* 原理：在多项式时间内找到接近最优解的可行解\n",
        "* 近似精度（epsilon）：近似解与最优解的误差范围\n",
        "* 极小增量（increment）：解的更新增量\n",
        "* 潜在问题：在某个增量下达不到某个近似精度"
      ],
      "metadata": {
        "id": "XHSR2yLxUYkE"
      }
    },
    {
      "cell_type": "code",
      "source": [
        "# 求平方根\n",
        "x = 54321\n",
        "epsilon = 0.01\n",
        "num_guesses = 0\n",
        "guess = 0.0\n",
        "increment = 0.0001\n",
        "while abs(guess ** 2 - x) >= epsilon and guess ** 2 <= x: # and后面是加入的合理性检查\n",
        "\tguess += increment\n",
        "\tnum_guesses += 1\n",
        "print(f\"猜测次数:{num_guesses}\")\n",
        "if abs(guess ** 2 - x) >= epsilon:\n",
        "\tprint(f\"找不到误差值{x}在{epsilon}范围内的平方根\")\n",
        "else:\n",
        "\tprint(f\"{x}的平方根的近似值是{guess}\")"
      ],
      "metadata": {
        "id": "sZC46jISTcgt"
      },
      "execution_count": null,
      "outputs": []
    },
    {
      "cell_type": "code",
      "source": [
        "# 问题:在某个增量(increment)下达不到某个近似精度(epsilon)\n",
        "x2 = 54321\n",
        "epsilon2 = 0.01\n",
        "num_guesses2 = 0\n",
        "guess2 = 0.0\n",
        "increment2 = 0.0001\n",
        "while abs(guess2 ** 2 - x2) >= epsilon2:\n",
        "\tguess2 += increment2\n",
        "\tnum_guesses2 += 1\n",
        "\tif num_guesses2 % 100000 == 0:\n",
        "\t\tprint(f\"目前的猜测解是{guess2}\")\n",
        "\t\tprint(f\"目前的猜测 ** 2 - {x2} = {abs(guess2 ** 2 - x2)}\")\n",
        "\tif num_guesses2 % 1000000 == 0:\n",
        "\t\tinput(\"继续吗?\")\n",
        "print(f\"猜测次数:{num_guesses2}\")\n",
        "print(f\"{x2}平方根的近似值是{guess2}\")"
      ],
      "metadata": {
        "id": "EeO-PF3WTfO3"
      },
      "execution_count": null,
      "outputs": []
    },
    {
      "cell_type": "markdown",
      "source": [
        "## 二分法（Bisection Search）\n",
        "\n",
        "---\n",
        "\n",
        "\n",
        "* 原理：基于分治思想，通过不断将搜索范围对半分割，快速定位目标值。要求数据必须有序\n",
        "* 特点\n",
        "  * 递归（recursion）：每次解决一个小问题，和原问题同样的问题，只不过解在一个更小的空间中(smaller solution space)\n",
        "  * 对数增长（logarithm growth）：每次都消除掉一半的解空间，收敛速度呈对数增长。迭代k=log（N）次后就只需作出一次选择"
      ],
      "metadata": {
        "id": "aOZTLnypUiil"
      }
    },
    {
      "cell_type": "code",
      "source": [
        "# 求平方根\n",
        "x = 0.5\n",
        "epsilon = 0.01\n",
        "num_guesses = 0\n",
        "if x >= 1:\n",
        "\tlow = 1.0\n",
        "\thigh = x\n",
        "else:\n",
        "\tlow = x\n",
        "\thigh = 1.0\n",
        "guess = (high + low) / 2.0\n",
        "while abs(guess ** 2 - x) >= epsilon:\n",
        "\tif guess ** 2 < x:\n",
        "\t\tlow = guess\n",
        "\telse:\n",
        "\t\thigh = guess\n",
        "\tguess = (high + low) / 2.0\n",
        "\tnum_guesses += 1\n",
        "\n",
        "print(f\"迭代了{num_guesses}次\")\n",
        "print(f\"{x}平方根在{epsilon}范围内的近似值是{guess}\")"
      ],
      "metadata": {
        "colab": {
          "base_uri": "https://localhost:8080/"
        },
        "id": "JCbmvceZTqAv",
        "outputId": "c199f3c3-ac5f-4cb8-d249-8ed37f2ecd11"
      },
      "execution_count": null,
      "outputs": [
        {
          "output_type": "stream",
          "name": "stdout",
          "text": [
            "迭代了4次\n",
            "0.5平方根在0.01范围内的近似值是0.703125\n"
          ]
        }
      ]
    },
    {
      "cell_type": "code",
      "source": [
        "# 求立方根\n",
        "cube = 0.125\n",
        "epsilon2 = 0.01\n",
        "num_guesses2 = 0\n",
        "if cube >= 1:\n",
        "\tlow2 = 0\n",
        "\thigh2 = cube\n",
        "else:\n",
        "\tlow2 = 0\n",
        "\thigh2 = 1.0\n",
        "guess2 = (high2 + low2) / 2.0\n",
        "while abs(guess2 ** 3 - cube) >= epsilon2:\n",
        "\tif guess2 ** 3 < cube:\n",
        "\t\tlow2 = guess2\n",
        "\telse:\n",
        "\t\thigh2 = guess2\n",
        "\tguess2 = (high2 + low2) / 2.0\n",
        "\tnum_guesses2 += 1\n",
        "\n",
        "print(f\"迭代了{num_guesses2}\")\n",
        "print(f\"{cube}的立方根是{guess2}\")"
      ],
      "metadata": {
        "colab": {
          "base_uri": "https://localhost:8080/"
        },
        "id": "pOb_SsDITuAW",
        "outputId": "e5382628-b3ab-47e4-8111-708dda16c37d"
      },
      "execution_count": null,
      "outputs": [
        {
          "output_type": "stream",
          "name": "stdout",
          "text": [
            "迭代了0\n",
            "0.125的立方根是0.5\n"
          ]
        }
      ]
    },
    {
      "cell_type": "markdown",
      "source": [
        "## 牛顿-拉夫森法（Newton Raphson Method）\n",
        "\n",
        "---\n",
        "\n",
        "\n",
        "* 原理：基于二阶泰勒展开，用于求解多项式方程的根（f(x) = 0）或优化问题（min f(x)。核心思想是用二次函数局部逼近原函数，并利用该二次函数的根（或极值点）更新解"
      ],
      "metadata": {
        "id": "TfAh1jCJUyck"
      }
    },
    {
      "cell_type": "code",
      "source": [
        "# 求平方根\n",
        "epsilon = 0.01\n",
        "k = 24.0\n",
        "guess = k / 2.0\n",
        "num_guesses = 0\n",
        "\n",
        "while abs(guess ** 2 - k) >= epsilon:\n",
        "\tnum_guesses += 1\n",
        "\tguess = guess - ((guess ** 2 - k )/(2 * guess))\n",
        "\n",
        "print(f\"迭代了{num_guesses}次\")\n",
        "print(f\"{k}的立方根在{epsilon}范围内的近似值是{guess}\")"
      ],
      "metadata": {
        "colab": {
          "base_uri": "https://localhost:8080/"
        },
        "id": "xP1sDtKwT3bF",
        "outputId": "f7fb121f-b48d-4784-b48e-71b1bb10b993"
      },
      "execution_count": null,
      "outputs": [
        {
          "output_type": "stream",
          "name": "stdout",
          "text": [
            "迭代了4次\n",
            "24.0的立方根在0.01范围内的近似值是4.8989887432139305\n"
          ]
        }
      ]
    },
    {
      "cell_type": "markdown",
      "source": [
        "\n",
        "\n",
        "# 计算模型(Computational models)"
      ],
      "metadata": {
        "id": "5nDlXhoZl418"
      }
    },
    {
      "cell_type": "markdown",
      "source": [
        "## 优化模型（Optimization models）\n",
        "\n",
        "---\n",
        "\n",
        "\n",
        "* 背包问题（Knapsack Problem）：给定一组物品，每个物品有重量和价值，在背包容量限制下，如何选择物品使得总价值最大\n",
        "  * 贪心算法（Greedy Algorithms）：在每一步选择中都采取当下状态下最优（即最有利）的选择，从而希望导致结果是全局最优的算法策略\n",
        "  * 搜索树（Search Tree）：一种抽象数据结构和算法策略，用于系统化地探索问题的所有可能解（或状态），它将问题的求解过程建模成一棵树的结构，并在这棵树中进行搜索，以找到一个或多个满足特定要求（通常是可行且最优）的解"
      ],
      "metadata": {
        "id": "m2DiI_YCmLnV"
      }
    },
    {
      "cell_type": "markdown",
      "source": [
        "### 背包问题\n",
        "\n",
        "---\n",
        "\n",
        "\n"
      ],
      "metadata": {
        "id": "yxuNc1sWc1R2"
      }
    },
    {
      "cell_type": "code",
      "source": [
        "# 物品：创建食物类\n",
        "class Food(object):\n",
        "    def __init__(self, n, v, w):\n",
        "        self.name = n\n",
        "        self.value = v\n",
        "        self.calories = w\n",
        "\n",
        "    def getValue(self):\n",
        "        return self.value\n",
        "\n",
        "    def getCost(self):\n",
        "        return self.calories\n",
        "\n",
        "    def density(self):\n",
        "        return self.getValue()/self.getCost()\n",
        "\n",
        "    def __str__(self):\n",
        "        return self.name + \": <\" + str(self.value)\\\n",
        "               + \",\" + str(self.calories) + \">\""
      ],
      "metadata": {
        "id": "lX22SYe3mVn0"
      },
      "execution_count": null,
      "outputs": []
    },
    {
      "cell_type": "code",
      "source": [
        "# 物品清单：菜单函数\n",
        "def buildMenu(names, values, calories):\n",
        "    \"\"\"\n",
        "    Input:\n",
        "      * name: 字符串列表\n",
        "      * values/calories : 数字列表\n",
        "    Return: 返回食物列表\n",
        "    \"\"\"\n",
        "    menu = []\n",
        "    for i in range(len(values)):\n",
        "        menu.append(Food(names[i], values[i], calories[i]))\n",
        "    return menu"
      ],
      "metadata": {
        "id": "QB5WLHA3o3-I"
      },
      "execution_count": null,
      "outputs": []
    },
    {
      "cell_type": "code",
      "source": [
        "# 函数：贪心算法\n",
        "# 计算复杂度 = Θ(n * logn) + Θ(n) = Θ(n * logn), n = len(items)\n",
        "def greedy(items, maxCost, keyFunction):\n",
        "    \"\"\"\n",
        "    Input:\n",
        "      * items: 列表\n",
        "      * maxCost : 数字, >= 0\n",
        "      * keyFunction: 把items中的元素映射到数字\n",
        "    \"\"\"\n",
        "    itemsCopy = sorted(items, key = keyFunction, reverse = True) # 将物品从价值高到低排序\n",
        "    # 排序复杂度 = Θ(n * logn)\n",
        "    result = []\n",
        "    totalValue, totalCost = 0.0, 0.0\n",
        "\n",
        "    for i in range(len(itemsCopy)):\n",
        "        if (totalCost+itemsCopy[i].getCost()) <= maxCost:\n",
        "            result.append(itemsCopy[i])\n",
        "            totalCost += itemsCopy[i].getCost()\n",
        "            totalValue += itemsCopy[i].getValue()\n",
        "    # 循环复杂度 = Θ(n)\n",
        "\n",
        "    return(result, totalValue)"
      ],
      "metadata": {
        "id": "w7aNm0lksnt_"
      },
      "execution_count": null,
      "outputs": []
    },
    {
      "cell_type": "code",
      "source": [
        "# 函数：打印贪心算法结果\n",
        "def testGreedy(items, constraint, keyFunction):\n",
        "    taken, val = greedy(items, constraint, keyFunction)\n",
        "    print(\"总价值 = \", val)\n",
        "    for item in taken:\n",
        "        print(\" \", item)"
      ],
      "metadata": {
        "id": "TCUYvw1sZqof"
      },
      "execution_count": null,
      "outputs": []
    },
    {
      "cell_type": "code",
      "source": [
        "# 函数：用不同价值判断标准去分配卡路里\n",
        "def testGreedys(foods, maxUnits):\n",
        "    print(\"以价钱为价值去分配\", maxUnits, \"卡路里\")\n",
        "    testGreedy(foods, maxUnits, Food.getValue)\n",
        "    print(\"\\n以成本为价值去分配\", maxUnits, \"卡路里\")\n",
        "    testGreedy(foods, maxUnits, lambda x: 1/Food.getCost(x)) # x的类型是Food\n",
        "    print(\"\\n以密度为价值去分配\", maxUnits, \"卡路里\")\n",
        "    testGreedy(foods, maxUnits, Food.density)"
      ],
      "metadata": {
        "id": "hwn77dEsafUA"
      },
      "execution_count": null,
      "outputs": []
    },
    {
      "cell_type": "code",
      "source": [
        "# 测试贪心算法解背包问题\n",
        "names = [\"wine\", \"beer\", \"pizza\", \"burger\", \"fries\", \"cola\", \"apple\", \"donut\", \"cake\"]\n",
        "values = [89, 90, 95, 100, 90, 79, 50, 10]\n",
        "calories = [123, 154, 258, 354, 365, 150, 95, 195]\n",
        "foods = buildMenu(names, values, calories)\n",
        "\n",
        "testGreedys(foods, 750)"
      ],
      "metadata": {
        "colab": {
          "base_uri": "https://localhost:8080/"
        },
        "id": "j0yPS0nCc80t",
        "outputId": "af93d116-efa8-48ea-ec16-ec5a95b3b19b"
      },
      "execution_count": null,
      "outputs": [
        {
          "output_type": "stream",
          "name": "stdout",
          "text": [
            "以价钱为价值去分配 750 卡路里\n",
            "总价值 =  284.0\n",
            "  burger: <100,354>\n",
            "  pizza: <95,258>\n",
            "  wine: <89,123>\n",
            "\n",
            "以成本为价值去分配 750 卡路里\n",
            "总价值 =  318.0\n",
            "  apple: <50,95>\n",
            "  wine: <89,123>\n",
            "  cola: <79,150>\n",
            "  beer: <90,154>\n",
            "  donut: <10,195>\n",
            "\n",
            "以密度为价值去分配 750 卡路里\n",
            "总价值 =  318.0\n",
            "  wine: <89,123>\n",
            "  beer: <90,154>\n",
            "  cola: <79,150>\n",
            "  apple: <50,95>\n",
            "  donut: <10,195>\n"
          ]
        }
      ]
    },
    {
      "cell_type": "code",
      "source": [
        "# 搜索树\n",
        "def maxVal(toConsider, avail):\n",
        "    \"\"\"\n",
        "    Input:\n",
        "      * toConsider: 物品列表\n",
        "      * avail:重量\n",
        "    Return: 返回一个元组，元素包括0/1背包问题的一个解的总价值和所选物品\n",
        "    \"\"\"\n",
        "    if toConsider == [] or avail == 0:\n",
        "        result = (0, ())\n",
        "    elif toConsider[0].getCost() > avail:\n",
        "        result = maxVal(toConsider[1:], avail)\n",
        "    else:\n",
        "        nextItem = toConsider[0]\n",
        "        withVal, withToTake = maxVal(toConsider[1:],\n",
        "                                     avial - nextItem.getCost)\n"
      ],
      "metadata": {
        "id": "0B94tTUaLZDA"
      },
      "execution_count": null,
      "outputs": []
    },
    {
      "cell_type": "markdown",
      "source": [
        "# 课后练习"
      ],
      "metadata": {
        "id": "AwiIyQ6BnEij"
      }
    },
    {
      "cell_type": "markdown",
      "source": [
        "## Fingle Exercises\n",
        "\n",
        "---\n",
        "\n"
      ],
      "metadata": {
        "id": "z6nSM6SGnOx7"
      }
    },
    {
      "cell_type": "code",
      "source": [
        "# FEL1：给定三个变量abc，定义新的变量total并打印，等于a和b的和乘c\n",
        "a = int(input(\"请输入a的值=\"))\n",
        "b = int(input(\"请输入b的值=\"))\n",
        "c = int(input(\"请输入c的值=\"))\n",
        "total = (a + b) * c\n",
        "print(total)"
      ],
      "metadata": {
        "colab": {
          "base_uri": "https://localhost:8080/"
        },
        "id": "tFr58ifAnZVh",
        "outputId": "c2be75be-551e-4e1a-f2e6-d1ffd9e2d1ce"
      },
      "execution_count": null,
      "outputs": [
        {
          "output_type": "stream",
          "name": "stdout",
          "text": [
            "请输入a的值=10\n",
            "请输入b的值=11\n",
            "请输入c的值=35\n",
            "735\n"
          ]
        }
      ]
    },
    {
      "cell_type": "code",
      "source": [
        "# FEL2：判断正负\n",
        "number = int(input(\"请输入一个数字=\"))\n",
        "if number > 0:\n",
        "  print(\"正数\")\n",
        "elif number < 0:\n",
        "  print(\"负数\")\n",
        "else:\n",
        "  print(\"零\")"
      ],
      "metadata": {
        "colab": {
          "base_uri": "https://localhost:8080/"
        },
        "id": "20Q8shXIof6i",
        "outputId": "ac1434ed-7b6e-402c-914c-0175ad8e8873"
      },
      "execution_count": null,
      "outputs": [
        {
          "output_type": "stream",
          "name": "stdout",
          "text": [
            "请输入一个数字=17\n",
            "正数\n"
          ]
        }
      ]
    },
    {
      "cell_type": "code",
      "source": [
        "# EFL3: 打印HELLO WORLD N次\n",
        "N = int(input(\"请输入一个正整数=\"))\n",
        "for i in range(N):\n",
        "  print(\"hello world\")"
      ],
      "metadata": {
        "colab": {
          "base_uri": "https://localhost:8080/"
        },
        "id": "jJcPFr6Ppcuh",
        "outputId": "e29762fa-cf00-4c11-a6cd-096f779ac0fa"
      },
      "execution_count": null,
      "outputs": [
        {
          "output_type": "stream",
          "name": "stdout",
          "text": [
            "请输入一个正整数=5\n",
            "hello world\n",
            "hello world\n",
            "hello world\n",
            "hello world\n",
            "hello world\n"
          ]
        }
      ]
    },
    {
      "cell_type": "code",
      "source": [
        "# FEL4：求正整数立方数的立方根"
      ],
      "metadata": {
        "id": "TmpAp27xqSV6"
      },
      "execution_count": null,
      "outputs": []
    }
  ]
}
