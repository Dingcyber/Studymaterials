{
  "nbformat": 4,
  "nbformat_minor": 0,
  "metadata": {
    "colab": {
      "provenance": [],
      "toc_visible": true,
      "authorship_tag": "ABX9TyNFv9DSAdxcH5ei3aF/+fiC",
      "include_colab_link": true
    },
    "kernelspec": {
      "name": "python3",
      "display_name": "Python 3"
    },
    "language_info": {
      "name": "python"
    }
  },
  "cells": [
    {
      "cell_type": "markdown",
      "metadata": {
        "id": "view-in-github",
        "colab_type": "text"
      },
      "source": [
        "<a href=\"https://colab.research.google.com/github/Dingcyber/Studymaterials/blob/main/Linear_Algebra_notes.ipynb\" target=\"_parent\"><img src=\"https://colab.research.google.com/assets/colab-badge.svg\" alt=\"Open In Colab\"/></a>"
      ]
    },
    {
      "cell_type": "markdown",
      "source": [
        "# NumPy（Numerical Python）\n",
        "\n"
      ],
      "metadata": {
        "id": "Fxij43KgZ5wR"
      }
    },
    {
      "cell_type": "markdown",
      "source": [
        "## 数组（arrays）\n",
        "\n",
        "---\n",
        "\n",
        "\n",
        "* 数组：多维数组对象｜`ndarry`（n-dimentional-array）\n",
        "  * 一个数组内的对象只能是单一类型：浮点数float｜整数int｜字符串char\n",
        "* 创建数组\n",
        "  * `np.array()`: 输入一个列表，返回一个一维数组\n",
        "  * `np.arange(start,stop,step)`: 返回给定区间内的等距均分的数组｜左闭右开｜start默认为0｜step默认为0\n",
        "  * `np.linspace(start,stop,num,dtype=)`: 返回定区间内的一个等数均分的数组｜左闭右闭｜num默认是5｜默认类型是浮点数float\n",
        "  * `np.ones(num)`: 返回一个包含num个1的数组\n",
        "  * `np.zeros(num)`: 返回一个包含num个0的数组\n",
        "  * `np.empty(num)`: 返回一个包含num个未初始化元素的数组\n",
        "  * `np.random.rand(num)`: 返回一个包含num个随机数的数组\n",
        "  * `np.reshape(一维数组,（a,b）)`: 将一维数组重塑为a行b列数组\n",
        "* 数组属性（attributes）\n",
        "  * `ndarray.ndim`: 返回数组的维度｜维数（dimension），描述数组所具有的维度的数量，也就是数组的秩（rank）\n",
        "  * `ndarray.shape`: 返回数组的形状｜维度大小（shape），描述数组每个维度上的大小，用一个元组表示，如(3,4)表示一个3行4列的数组\n",
        "  * `ndarray.size`: 返回数组的大小｜元素总数，指的是数组中所有元素的总个数\n",
        "* 数组运算\n",
        "  * `+｜-｜*｜/`: 加减乘除，对应项相加减乘除\n",
        "  * `ndarray * c`: 标乘，将标量c广播到（broadcasting）数组中的每一个元素\n",
        "* 数组操作\n",
        "  * `[]`: 索引，从数组中选择特定的元素或整个行或列或平面\n",
        "  * `_[start:end:step]`: 切片,提取多维数组中的行｜左闭右开｜start默认为0｜end默认为倒数第一个｜step默认为1\n",
        "  * `[:,列索引]`：切片，提取多维数组中的单列\n",
        "  * `[:,开始列：结束列]`：切片，提取多维数组中的连续多列\n",
        "  * `[:,[列索引1，列索引2,...]`: 切片，提取多维数组中的不连续多列\n",
        "  * `np.vstack()`: 垂直堆叠（stacking）数组，沿第一个维度，即行方向\n",
        "  * `np.hstack()`: 水平堆叠数组，沿第二个维度，即列方向\n",
        "  * `no.hsplit()`: 将数组分解为小数组"
      ],
      "metadata": {
        "id": "QvUGsU62dds3"
      }
    },
    {
      "cell_type": "code",
      "source": [
        "import numpy as np"
      ],
      "metadata": {
        "id": "Xbaf5G6LaN2b"
      },
      "execution_count": null,
      "outputs": []
    },
    {
      "cell_type": "markdown",
      "source": [
        "### 创建一维数组\n",
        "---\n",
        "\n"
      ],
      "metadata": {
        "id": "QeYiK1MRrDe6"
      }
    },
    {
      "cell_type": "code",
      "source": [
        "# 创建一个包含1，2，3的数组\n",
        "a = np.array([1, 2, 3])\n",
        "print(a)"
      ],
      "metadata": {
        "colab": {
          "base_uri": "https://localhost:8080/"
        },
        "id": "7UaYIJiIc0fi",
        "outputId": "ee25939a-045c-41c7-fc3d-1189f655d5de"
      },
      "execution_count": null,
      "outputs": [
        {
          "output_type": "stream",
          "name": "stdout",
          "text": [
            "[1 2 3]\n"
          ]
        }
      ]
    },
    {
      "cell_type": "code",
      "source": [
        "# 创建字符串数组\n",
        "char_arr = np.array([\"Welcome to Math for ML!\"])\n",
        "print(char_arr)\n",
        "print(char_arr.dtype) #<U23的意思是这个字符串是小端架构上的23个字符unicode字符串"
      ],
      "metadata": {
        "colab": {
          "base_uri": "https://localhost:8080/"
        },
        "id": "QREP-kxspySB",
        "outputId": "039c61a3-7842-4b2b-82e3-981340261699"
      },
      "execution_count": null,
      "outputs": [
        {
          "output_type": "stream",
          "name": "stdout",
          "text": [
            "['Welcome to Math for ML!']\n",
            "<U23\n"
          ]
        }
      ]
    },
    {
      "cell_type": "code",
      "source": [
        "# 创建一个从0开始包含3个整数的数组\n",
        "b = np.arange(3)\n",
        "print(b)"
      ],
      "metadata": {
        "colab": {
          "base_uri": "https://localhost:8080/"
        },
        "id": "DUEKlWv3hiLj",
        "outputId": "8fbcc420-e941-4d81-f876-daf4c3160b15"
      },
      "execution_count": null,
      "outputs": [
        {
          "output_type": "stream",
          "name": "stdout",
          "text": [
            "[0 1 2]\n"
          ]
        }
      ]
    },
    {
      "cell_type": "code",
      "source": [
        "# 创建一个从0开始包含3个整数的数组,指定类型为float\n",
        "b = np.arange(3, dtype = float)\n",
        "print(b)"
      ],
      "metadata": {
        "colab": {
          "base_uri": "https://localhost:8080/"
        },
        "outputId": "b73e5bcf-b3be-4864-a32a-861f49578a59",
        "id": "ZQS01Pz5pnCS"
      },
      "execution_count": null,
      "outputs": [
        {
          "output_type": "stream",
          "name": "stdout",
          "text": [
            "[0. 1. 2.]\n"
          ]
        }
      ]
    },
    {
      "cell_type": "code",
      "source": [
        "# 创建一个从1到20每个数相差3的数组\n",
        "c = np.arange(1, 20, 3)\n",
        "print(c)\n",
        "print(c.dtype)"
      ],
      "metadata": {
        "colab": {
          "base_uri": "https://localhost:8080/"
        },
        "id": "a6wmTFgXi8Yb",
        "outputId": "4b77d05c-4d4c-4f61-aaeb-f8c3c3b10af2"
      },
      "execution_count": null,
      "outputs": [
        {
          "output_type": "stream",
          "name": "stdout",
          "text": [
            "[ 1  4  7 10 13 16 19]\n",
            "int64\n"
          ]
        }
      ]
    },
    {
      "cell_type": "code",
      "source": [
        "# 创建一个从1到20每个数相差3的数组,指定类型为int\n",
        "c = np.arange(1, 20, 3, dtype = int)\n",
        "print(c)\n",
        "print(c.dtype)"
      ],
      "metadata": {
        "colab": {
          "base_uri": "https://localhost:8080/"
        },
        "outputId": "86b7de33-ed6c-4f3c-ca4e-daa8542390ca",
        "id": "jgug0TabpYdf"
      },
      "execution_count": null,
      "outputs": [
        {
          "output_type": "stream",
          "name": "stdout",
          "text": [
            "[ 1  4  7 10 13 16 19]\n",
            "int64\n"
          ]
        }
      ]
    },
    {
      "cell_type": "code",
      "source": [
        "# 创建一个0到100的包含五个数的均分数组\n",
        "lin_spaced_arr = np.linspace(0,100,5)\n",
        "print(lin_spaced_arr)"
      ],
      "metadata": {
        "colab": {
          "base_uri": "https://localhost:8080/"
        },
        "id": "6en5eS-IkaAR",
        "outputId": "1dae1138-157d-4c45-9d0f-8347a9159290"
      },
      "execution_count": null,
      "outputs": [
        {
          "output_type": "stream",
          "name": "stdout",
          "text": [
            "[  0.  25.  50.  75. 100.]\n"
          ]
        }
      ]
    },
    {
      "cell_type": "code",
      "source": [
        "# 创建一个0到100的包含五个数的均分数组,指定类型为整数int\n",
        "lin_spaced_arr_int = np.linspace(0,100,5,dtype=int)\n",
        "print(lin_spaced_arr_int)"
      ],
      "metadata": {
        "colab": {
          "base_uri": "https://localhost:8080/"
        },
        "outputId": "b7c1fc08-0b6f-49f1-9a79-70c15ca61a7a",
        "id": "zEUZ2jzYmMiM"
      },
      "execution_count": null,
      "outputs": [
        {
          "output_type": "stream",
          "name": "stdout",
          "text": [
            "[  0  25  50  75 100]\n"
          ]
        }
      ]
    },
    {
      "cell_type": "code",
      "source": [
        "# 创建一个包含3个1的数组\n",
        "ones_arr = np.ones(3)\n",
        "print(ones_arr)"
      ],
      "metadata": {
        "colab": {
          "base_uri": "https://localhost:8080/"
        },
        "id": "qBnnDBumsBN1",
        "outputId": "f63da3c0-8f32-4308-80d9-b89dbff8f54e"
      },
      "execution_count": null,
      "outputs": [
        {
          "output_type": "stream",
          "name": "stdout",
          "text": [
            "[1. 1. 1.]\n"
          ]
        }
      ]
    },
    {
      "cell_type": "code",
      "source": [
        "# 创建一个包含3个0的数组\n",
        "zeros_arr = np.zeros(3)\n",
        "print(zeros_arr)"
      ],
      "metadata": {
        "colab": {
          "base_uri": "https://localhost:8080/"
        },
        "id": "BsQUiS1CsJeX",
        "outputId": "549369db-c927-48d8-fd73-1fb4f7d52e01"
      },
      "execution_count": null,
      "outputs": [
        {
          "output_type": "stream",
          "name": "stdout",
          "text": [
            "[0. 0. 0.]\n"
          ]
        }
      ]
    },
    {
      "cell_type": "code",
      "source": [
        "# 创建一个包含3个未初始化元素的数组\n",
        "empt_arr = np.empty(3)\n",
        "print(empt_arr)"
      ],
      "metadata": {
        "colab": {
          "base_uri": "https://localhost:8080/"
        },
        "id": "tEoCF2rJty_R",
        "outputId": "0c121f53-4c24-4772-b968-a5a866314f1a"
      },
      "execution_count": null,
      "outputs": [
        {
          "output_type": "stream",
          "name": "stdout",
          "text": [
            "[0. 0. 0.]\n"
          ]
        }
      ]
    },
    {
      "cell_type": "code",
      "source": [
        "# 创建一个包含3个随机数的数组\n",
        "rand_arr = np.random.rand(3)\n",
        "print(rand_arr)"
      ],
      "metadata": {
        "colab": {
          "base_uri": "https://localhost:8080/"
        },
        "id": "dFaRbvI2t-v6",
        "outputId": "289f4055-14f6-4eb9-8db0-3ed4d03631c5"
      },
      "execution_count": null,
      "outputs": [
        {
          "output_type": "stream",
          "name": "stdout",
          "text": [
            "[0.42755184 0.7383775  0.24565752]\n"
          ]
        }
      ]
    },
    {
      "cell_type": "markdown",
      "source": [
        "### 创建二维数组\n",
        "---\n",
        "\n",
        "\n"
      ],
      "metadata": {
        "id": "fHVV5bgRuTzY"
      }
    },
    {
      "cell_type": "code",
      "source": [
        "# 创建一个二维数组\n",
        "two_dim_arr = np.array([[1,2,3], [4,5,6]])\n",
        "print(two_dim_arr)"
      ],
      "metadata": {
        "colab": {
          "base_uri": "https://localhost:8080/"
        },
        "id": "QLZexf0quhkX",
        "outputId": "121a1b04-508f-4d01-872a-66a1289d31fa"
      },
      "execution_count": null,
      "outputs": [
        {
          "output_type": "stream",
          "name": "stdout",
          "text": [
            "[[1 2 3]\n",
            " [4 5 6]]\n"
          ]
        }
      ]
    },
    {
      "cell_type": "code",
      "source": [
        "# 将一维数组重塑为二维数组\n",
        "one_dim_arr = np.array([1,2,3,4,5,6])\n",
        "print(one_dim_arr)\n",
        "multi_dim_arr = np.reshape(one_dim_arr,(2,3)) #将一维数组重塑为一个2x3数组\n",
        "print(multi_dim_arr)"
      ],
      "metadata": {
        "colab": {
          "base_uri": "https://localhost:8080/"
        },
        "id": "5W3sA25PvGvu",
        "outputId": "ac099094-c96d-4db8-eec3-6c91acdb8bbf"
      },
      "execution_count": null,
      "outputs": [
        {
          "output_type": "stream",
          "name": "stdout",
          "text": [
            "[1 2 3 4 5 6]\n",
            "[[1 2 3]\n",
            " [4 5 6]]\n"
          ]
        }
      ]
    },
    {
      "cell_type": "markdown",
      "source": [
        "### 查看数组属性\n",
        "---\n",
        "\n"
      ],
      "metadata": {
        "id": "nReEB31x8HFO"
      }
    },
    {
      "cell_type": "code",
      "source": [
        "multi_dim_arr.ndim"
      ],
      "metadata": {
        "colab": {
          "base_uri": "https://localhost:8080/"
        },
        "id": "myWCb_hv8PIB",
        "outputId": "c20ecf7e-531a-41a5-ba62-379061d9e577"
      },
      "execution_count": null,
      "outputs": [
        {
          "output_type": "execute_result",
          "data": {
            "text/plain": [
              "2"
            ]
          },
          "metadata": {},
          "execution_count": 56
        }
      ]
    },
    {
      "cell_type": "code",
      "source": [
        "multi_dim_arr.shape"
      ],
      "metadata": {
        "colab": {
          "base_uri": "https://localhost:8080/"
        },
        "id": "kifituvV8cXE",
        "outputId": "d27f671e-6f8b-4a8f-8907-782d57928f12"
      },
      "execution_count": null,
      "outputs": [
        {
          "output_type": "execute_result",
          "data": {
            "text/plain": [
              "(2, 3)"
            ]
          },
          "metadata": {},
          "execution_count": 57
        }
      ]
    },
    {
      "cell_type": "code",
      "source": [
        "multi_dim_arr.size"
      ],
      "metadata": {
        "colab": {
          "base_uri": "https://localhost:8080/"
        },
        "id": "tJ6WsKUh8fnJ",
        "outputId": "9f049b98-b198-4700-9005-6cf3f36a537b"
      },
      "execution_count": null,
      "outputs": [
        {
          "output_type": "execute_result",
          "data": {
            "text/plain": [
              "6"
            ]
          },
          "metadata": {},
          "execution_count": 58
        }
      ]
    },
    {
      "cell_type": "markdown",
      "source": [
        "### 数组运算\n",
        "---\n",
        "\n"
      ],
      "metadata": {
        "id": "7IJ_In469cZZ"
      }
    },
    {
      "cell_type": "code",
      "source": [
        "arr_1 = np.array([2,4,6])\n",
        "arr_2 = np.array([1,3,5])\n",
        "\n",
        "# 加法\n",
        "addition = arr_1 + arr_2\n",
        "print(addition)\n",
        "\n",
        "# 减法\n",
        "substraction = arr_1 - arr_2\n",
        "print(substraction)\n",
        "\n",
        "# 乘法\n",
        "multiplication = arr_1 * arr_2\n",
        "print(multiplication)"
      ],
      "metadata": {
        "colab": {
          "base_uri": "https://localhost:8080/"
        },
        "id": "Nc1TTN8i9jSg",
        "outputId": "45502f66-053f-4d85-8bc4-7e641c977f6f"
      },
      "execution_count": null,
      "outputs": [
        {
          "output_type": "stream",
          "name": "stdout",
          "text": [
            "[ 3  7 11]\n",
            "[1 1 1]\n",
            "[ 2 12 30]\n"
          ]
        }
      ]
    },
    {
      "cell_type": "code",
      "source": [
        "# 向量标乘\n",
        "vector = np.array([1,2])\n",
        "vector * 1.6"
      ],
      "metadata": {
        "colab": {
          "base_uri": "https://localhost:8080/"
        },
        "id": "ha1zHtiXDuDq",
        "outputId": "f2d9ea56-0354-4cbd-c7dd-a3dde079475b"
      },
      "execution_count": null,
      "outputs": [
        {
          "output_type": "execute_result",
          "data": {
            "text/plain": [
              "array([1.6, 3.2])"
            ]
          },
          "metadata": {},
          "execution_count": 60
        }
      ]
    },
    {
      "cell_type": "markdown",
      "source": [
        "### 数组操作\n",
        "---\n",
        "\n"
      ],
      "metadata": {
        "id": "f4uukOOdEjq1"
      }
    },
    {
      "cell_type": "code",
      "source": [
        "# 索引一维数组中的元素\n",
        "a_op = ([1,2,3,4,5])\n",
        "print(a_op[2])\n",
        "print(a_op[0])"
      ],
      "metadata": {
        "colab": {
          "base_uri": "https://localhost:8080/"
        },
        "id": "DS7vlhzsEogb",
        "outputId": "8428f238-2720-4bab-bac1-8da4947bec0f"
      },
      "execution_count": null,
      "outputs": [
        {
          "output_type": "stream",
          "name": "stdout",
          "text": [
            "3\n",
            "1\n"
          ]
        }
      ]
    },
    {
      "cell_type": "code",
      "source": [
        "# 索引多维数组中的元素\n",
        "two_dim_op = np.array(([1,2,3],\n",
        "                       [4,5,6],\n",
        "                       [7,8,9]))\n",
        "print(two_dim_op[1])\n",
        "print(two_dim_op[2][1])"
      ],
      "metadata": {
        "colab": {
          "base_uri": "https://localhost:8080/"
        },
        "id": "9z6MxFX9E8ep",
        "outputId": "dc61fd9f-7946-4cb7-c7bf-4b375fb0fe77"
      },
      "execution_count": null,
      "outputs": [
        {
          "output_type": "stream",
          "name": "stdout",
          "text": [
            "[4 5 6]\n",
            "8\n"
          ]
        }
      ]
    },
    {
      "cell_type": "code",
      "source": [
        "# 切片,step用默认值\n",
        "sliced_arr1 = a_op[1:4]\n",
        "print(sliced_arr1)"
      ],
      "metadata": {
        "colab": {
          "base_uri": "https://localhost:8080/"
        },
        "id": "W9gF-QI4GxMI",
        "outputId": "7655601d-9d16-45b9-fb64-7e046cddf9bf"
      },
      "execution_count": null,
      "outputs": [
        {
          "output_type": "stream",
          "name": "stdout",
          "text": [
            "[2, 3, 4]\n"
          ]
        }
      ]
    },
    {
      "cell_type": "code",
      "source": [
        "# 切片，start和step用默认值\n",
        "sliced_arr2 = a_op[:3]\n",
        "print(sliced_arr2)"
      ],
      "metadata": {
        "colab": {
          "base_uri": "https://localhost:8080/"
        },
        "id": "BHMBD1hMHJxV",
        "outputId": "507f71f2-bbce-4ff9-ad19-86b1ca19f0d0"
      },
      "execution_count": null,
      "outputs": [
        {
          "output_type": "stream",
          "name": "stdout",
          "text": [
            "[1, 2, 3]\n"
          ]
        }
      ]
    },
    {
      "cell_type": "code",
      "source": [
        "# 切片，end和step用默认值\n",
        "sliced_arr3 = a_op[2:]\n",
        "print(sliced_arr3)"
      ],
      "metadata": {
        "colab": {
          "base_uri": "https://localhost:8080/"
        },
        "id": "J3oIHvvMHTA6",
        "outputId": "e85c3f23-52f5-4033-9f8b-7b52de572202"
      },
      "execution_count": null,
      "outputs": [
        {
          "output_type": "stream",
          "name": "stdout",
          "text": [
            "[3, 4, 5]\n"
          ]
        }
      ]
    },
    {
      "cell_type": "code",
      "source": [
        "# 切片，start和end用默认值\n",
        "sliced_arr4 = a_op[::2]\n",
        "print(sliced_arr4)"
      ],
      "metadata": {
        "colab": {
          "base_uri": "https://localhost:8080/"
        },
        "id": "SJYHnRDPwo9q",
        "outputId": "e8534291-1e30-4406-8b83-dbcb1c6acec6"
      },
      "execution_count": null,
      "outputs": [
        {
          "output_type": "stream",
          "name": "stdout",
          "text": [
            "[1, 3, 5]\n"
          ]
        }
      ]
    },
    {
      "cell_type": "code",
      "source": [
        "# 切片，start|end|step均用默认值\n",
        "print(a_op == a_op[:] == a_op[::])"
      ],
      "metadata": {
        "colab": {
          "base_uri": "https://localhost:8080/"
        },
        "id": "q5UsK-Aqw8hx",
        "outputId": "fdef3384-3c45-49b8-868c-0ace6ec87d04"
      },
      "execution_count": null,
      "outputs": [
        {
          "output_type": "stream",
          "name": "stdout",
          "text": [
            "True\n"
          ]
        }
      ]
    },
    {
      "cell_type": "code",
      "source": [
        "# 切片，提取多维数组中的项,step用默认值\n",
        "sliced_arr5 = two_dim_op[0:2]\n",
        "print(sliced_arr5)"
      ],
      "metadata": {
        "colab": {
          "base_uri": "https://localhost:8080/"
        },
        "id": "kspX2GF4xTWK",
        "outputId": "d9b22109-e62a-4c44-fc67-2e3b8cd4d9d0"
      },
      "execution_count": null,
      "outputs": [
        {
          "output_type": "stream",
          "name": "stdout",
          "text": [
            "[[1 2 3]\n",
            " [4 5 6]]\n"
          ]
        }
      ]
    },
    {
      "cell_type": "code",
      "source": [
        "# 切片，提取多维数组中的行，step用默认值\n",
        "sliced_two_dim_rows = two_dim_op[1:3]\n",
        "print(sliced_two_dim_rows)"
      ],
      "metadata": {
        "colab": {
          "base_uri": "https://localhost:8080/"
        },
        "id": "6gicWHUtyIXb",
        "outputId": "25238d0d-e712-48f1-cd75-043f638b432c"
      },
      "execution_count": null,
      "outputs": [
        {
          "output_type": "stream",
          "name": "stdout",
          "text": [
            "[[4 5 6]\n",
            " [7 8 9]]\n"
          ]
        }
      ]
    },
    {
      "cell_type": "code",
      "source": [
        "# 切片，提取多维数组中的列\n",
        "sliced_two_dim_cols = two_dim_op[:,1]\n",
        "print(sliced_two_dim_cols)"
      ],
      "metadata": {
        "colab": {
          "base_uri": "https://localhost:8080/"
        },
        "id": "kz_2qvgxytGH",
        "outputId": "8ba49efd-f6ad-402c-e411-269131f53cba"
      },
      "execution_count": null,
      "outputs": [
        {
          "output_type": "stream",
          "name": "stdout",
          "text": [
            "[2 5 8]\n"
          ]
        }
      ]
    },
    {
      "cell_type": "code",
      "source": [
        "# 堆叠：创建原始数组\n",
        "a1 = np.array([[1,1],\n",
        "               [2,2]])\n",
        "a2 = np.array([[3,3],\n",
        "               [4,4]])\n",
        "print(f\"a1:\\n{a1}\")\n",
        "print(f\"a2:\\n{a2}\")"
      ],
      "metadata": {
        "colab": {
          "base_uri": "https://localhost:8080/"
        },
        "id": "FwyG6kKO17H2",
        "outputId": "670f2531-0e92-4ab3-85ed-ee0b449171bb"
      },
      "execution_count": null,
      "outputs": [
        {
          "output_type": "stream",
          "name": "stdout",
          "text": [
            "a1:\n",
            "[[1 1]\n",
            " [2 2]]\n",
            "a2:\n",
            "[[3 3]\n",
            " [4 4]]\n"
          ]
        }
      ]
    },
    {
      "cell_type": "code",
      "source": [
        "# 堆叠，垂直堆叠数组\n",
        "vert_stack = np.vstack((a1,a2))\n",
        "print(vert_stack)"
      ],
      "metadata": {
        "colab": {
          "base_uri": "https://localhost:8080/"
        },
        "id": "uBxEtFk-2Wyu",
        "outputId": "c0bbf228-dd47-40a3-a036-faa1b7134078"
      },
      "execution_count": null,
      "outputs": [
        {
          "output_type": "stream",
          "name": "stdout",
          "text": [
            "[[1 1]\n",
            " [2 2]\n",
            " [3 3]\n",
            " [4 4]]\n"
          ]
        }
      ]
    },
    {
      "cell_type": "code",
      "source": [
        "# 堆叠，水平堆叠数组\n",
        "horz_stack = np.hstack((a1,a2))\n",
        "print(horz_stack)"
      ],
      "metadata": {
        "colab": {
          "base_uri": "https://localhost:8080/"
        },
        "id": "3skVf8ni2sBW",
        "outputId": "9a34f80f-8205-431b-9807-cd4d9eecc069"
      },
      "execution_count": null,
      "outputs": [
        {
          "output_type": "stream",
          "name": "stdout",
          "text": [
            "[[1 1 3 3]\n",
            " [2 2 4 4]]\n"
          ]
        }
      ]
    }
  ]
}